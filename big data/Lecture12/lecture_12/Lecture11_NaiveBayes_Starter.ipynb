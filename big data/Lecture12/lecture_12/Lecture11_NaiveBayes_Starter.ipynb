{
 "cells": [
  {
   "cell_type": "code",
   "execution_count": null,
   "metadata": {
    "collapsed": true
   },
   "outputs": [],
   "source": [
    "import csv\n",
    "import pandas as pd\n",
    "from sklearn.naive_bayes import GaussianNB"
   ]
  },
  {
   "cell_type": "markdown",
   "metadata": {},
   "source": [
    "### Naive Bayes classification"
   ]
  },
  {
   "cell_type": "code",
   "execution_count": null,
   "metadata": {},
   "outputs": [],
   "source": [
    "# Read Cities.csv into dataframe, add column for temperature category\n",
    "# Note: For a dataframe D and integer i, D.ix[i] is the i-th row of D\n",
    "f = open('Cities.csv','rU')\n",
    "cities = pd.read_csv(f)\n",
    "cats = []\n",
    "for i in range(len(cities)):\n",
    "    if cities.ix[i]['temperature'] < 5:\n",
    "        cats.append('cold')\n",
    "    elif cities.ix[i]['temperature'] < 9:\n",
    "        cats.append('cool')\n",
    "    elif cities.ix[i]['temperature'] < 15:\n",
    "        cats.append('warm')\n",
    "    else: cats.append('hot')\n",
    "cities['category'] = cats\n",
    "print \"cold:\", len(cities[(cities.category == 'cold')])\n",
    "print \"cool:\", len(cities[(cities.category == 'cool')])\n",
    "print \"warm:\", len(cities[(cities.category == 'warm')])\n",
    "print \"hot:\", len(cities[(cities.category == 'hot')])"
   ]
  },
  {
   "cell_type": "code",
   "execution_count": null,
   "metadata": {},
   "outputs": [],
   "source": [
    "# Create training and test sets for cities data\n",
    "numitems = len(cities)\n",
    "percenttrain = 0.85\n",
    "numtrain = int(numitems*percenttrain)\n",
    "numtest = numitems - numtrain\n",
    "print 'Training set', numtrain, 'items'\n",
    "print'Test set', numtest, 'items'\n",
    "citiesTrain = cities[0:numtrain]\n",
    "citiesTest = cities[numtrain:]"
   ]
  },
  {
   "cell_type": "code",
   "execution_count": null,
   "metadata": {},
   "outputs": [],
   "source": [
    "# Predict temperature category from other features\n",
    "features = ['longitude', 'latitude']\n",
    "nb = GaussianNB()\n",
    "nb.fit(citiesTrain[features],citiesTrain['category'])\n",
    "predictions = nb.predict(citiesTest[features])\n",
    "# Calculate accuracy\n",
    "numtrain = len(citiesTrain)\n",
    "numtest = len(citiesTest)\n",
    "correct = 0\n",
    "for i in range(numtest):\n",
    "#    print 'Predicted:', predictions[i], ' Actual:', citiesTest.ix[numtrain+i]['category']\n",
    "    if predictions[i] == citiesTest.ix[numtrain+i]['category']: correct +=1\n",
    "print 'Accuracy:', float(correct)/float(numtest)\n",
    "# Try other features"
   ]
  },
  {
   "cell_type": "markdown",
   "metadata": {},
   "source": [
    "### <font color=\"green\">Your Turn: Naive Bayes on World Cup Data</font>"
   ]
  },
  {
   "cell_type": "code",
   "execution_count": null,
   "metadata": {},
   "outputs": [],
   "source": [
    "# Predict position from one or more of minutes, shots, passes, tackles, saves.\n",
    "# This cell does all the set-up, including reordering the data to avoid team bias.\n",
    "f = open('Players.csv','rU')\n",
    "players = pd.read_csv(f)\n",
    "players = players.sort_values(by='surname')\n",
    "players = players.reset_index(drop=True)\n",
    "num_items = len(players)\n",
    "percent_train = 0.95\n",
    "num_train = int(num_items*percent_train)\n",
    "num_test = num_items - num_train\n",
    "print 'Training set', num_train, 'items'\n",
    "print'Test set', num_test, 'items'\n",
    "playersTrain = players[0:num_train]\n",
    "playersTest = players[num_train:]"
   ]
  },
  {
   "cell_type": "code",
   "execution_count": null,
   "metadata": {},
   "outputs": [],
   "source": [
    "# Predict position from one or more of minutes, shots, passes, tackles, saves.\n",
    "# Try different features. What's the highest accuracy you can get?\n",
    "features = ['minutes', 'shots', 'passes', 'tackles', 'saves']\n"
   ]
  }
 ],
 "metadata": {
  "kernelspec": {
   "display_name": "Python 2",
   "language": "python",
   "name": "python2"
  },
  "language_info": {
   "codemirror_mode": {
    "name": "ipython",
    "version": 2
   },
   "file_extension": ".py",
   "mimetype": "text/x-python",
   "name": "python",
   "nbconvert_exporter": "python",
   "pygments_lexer": "ipython2",
   "version": "2.7.9"
  }
 },
 "nbformat": 4,
 "nbformat_minor": 2
}
