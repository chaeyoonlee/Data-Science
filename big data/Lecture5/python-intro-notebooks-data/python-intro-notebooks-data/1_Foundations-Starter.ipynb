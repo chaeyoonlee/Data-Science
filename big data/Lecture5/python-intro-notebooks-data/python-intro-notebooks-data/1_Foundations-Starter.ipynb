{
 "cells": [
  {
   "cell_type": "markdown",
   "metadata": {},
   "source": [
    "# Python Intro: Foundations"
   ]
  },
  {
   "cell_type": "markdown",
   "metadata": {},
   "source": [
    "### Jupyter Notebook Keyboard Shortcuts\n",
    "\n",
    "**1) Command Mode **(hit **Escape** key to enter Command mode)\n",
    "\n",
    "*Blue border* indicates you are in Command mode. The following commands only work in Command mode.\n",
    "\n",
    "* hit **D** twice- **D**elete a cell\n",
    "* **B** - insert a cell at the **B**elow current cell\n",
    "* **A** - insert a cell **A**bove current cell\n",
    "* **C** - **C**opy a cell\n",
    "* **V** - Paste copied cell\n",
    "* **Z** - Undo last action\n",
    "* hit **Shift + Enter** - to run a cell\n",
    "* Up and Down arrow keys to navigate\n",
    "\n",
    "**2) Edit Mode **(hit **Enter** to enter edit mode)\n",
    "\n",
    "*Green border* indicates you are in Edit mode."
   ]
  },
  {
   "cell_type": "markdown",
   "metadata": {},
   "source": [
    "### Printing, basic arithmetic, basic data types"
   ]
  },
  {
   "cell_type": "code",
   "execution_count": 1,
   "metadata": {},
   "outputs": [
    {
     "name": "stdout",
     "output_type": "stream",
     "text": [
      "dd\n"
     ]
    }
   ],
   "source": [
    "# print\n",
    "print 'dd'"
   ]
  },
  {
   "cell_type": "code",
   "execution_count": 2,
   "metadata": {},
   "outputs": [
    {
     "name": "stdout",
     "output_type": "stream",
     "text": [
      "name?gkgk\n"
     ]
    }
   ],
   "source": [
    "# Getting user input\n",
    "name = raw_input('name?')"
   ]
  },
  {
   "cell_type": "code",
   "execution_count": 7,
   "metadata": {},
   "outputs": [
    {
     "name": "stdout",
     "output_type": "stream",
     "text": [
      "니 이름은 : gkgk\n",
      "네임 : gkgk\n"
     ]
    }
   ],
   "source": [
    "# Format print\n",
    "print(\"니 이름은 : {}\".format(name))\n",
    "print \"네임 : %s\" %name"
   ]
  },
  {
   "cell_type": "code",
   "execution_count": null,
   "metadata": {
    "collapsed": true
   },
   "outputs": [],
   "source": [
    "# variables, assignment\n",
    "# addition, multiplication"
   ]
  },
  {
   "cell_type": "code",
   "execution_count": 49,
   "metadata": {},
   "outputs": [
    {
     "name": "stdout",
     "output_type": "stream",
     "text": [
      "[{'lat': '31.2', 'city': 'Mobile', 'state': 'Alabama', 'lng': '88.5', 'temp': '44'}, {'lat': '32.9', 'city': 'Montgomery', 'state': 'Alabama', 'lng': '86.8', 'temp': '38'}, {'lat': '33.6', 'city': 'Phoenix', 'state': 'Arizona', 'lng': '112.5', 'temp': '35'}, {'lat': '35.4', 'city': 'Little Rock', 'state': 'Arkansas', 'lng': '92.8', 'temp': '31'}, {'lat': '34.3', 'city': 'Los Angeles', 'state': 'California', 'lng': '118.7', 'temp': '47'}, {'lat': '38.4', 'city': 'San Francisco', 'state': 'California', 'lng': '123', 'temp': '42'}, {'lat': '40.7', 'city': 'Denver', 'state': 'Colorado', 'lng': '105.3', 'temp': '15'}, {'lat': '41.7', 'city': 'New Haven', 'state': 'Connecticut', 'lng': '73.4', 'temp': '22'}, {'lat': '40.5', 'city': 'Wilmington', 'state': 'Delaware', 'lng': '76.3', 'temp': '26'}, {'lat': '39.7', 'city': 'Washington', 'state': 'DC', 'lng': '77.5', 'temp': '30'}, {'lat': '31', 'city': 'Jacksonville', 'state': 'Florida', 'lng': '82.3', 'temp': '45'}, {'lat': '25', 'city': 'Key West', 'state': 'Florida', 'lng': '82', 'temp': '65'}, {'lat': '26.3', 'city': 'Miami', 'state': 'Florida', 'lng': '80.7', 'temp': '58'}, {'lat': '33.9', 'city': 'Atlanta', 'state': 'Georgia', 'lng': '85', 'temp': '37'}, {'lat': '43.7', 'city': 'Boise', 'state': 'Idaho', 'lng': '117.1', 'temp': '22'}, {'lat': '42.3', 'city': 'Chicago', 'state': 'Illinois', 'lng': '88', 'temp': '19'}, {'lat': '39.8', 'city': 'Indianapolis', 'state': 'Indiana', 'lng': '86.9', 'temp': '21'}, {'lat': '41.8', 'city': 'Des Moines', 'state': 'Iowa', 'lng': '93.6', 'temp': '11'}, {'lat': '38.1', 'city': 'Wichita', 'state': 'Kansas', 'lng': '97.6', 'temp': '22'}, {'lat': '39', 'city': 'Louisville', 'state': 'Kentucky', 'lng': '86.5', 'temp': '27'}, {'lat': '30.8', 'city': 'New Orleans', 'state': 'Louisiana', 'lng': '90.2', 'temp': '45'}, {'lat': '44.2', 'city': 'Portland', 'state': 'Maine', 'lng': '70.5', 'temp': '12'}, {'lat': '39.7', 'city': 'Baltimore', 'state': 'Maryland', 'lng': '77.3', 'temp': '25'}, {'lat': '42.7', 'city': 'Boston', 'state': 'Massachusetts', 'lng': '71.4', 'temp': '23'}, {'lat': '43.1', 'city': 'Detroit', 'state': 'Michigan', 'lng': '83.9', 'temp': '21'}, {'lat': '45.9', 'city': 'Minneapolis', 'state': 'Minnesota', 'lng': '93.9', 'temp': '2'}, {'lat': '39.3', 'city': 'St. Louis', 'state': 'Missouri', 'lng': '90.5', 'temp': '24'}, {'lat': '47.1', 'city': 'Helena', 'state': 'Montana', 'lng': '112.4', 'temp': '8'}, {'lat': '41.9', 'city': 'Omaha', 'state': 'Nebraska', 'lng': '96.1', 'temp': '13'}, {'lat': '43.5', 'city': 'Concord', 'state': 'New Hampshire', 'lng': '71.9', 'temp': '11'}, {'lat': '39.8', 'city': 'Atlantic City', 'state': 'New Jersey', 'lng': '75.3', 'temp': '27'}, {'lat': '35.1', 'city': 'Albuquerque', 'state': 'New Mexico', 'lng': '106.7', 'temp': '24'}, {'lat': '42.6', 'city': 'Albany', 'state': 'New York', 'lng': '73.7', 'temp': '14'}, {'lat': '40.8', 'city': 'New York', 'state': 'New York', 'lng': '74.6', 'temp': '27'}, {'lat': '35.9', 'city': 'Charlotte', 'state': 'North Carolina', 'lng': '81.5', 'temp': '34'}, {'lat': '36.4', 'city': 'Raleigh', 'state': 'North Carolina', 'lng': '78.9', 'temp': '31'}, {'lat': '47.1', 'city': 'Bismarck', 'state': 'North Dakota', 'lng': '101', 'temp': '0'}, {'lat': '39.2', 'city': 'Cincinnati', 'state': 'Ohio', 'lng': '85', 'temp': '26'}, {'lat': '42.3', 'city': 'Cleveland', 'state': 'Ohio', 'lng': '82.5', 'temp': '21'}, {'lat': '35.9', 'city': 'Oklahoma City', 'state': 'Oklahoma', 'lng': '97.5', 'temp': '28'}, {'lat': '45.6', 'city': 'Portland', 'state': 'Oregon', 'lng': '123.2', 'temp': '33'}, {'lat': '40.9', 'city': 'Harrisburg', 'state': 'Pennsylvania', 'lng': '77.8', 'temp': '24'}, {'lat': '40.9', 'city': 'Philadelphia', 'state': 'Pennsylvania', 'lng': '75.5', 'temp': '24'}, {'lat': '33.3', 'city': 'Charleston', 'state': 'South Carolina', 'lng': '80.8', 'temp': '38'}, {'lat': '36.7', 'city': 'Nashville', 'state': 'Tennessee', 'lng': '87.6', 'temp': '31'}, {'lat': '35.6', 'city': 'Amarillo', 'state': 'Texas', 'lng': '101.9', 'temp': '24'}, {'lat': '29.4', 'city': 'Galveston', 'state': 'Texas', 'lng': '95.5', 'temp': '49'}, {'lat': '30.1', 'city': 'Houston', 'state': 'Texas', 'lng': '95.9', 'temp': '44'}, {'lat': '41.1', 'city': 'Salt Lake City', 'state': 'Utah', 'lng': '112.3', 'temp': '18'}, {'lat': '45', 'city': 'Burlington', 'state': 'Vermont', 'lng': '73.9', 'temp': '7'}, {'lat': '37', 'city': 'Norfolk', 'state': 'Virginia', 'lng': '76.6', 'temp': '32'}, {'lat': '48.1', 'city': 'Seattle', 'state': 'Washington', 'lng': '122.5', 'temp': '33'}, {'lat': '48.1', 'city': 'Spokane', 'state': 'Washington', 'lng': '117.9', 'temp': '19'}, {'lat': '43.4', 'city': 'Madison', 'state': 'Wisconsin', 'lng': '90.2', 'temp': '9'}, {'lat': '43.3', 'city': 'Milwaukee', 'state': 'Wisconsin', 'lng': '88.1', 'temp': '13'}, {'lat': '41.2', 'city': 'Cheyenne', 'state': 'Wyoming', 'lng': '104.9', 'temp': '14'}]\n",
      "--------------------------------------------------\n",
      "[{'state': 'Maine', 'region': 'Northeast', 'coastal': 'Y'}, {'state': 'Vermont', 'region': 'Northeast', 'coastal': 'N'}, {'state': 'Rhode Island', 'region': 'Northeast', 'coastal': 'Y'}, {'state': 'New York', 'region': 'Midatlantic', 'coastal': 'Y'}, {'state': 'Pennsylvania', 'region': 'Midatlantic', 'coastal': 'N'}, {'state': 'Indiana', 'region': 'Northcentral', 'coastal': 'N'}, {'state': 'Michigan', 'region': 'Northcentral', 'coastal': 'N'}, {'state': 'Minnesota', 'region': 'Northcentral', 'coastal': 'N'}, {'state': 'Missouri', 'region': 'Northcentral', 'coastal': 'N'}, {'state': 'South Dakota', 'region': 'Northcentral', 'coastal': 'N'}, {'state': 'Kansas', 'region': 'Northcentral', 'coastal': 'N'}, {'state': 'Maryland', 'region': 'Southatlantic', 'coastal': 'Y'}, {'state': 'Virginia', 'region': 'Southatlantic', 'coastal': 'Y'}, {'state': 'North Carolina', 'region': 'Southatlantic', 'coastal': 'Y'}, {'state': 'Georgia', 'region': 'Southatlantic', 'coastal': 'Y'}, {'state': 'Kentucky', 'region': 'Southcentral', 'coastal': 'N'}, {'state': 'Alabama', 'region': 'Southcentral', 'coastal': 'Y'}, {'state': 'Arkansas', 'region': 'Southcentral', 'coastal': 'N'}, {'state': 'Oklahoma', 'region': 'Southcentral', 'coastal': 'N'}, {'state': 'Montana', 'region': 'Mountain', 'coastal': 'N'}, {'state': 'Wyoming', 'region': 'Mountain', 'coastal': 'N'}, {'state': 'New Mexico', 'region': 'Mountain', 'coastal': 'N'}, {'state': 'Utah', 'region': 'Mountain', 'coastal': 'N'}, {'state': 'Washington', 'region': 'Pacific', 'coastal': 'Y'}, {'state': 'California', 'region': 'Pacific', 'coastal': 'Y'}, {'state': 'Hawaii', 'region': 'Pacific', 'coastal': 'Y'}, {'state': 'New Hampshire', 'region': 'Northeast', 'coastal': 'Y'}, {'state': 'Massachusetts', 'region': 'Northeast', 'coastal': 'Y'}, {'state': 'Connecticut', 'region': 'Northeast', 'coastal': 'Y'}, {'state': 'New Jersey', 'region': 'Midatlantic', 'coastal': 'Y'}, {'state': 'Ohio', 'region': 'Northcentral', 'coastal': 'N'}, {'state': 'Illinois', 'region': 'Northcentral', 'coastal': 'N'}, {'state': 'Wisconsin', 'region': 'Northcentral', 'coastal': 'N'}, {'state': 'Iowa', 'region': 'Northcentral', 'coastal': 'N'}, {'state': 'North Dakota', 'region': 'Northcentral', 'coastal': 'N'}, {'state': 'Nebraska', 'region': 'Northcentral', 'coastal': 'N'}, {'state': 'Delaware', 'region': 'Southatlantic', 'coastal': 'Y'}, {'state': 'DC', 'region': 'Southatlantic', 'coastal': 'Y'}, {'state': 'West Virginia', 'region': 'Southatlantic', 'coastal': 'N'}, {'state': 'South Carolina', 'region': 'Southatlantic', 'coastal': 'Y'}, {'state': 'Florida', 'region': 'Southatlantic', 'coastal': 'Y'}, {'state': 'Tennessee', 'region': 'Southcentral', 'coastal': 'N'}, {'state': 'Louisiana', 'region': 'Southcentral', 'coastal': 'Y'}, {'state': 'Texas', 'region': 'Southcentral', 'coastal': 'Y'}, {'state': 'Idaho', 'region': 'Mountain', 'coastal': 'N'}, {'state': 'Colorado', 'region': 'Mountain', 'coastal': 'N'}, {'state': 'Arizona', 'region': 'Mountain', 'coastal': 'N'}, {'state': 'Nevada', 'region': 'Mountain', 'coastal': 'N'}, {'state': 'Oregon', 'region': 'Pacific', 'coastal': 'Y'}, {'state': 'Alaska', 'region': 'Pacific', 'coastal': 'Y'}]\n"
     ]
    }
   ],
   "source": [
    "# update / increment\n",
    "import csv\n",
    "cities = []\n",
    "with open('CityTemps.csv', 'rU') as citytemps_file:\n",
    "    for row in csv.DictReader(citytemps_file):\n",
    "        cities.append(row)\n",
    "print cities\n",
    "print ('-'*50)\n",
    "\n",
    "regions = []\n",
    "with open('Regions.tsv', 'rU') as regions_file:\n",
    "    for row in csv.DictReader(regions_file, delimiter='\\t'): #탭으로 구분되는 파일이기 ㄸ문에 tsv 그래서 t로 구분함\n",
    "        regions.append(row)\n",
    "print regions"
   ]
  },
  {
   "cell_type": "code",
   "execution_count": null,
   "metadata": {
    "collapsed": true
   },
   "outputs": [],
   "source": [
    "# update / increment shorthand"
   ]
  },
  {
   "cell_type": "markdown",
   "metadata": {},
   "source": [
    "### Typing: Dynamic, and Strong"
   ]
  },
  {
   "cell_type": "markdown",
   "metadata": {},
   "source": [
    "Dynamic typing (values have a type) as opposed to Static typing (variables have a type)"
   ]
  },
  {
   "cell_type": "code",
   "execution_count": 9,
   "metadata": {},
   "outputs": [
    {
     "name": "stdout",
     "output_type": "stream",
     "text": [
      "<type 'int'>\n"
     ]
    }
   ],
   "source": [
    "# LITERAL TYPES\n",
    "# int\n",
    "a = 5\n",
    "print type(a)\n",
    "# str\n",
    "\n",
    "# float\n"
   ]
  },
  {
   "cell_type": "code",
   "execution_count": 13,
   "metadata": {},
   "outputs": [
    {
     "name": "stdout",
     "output_type": "stream",
     "text": [
      "<type 'int'>\n",
      "<type 'float'>\n"
     ]
    }
   ],
   "source": [
    "# DYNAMIC TYPING\n",
    "a=5\n",
    "print type(a)\n",
    "a = float(a)\n",
    "print type(a)\n"
   ]
  },
  {
   "cell_type": "code",
   "execution_count": 14,
   "metadata": {},
   "outputs": [
    {
     "name": "stdout",
     "output_type": "stream",
     "text": [
      "<type 'int'>\n",
      "<type 'float'>\n"
     ]
    }
   ],
   "source": [
    "# STRONG TYPING (int + int)\n",
    "a = 5\n",
    "print type(a)\n",
    "a += 1.5\n",
    "print type(a)"
   ]
  },
  {
   "cell_type": "code",
   "execution_count": null,
   "metadata": {
    "collapsed": true
   },
   "outputs": [],
   "source": [
    "# STRONG TYPING (int + str)"
   ]
  },
  {
   "cell_type": "code",
   "execution_count": null,
   "metadata": {
    "collapsed": true
   },
   "outputs": [],
   "source": [
    "# str to int typecast"
   ]
  },
  {
   "cell_type": "code",
   "execution_count": null,
   "metadata": {
    "collapsed": true
   },
   "outputs": [],
   "source": [
    "# int + float"
   ]
  },
  {
   "cell_type": "code",
   "execution_count": null,
   "metadata": {
    "collapsed": true
   },
   "outputs": [],
   "source": [
    "# str + str"
   ]
  },
  {
   "cell_type": "markdown",
   "metadata": {},
   "source": [
    "### Conditional Statements"
   ]
  },
  {
   "cell_type": "code",
   "execution_count": null,
   "metadata": {
    "collapsed": true
   },
   "outputs": [],
   "source": [
    "# if statements\n",
    "# indentation as opposed to semicolon\n"
   ]
  },
  {
   "cell_type": "markdown",
   "metadata": {},
   "source": [
    "## Native Data Structures: \n",
    "### Lists"
   ]
  },
  {
   "cell_type": "code",
   "execution_count": null,
   "metadata": {
    "collapsed": true
   },
   "outputs": [],
   "source": [
    "# create a list with entries\n"
   ]
  },
  {
   "cell_type": "code",
   "execution_count": null,
   "metadata": {
    "collapsed": true
   },
   "outputs": [],
   "source": [
    "# Get type\n"
   ]
  },
  {
   "cell_type": "code",
   "execution_count": null,
   "metadata": {
    "collapsed": true
   },
   "outputs": [],
   "source": [
    "# print list\n"
   ]
  },
  {
   "cell_type": "code",
   "execution_count": null,
   "metadata": {
    "collapsed": true
   },
   "outputs": [],
   "source": [
    "# for: iterate through elements of a list\n"
   ]
  },
  {
   "cell_type": "code",
   "execution_count": null,
   "metadata": {
    "collapsed": true
   },
   "outputs": [],
   "source": [
    "# Length of list"
   ]
  },
  {
   "cell_type": "code",
   "execution_count": 20,
   "metadata": {},
   "outputs": [
    {
     "name": "stdout",
     "output_type": "stream",
     "text": [
      "index : 0, compo :1 \n",
      "index : 1, compo :2 \n",
      "index : 2, compo :3 \n",
      "index : 3, compo :4 \n",
      "index : 4, compo :5 \n",
      "index : 5, compo :6 \n",
      "index : 6, compo :7 \n",
      "index : 7, compo :8 \n",
      "index : 8, compo :9 \n"
     ]
    }
   ],
   "source": [
    "# access element by index\n",
    "a = [1,2,3,4,5,6,7,8,9]\n",
    "for index in range(len(a)):\n",
    "    print \"index : %d, compo :%d \" %(index, a[index])"
   ]
  },
  {
   "cell_type": "code",
   "execution_count": 21,
   "metadata": {},
   "outputs": [
    {
     "name": "stdout",
     "output_type": "stream",
     "text": [
      "[1, 2, 3, 4]\n"
     ]
    }
   ],
   "source": [
    "# access index not present\n",
    "a = [1,2,3]\n",
    "a.append(4)\n",
    "print a"
   ]
  },
  {
   "cell_type": "code",
   "execution_count": 25,
   "metadata": {},
   "outputs": [
    {
     "name": "stdout",
     "output_type": "stream",
     "text": [
      "[1, 3, 3, 4]\n",
      "[1, 3, 3, 4]\n"
     ]
    }
   ],
   "source": [
    "# index from the \n",
    "a[2] =3\n",
    "print a\n",
    "a[1:2] = [3]\n",
    "print a"
   ]
  },
  {
   "cell_type": "code",
   "execution_count": null,
   "metadata": {
    "collapsed": true
   },
   "outputs": [],
   "source": [
    "# slice\n"
   ]
  },
  {
   "cell_type": "code",
   "execution_count": null,
   "metadata": {
    "collapsed": true
   },
   "outputs": [],
   "source": [
    "# range() function\n",
    "# range(start, end)\n",
    "\n",
    "# range(start, end, interval)\n",
    "\n",
    "# range(end)\n"
   ]
  },
  {
   "cell_type": "code",
   "execution_count": null,
   "metadata": {
    "collapsed": true
   },
   "outputs": [],
   "source": [
    "# iterating over list index using range(len())\n"
   ]
  },
  {
   "cell_type": "code",
   "execution_count": null,
   "metadata": {
    "collapsed": true
   },
   "outputs": [],
   "source": [
    "# append function\n",
    "# usage of '.'"
   ]
  },
  {
   "cell_type": "code",
   "execution_count": null,
   "metadata": {
    "collapsed": true
   },
   "outputs": [],
   "source": [
    "# adding / concatenating lists\n"
   ]
  },
  {
   "cell_type": "code",
   "execution_count": null,
   "metadata": {
    "collapsed": true
   },
   "outputs": [],
   "source": [
    "# insert function\n",
    "# list.insert(index, obj)\n"
   ]
  },
  {
   "cell_type": "code",
   "execution_count": null,
   "metadata": {
    "collapsed": true
   },
   "outputs": [],
   "source": [
    "# index function\n"
   ]
  },
  {
   "cell_type": "code",
   "execution_count": null,
   "metadata": {
    "collapsed": true
   },
   "outputs": [],
   "source": [
    "# delete element at index\n"
   ]
  },
  {
   "cell_type": "markdown",
   "metadata": {},
   "source": [
    "### Native Data Structures: Tuples\n",
    "#### (similar to lists, but sequence of <i>immutable</i> objects; more lightweight)"
   ]
  },
  {
   "cell_type": "code",
   "execution_count": 26,
   "metadata": {},
   "outputs": [
    {
     "name": "stdout",
     "output_type": "stream",
     "text": [
      "(1, 2, 3, 4)\n"
     ]
    }
   ],
   "source": [
    "# define\n",
    "a = (1,2)\n",
    "b=(3,4)\n",
    "c = a+b\n",
    "print c"
   ]
  },
  {
   "cell_type": "code",
   "execution_count": null,
   "metadata": {
    "collapsed": true
   },
   "outputs": [],
   "source": [
    "# access element by index\n"
   ]
  },
  {
   "cell_type": "code",
   "execution_count": null,
   "metadata": {
    "collapsed": true
   },
   "outputs": [],
   "source": [
    "# try to modify\n"
   ]
  },
  {
   "cell_type": "markdown",
   "metadata": {},
   "source": [
    "### Native Data Structures: Dictionaries"
   ]
  },
  {
   "cell_type": "markdown",
   "metadata": {},
   "source": [
    "Key-value mappings, stored as my_dict = {key1: val1, key2: val2, ...}  -- explain key-value a little"
   ]
  },
  {
   "cell_type": "code",
   "execution_count": null,
   "metadata": {
    "collapsed": true
   },
   "outputs": [],
   "source": [
    "# define and print\n"
   ]
  },
  {
   "cell_type": "code",
   "execution_count": 44,
   "metadata": {},
   "outputs": [
    {
     "name": "stdout",
     "output_type": "stream",
     "text": [
      "None\n"
     ]
    }
   ],
   "source": [
    "# keys()\n",
    "a = {'a':1,'b':2}\n",
    "print a.get('c')"
   ]
  },
  {
   "cell_type": "code",
   "execution_count": null,
   "metadata": {
    "collapsed": true
   },
   "outputs": [],
   "source": [
    "# values()\n"
   ]
  },
  {
   "cell_type": "code",
   "execution_count": null,
   "metadata": {
    "collapsed": true
   },
   "outputs": [],
   "source": [
    "# access element by key (present in dictionary)\n",
    "# dict[key]\n",
    "# dict.get(key)\n"
   ]
  },
  {
   "cell_type": "code",
   "execution_count": null,
   "metadata": {
    "collapsed": true
   },
   "outputs": [],
   "source": [
    "# accessing dict[key] when key not present in dictionary\n"
   ]
  },
  {
   "cell_type": "code",
   "execution_count": null,
   "metadata": {
    "collapsed": true
   },
   "outputs": [],
   "source": [
    "# accessing dict.get(key) when key not present in dictionary\n",
    "# similarity to 'Null' in SQL"
   ]
  },
  {
   "cell_type": "code",
   "execution_count": null,
   "metadata": {
    "collapsed": true
   },
   "outputs": [],
   "source": [
    "# iterate through keys in dictionary\n"
   ]
  },
  {
   "cell_type": "code",
   "execution_count": null,
   "metadata": {
    "collapsed": true
   },
   "outputs": [],
   "source": [
    "# add new key-value pair\n"
   ]
  },
  {
   "cell_type": "code",
   "execution_count": null,
   "metadata": {
    "collapsed": true
   },
   "outputs": [],
   "source": [
    "# update a dictionary\n",
    "a = {1:'a', 2:'b', 3:'e'}\n",
    "c = {3:'d'}\n"
   ]
  },
  {
   "cell_type": "markdown",
   "metadata": {},
   "source": [
    "### Functions"
   ]
  },
  {
   "cell_type": "code",
   "execution_count": null,
   "metadata": {
    "collapsed": true
   },
   "outputs": [],
   "source": [
    "# hello-world function define\n"
   ]
  },
  {
   "cell_type": "code",
   "execution_count": null,
   "metadata": {
    "collapsed": true
   },
   "outputs": [],
   "source": [
    "# call function\n"
   ]
  },
  {
   "cell_type": "code",
   "execution_count": null,
   "metadata": {
    "collapsed": true
   },
   "outputs": [],
   "source": [
    "# define function with args\n"
   ]
  },
  {
   "cell_type": "code",
   "execution_count": null,
   "metadata": {
    "collapsed": true
   },
   "outputs": [],
   "source": [
    "# call function with args\n"
   ]
  },
  {
   "cell_type": "markdown",
   "metadata": {},
   "source": [
    "### Reading from a file (also packages / libraries)\n",
    "(Now using Python for DATA)"
   ]
  },
  {
   "cell_type": "code",
   "execution_count": null,
   "metadata": {
    "collapsed": true
   },
   "outputs": [],
   "source": [
    "# packages; 'csv' package; import\n",
    "# import (Java) or include (C++)\n",
    "import csv"
   ]
  },
  {
   "cell_type": "code",
   "execution_count": null,
   "metadata": {
    "collapsed": true
   },
   "outputs": [],
   "source": [
    "# read CityTemps.csv file and print all rows\n",
    "# use csv.DictReader()\n",
    "# note how the data is read / stored using csv package\n",
    "with open('CityTemps.csv', 'rU') as city_file:\n",
    " "
   ]
  },
  {
   "cell_type": "code",
   "execution_count": null,
   "metadata": {
    "collapsed": true
   },
   "outputs": [],
   "source": [
    "# use csv.reader()\n",
    "with open('CityTemps.csv', 'rU') as city_file:\n"
   ]
  },
  {
   "cell_type": "code",
   "execution_count": null,
   "metadata": {
    "collapsed": true
   },
   "outputs": [],
   "source": [
    "# WRONG WAY: read Regions.tsv using csv.DictReader() without specifying delimiter\n",
    "with open('Regions.tsv', 'rU') as regions_file:\n",
    "    "
   ]
  },
  {
   "cell_type": "code",
   "execution_count": null,
   "metadata": {
    "collapsed": true
   },
   "outputs": [],
   "source": [
    "# CORRECT WAY: read Regions.tsv using csv.DictReader(), with specified delimiter\n",
    "with open('Regions.tsv', 'rU') as regions_file:\n"
   ]
  },
  {
   "cell_type": "markdown",
   "metadata": {
    "collapsed": true
   },
   "source": [
    "### Print images"
   ]
  },
  {
   "cell_type": "code",
   "execution_count": null,
   "metadata": {
    "collapsed": true
   },
   "outputs": [],
   "source": [
    "# Import the Image package from the IPython.display module\n",
    "from IPython.display import Image"
   ]
  },
  {
   "cell_type": "code",
   "execution_count": null,
   "metadata": {
    "collapsed": true
   },
   "outputs": [],
   "source": []
  },
  {
   "cell_type": "code",
   "execution_count": null,
   "metadata": {
    "collapsed": true
   },
   "outputs": [],
   "source": []
  }
 ],
 "metadata": {
  "kernelspec": {
   "display_name": "Python 2",
   "language": "python",
   "name": "python2"
  },
  "language_info": {
   "codemirror_mode": {
    "name": "ipython",
    "version": 2
   },
   "file_extension": ".py",
   "mimetype": "text/x-python",
   "name": "python",
   "nbconvert_exporter": "python",
   "pygments_lexer": "ipython2",
   "version": "2.7.13"
  }
 },
 "nbformat": 4,
 "nbformat_minor": 1
}
