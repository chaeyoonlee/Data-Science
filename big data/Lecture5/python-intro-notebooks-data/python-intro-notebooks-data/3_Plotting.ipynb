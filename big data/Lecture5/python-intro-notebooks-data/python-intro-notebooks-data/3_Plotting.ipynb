{
 "cells": [
  {
   "cell_type": "markdown",
   "metadata": {},
   "source": [
    "# Python Intro: Plotting\n",
    "\n",
    "This notebook demonstrates data visualizations in Python with the plotting package matplotlib.\n",
    "\n",
    "Required datasets:\n",
    "- OurTempsRegions.csv (which should have been created by running 2_Data-Operations.ipynb)\n",
    "- If no 'OurTempsRegions.csv' created, you can also use the 'TempsRegions.csv' data instead\n"
   ]
  },
  {
   "cell_type": "code",
   "execution_count": 11,
   "metadata": {},
   "outputs": [],
   "source": [
    "import csv"
   ]
  },
  {
   "cell_type": "code",
   "execution_count": 12,
   "metadata": {
    "collapsed": true
   },
   "outputs": [],
   "source": [
    "# Import plotting library\n",
    "from matplotlib import pyplot as plt"
   ]
  },
  {
   "cell_type": "code",
   "execution_count": 13,
   "metadata": {},
   "outputs": [],
   "source": [
    "# import data from CSV file\n",
    "all_temps_regions = []\n",
    "with open('TempsRegions.csv', 'rU') as my_temps_file:\n",
    "    my_temps_reader = csv.DictReader(my_temps_file)\n",
    "    for row in my_temps_reader:\n",
    "        all_temps_regions.append(row)"
   ]
  },
  {
   "cell_type": "markdown",
   "metadata": {},
   "source": [
    "### Scatterplot"
   ]
  },
  {
   "cell_type": "code",
   "execution_count": 14,
   "metadata": {},
   "outputs": [
    {
     "name": "stdout",
     "output_type": "stream",
     "text": [
      "[31.2, 32.9, 33.6, 35.4, 34.3, 37.4, 38.4, 40.7, 41.7, 40.5, 39.7, 31.0, 25.0, 26.3, 33.9, 43.7, 42.3, 39.8, 41.8, 38.1, 39.0, 30.8, 44.2, 39.7, 42.7, 43.1, 45.9, 39.3, 47.1, 41.9, 43.5, 39.8, 35.1, 42.6, 40.8, 35.9, 36.4, 47.1, 39.2, 42.3, 35.9, 45.6, 40.9, 40.9, 33.3, 36.7, 35.6, 29.4, 30.1, 41.1, 45.0, 37.0, 48.1, 48.1, 43.4, 43.3, 41.2]\n",
      "[88.5, 86.8, 112.5, 92.8, 118.7, 122.1, 123.0, 105.3, 73.4, 76.3, 77.5, 82.3, 82.0, 80.7, 85.0, 117.1, 88.0, 86.9, 93.6, 97.6, 86.5, 90.2, 70.5, 77.3, 71.4, 83.9, 93.9, 90.5, 112.4, 96.1, 71.9, 75.3, 106.7, 73.7, 74.6, 81.5, 78.9, 101.0, 85.0, 82.5, 97.5, 123.2, 77.8, 75.5, 80.8, 87.6, 101.9, 95.5, 95.9, 112.3, 73.9, 76.6, 122.5, 117.9, 90.2, 88.1, 104.9]\n"
     ]
    },
    {
     "data": {
      "image/png": "[encoded data removed]",
      "text/plain": [
       "<matplotlib.figure.Figure at 0x10eacac10>"
      ]
     },
     "metadata": {},
     "output_type": "display_data"
    }
   ],
   "source": [
    "# just plt.plot() plots (x, y) pairs given [x], [y] lists\n",
    "plt.figure()\n",
    "y = [float(city['lat']) for city in all_temps_regions]\n",
    "print y\n",
    "x = [float(city['lng']) for city in all_temps_regions]\n",
    "print x\n",
    "plt.plot(x, y, 'o')\n",
    "plt.xlabel('longitude')\n",
    "plt.ylabel('latitude')\n",
    "plt.gca().invert_xaxis() # gca = get current axes\n",
    "plt.show()\n",
    "plt.close()"
   ]
  },
  {
   "cell_type": "code",
   "execution_count": 15,
   "metadata": {},
   "outputs": [
    {
     "name": "stdout",
     "output_type": "stream",
     "text": [
      "[42.0, 58.0, 27.0, 23.0]\n"
     ]
    }
   ],
   "source": [
    "# pick 4 cities, get temperatues\n",
    "cities = ['San Francisco', 'Miami', 'New York', 'Boston']\n",
    "temps = {}\n",
    "for city_info in all_temps_regions:\n",
    "    if city_info['city'] in cities:\n",
    "        temps[city_info['city']] = float(city_info['temp'])\n",
    "bars = []\n",
    "for city in cities:\n",
    "    bars.append(temps[city])\n",
    "print bars"
   ]
  },
  {
   "cell_type": "markdown",
   "metadata": {},
   "source": [
    "### Bar Chart"
   ]
  },
  {
   "cell_type": "code",
   "execution_count": 16,
   "metadata": {},
   "outputs": [
    {
     "data": {
      "image/png": "[encoded data removed]",
      "text/plain": [
       "<matplotlib.figure.Figure at 0x10eb84550>"
      ]
     },
     "metadata": {},
     "output_type": "display_data"
    }
   ],
   "source": [
    "# plot temperatures as barchart\n",
    "plt.figure()\n",
    "n = len(bars)\n",
    "width = 0.35\n",
    "plt.bar(range(n), bars, width)\n",
    "plt.xlabel('city')\n",
    "plt.ylabel('temp')\n",
    "plt.xticks(range(n), cities)\n",
    "plt.show()\n",
    "plt.close()"
   ]
  },
  {
   "cell_type": "markdown",
   "metadata": {},
   "source": [
    "### Pie Chart"
   ]
  },
  {
   "cell_type": "code",
   "execution_count": 17,
   "metadata": {},
   "outputs": [
    {
     "data": {
      "image/png": "[encoded data removed]",
      "text/plain": [
       "<matplotlib.figure.Figure at 0x10d3db610>"
      ]
     },
     "metadata": {},
     "output_type": "display_data"
    }
   ],
   "source": [
    "# Number of coastal cities vs non-coastal as piechart\n",
    "num_coastal = len([city_info['city'] for city_info in all_temps_regions if city_info['coastal'] == 'Y'])\n",
    "num_not = len(all_temps_regions) - num_coastal\n",
    "plt.figure()\n",
    "sizes = [num_coastal, num_not]\n",
    "labels = ['coastal', 'not-coastal']\n",
    "plt.pie(sizes, labels=labels)\n",
    "plt.show()\n",
    "plt.close()"
   ]
  },
  {
   "cell_type": "markdown",
   "metadata": {},
   "source": [
    "### Scatterplot with different colors"
   ]
  },
  {
   "cell_type": "code",
   "execution_count": 18,
   "metadata": {},
   "outputs": [
    {
     "data": {
      "image/png": "[encoded data removed]",
      "text/plain": [
       "<matplotlib.figure.Figure at 0x10ea07950>"
      ]
     },
     "metadata": {},
     "output_type": "display_data"
    }
   ],
   "source": [
    "# temp vs latitude scatterplot\n",
    "# one set for coastal, one set for non-coastal\n",
    "plt.figure()\n",
    "y_c = [float(city['temp']) for city in all_temps_regions if city['coastal'] == 'Y']\n",
    "x_c = [float(city['lat']) for city in all_temps_regions if city['coastal'] == 'Y']\n",
    "y_n = [float(city['temp']) for city in all_temps_regions if city['coastal'] == 'N']\n",
    "x_n = [float(city['lat']) for city in all_temps_regions if city['coastal'] == 'N']\n",
    "plt.plot(x_c, y_c, 'o', color='blue')\n",
    "plt.plot(x_n, y_n, 'o', color='red')\n",
    "plt.xlabel('latitude')\n",
    "plt.ylabel('temperature')\n",
    "plt.show()\n",
    "plt.savefig(\"scatter.png\")\n",
    "plt.close()"
   ]
  }
 ],
 "metadata": {
  "kernelspec": {
   "display_name": "Python 2",
   "language": "python",
   "name": "python2"
  },
  "language_info": {
   "codemirror_mode": {
    "name": "ipython",
    "version": 2
   },
   "file_extension": ".py",
   "mimetype": "text/x-python",
   "name": "python",
   "nbconvert_exporter": "python",
   "pygments_lexer": "ipython2",
   "version": "2.7.13"
  }
 },
 "nbformat": 4,
 "nbformat_minor": 1
}
