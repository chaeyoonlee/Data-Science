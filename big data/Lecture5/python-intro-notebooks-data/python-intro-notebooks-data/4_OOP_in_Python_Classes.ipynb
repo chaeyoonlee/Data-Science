{
 "cells": [
  {
   "cell_type": "markdown",
   "metadata": {},
   "source": [
    "# Python Intro: Object-Oriented Programming\n",
    "\n",
    "An object here is a programming construct that can store data and has methods.\n",
    "\n",
    "A class defines a type of object, e.g. Student or Fruit.\n",
    "The class can have member variables where it can store data, and member functions.  \n",
    "Think of a class as a factory.\n",
    "\n",
    "Given the definition of a class, you can then create instances of a class that populates the member variables.\n",
    "Each instance of a class stores its own data independently."
   ]
  },
  {
   "cell_type": "markdown",
   "metadata": {},
   "source": [
    "### Classes"
   ]
  },
  {
   "cell_type": "code",
   "execution_count": 1,
   "metadata": {
    "collapsed": true
   },
   "outputs": [],
   "source": [
    "class Student(object):\n",
    "    # Initialization method (to boot up an instance of this class)\n",
    "    def __init__(self, name, major):\n",
    "        # Member variables\n",
    "        self.name = name\n",
    "        self.major = major\n",
    "        self.graduated = False\n",
    "    \n",
    "    # a member method\n",
    "    def description(self):\n",
    "        if self.graduated:\n",
    "            print (\"My name is {} and I graduated with a degree in {}.\".format(self.name, self.major))\n",
    "        else:\n",
    "            print (\"My name is {} and I study {}.\".format(self.name, self.major))\n",
    "    \n",
    "    # another member method\n",
    "    def graduate(self):\n",
    "        self.graduated = True\n",
    "        "
   ]
  },
  {
   "cell_type": "code",
   "execution_count": 2,
   "metadata": {},
   "outputs": [],
   "source": [
    "# Create an instance of Student, and assign it to a variable\n",
    "# This will call the __init__() function. You have to provide the arguments defined in the __init__() function.\n",
    "s_1 = Student(\"Mary\", \"Biology\")"
   ]
  },
  {
   "cell_type": "code",
   "execution_count": 3,
   "metadata": {},
   "outputs": [
    {
     "name": "stdout",
     "output_type": "stream",
     "text": [
      "My name is Mary and I study Biology.\n"
     ]
    }
   ],
   "source": [
    "s_1.description()"
   ]
  },
  {
   "cell_type": "code",
   "execution_count": 4,
   "metadata": {
    "collapsed": true
   },
   "outputs": [],
   "source": [
    "s_1.graduate()"
   ]
  },
  {
   "cell_type": "code",
   "execution_count": 5,
   "metadata": {},
   "outputs": [
    {
     "name": "stdout",
     "output_type": "stream",
     "text": [
      "My name is Mary and I graduated with a degree in Biology.\n"
     ]
    }
   ],
   "source": [
    "s_1.description()"
   ]
  },
  {
   "cell_type": "code",
   "execution_count": 6,
   "metadata": {},
   "outputs": [
    {
     "name": "stdout",
     "output_type": "stream",
     "text": [
      "My name is Tom and I study English.\n"
     ]
    }
   ],
   "source": [
    "# Create another instance. Note that this instance for a different student does not share data with the first student.\n",
    "s_2 = Student(\"Tom\", \"English\")\n",
    "s_2.description()"
   ]
  }
 ],
 "metadata": {
  "kernelspec": {
   "display_name": "Python 2",
   "language": "python",
   "name": "python2"
  },
  "language_info": {
   "codemirror_mode": {
    "name": "ipython",
    "version": 2
   },
   "file_extension": ".py",
   "mimetype": "text/x-python",
   "name": "python",
   "nbconvert_exporter": "python",
   "pygments_lexer": "ipython2",
   "version": "2.7.13"
  }
 },
 "nbformat": 4,
 "nbformat_minor": 1
}
