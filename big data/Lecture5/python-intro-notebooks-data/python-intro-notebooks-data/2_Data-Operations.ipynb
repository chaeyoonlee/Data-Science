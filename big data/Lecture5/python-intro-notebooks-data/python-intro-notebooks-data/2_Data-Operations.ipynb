{
 "cells": [
  {
   "cell_type": "markdown",
   "metadata": {},
   "source": [
    "# Python Intro: Data Operations\n",
    "\n",
    "In this section, you will learn how to import csv files, load data into Python data structures, examine the data and query it. \n",
    "\n",
    "Required datasets: \n",
    "- CityTemps.csv\n",
    "- Regions.tsv"
   ]
  },
  {
   "cell_type": "code",
   "execution_count": 29,
   "metadata": {},
   "outputs": [],
   "source": [
    "# Import the CSV python package\n",
    "import csv"
   ]
  },
  {
   "cell_type": "markdown",
   "metadata": {},
   "source": [
    "### Importing a CSV file into a list"
   ]
  },
  {
   "cell_type": "code",
   "execution_count": 30,
   "metadata": {
    "collapsed": true
   },
   "outputs": [],
   "source": [
    "# Initialize empty list\n",
    "all_temps = []"
   ]
  },
  {
   "cell_type": "code",
   "execution_count": 31,
   "metadata": {},
   "outputs": [],
   "source": [
    "# Open the csv file, 'rU' means: 'r' --> read mode (it won't let you change the file), \n",
    "#'U' --> universal newline support (so it's able to read files written with different newline characters) \n",
    "with open('CityTemps.csv', 'rU') as my_temps_file:\n",
    "    my_temps_reader = csv.DictReader(my_temps_file)\n",
    "    # add each row of the CSV file to the all_temps list. \n",
    "    for row in my_temps_reader:\n",
    "        all_temps.append(row['temp'])"
   ]
  },
  {
   "cell_type": "code",
   "execution_count": 32,
   "metadata": {},
   "outputs": [
    {
     "name": "stdout",
     "output_type": "stream",
     "text": [
      "['44', '38', '35', '31', '47', '42', '15', '22', '26', '30', '45', '65', '58', '37', '22', '19', '21', '11', '22', '27', '45', '12', '25', '23', '21', '2', '24', '8', '13', '11', '27', '24', '14', '27', '34', '31', '0', '26', '21', '28', '33', '24', '24', '38', '31', '24', '49', '44', '18', '7', '32', '33', '19', '9', '13', '14']\n"
     ]
    }
   ],
   "source": [
    "# print the contents of the list\n",
    "print all_temps"
   ]
  },
  {
   "cell_type": "code",
   "execution_count": 33,
   "metadata": {},
   "outputs": [
    {
     "name": "stdout",
     "output_type": "stream",
     "text": [
      "56\n"
     ]
    }
   ],
   "source": [
    "# number of elements\n",
    "print len(all_temps)"
   ]
  },
  {
   "cell_type": "code",
   "execution_count": 35,
   "metadata": {},
   "outputs": [],
   "source": [
    "# Correct way to cast strings as integers\n",
    "# iterate through index, and typecast each element\n",
    "for index in range(len(all_temps)):\n",
    "    all_temps[index] = int(all_temps[index])"
   ]
  },
  {
   "cell_type": "code",
   "execution_count": 36,
   "metadata": {},
   "outputs": [
    {
     "name": "stdout",
     "output_type": "stream",
     "text": [
      "[44, 38, 35, 31, 47, 42, 15, 22, 26, 30, 45, 65, 58, 37, 22, 19, 21, 11, 22, 27, 45, 12, 25, 23, 21, 2, 24, 8, 13, 11, 27, 24, 14, 27, 34, 31, 0, 26, 21, 28, 33, 24, 24, 38, 31, 24, 49, 44, 18, 7, 32, 33, 19, 9, 13, 14]\n"
     ]
    }
   ],
   "source": [
    "print all_temps"
   ]
  },
  {
   "cell_type": "code",
   "execution_count": 37,
   "metadata": {},
   "outputs": [
    {
     "name": "stdout",
     "output_type": "stream",
     "text": [
      "1485\n",
      "56\n",
      "26.5178571429\n"
     ]
    }
   ],
   "source": [
    "print sum(all_temps)\n",
    "print len(all_temps)\n",
    "print sum(all_temps) / float(len(all_temps))"
   ]
  },
  {
   "cell_type": "markdown",
   "metadata": {},
   "source": [
    "### Writing to file\n",
    "Here, we will create and write to a file. Specifically, we will combine the information from two tables CityTemps and Regions into one table, such that each city also has a region associated with it."
   ]
  },
  {
   "cell_type": "code",
   "execution_count": 38,
   "metadata": {},
   "outputs": [],
   "source": [
    "attributes = ['city', 'state', 'lat', 'lng', 'temp', 'region', 'coastal']\n",
    "temps_regions_file = open('OurTempsRegions.csv','w')  # 'w' stands for write mode\n",
    "\n",
    "csvwriter = csv.DictWriter(temps_regions_file, delimiter=',', fieldnames=attributes)\n",
    "csvwriter.writeheader()\n",
    "\n",
    "cities = []\n",
    "with open('CityTemps.csv', 'rU') as citytemps_file:\n",
    "    for row in csv.DictReader(citytemps_file):\n",
    "        cities.append(row)\n",
    "\n",
    "regions = []\n",
    "with open('Regions.tsv', 'rU') as regions_file:\n",
    "    for row in csv.DictReader(regions_file, delimiter='\\t'):\n",
    "        regions.append(row)\n",
    "\n",
    "# write to new file\n",
    "for city in cities:\n",
    "    for region in regions:\n",
    "        if region['state'] == city['state']:\n",
    "            city.update(region)\n",
    "            csvwriter.writerow(city)\n",
    "            break\n",
    "\n",
    "temps_regions_file.close()"
   ]
  },
  {
   "cell_type": "code",
   "execution_count": 39,
   "metadata": {},
   "outputs": [
    {
     "name": "stdout",
     "output_type": "stream",
     "text": [
      "[{'city': 'Mobile', 'temp': '44', 'region': 'Southcentral', 'state': 'Alabama', 'coastal': 'Y', 'lat': '31.2', 'lng': '88.5'}, {'city': 'Montgomery', 'temp': '38', 'region': 'Southcentral', 'state': 'Alabama', 'coastal': 'Y', 'lat': '32.9', 'lng': '86.8'}, {'city': 'Phoenix', 'temp': '35', 'region': 'Mountain', 'state': 'Arizona', 'coastal': 'N', 'lat': '33.6', 'lng': '112.5'}, {'city': 'Little Rock', 'temp': '31', 'region': 'Southcentral', 'state': 'Arkansas', 'coastal': 'N', 'lat': '35.4', 'lng': '92.8'}, {'city': 'Los Angeles', 'temp': '47', 'region': 'Pacific', 'state': 'California', 'coastal': 'Y', 'lat': '34.3', 'lng': '118.7'}, {'city': 'San Francisco', 'temp': '42', 'region': 'Pacific', 'state': 'California', 'coastal': 'Y', 'lat': '38.4', 'lng': '123'}, {'city': 'Denver', 'temp': '15', 'region': 'Mountain', 'state': 'Colorado', 'coastal': 'N', 'lat': '40.7', 'lng': '105.3'}, {'city': 'New Haven', 'temp': '22', 'region': 'Northeast', 'state': 'Connecticut', 'coastal': 'Y', 'lat': '41.7', 'lng': '73.4'}, {'city': 'Wilmington', 'temp': '26', 'region': 'Southatlantic', 'state': 'Delaware', 'coastal': 'Y', 'lat': '40.5', 'lng': '76.3'}, {'city': 'Washington', 'temp': '30', 'region': 'Southatlantic', 'state': 'DC', 'coastal': 'Y', 'lat': '39.7', 'lng': '77.5'}, {'city': 'Jacksonville', 'temp': '45', 'region': 'Southatlantic', 'state': 'Florida', 'coastal': 'Y', 'lat': '31', 'lng': '82.3'}, {'city': 'Key West', 'temp': '65', 'region': 'Southatlantic', 'state': 'Florida', 'coastal': 'Y', 'lat': '25', 'lng': '82'}, {'city': 'Miami', 'temp': '58', 'region': 'Southatlantic', 'state': 'Florida', 'coastal': 'Y', 'lat': '26.3', 'lng': '80.7'}, {'city': 'Atlanta', 'temp': '37', 'region': 'Southatlantic', 'state': 'Georgia', 'coastal': 'Y', 'lat': '33.9', 'lng': '85'}, {'city': 'Boise', 'temp': '22', 'region': 'Mountain', 'state': 'Idaho', 'coastal': 'N', 'lat': '43.7', 'lng': '117.1'}, {'city': 'Chicago', 'temp': '19', 'region': 'Northcentral', 'state': 'Illinois', 'coastal': 'N', 'lat': '42.3', 'lng': '88'}, {'city': 'Indianapolis', 'temp': '21', 'region': 'Northcentral', 'state': 'Indiana', 'coastal': 'N', 'lat': '39.8', 'lng': '86.9'}, {'city': 'Des Moines', 'temp': '11', 'region': 'Northcentral', 'state': 'Iowa', 'coastal': 'N', 'lat': '41.8', 'lng': '93.6'}, {'city': 'Wichita', 'temp': '22', 'region': 'Northcentral', 'state': 'Kansas', 'coastal': 'N', 'lat': '38.1', 'lng': '97.6'}, {'city': 'Louisville', 'temp': '27', 'region': 'Southcentral', 'state': 'Kentucky', 'coastal': 'N', 'lat': '39', 'lng': '86.5'}, {'city': 'New Orleans', 'temp': '45', 'region': 'Southcentral', 'state': 'Louisiana', 'coastal': 'Y', 'lat': '30.8', 'lng': '90.2'}, {'city': 'Portland', 'temp': '12', 'region': 'Northeast', 'state': 'Maine', 'coastal': 'Y', 'lat': '44.2', 'lng': '70.5'}, {'city': 'Baltimore', 'temp': '25', 'region': 'Southatlantic', 'state': 'Maryland', 'coastal': 'Y', 'lat': '39.7', 'lng': '77.3'}, {'city': 'Boston', 'temp': '23', 'region': 'Northeast', 'state': 'Massachusetts', 'coastal': 'Y', 'lat': '42.7', 'lng': '71.4'}, {'city': 'Detroit', 'temp': '21', 'region': 'Northcentral', 'state': 'Michigan', 'coastal': 'N', 'lat': '43.1', 'lng': '83.9'}, {'city': 'Minneapolis', 'temp': '2', 'region': 'Northcentral', 'state': 'Minnesota', 'coastal': 'N', 'lat': '45.9', 'lng': '93.9'}, {'city': 'St. Louis', 'temp': '24', 'region': 'Northcentral', 'state': 'Missouri', 'coastal': 'N', 'lat': '39.3', 'lng': '90.5'}, {'city': 'Helena', 'temp': '8', 'region': 'Mountain', 'state': 'Montana', 'coastal': 'N', 'lat': '47.1', 'lng': '112.4'}, {'city': 'Omaha', 'temp': '13', 'region': 'Northcentral', 'state': 'Nebraska', 'coastal': 'N', 'lat': '41.9', 'lng': '96.1'}, {'city': 'Concord', 'temp': '11', 'region': 'Northeast', 'state': 'New Hampshire', 'coastal': 'Y', 'lat': '43.5', 'lng': '71.9'}, {'city': 'Atlantic City', 'temp': '27', 'region': 'Midatlantic', 'state': 'New Jersey', 'coastal': 'Y', 'lat': '39.8', 'lng': '75.3'}, {'city': 'Albuquerque', 'temp': '24', 'region': 'Mountain', 'state': 'New Mexico', 'coastal': 'N', 'lat': '35.1', 'lng': '106.7'}, {'city': 'Albany', 'temp': '14', 'region': 'Midatlantic', 'state': 'New York', 'coastal': 'Y', 'lat': '42.6', 'lng': '73.7'}, {'city': 'New York', 'temp': '27', 'region': 'Midatlantic', 'state': 'New York', 'coastal': 'Y', 'lat': '40.8', 'lng': '74.6'}, {'city': 'Charlotte', 'temp': '34', 'region': 'Southatlantic', 'state': 'North Carolina', 'coastal': 'Y', 'lat': '35.9', 'lng': '81.5'}, {'city': 'Raleigh', 'temp': '31', 'region': 'Southatlantic', 'state': 'North Carolina', 'coastal': 'Y', 'lat': '36.4', 'lng': '78.9'}, {'city': 'Bismarck', 'temp': '0', 'region': 'Northcentral', 'state': 'North Dakota', 'coastal': 'N', 'lat': '47.1', 'lng': '101'}, {'city': 'Cincinnati', 'temp': '26', 'region': 'Northcentral', 'state': 'Ohio', 'coastal': 'N', 'lat': '39.2', 'lng': '85'}, {'city': 'Cleveland', 'temp': '21', 'region': 'Northcentral', 'state': 'Ohio', 'coastal': 'N', 'lat': '42.3', 'lng': '82.5'}, {'city': 'Oklahoma City', 'temp': '28', 'region': 'Southcentral', 'state': 'Oklahoma', 'coastal': 'N', 'lat': '35.9', 'lng': '97.5'}, {'city': 'Portland', 'temp': '33', 'region': 'Pacific', 'state': 'Oregon', 'coastal': 'Y', 'lat': '45.6', 'lng': '123.2'}, {'city': 'Harrisburg', 'temp': '24', 'region': 'Midatlantic', 'state': 'Pennsylvania', 'coastal': 'N', 'lat': '40.9', 'lng': '77.8'}, {'city': 'Philadelphia', 'temp': '24', 'region': 'Midatlantic', 'state': 'Pennsylvania', 'coastal': 'N', 'lat': '40.9', 'lng': '75.5'}, {'city': 'Charleston', 'temp': '38', 'region': 'Southatlantic', 'state': 'South Carolina', 'coastal': 'Y', 'lat': '33.3', 'lng': '80.8'}, {'city': 'Nashville', 'temp': '31', 'region': 'Southcentral', 'state': 'Tennessee', 'coastal': 'N', 'lat': '36.7', 'lng': '87.6'}, {'city': 'Amarillo', 'temp': '24', 'region': 'Southcentral', 'state': 'Texas', 'coastal': 'Y', 'lat': '35.6', 'lng': '101.9'}, {'city': 'Galveston', 'temp': '49', 'region': 'Southcentral', 'state': 'Texas', 'coastal': 'Y', 'lat': '29.4', 'lng': '95.5'}, {'city': 'Houston', 'temp': '44', 'region': 'Southcentral', 'state': 'Texas', 'coastal': 'Y', 'lat': '30.1', 'lng': '95.9'}, {'city': 'Salt Lake City', 'temp': '18', 'region': 'Mountain', 'state': 'Utah', 'coastal': 'N', 'lat': '41.1', 'lng': '112.3'}, {'city': 'Burlington', 'temp': '7', 'region': 'Northeast', 'state': 'Vermont', 'coastal': 'N', 'lat': '45', 'lng': '73.9'}, {'city': 'Norfolk', 'temp': '32', 'region': 'Southatlantic', 'state': 'Virginia', 'coastal': 'Y', 'lat': '37', 'lng': '76.6'}, {'city': 'Seattle', 'temp': '33', 'region': 'Pacific', 'state': 'Washington', 'coastal': 'Y', 'lat': '48.1', 'lng': '122.5'}, {'city': 'Spokane', 'temp': '19', 'region': 'Pacific', 'state': 'Washington', 'coastal': 'Y', 'lat': '48.1', 'lng': '117.9'}, {'city': 'Madison', 'temp': '9', 'region': 'Northcentral', 'state': 'Wisconsin', 'coastal': 'N', 'lat': '43.4', 'lng': '90.2'}, {'city': 'Milwaukee', 'temp': '13', 'region': 'Northcentral', 'state': 'Wisconsin', 'coastal': 'N', 'lat': '43.3', 'lng': '88.1'}, {'city': 'Cheyenne', 'temp': '14', 'region': 'Mountain', 'state': 'Wyoming', 'coastal': 'N', 'lat': '41.2', 'lng': '104.9'}]\n"
     ]
    }
   ],
   "source": [
    "all_temps_regions = []\n",
    "with open('OurTempsRegions.csv', 'rU') as my_temps_file:\n",
    "    my_temps_reader = csv.DictReader(my_temps_file)\n",
    "    for row in my_temps_reader:\n",
    "        all_temps_regions.append(row)\n",
    "print all_temps_regions"
   ]
  },
  {
   "cell_type": "markdown",
   "metadata": {},
   "source": [
    "###  Find Max temperature"
   ]
  },
  {
   "cell_type": "code",
   "execution_count": 45,
   "metadata": {},
   "outputs": [
    {
     "name": "stdout",
     "output_type": "stream",
     "text": [
      "65\n"
     ]
    }
   ],
   "source": [
    "max_value = -999999\n",
    "for city_info in all_temps_regions:\n",
    "    current_value = int(city_info['temp'])\n",
    "    if  current_value > max_value:\n",
    "        max_value = current_value\n",
    "print max_value"
   ]
  },
  {
   "cell_type": "code",
   "execution_count": 46,
   "metadata": {},
   "outputs": [
    {
     "name": "stdout",
     "output_type": "stream",
     "text": [
      "65\n"
     ]
    }
   ],
   "source": [
    "#shorter version of writing it\n",
    "print max([int(city_info['temp']) for city_info in all_temps_regions])"
   ]
  },
  {
   "cell_type": "markdown",
   "metadata": {},
   "source": [
    "### Find all cities with 'ville' in them"
   ]
  },
  {
   "cell_type": "code",
   "execution_count": 41,
   "metadata": {},
   "outputs": [
    {
     "name": "stdout",
     "output_type": "stream",
     "text": [
      "City: Jacksonville, State: Florida, Temp: 45\n",
      "City: Louisville, State: Kentucky, Temp: 27\n",
      "City: Nashville, State: Tennessee, Temp: 31\n"
     ]
    }
   ],
   "source": [
    "for city_info in all_temps_regions:\n",
    "    if 'ville' in city_info['city']:\n",
    "        print 'City: {}, State: {}, Temp: {}'.format(city_info['city'], city_info['state'], city_info['temp'])"
   ]
  },
  {
   "cell_type": "markdown",
   "metadata": {},
   "source": [
    "### Find pairs of cities such that lat1 > lat2  and temp1 > temp2"
   ]
  },
  {
   "cell_type": "code",
   "execution_count": 42,
   "metadata": {},
   "outputs": [
    {
     "name": "stdout",
     "output_type": "stream",
     "text": [
      "(Mobile, 44.0) and (Los Angeles, 47.0)\n",
      "(Montgomery, 38.0) and (Los Angeles, 47.0)\n",
      "(Montgomery, 38.0) and (San Francisco, 42.0)\n",
      "(Phoenix, 35.0) and (Los Angeles, 47.0)\n",
      "(Phoenix, 35.0) and (San Francisco, 42.0)\n",
      "(Phoenix, 35.0) and (Atlanta, 37.0)\n",
      "(Little Rock, 31.0) and (San Francisco, 42.0)\n",
      "(Little Rock, 31.0) and (Albuquerque, 24.0)\n",
      "(Little Rock, 31.0) and (Charlotte, 34.0)\n",
      "(Little Rock, 31.0) and (Portland, 33.0)\n",
      "(Little Rock, 31.0) and (Norfolk, 32.0)\n",
      "(Little Rock, 31.0) and (Seattle, 33.0)\n",
      "(Los Angeles, 47.0) and (Jacksonville, 45.0)\n",
      "(Los Angeles, 47.0) and (Atlanta, 37.0)\n",
      "(Los Angeles, 47.0) and (New Orleans, 45.0)\n",
      "(Los Angeles, 47.0) and (Charleston, 38.0)\n",
      "(Los Angeles, 47.0) and (Houston, 44.0)\n",
      "(San Francisco, 42.0) and (Atlanta, 37.0)\n",
      "(San Francisco, 42.0) and (Wichita, 22.0)\n",
      "(San Francisco, 42.0) and (Albuquerque, 24.0)\n",
      "(San Francisco, 42.0) and (Charlotte, 34.0)\n",
      "(San Francisco, 42.0) and (Raleigh, 31.0)\n",
      "(San Francisco, 42.0) and (Oklahoma City, 28.0)\n",
      "(San Francisco, 42.0) and (Charleston, 38.0)\n",
      "(San Francisco, 42.0) and (Nashville, 31.0)\n",
      "(San Francisco, 42.0) and (Amarillo, 24.0)\n",
      "(San Francisco, 42.0) and (Norfolk, 32.0)\n",
      "(Denver, 15.0) and (New Haven, 22.0)\n",
      "(Denver, 15.0) and (Boise, 22.0)\n",
      "(Denver, 15.0) and (Chicago, 19.0)\n",
      "(Denver, 15.0) and (Boston, 23.0)\n",
      "(Denver, 15.0) and (Detroit, 21.0)\n",
      "(Denver, 15.0) and (New York, 27.0)\n",
      "(Denver, 15.0) and (Cleveland, 21.0)\n",
      "(Denver, 15.0) and (Portland, 33.0)\n",
      "(Denver, 15.0) and (Harrisburg, 24.0)\n",
      "(Denver, 15.0) and (Philadelphia, 24.0)\n",
      "(Denver, 15.0) and (Salt Lake City, 18.0)\n",
      "(Denver, 15.0) and (Seattle, 33.0)\n",
      "(Denver, 15.0) and (Spokane, 19.0)\n",
      "(New Haven, 22.0) and (Indianapolis, 21.0)\n",
      "(New Haven, 22.0) and (Boston, 23.0)\n",
      "(New Haven, 22.0) and (Portland, 33.0)\n",
      "(New Haven, 22.0) and (Salt Lake City, 18.0)\n",
      "(New Haven, 22.0) and (Seattle, 33.0)\n",
      "(New Haven, 22.0) and (Cheyenne, 14.0)\n",
      "(Wilmington, 26.0) and (Indianapolis, 21.0)\n",
      "(Wilmington, 26.0) and (Wichita, 22.0)\n",
      "(Wilmington, 26.0) and (Baltimore, 25.0)\n",
      "(Wilmington, 26.0) and (St. Louis, 24.0)\n",
      "(Wilmington, 26.0) and (Albuquerque, 24.0)\n",
      "(Wilmington, 26.0) and (New York, 27.0)\n",
      "(Wilmington, 26.0) and (Portland, 33.0)\n",
      "(Wilmington, 26.0) and (Amarillo, 24.0)\n",
      "(Wilmington, 26.0) and (Seattle, 33.0)\n",
      "(Washington, 30.0) and (Wichita, 22.0)\n",
      "(Washington, 30.0) and (Louisville, 27.0)\n",
      "(Washington, 30.0) and (Baltimore, 25.0)\n",
      "(Washington, 30.0) and (St. Louis, 24.0)\n",
      "(Washington, 30.0) and (Albuquerque, 24.0)\n",
      "(Washington, 30.0) and (Cincinnati, 26.0)\n",
      "(Washington, 30.0) and (Oklahoma City, 28.0)\n",
      "(Washington, 30.0) and (Portland, 33.0)\n",
      "(Washington, 30.0) and (Amarillo, 24.0)\n",
      "(Washington, 30.0) and (Seattle, 33.0)\n",
      "(Jacksonville, 45.0) and (Houston, 44.0)\n",
      "(Boise, 22.0) and (Chicago, 19.0)\n",
      "(Boise, 22.0) and (Indianapolis, 21.0)\n",
      "(Boise, 22.0) and (Des Moines, 11.0)\n",
      "(Boise, 22.0) and (Detroit, 21.0)\n",
      "(Boise, 22.0) and (Omaha, 13.0)\n",
      "(Boise, 22.0) and (Concord, 11.0)\n",
      "(Boise, 22.0) and (Albany, 14.0)\n",
      "(Boise, 22.0) and (Cleveland, 21.0)\n",
      "(Boise, 22.0) and (Portland, 33.0)\n",
      "(Boise, 22.0) and (Salt Lake City, 18.0)\n",
      "(Boise, 22.0) and (Seattle, 33.0)\n",
      "(Boise, 22.0) and (Madison, 9.0)\n",
      "(Boise, 22.0) and (Milwaukee, 13.0)\n",
      "(Boise, 22.0) and (Cheyenne, 14.0)\n",
      "(Chicago, 19.0) and (Des Moines, 11.0)\n",
      "(Chicago, 19.0) and (Boston, 23.0)\n",
      "(Chicago, 19.0) and (Detroit, 21.0)\n",
      "(Chicago, 19.0) and (Omaha, 13.0)\n",
      "(Chicago, 19.0) and (Cleveland, 21.0)\n",
      "(Chicago, 19.0) and (Portland, 33.0)\n",
      "(Chicago, 19.0) and (Salt Lake City, 18.0)\n",
      "(Chicago, 19.0) and (Seattle, 33.0)\n",
      "(Chicago, 19.0) and (Cheyenne, 14.0)\n",
      "(Indianapolis, 21.0) and (Boston, 23.0)\n",
      "(Indianapolis, 21.0) and (Atlantic City, 27.0)\n",
      "(Indianapolis, 21.0) and (New York, 27.0)\n",
      "(Indianapolis, 21.0) and (Portland, 33.0)\n",
      "(Indianapolis, 21.0) and (Harrisburg, 24.0)\n",
      "(Indianapolis, 21.0) and (Philadelphia, 24.0)\n",
      "(Indianapolis, 21.0) and (Seattle, 33.0)\n",
      "(Des Moines, 11.0) and (Portland, 12.0)\n",
      "(Des Moines, 11.0) and (Boston, 23.0)\n",
      "(Des Moines, 11.0) and (Detroit, 21.0)\n",
      "(Des Moines, 11.0) and (Omaha, 13.0)\n",
      "(Des Moines, 11.0) and (Albany, 14.0)\n",
      "(Des Moines, 11.0) and (Cleveland, 21.0)\n",
      "(Des Moines, 11.0) and (Portland, 33.0)\n",
      "(Des Moines, 11.0) and (Seattle, 33.0)\n",
      "(Des Moines, 11.0) and (Spokane, 19.0)\n",
      "(Des Moines, 11.0) and (Milwaukee, 13.0)\n",
      "(Wichita, 22.0) and (Louisville, 27.0)\n",
      "(Wichita, 22.0) and (Baltimore, 25.0)\n",
      "(Wichita, 22.0) and (Boston, 23.0)\n",
      "(Wichita, 22.0) and (St. Louis, 24.0)\n",
      "(Wichita, 22.0) and (Atlantic City, 27.0)\n",
      "(Wichita, 22.0) and (New York, 27.0)\n",
      "(Wichita, 22.0) and (Cincinnati, 26.0)\n",
      "(Wichita, 22.0) and (Portland, 33.0)\n",
      "(Wichita, 22.0) and (Harrisburg, 24.0)\n",
      "(Wichita, 22.0) and (Philadelphia, 24.0)\n",
      "(Wichita, 22.0) and (Seattle, 33.0)\n",
      "(Louisville, 27.0) and (Albuquerque, 24.0)\n",
      "(Louisville, 27.0) and (Portland, 33.0)\n",
      "(Louisville, 27.0) and (Amarillo, 24.0)\n",
      "(Louisville, 27.0) and (Seattle, 33.0)\n",
      "(New Orleans, 45.0) and (Houston, 44.0)\n",
      "(Portland, 12.0) and (Concord, 11.0)\n",
      "(Portland, 12.0) and (Portland, 33.0)\n",
      "(Portland, 12.0) and (Seattle, 33.0)\n",
      "(Portland, 12.0) and (Spokane, 19.0)\n",
      "(Portland, 12.0) and (Madison, 9.0)\n",
      "(Baltimore, 25.0) and (St. Louis, 24.0)\n",
      "(Baltimore, 25.0) and (Atlantic City, 27.0)\n",
      "(Baltimore, 25.0) and (Albuquerque, 24.0)\n",
      "(Baltimore, 25.0) and (New York, 27.0)\n",
      "(Baltimore, 25.0) and (Portland, 33.0)\n",
      "(Baltimore, 25.0) and (Amarillo, 24.0)\n",
      "(Baltimore, 25.0) and (Seattle, 33.0)\n",
      "(Boston, 23.0) and (Omaha, 13.0)\n",
      "(Boston, 23.0) and (Albany, 14.0)\n",
      "(Boston, 23.0) and (Cleveland, 21.0)\n",
      "(Boston, 23.0) and (Portland, 33.0)\n",
      "(Boston, 23.0) and (Salt Lake City, 18.0)\n",
      "(Boston, 23.0) and (Seattle, 33.0)\n",
      "(Boston, 23.0) and (Cheyenne, 14.0)\n",
      "(Detroit, 21.0) and (Omaha, 13.0)\n",
      "(Detroit, 21.0) and (Albany, 14.0)\n",
      "(Detroit, 21.0) and (Portland, 33.0)\n",
      "(Detroit, 21.0) and (Salt Lake City, 18.0)\n",
      "(Detroit, 21.0) and (Seattle, 33.0)\n",
      "(Detroit, 21.0) and (Cheyenne, 14.0)\n",
      "(Minneapolis, 2.0) and (Helena, 8.0)\n",
      "(Minneapolis, 2.0) and (Seattle, 33.0)\n",
      "(Minneapolis, 2.0) and (Spokane, 19.0)\n",
      "(St. Louis, 24.0) and (Atlantic City, 27.0)\n",
      "(St. Louis, 24.0) and (New York, 27.0)\n",
      "(St. Louis, 24.0) and (Portland, 33.0)\n",
      "(St. Louis, 24.0) and (Seattle, 33.0)\n",
      "(Helena, 8.0) and (Bismarck, 0.0)\n",
      "(Helena, 8.0) and (Burlington, 7.0)\n",
      "(Helena, 8.0) and (Seattle, 33.0)\n",
      "(Helena, 8.0) and (Spokane, 19.0)\n",
      "(Omaha, 13.0) and (Albany, 14.0)\n",
      "(Omaha, 13.0) and (Cleveland, 21.0)\n",
      "(Omaha, 13.0) and (Portland, 33.0)\n",
      "(Omaha, 13.0) and (Seattle, 33.0)\n",
      "(Omaha, 13.0) and (Spokane, 19.0)\n",
      "(Concord, 11.0) and (Portland, 33.0)\n",
      "(Concord, 11.0) and (Seattle, 33.0)\n",
      "(Concord, 11.0) and (Spokane, 19.0)\n",
      "(Concord, 11.0) and (Madison, 9.0)\n",
      "(Atlantic City, 27.0) and (Albuquerque, 24.0)\n",
      "(Atlantic City, 27.0) and (Cincinnati, 26.0)\n",
      "(Atlantic City, 27.0) and (Portland, 33.0)\n",
      "(Atlantic City, 27.0) and (Amarillo, 24.0)\n",
      "(Atlantic City, 27.0) and (Seattle, 33.0)\n",
      "(Albuquerque, 24.0) and (New York, 27.0)\n",
      "(Albuquerque, 24.0) and (Charlotte, 34.0)\n",
      "(Albuquerque, 24.0) and (Raleigh, 31.0)\n",
      "(Albuquerque, 24.0) and (Cincinnati, 26.0)\n",
      "(Albuquerque, 24.0) and (Oklahoma City, 28.0)\n",
      "(Albuquerque, 24.0) and (Portland, 33.0)\n",
      "(Albuquerque, 24.0) and (Nashville, 31.0)\n",
      "(Albuquerque, 24.0) and (Norfolk, 32.0)\n",
      "(Albuquerque, 24.0) and (Seattle, 33.0)\n",
      "(Albany, 14.0) and (Portland, 33.0)\n",
      "(Albany, 14.0) and (Seattle, 33.0)\n",
      "(Albany, 14.0) and (Spokane, 19.0)\n",
      "(New York, 27.0) and (Cincinnati, 26.0)\n",
      "(New York, 27.0) and (Portland, 33.0)\n",
      "(New York, 27.0) and (Amarillo, 24.0)\n",
      "(New York, 27.0) and (Seattle, 33.0)\n",
      "(Charlotte, 34.0) and (Oklahoma City, 28.0)\n",
      "(Charlotte, 34.0) and (Amarillo, 24.0)\n",
      "(Raleigh, 31.0) and (Oklahoma City, 28.0)\n",
      "(Raleigh, 31.0) and (Portland, 33.0)\n",
      "(Raleigh, 31.0) and (Amarillo, 24.0)\n",
      "(Raleigh, 31.0) and (Norfolk, 32.0)\n",
      "(Raleigh, 31.0) and (Seattle, 33.0)\n",
      "(Bismarck, 0.0) and (Seattle, 33.0)\n",
      "(Bismarck, 0.0) and (Spokane, 19.0)\n",
      "(Cincinnati, 26.0) and (Portland, 33.0)\n",
      "(Cincinnati, 26.0) and (Amarillo, 24.0)\n",
      "(Cincinnati, 26.0) and (Seattle, 33.0)\n",
      "(Cleveland, 21.0) and (Portland, 33.0)\n",
      "(Cleveland, 21.0) and (Salt Lake City, 18.0)\n",
      "(Cleveland, 21.0) and (Seattle, 33.0)\n",
      "(Cleveland, 21.0) and (Cheyenne, 14.0)\n",
      "(Oklahoma City, 28.0) and (Portland, 33.0)\n",
      "(Oklahoma City, 28.0) and (Nashville, 31.0)\n",
      "(Oklahoma City, 28.0) and (Amarillo, 24.0)\n",
      "(Oklahoma City, 28.0) and (Norfolk, 32.0)\n",
      "(Oklahoma City, 28.0) and (Seattle, 33.0)\n",
      "(Portland, 33.0) and (Harrisburg, 24.0)\n",
      "(Portland, 33.0) and (Philadelphia, 24.0)\n",
      "(Portland, 33.0) and (Nashville, 31.0)\n",
      "(Portland, 33.0) and (Amarillo, 24.0)\n",
      "(Portland, 33.0) and (Salt Lake City, 18.0)\n",
      "(Portland, 33.0) and (Burlington, 7.0)\n",
      "(Portland, 33.0) and (Norfolk, 32.0)\n",
      "(Portland, 33.0) and (Madison, 9.0)\n",
      "(Portland, 33.0) and (Milwaukee, 13.0)\n",
      "(Portland, 33.0) and (Cheyenne, 14.0)\n",
      "(Harrisburg, 24.0) and (Seattle, 33.0)\n",
      "(Philadelphia, 24.0) and (Seattle, 33.0)\n",
      "(Nashville, 31.0) and (Amarillo, 24.0)\n",
      "(Nashville, 31.0) and (Norfolk, 32.0)\n",
      "(Nashville, 31.0) and (Seattle, 33.0)\n",
      "(Amarillo, 24.0) and (Norfolk, 32.0)\n",
      "(Amarillo, 24.0) and (Seattle, 33.0)\n",
      "(Salt Lake City, 18.0) and (Seattle, 33.0)\n",
      "(Salt Lake City, 18.0) and (Spokane, 19.0)\n",
      "(Burlington, 7.0) and (Seattle, 33.0)\n",
      "(Burlington, 7.0) and (Spokane, 19.0)\n",
      "(Norfolk, 32.0) and (Seattle, 33.0)\n",
      "(Seattle, 33.0) and (Spokane, 19.0)\n",
      "(Seattle, 33.0) and (Madison, 9.0)\n",
      "(Seattle, 33.0) and (Milwaukee, 13.0)\n",
      "(Seattle, 33.0) and (Cheyenne, 14.0)\n",
      "(Spokane, 19.0) and (Madison, 9.0)\n",
      "(Spokane, 19.0) and (Milwaukee, 13.0)\n",
      "(Spokane, 19.0) and (Cheyenne, 14.0)\n"
     ]
    }
   ],
   "source": [
    "for i in range(len(all_temps_regions)):\n",
    "    for j in range(i+1, len(all_temps_regions)):\n",
    "        lat1 = float(all_temps_regions[i]['lat'])\n",
    "        lat2 = float(all_temps_regions[j]['lat'])\n",
    "        temp1 = float(all_temps_regions[i]['temp'])\n",
    "        temp2 = float(all_temps_regions[j]['temp'])\n",
    "        if (lat1 >= lat2 and temp1 > temp2) or (lat1 <= lat2 and temp1 < temp2):\n",
    "            print '({}, {}) and ({}, {})'.format(\n",
    "                all_temps_regions[i]['city'], temp1,\n",
    "                all_temps_regions[j]['city'], temp2)"
   ]
  }
 ],
 "metadata": {
  "kernelspec": {
   "display_name": "Python 2",
   "language": "python",
   "name": "python2"
  },
  "language_info": {
   "codemirror_mode": {
    "name": "ipython",
    "version": 2
   },
   "file_extension": ".py",
   "mimetype": "text/x-python",
   "name": "python",
   "nbconvert_exporter": "python",
   "pygments_lexer": "ipython2",
   "version": "2.7.13"
  }
 },
 "nbformat": 4,
 "nbformat_minor": 1
}
