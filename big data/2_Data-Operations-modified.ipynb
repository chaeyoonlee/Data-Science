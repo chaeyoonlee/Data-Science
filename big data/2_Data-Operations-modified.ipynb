{
 "cells": [
  {
   "cell_type": "markdown",
   "metadata": {},
   "source": [
    "# Jupyter notebook usage tips"
   ]
  },
  {
   "cell_type": "code",
   "execution_count": 4,
   "metadata": {},
   "outputs": [
    {
     "name": "stdout",
     "output_type": "stream",
     "text": [
      " C 드라이브의 볼륨에는 이름이 없습니다.\n",
      " 볼륨 일련 번호: 06CD-2413\n",
      "\n",
      " C:\\Users\\ChaeYoon\\Desktop\\빅데이터\\빅데이터공학(학생배포용) 디렉터리\n",
      "\n",
      "2017-10-29  오후 03:51    <DIR>          .\n",
      "2017-10-29  오후 03:51    <DIR>          ..\n",
      "2017-10-23  오전 11:12    <DIR>          .ipynb_checkpoints\n",
      "2017-09-13  오전 10:58         3,831,823 1 Introduction.pdf\n",
      "2017-09-13  오전 10:58         2,525,712 10 ML Regression2 Classification1.pdf\n",
      "2017-09-13  오전 10:58         2,259,136 11 ML Classification2.pdf\n",
      "2017-09-13  오전 10:58           308,393 12 Classification3 Evaluation.pdf\n",
      "2017-09-24  오후 01:34            70,338 123.ipynb\n",
      "2017-09-13  오전 10:58         3,394,654 13 ML Metrics Model building.pdf\n",
      "2017-09-13  오전 10:58         4,837,759 16 Unsupervised learning Big data summary.pdf\n",
      "2017-10-29  오후 03:51            38,504 2_Data-Operations-modified.ipynb\n",
      "2017-09-13  오전 10:58           684,601 3  RDBMS SQL.pdf\n",
      "2017-10-18  오전 11:33           144,895 3_Plotting-modified.ipynb\n",
      "2017-09-13  오전 10:58           677,079 4  RDBMS SQL.pdf\n",
      "2017-10-18  오전 11:23             6,370 4_OOP_in_Python_Classes-modified.ipynb\n",
      "2017-09-13  오전 10:58           303,813 4V_s of Big data.jpg\n",
      "2017-09-13  오전 10:58         2,579,825 5 Intro to Python.pdf\n",
      "2017-10-16  오전 10:36            41,040 5_Data_Operations_with_Pandas-modified.ipynb\n",
      "2017-09-13  오전 10:58         2,690,740 6 Python Pandas.pdf\n",
      "2017-09-13  오전 10:58         1,341,982 7 Intro to Data Mining.pdf\n",
      "2017-09-13  오전 10:58           654,798 8 Data Mining.pdf\n",
      "2017-09-13  오전 10:58         4,658,538 9 Intro to ML Regression1.pdf\n",
      "2017-10-22  오후 10:21           569,527 CityLats.csv\n",
      "2017-10-16  오전 10:03             1,797 CityTemps.csv\n",
      "2017-10-23  오전 11:18             9,475 Lecture_7_Data_Mining-modified.ipynb\n",
      "2017-10-16  오전 10:54             4,522 Lecture_7_More_Python_Examples-modified.ipynb\n",
      "2017-10-22  오후 10:21            28,838 Lecture_9_Linear_Regression-modified.ipynb\n",
      "2017-09-13  오전 10:58    <DIR>          Lecture10\n",
      "2017-09-13  오전 10:58    <DIR>          Lecture12\n",
      "2017-09-13  오전 10:58    <DIR>          Lecture15\n",
      "2017-09-24  오후 01:30    <DIR>          Lecture3\n",
      "2017-09-13  오전 10:58    <DIR>          Lecture5\n",
      "2017-09-13  오전 10:58    <DIR>          Lecture7\n",
      "2017-09-13  오전 10:58    <DIR>          Lecture9\n",
      "2017-10-18  오전 11:23               231 one.py\n",
      "2017-10-18  오전 11:23               386 one.pyc\n",
      "2017-10-16  오전 10:04             1,165 Regions.tsv\n",
      "2017-10-22  오후 10:21               130 Shop.csv\n",
      "2017-10-16  오전 10:03             2,692 TempsRegions.csv\n",
      "2017-10-18  오전 11:23               208 two.py\n",
      "2017-10-23  오전 11:16             1,136 Untitled.ipynb\n",
      "2017-09-13  오전 10:55            10,240 zxcc.db\n",
      "              32개 파일          31,680,347 바이트\n",
      "              10개 디렉터리  27,558,604,800 바이트 남음\n"
     ]
    },
    {
     "data": {
      "text/plain": [
       "u'C:\\\\Users\\\\ChaeYoon\\\\Desktop\\\\\\ube45\\ub370\\uc774\\ud130\\\\\\ube45\\ub370\\uc774\\ud130\\uacf5\\ud559(\\ud559\\uc0dd\\ubc30\\ud3ec\\uc6a9)'"
      ]
     },
     "execution_count": 4,
     "metadata": {},
     "output_type": "execute_result"
    }
   ],
   "source": [
    "# % magic\n",
    "%ls #디렉토리 목록\n",
    "%pwd #현재 디렉토리"
   ]
  },
  {
   "cell_type": "code",
   "execution_count": 2,
   "metadata": {},
   "outputs": [
    {
     "name": "stdout",
     "output_type": "stream",
     "text": [
      "Overwriting temp.py\n"
     ]
    }
   ],
   "source": [
    "%%writefile temp.py #없으면 만들어짐\n",
    "x = 0\n",
    "y = 1\n",
    "print 'x = ', x\n",
    "print 'y = ', y"
   ]
  },
  {
   "cell_type": "code",
   "execution_count": 3,
   "metadata": {},
   "outputs": [
    {
     "name": "stdout",
     "output_type": "stream",
     "text": [
      "x =  0\n",
      "y =  1\n"
     ]
    }
   ],
   "source": [
    "%run temp.py"
   ]
  },
  {
   "cell_type": "markdown",
   "metadata": {},
   "source": [
    "$\\alpha, \\beta, \\gamma$   #이거 돌리면 이텔릭체로 abr이 나옴\n",
    "# $$이거 두개 사이에 있어서 이텔릭체 되고 \\이거랑 알파 베타 치면 됨\n",
    "sqrt 는 루트"
   ]
  },
  {
   "cell_type": "markdown",
   "metadata": {},
   "source": [
    "$$c = \\sqrt(a^2 + b^2)$$"
   ]
  },
  {
   "cell_type": "markdown",
   "metadata": {},
   "source": [
    "# Python Intro: Data Operations\n",
    "\n",
    "In this section, you will learn how to import csv files, load data into Python data structures, examine the data and query it. \n",
    "\n",
    "Required datasets: \n",
    "- CityTemps.csv\n",
    "- Regions.tsv"
   ]
  },
  {
   "cell_type": "code",
   "execution_count": 6,
   "metadata": {
    "collapsed": true
   },
   "outputs": [],
   "source": [
    "# Import the CSV python package 파일형식 여는 거\n",
    "import csv"
   ]
  },
  {
   "cell_type": "markdown",
   "metadata": {},
   "source": [
    "### Importing a CSV file into a list\n",
    "### 파일 읽고 리스트에 필요한 값만 넣기"
   ]
  },
  {
   "cell_type": "markdown",
   "metadata": {
    "collapsed": true
   },
   "source": [
    "### list = [], dictionary = {}, tuple =() \n"
   ]
  },
  {
   "cell_type": "code",
   "execution_count": 7,
   "metadata": {
    "collapsed": true
   },
   "outputs": [],
   "source": [
    "# Initialize empty list\n",
    "all_temps = []"
   ]
  },
  {
   "cell_type": "markdown",
   "metadata": {},
   "source": [
    "### dictionary 읽을 때 for row in dic일케 읽어서 row에 항목값을 불러와서 사용"
   ]
  },
  {
   "cell_type": "code",
   "execution_count": 14,
   "metadata": {},
   "outputs": [
    {
     "name": "stdout",
     "output_type": "stream",
     "text": [
      "['44', '38', '35', '31', '47', '42', '15', '22', '26', '30', '45', '65', '58', '37', '22', '19', '21', '11', '22', '27', '45', '12', '25', '23', '21', '2', '24', '8', '13', '11', '27', '24', '14', '27', '34', '31', '0', '26', '21', '28', '33', '24', '24', '38', '31', '24', '49', '44', '18', '7', '32', '33', '19', '9', '13', '14']\n"
     ]
    }
   ],
   "source": [
    "# Open the csv file, 'rU' means: 'r' --> read mode (it won't let you change the file), \n",
    "#'U' --> universal newline support (so it's able to read files written with different newline characters) \n",
    "with open('CityTemps.csv', 'rU') as my_temps_file:\n",
    "    my_temps_reader = csv.DictReader(my_temps_file)\n",
    "    # add each row of the CSV file to the all_temps list. \n",
    "     for row in my_temps_reader:\n",
    "        all_temps.append(row['temp'])"
   ]
  },
  {
   "cell_type": "markdown",
   "metadata": {},
   "source": [
    "### 이렇게도 줄여서 가능\n",
    "with open('CityTemps.csv', 'rU') as my_temps_file:\n",
    "    my_temps_reader = csv.DictReader(my_temps_file)\n",
    "    all_temps = [row['temp'] for row in my_temps_reader]"
   ]
  },
  {
   "cell_type": "code",
   "execution_count": 11,
   "metadata": {},
   "outputs": [
    {
     "name": "stdout",
     "output_type": "stream",
     "text": [
      "['44', '38', '35', '31', '47', '42', '15', '22', '26', '30', '45', '65', '58', '37', '22', '19', '21', '11', '22', '27', '45', '12', '25', '23', '21', '2', '24', '8', '13', '11', '27', '24', '14', '27', '34', '31', '0', '26', '21', '28', '33', '24', '24', '38', '31', '24', '49', '44', '18', '7', '32', '33', '19', '9', '13', '14']\n"
     ]
    }
   ],
   "source": [
    "# print the contents of the list 프린트 된 거 보면 스트링str 형태로 들어가 있음\n",
    "print all_temps"
   ]
  },
  {
   "cell_type": "code",
   "execution_count": 16,
   "metadata": {},
   "outputs": [
    {
     "name": "stdout",
     "output_type": "stream",
     "text": [
      "[100]\n"
     ]
    }
   ],
   "source": [
    "# number of elements\n",
    "print len(all_temps)\n"
   ]
  },
  {
   "cell_type": "markdown",
   "metadata": {},
   "source": [
    "### for문\n",
    "for index in list 바로 해도 상관은 없는데, 그러면 index에 몇번째인지 숫자가 오는 게 아니라 그 값이 옴"
   ]
  },
  {
   "cell_type": "code",
   "execution_count": 10,
   "metadata": {
    "collapsed": true
   },
   "outputs": [],
   "source": [
    "# Correct way to cast strings as integers 0~55까지\n",
    "# iterate through index, and typecast each element 스트림형태 아니고 정수형태로 들어가 있음\n",
    "for index in range(len(all_temps)):\n",
    "    all_temps[index] = int(all_temps[index])"
   ]
  },
  {
   "cell_type": "markdown",
   "metadata": {},
   "source": [
    "### range(z)는 0부터 z 미만까지를 만들어줌\n",
    "range(x,y)이러면 x부터 y 미만까지. y가 포함이 안됨"
   ]
  },
  {
   "cell_type": "code",
   "execution_count": 11,
   "metadata": {},
   "outputs": [
    {
     "name": "stdout",
     "output_type": "stream",
     "text": [
      "[44, 38, 35, 31, 47, 42, 15, 22, 26, 30, 45, 65, 58, 37, 22, 19, 21, 11, 22, 27, 45, 12, 25, 23, 21, 2, 24, 8, 13, 11, 27, 24, 14, 27, 34, 31, 0, 26, 21, 28, 33, 24, 24, 38, 31, 24, 49, 44, 18, 7, 32, 33, 19, 9, 13, 14]\n"
     ]
    }
   ],
   "source": [
    "print all_temps"
   ]
  },
  {
   "cell_type": "markdown",
   "metadata": {},
   "source": [
    "정수형 나눠서 실수형 얻고 싶다면 둘 중 아무때는 float 붙이면 됨"
   ]
  },
  {
   "cell_type": "code",
   "execution_count": 12,
   "metadata": {},
   "outputs": [
    {
     "name": "stdout",
     "output_type": "stream",
     "text": [
      "1485\n",
      "56\n",
      "26.5178571429\n"
     ]
    }
   ],
   "source": [
    "print sum(all_temps)\n",
    "print len(all_temps)\n",
    "print sum(all_temps) / float(len(all_temps)) #평균온도"
   ]
  },
  {
   "cell_type": "markdown",
   "metadata": {},
   "source": [
    "### Writing to file\n",
    "Here, we will create and write to a file. Specifically, we will combine the information from two tables CityTemps and Regions into one table, such that each city also has a region associated with it."
   ]
  },
  {
   "cell_type": "code",
   "execution_count": 19,
   "metadata": {},
   "outputs": [
    {
     "name": "stdout",
     "output_type": "stream",
     "text": [
      "{'lat': '31.2', 'city': 'Mobile', 'state': 'Alabama', 'lng': '88.5', 'temp': '44'}\n",
      "--------------------------------------------------\n",
      "{'state': 'Alabama', 'region': 'Southcentral', 'coastal': 'Y'}\n",
      "--------------------------------------------------\n",
      "{'city': 'Mobile', 'temp': '44', 'region': 'Southcentral', 'state': 'Alabama', 'coastal': 'Y', 'lat': '31.2', 'lng': '88.5'}\n",
      "--------------------------------------------------\n",
      "{'lat': '32.9', 'city': 'Montgomery', 'state': 'Alabama', 'lng': '86.8', 'temp': '38'}\n",
      "--------------------------------------------------\n",
      "{'state': 'Alabama', 'region': 'Southcentral', 'coastal': 'Y'}\n",
      "--------------------------------------------------\n",
      "{'city': 'Montgomery', 'temp': '38', 'region': 'Southcentral', 'state': 'Alabama', 'coastal': 'Y', 'lat': '32.9', 'lng': '86.8'}\n",
      "--------------------------------------------------\n",
      "{'lat': '33.6', 'city': 'Phoenix', 'state': 'Arizona', 'lng': '112.5', 'temp': '35'}\n",
      "--------------------------------------------------\n",
      "{'state': 'Arizona', 'region': 'Mountain', 'coastal': 'N'}\n",
      "--------------------------------------------------\n",
      "{'city': 'Phoenix', 'temp': '35', 'region': 'Mountain', 'state': 'Arizona', 'coastal': 'N', 'lat': '33.6', 'lng': '112.5'}\n",
      "--------------------------------------------------\n",
      "{'lat': '35.4', 'city': 'Little Rock', 'state': 'Arkansas', 'lng': '92.8', 'temp': '31'}\n",
      "--------------------------------------------------\n",
      "{'state': 'Arkansas', 'region': 'Southcentral', 'coastal': 'N'}\n",
      "--------------------------------------------------\n",
      "{'city': 'Little Rock', 'temp': '31', 'region': 'Southcentral', 'state': 'Arkansas', 'coastal': 'N', 'lat': '35.4', 'lng': '92.8'}\n",
      "--------------------------------------------------\n",
      "{'lat': '34.3', 'city': 'Los Angeles', 'state': 'California', 'lng': '118.7', 'temp': '47'}\n",
      "--------------------------------------------------\n",
      "{'state': 'California', 'region': 'Pacific', 'coastal': 'Y'}\n",
      "--------------------------------------------------\n",
      "{'city': 'Los Angeles', 'temp': '47', 'region': 'Pacific', 'state': 'California', 'coastal': 'Y', 'lat': '34.3', 'lng': '118.7'}\n",
      "--------------------------------------------------\n",
      "{'lat': '38.4', 'city': 'San Francisco', 'state': 'California', 'lng': '123', 'temp': '42'}\n",
      "--------------------------------------------------\n",
      "{'state': 'California', 'region': 'Pacific', 'coastal': 'Y'}\n",
      "--------------------------------------------------\n",
      "{'city': 'San Francisco', 'temp': '42', 'region': 'Pacific', 'state': 'California', 'coastal': 'Y', 'lat': '38.4', 'lng': '123'}\n",
      "--------------------------------------------------\n",
      "{'lat': '40.7', 'city': 'Denver', 'state': 'Colorado', 'lng': '105.3', 'temp': '15'}\n",
      "--------------------------------------------------\n",
      "{'state': 'Colorado', 'region': 'Mountain', 'coastal': 'N'}\n",
      "--------------------------------------------------\n",
      "{'city': 'Denver', 'temp': '15', 'region': 'Mountain', 'state': 'Colorado', 'coastal': 'N', 'lat': '40.7', 'lng': '105.3'}\n",
      "--------------------------------------------------\n",
      "{'lat': '41.7', 'city': 'New Haven', 'state': 'Connecticut', 'lng': '73.4', 'temp': '22'}\n",
      "--------------------------------------------------\n",
      "{'state': 'Connecticut', 'region': 'Northeast', 'coastal': 'Y'}\n",
      "--------------------------------------------------\n",
      "{'city': 'New Haven', 'temp': '22', 'region': 'Northeast', 'state': 'Connecticut', 'coastal': 'Y', 'lat': '41.7', 'lng': '73.4'}\n",
      "--------------------------------------------------\n",
      "{'lat': '40.5', 'city': 'Wilmington', 'state': 'Delaware', 'lng': '76.3', 'temp': '26'}\n",
      "--------------------------------------------------\n",
      "{'state': 'Delaware', 'region': 'Southatlantic', 'coastal': 'Y'}\n",
      "--------------------------------------------------\n",
      "{'city': 'Wilmington', 'temp': '26', 'region': 'Southatlantic', 'state': 'Delaware', 'coastal': 'Y', 'lat': '40.5', 'lng': '76.3'}\n",
      "--------------------------------------------------\n",
      "{'lat': '39.7', 'city': 'Washington', 'state': 'DC', 'lng': '77.5', 'temp': '30'}\n",
      "--------------------------------------------------\n",
      "{'state': 'DC', 'region': 'Southatlantic', 'coastal': 'Y'}\n",
      "--------------------------------------------------\n",
      "{'city': 'Washington', 'temp': '30', 'region': 'Southatlantic', 'state': 'DC', 'coastal': 'Y', 'lat': '39.7', 'lng': '77.5'}\n",
      "--------------------------------------------------\n",
      "{'lat': '31', 'city': 'Jacksonville', 'state': 'Florida', 'lng': '82.3', 'temp': '45'}\n",
      "--------------------------------------------------\n",
      "{'state': 'Florida', 'region': 'Southatlantic', 'coastal': 'Y'}\n",
      "--------------------------------------------------\n",
      "{'city': 'Jacksonville', 'temp': '45', 'region': 'Southatlantic', 'state': 'Florida', 'coastal': 'Y', 'lat': '31', 'lng': '82.3'}\n",
      "--------------------------------------------------\n",
      "{'lat': '25', 'city': 'Key West', 'state': 'Florida', 'lng': '82', 'temp': '65'}\n",
      "--------------------------------------------------\n",
      "{'state': 'Florida', 'region': 'Southatlantic', 'coastal': 'Y'}\n",
      "--------------------------------------------------\n",
      "{'city': 'Key West', 'temp': '65', 'region': 'Southatlantic', 'state': 'Florida', 'coastal': 'Y', 'lat': '25', 'lng': '82'}\n",
      "--------------------------------------------------\n",
      "{'lat': '26.3', 'city': 'Miami', 'state': 'Florida', 'lng': '80.7', 'temp': '58'}\n",
      "--------------------------------------------------\n",
      "{'state': 'Florida', 'region': 'Southatlantic', 'coastal': 'Y'}\n",
      "--------------------------------------------------\n",
      "{'city': 'Miami', 'temp': '58', 'region': 'Southatlantic', 'state': 'Florida', 'coastal': 'Y', 'lat': '26.3', 'lng': '80.7'}\n",
      "--------------------------------------------------\n",
      "{'lat': '33.9', 'city': 'Atlanta', 'state': 'Georgia', 'lng': '85', 'temp': '37'}\n",
      "--------------------------------------------------\n",
      "{'state': 'Georgia', 'region': 'Southatlantic', 'coastal': 'Y'}\n",
      "--------------------------------------------------\n",
      "{'city': 'Atlanta', 'temp': '37', 'region': 'Southatlantic', 'state': 'Georgia', 'coastal': 'Y', 'lat': '33.9', 'lng': '85'}\n",
      "--------------------------------------------------\n",
      "{'lat': '43.7', 'city': 'Boise', 'state': 'Idaho', 'lng': '117.1', 'temp': '22'}\n",
      "--------------------------------------------------\n",
      "{'state': 'Idaho', 'region': 'Mountain', 'coastal': 'N'}\n",
      "--------------------------------------------------\n",
      "{'city': 'Boise', 'temp': '22', 'region': 'Mountain', 'state': 'Idaho', 'coastal': 'N', 'lat': '43.7', 'lng': '117.1'}\n",
      "--------------------------------------------------\n",
      "{'lat': '42.3', 'city': 'Chicago', 'state': 'Illinois', 'lng': '88', 'temp': '19'}\n",
      "--------------------------------------------------\n",
      "{'state': 'Illinois', 'region': 'Northcentral', 'coastal': 'N'}\n",
      "--------------------------------------------------\n",
      "{'city': 'Chicago', 'temp': '19', 'region': 'Northcentral', 'state': 'Illinois', 'coastal': 'N', 'lat': '42.3', 'lng': '88'}\n",
      "--------------------------------------------------\n",
      "{'lat': '39.8', 'city': 'Indianapolis', 'state': 'Indiana', 'lng': '86.9', 'temp': '21'}\n",
      "--------------------------------------------------\n",
      "{'state': 'Indiana', 'region': 'Northcentral', 'coastal': 'N'}\n",
      "--------------------------------------------------\n",
      "{'city': 'Indianapolis', 'temp': '21', 'region': 'Northcentral', 'state': 'Indiana', 'coastal': 'N', 'lat': '39.8', 'lng': '86.9'}\n",
      "--------------------------------------------------\n",
      "{'lat': '41.8', 'city': 'Des Moines', 'state': 'Iowa', 'lng': '93.6', 'temp': '11'}\n",
      "--------------------------------------------------\n",
      "{'state': 'Iowa', 'region': 'Northcentral', 'coastal': 'N'}\n",
      "--------------------------------------------------\n",
      "{'city': 'Des Moines', 'temp': '11', 'region': 'Northcentral', 'state': 'Iowa', 'coastal': 'N', 'lat': '41.8', 'lng': '93.6'}\n",
      "--------------------------------------------------\n",
      "{'lat': '38.1', 'city': 'Wichita', 'state': 'Kansas', 'lng': '97.6', 'temp': '22'}\n",
      "--------------------------------------------------\n",
      "{'state': 'Kansas', 'region': 'Northcentral', 'coastal': 'N'}\n",
      "--------------------------------------------------\n",
      "{'city': 'Wichita', 'temp': '22', 'region': 'Northcentral', 'state': 'Kansas', 'coastal': 'N', 'lat': '38.1', 'lng': '97.6'}\n",
      "--------------------------------------------------\n",
      "{'lat': '39', 'city': 'Louisville', 'state': 'Kentucky', 'lng': '86.5', 'temp': '27'}\n",
      "--------------------------------------------------\n",
      "{'state': 'Kentucky', 'region': 'Southcentral', 'coastal': 'N'}\n",
      "--------------------------------------------------\n",
      "{'city': 'Louisville', 'temp': '27', 'region': 'Southcentral', 'state': 'Kentucky', 'coastal': 'N', 'lat': '39', 'lng': '86.5'}\n",
      "--------------------------------------------------\n",
      "{'lat': '30.8', 'city': 'New Orleans', 'state': 'Louisiana', 'lng': '90.2', 'temp': '45'}\n",
      "--------------------------------------------------\n",
      "{'state': 'Louisiana', 'region': 'Southcentral', 'coastal': 'Y'}\n",
      "--------------------------------------------------\n",
      "{'city': 'New Orleans', 'temp': '45', 'region': 'Southcentral', 'state': 'Louisiana', 'coastal': 'Y', 'lat': '30.8', 'lng': '90.2'}\n",
      "--------------------------------------------------\n",
      "{'lat': '44.2', 'city': 'Portland', 'state': 'Maine', 'lng': '70.5', 'temp': '12'}\n",
      "--------------------------------------------------\n",
      "{'state': 'Maine', 'region': 'Northeast', 'coastal': 'Y'}\n",
      "--------------------------------------------------\n",
      "{'city': 'Portland', 'temp': '12', 'region': 'Northeast', 'state': 'Maine', 'coastal': 'Y', 'lat': '44.2', 'lng': '70.5'}\n",
      "--------------------------------------------------\n",
      "{'lat': '39.7', 'city': 'Baltimore', 'state': 'Maryland', 'lng': '77.3', 'temp': '25'}\n",
      "--------------------------------------------------\n",
      "{'state': 'Maryland', 'region': 'Southatlantic', 'coastal': 'Y'}\n",
      "--------------------------------------------------\n",
      "{'city': 'Baltimore', 'temp': '25', 'region': 'Southatlantic', 'state': 'Maryland', 'coastal': 'Y', 'lat': '39.7', 'lng': '77.3'}\n",
      "--------------------------------------------------\n",
      "{'lat': '42.7', 'city': 'Boston', 'state': 'Massachusetts', 'lng': '71.4', 'temp': '23'}\n",
      "--------------------------------------------------\n",
      "{'state': 'Massachusetts', 'region': 'Northeast', 'coastal': 'Y'}\n",
      "--------------------------------------------------\n",
      "{'city': 'Boston', 'temp': '23', 'region': 'Northeast', 'state': 'Massachusetts', 'coastal': 'Y', 'lat': '42.7', 'lng': '71.4'}\n",
      "--------------------------------------------------\n",
      "{'lat': '43.1', 'city': 'Detroit', 'state': 'Michigan', 'lng': '83.9', 'temp': '21'}\n",
      "--------------------------------------------------\n",
      "{'state': 'Michigan', 'region': 'Northcentral', 'coastal': 'N'}\n",
      "--------------------------------------------------\n",
      "{'city': 'Detroit', 'temp': '21', 'region': 'Northcentral', 'state': 'Michigan', 'coastal': 'N', 'lat': '43.1', 'lng': '83.9'}\n",
      "--------------------------------------------------\n",
      "{'lat': '45.9', 'city': 'Minneapolis', 'state': 'Minnesota', 'lng': '93.9', 'temp': '2'}\n",
      "--------------------------------------------------\n",
      "{'state': 'Minnesota', 'region': 'Northcentral', 'coastal': 'N'}\n",
      "--------------------------------------------------\n",
      "{'city': 'Minneapolis', 'temp': '2', 'region': 'Northcentral', 'state': 'Minnesota', 'coastal': 'N', 'lat': '45.9', 'lng': '93.9'}\n",
      "--------------------------------------------------\n",
      "{'lat': '39.3', 'city': 'St. Louis', 'state': 'Missouri', 'lng': '90.5', 'temp': '24'}\n",
      "--------------------------------------------------\n",
      "{'state': 'Missouri', 'region': 'Northcentral', 'coastal': 'N'}\n",
      "--------------------------------------------------\n",
      "{'city': 'St. Louis', 'temp': '24', 'region': 'Northcentral', 'state': 'Missouri', 'coastal': 'N', 'lat': '39.3', 'lng': '90.5'}\n",
      "--------------------------------------------------\n",
      "{'lat': '47.1', 'city': 'Helena', 'state': 'Montana', 'lng': '112.4', 'temp': '8'}\n",
      "--------------------------------------------------\n",
      "{'state': 'Montana', 'region': 'Mountain', 'coastal': 'N'}\n",
      "--------------------------------------------------\n",
      "{'city': 'Helena', 'temp': '8', 'region': 'Mountain', 'state': 'Montana', 'coastal': 'N', 'lat': '47.1', 'lng': '112.4'}\n",
      "--------------------------------------------------\n",
      "{'lat': '41.9', 'city': 'Omaha', 'state': 'Nebraska', 'lng': '96.1', 'temp': '13'}\n",
      "--------------------------------------------------\n",
      "{'state': 'Nebraska', 'region': 'Northcentral', 'coastal': 'N'}\n",
      "--------------------------------------------------\n",
      "{'city': 'Omaha', 'temp': '13', 'region': 'Northcentral', 'state': 'Nebraska', 'coastal': 'N', 'lat': '41.9', 'lng': '96.1'}\n",
      "--------------------------------------------------\n",
      "{'lat': '43.5', 'city': 'Concord', 'state': 'New Hampshire', 'lng': '71.9', 'temp': '11'}\n",
      "--------------------------------------------------\n",
      "{'state': 'New Hampshire', 'region': 'Northeast', 'coastal': 'Y'}\n",
      "--------------------------------------------------\n",
      "{'city': 'Concord', 'temp': '11', 'region': 'Northeast', 'state': 'New Hampshire', 'coastal': 'Y', 'lat': '43.5', 'lng': '71.9'}\n",
      "--------------------------------------------------\n",
      "{'lat': '39.8', 'city': 'Atlantic City', 'state': 'New Jersey', 'lng': '75.3', 'temp': '27'}\n",
      "--------------------------------------------------\n",
      "{'state': 'New Jersey', 'region': 'Midatlantic', 'coastal': 'Y'}\n",
      "--------------------------------------------------\n",
      "{'city': 'Atlantic City', 'temp': '27', 'region': 'Midatlantic', 'state': 'New Jersey', 'coastal': 'Y', 'lat': '39.8', 'lng': '75.3'}\n",
      "--------------------------------------------------\n",
      "{'lat': '35.1', 'city': 'Albuquerque', 'state': 'New Mexico', 'lng': '106.7', 'temp': '24'}\n",
      "--------------------------------------------------\n",
      "{'state': 'New Mexico', 'region': 'Mountain', 'coastal': 'N'}\n",
      "--------------------------------------------------\n",
      "{'city': 'Albuquerque', 'temp': '24', 'region': 'Mountain', 'state': 'New Mexico', 'coastal': 'N', 'lat': '35.1', 'lng': '106.7'}\n",
      "--------------------------------------------------\n",
      "{'lat': '42.6', 'city': 'Albany', 'state': 'New York', 'lng': '73.7', 'temp': '14'}\n",
      "--------------------------------------------------\n",
      "{'state': 'New York', 'region': 'Midatlantic', 'coastal': 'Y'}\n",
      "--------------------------------------------------\n",
      "{'city': 'Albany', 'temp': '14', 'region': 'Midatlantic', 'state': 'New York', 'coastal': 'Y', 'lat': '42.6', 'lng': '73.7'}\n",
      "--------------------------------------------------\n",
      "{'lat': '40.8', 'city': 'New York', 'state': 'New York', 'lng': '74.6', 'temp': '27'}\n",
      "--------------------------------------------------\n",
      "{'state': 'New York', 'region': 'Midatlantic', 'coastal': 'Y'}\n",
      "--------------------------------------------------\n",
      "{'city': 'New York', 'temp': '27', 'region': 'Midatlantic', 'state': 'New York', 'coastal': 'Y', 'lat': '40.8', 'lng': '74.6'}\n",
      "--------------------------------------------------\n",
      "{'lat': '35.9', 'city': 'Charlotte', 'state': 'North Carolina', 'lng': '81.5', 'temp': '34'}\n",
      "--------------------------------------------------\n",
      "{'state': 'North Carolina', 'region': 'Southatlantic', 'coastal': 'Y'}\n",
      "--------------------------------------------------\n",
      "{'city': 'Charlotte', 'temp': '34', 'region': 'Southatlantic', 'state': 'North Carolina', 'coastal': 'Y', 'lat': '35.9', 'lng': '81.5'}\n",
      "--------------------------------------------------\n",
      "{'lat': '36.4', 'city': 'Raleigh', 'state': 'North Carolina', 'lng': '78.9', 'temp': '31'}\n",
      "--------------------------------------------------\n",
      "{'state': 'North Carolina', 'region': 'Southatlantic', 'coastal': 'Y'}\n"
     ]
    },
    {
     "name": "stdout",
     "output_type": "stream",
     "text": [
      "--------------------------------------------------\n",
      "{'city': 'Raleigh', 'temp': '31', 'region': 'Southatlantic', 'state': 'North Carolina', 'coastal': 'Y', 'lat': '36.4', 'lng': '78.9'}\n",
      "--------------------------------------------------\n",
      "{'lat': '47.1', 'city': 'Bismarck', 'state': 'North Dakota', 'lng': '101', 'temp': '0'}\n",
      "--------------------------------------------------\n",
      "{'state': 'North Dakota', 'region': 'Northcentral', 'coastal': 'N'}\n",
      "--------------------------------------------------\n",
      "{'city': 'Bismarck', 'temp': '0', 'region': 'Northcentral', 'state': 'North Dakota', 'coastal': 'N', 'lat': '47.1', 'lng': '101'}\n",
      "--------------------------------------------------\n",
      "{'lat': '39.2', 'city': 'Cincinnati', 'state': 'Ohio', 'lng': '85', 'temp': '26'}\n",
      "--------------------------------------------------\n",
      "{'state': 'Ohio', 'region': 'Northcentral', 'coastal': 'N'}\n",
      "--------------------------------------------------\n",
      "{'city': 'Cincinnati', 'temp': '26', 'region': 'Northcentral', 'state': 'Ohio', 'coastal': 'N', 'lat': '39.2', 'lng': '85'}\n",
      "--------------------------------------------------\n",
      "{'lat': '42.3', 'city': 'Cleveland', 'state': 'Ohio', 'lng': '82.5', 'temp': '21'}\n",
      "--------------------------------------------------\n",
      "{'state': 'Ohio', 'region': 'Northcentral', 'coastal': 'N'}\n",
      "--------------------------------------------------\n",
      "{'city': 'Cleveland', 'temp': '21', 'region': 'Northcentral', 'state': 'Ohio', 'coastal': 'N', 'lat': '42.3', 'lng': '82.5'}\n",
      "--------------------------------------------------\n",
      "{'lat': '35.9', 'city': 'Oklahoma City', 'state': 'Oklahoma', 'lng': '97.5', 'temp': '28'}\n",
      "--------------------------------------------------\n",
      "{'state': 'Oklahoma', 'region': 'Southcentral', 'coastal': 'N'}\n",
      "--------------------------------------------------\n",
      "{'city': 'Oklahoma City', 'temp': '28', 'region': 'Southcentral', 'state': 'Oklahoma', 'coastal': 'N', 'lat': '35.9', 'lng': '97.5'}\n",
      "--------------------------------------------------\n",
      "{'lat': '45.6', 'city': 'Portland', 'state': 'Oregon', 'lng': '123.2', 'temp': '33'}\n",
      "--------------------------------------------------\n",
      "{'state': 'Oregon', 'region': 'Pacific', 'coastal': 'Y'}\n",
      "--------------------------------------------------\n",
      "{'city': 'Portland', 'temp': '33', 'region': 'Pacific', 'state': 'Oregon', 'coastal': 'Y', 'lat': '45.6', 'lng': '123.2'}\n",
      "--------------------------------------------------\n",
      "{'lat': '40.9', 'city': 'Harrisburg', 'state': 'Pennsylvania', 'lng': '77.8', 'temp': '24'}\n",
      "--------------------------------------------------\n",
      "{'state': 'Pennsylvania', 'region': 'Midatlantic', 'coastal': 'N'}\n",
      "--------------------------------------------------\n",
      "{'city': 'Harrisburg', 'temp': '24', 'region': 'Midatlantic', 'state': 'Pennsylvania', 'coastal': 'N', 'lat': '40.9', 'lng': '77.8'}\n",
      "--------------------------------------------------\n",
      "{'lat': '40.9', 'city': 'Philadelphia', 'state': 'Pennsylvania', 'lng': '75.5', 'temp': '24'}\n",
      "--------------------------------------------------\n",
      "{'state': 'Pennsylvania', 'region': 'Midatlantic', 'coastal': 'N'}\n",
      "--------------------------------------------------\n",
      "{'city': 'Philadelphia', 'temp': '24', 'region': 'Midatlantic', 'state': 'Pennsylvania', 'coastal': 'N', 'lat': '40.9', 'lng': '75.5'}\n",
      "--------------------------------------------------\n",
      "{'lat': '33.3', 'city': 'Charleston', 'state': 'South Carolina', 'lng': '80.8', 'temp': '38'}\n",
      "--------------------------------------------------\n",
      "{'state': 'South Carolina', 'region': 'Southatlantic', 'coastal': 'Y'}\n",
      "--------------------------------------------------\n",
      "{'city': 'Charleston', 'temp': '38', 'region': 'Southatlantic', 'state': 'South Carolina', 'coastal': 'Y', 'lat': '33.3', 'lng': '80.8'}\n",
      "--------------------------------------------------\n",
      "{'lat': '36.7', 'city': 'Nashville', 'state': 'Tennessee', 'lng': '87.6', 'temp': '31'}\n",
      "--------------------------------------------------\n",
      "{'state': 'Tennessee', 'region': 'Southcentral', 'coastal': 'N'}\n",
      "--------------------------------------------------\n",
      "{'city': 'Nashville', 'temp': '31', 'region': 'Southcentral', 'state': 'Tennessee', 'coastal': 'N', 'lat': '36.7', 'lng': '87.6'}\n",
      "--------------------------------------------------\n",
      "{'lat': '35.6', 'city': 'Amarillo', 'state': 'Texas', 'lng': '101.9', 'temp': '24'}\n",
      "--------------------------------------------------\n",
      "{'state': 'Texas', 'region': 'Southcentral', 'coastal': 'Y'}\n",
      "--------------------------------------------------\n",
      "{'city': 'Amarillo', 'temp': '24', 'region': 'Southcentral', 'state': 'Texas', 'coastal': 'Y', 'lat': '35.6', 'lng': '101.9'}\n",
      "--------------------------------------------------\n",
      "{'lat': '29.4', 'city': 'Galveston', 'state': 'Texas', 'lng': '95.5', 'temp': '49'}\n",
      "--------------------------------------------------\n",
      "{'state': 'Texas', 'region': 'Southcentral', 'coastal': 'Y'}\n",
      "--------------------------------------------------\n",
      "{'city': 'Galveston', 'temp': '49', 'region': 'Southcentral', 'state': 'Texas', 'coastal': 'Y', 'lat': '29.4', 'lng': '95.5'}\n",
      "--------------------------------------------------\n",
      "{'lat': '30.1', 'city': 'Houston', 'state': 'Texas', 'lng': '95.9', 'temp': '44'}\n",
      "--------------------------------------------------\n",
      "{'state': 'Texas', 'region': 'Southcentral', 'coastal': 'Y'}\n",
      "--------------------------------------------------\n",
      "{'city': 'Houston', 'temp': '44', 'region': 'Southcentral', 'state': 'Texas', 'coastal': 'Y', 'lat': '30.1', 'lng': '95.9'}\n",
      "--------------------------------------------------\n",
      "{'lat': '41.1', 'city': 'Salt Lake City', 'state': 'Utah', 'lng': '112.3', 'temp': '18'}\n",
      "--------------------------------------------------\n",
      "{'state': 'Utah', 'region': 'Mountain', 'coastal': 'N'}\n",
      "--------------------------------------------------\n",
      "{'city': 'Salt Lake City', 'temp': '18', 'region': 'Mountain', 'state': 'Utah', 'coastal': 'N', 'lat': '41.1', 'lng': '112.3'}\n",
      "--------------------------------------------------\n",
      "{'lat': '45', 'city': 'Burlington', 'state': 'Vermont', 'lng': '73.9', 'temp': '7'}\n",
      "--------------------------------------------------\n",
      "{'state': 'Vermont', 'region': 'Northeast', 'coastal': 'N'}\n",
      "--------------------------------------------------\n",
      "{'city': 'Burlington', 'temp': '7', 'region': 'Northeast', 'state': 'Vermont', 'coastal': 'N', 'lat': '45', 'lng': '73.9'}\n",
      "--------------------------------------------------\n",
      "{'lat': '37', 'city': 'Norfolk', 'state': 'Virginia', 'lng': '76.6', 'temp': '32'}\n",
      "--------------------------------------------------\n",
      "{'state': 'Virginia', 'region': 'Southatlantic', 'coastal': 'Y'}\n",
      "--------------------------------------------------\n",
      "{'city': 'Norfolk', 'temp': '32', 'region': 'Southatlantic', 'state': 'Virginia', 'coastal': 'Y', 'lat': '37', 'lng': '76.6'}\n",
      "--------------------------------------------------\n",
      "{'lat': '48.1', 'city': 'Seattle', 'state': 'Washington', 'lng': '122.5', 'temp': '33'}\n",
      "--------------------------------------------------\n",
      "{'state': 'Washington', 'region': 'Pacific', 'coastal': 'Y'}\n",
      "--------------------------------------------------\n",
      "{'city': 'Seattle', 'temp': '33', 'region': 'Pacific', 'state': 'Washington', 'coastal': 'Y', 'lat': '48.1', 'lng': '122.5'}\n",
      "--------------------------------------------------\n",
      "{'lat': '48.1', 'city': 'Spokane', 'state': 'Washington', 'lng': '117.9', 'temp': '19'}\n",
      "--------------------------------------------------\n",
      "{'state': 'Washington', 'region': 'Pacific', 'coastal': 'Y'}\n",
      "--------------------------------------------------\n",
      "{'city': 'Spokane', 'temp': '19', 'region': 'Pacific', 'state': 'Washington', 'coastal': 'Y', 'lat': '48.1', 'lng': '117.9'}\n",
      "--------------------------------------------------\n",
      "{'lat': '43.4', 'city': 'Madison', 'state': 'Wisconsin', 'lng': '90.2', 'temp': '9'}\n",
      "--------------------------------------------------\n",
      "{'state': 'Wisconsin', 'region': 'Northcentral', 'coastal': 'N'}\n",
      "--------------------------------------------------\n",
      "{'city': 'Madison', 'temp': '9', 'region': 'Northcentral', 'state': 'Wisconsin', 'coastal': 'N', 'lat': '43.4', 'lng': '90.2'}\n",
      "--------------------------------------------------\n",
      "{'lat': '43.3', 'city': 'Milwaukee', 'state': 'Wisconsin', 'lng': '88.1', 'temp': '13'}\n",
      "--------------------------------------------------\n",
      "{'state': 'Wisconsin', 'region': 'Northcentral', 'coastal': 'N'}\n",
      "--------------------------------------------------\n",
      "{'city': 'Milwaukee', 'temp': '13', 'region': 'Northcentral', 'state': 'Wisconsin', 'coastal': 'N', 'lat': '43.3', 'lng': '88.1'}\n",
      "--------------------------------------------------\n",
      "{'lat': '41.2', 'city': 'Cheyenne', 'state': 'Wyoming', 'lng': '104.9', 'temp': '14'}\n",
      "--------------------------------------------------\n",
      "{'state': 'Wyoming', 'region': 'Mountain', 'coastal': 'N'}\n",
      "--------------------------------------------------\n",
      "{'city': 'Cheyenne', 'temp': '14', 'region': 'Mountain', 'state': 'Wyoming', 'coastal': 'N', 'lat': '41.2', 'lng': '104.9'}\n",
      "--------------------------------------------------\n"
     ]
    }
   ],
   "source": [
    "attributes = ['city', 'state', 'lat', 'lng', 'temp', 'region', 'coastal']\n",
    "temps_regions_file = open('OurTempsRegions.csv','w')  # 'w' stands for write mode\n",
    "\n",
    "csvwriter = csv.DictWriter(temps_regions_file, delimiter=',', fieldnames=attributes) #fieldnames은 열(세로) column 이름\n",
    "# writeheader() writes fieldnames as first row of csv file\n",
    "csvwriter.writeheader()\n",
    "\n",
    "cities = []\n",
    "with open('CityTemps.csv', 'rU') as citytemps_file:\n",
    "    for row in csv.DictReader(citytemps_file):\n",
    "        cities.append(row) #dic형태로 list안에 저장되어 있음\n",
    "\n",
    "regions = []\n",
    "with open('Regions.tsv', 'rU') as regions_file:\n",
    "    for row in csv.DictReader(regions_file, delimiter='\\t'): #탭으로 구분되는 파일이기 ㄸ문에 tsv 그래서 t로 구분함\n",
    "        regions.append(row)\n",
    "\n",
    "# write to new file\n",
    "for city in cities:\n",
    "    for region in regions:\n",
    "        if region['state'] == city['state']:\n",
    "            city.update(region)#모든 행들이 dic형태로 들어가 있어서 update함수 가능. \n",
    "            #update는 key가 거기 없으면 생성해서 넣음. 그래서 두개가 합쳐질 수 있는 거\n",
    "            csvwriter.writerow(city)\n",
    "            break #하나 끝나고 다음 반복으로 감. 같은 스테이트 반복할 필요 없으니까\n",
    "#print \n",
    "#print cities\n",
    "temps_regions_file.close() #파일 닫아야댑"
   ]
  },
  {
   "cell_type": "markdown",
   "metadata": {},
   "source": [
    "밑에꺼는 걍 파일 카피해서 리스트에 넣음 쓰기 쉬우라고"
   ]
  },
  {
   "cell_type": "code",
   "execution_count": 23,
   "metadata": {},
   "outputs": [
    {
     "name": "stdout",
     "output_type": "stream",
     "text": [
      "[{'city': 'Mobile', 'temp': '44', 'region': 'Southcentral', 'state': 'Alabama', 'coastal': 'Y', 'lat': '31.2', 'lng': '88.5'}, {'city': 'Montgomery', 'temp': '38', 'region': 'Southcentral', 'state': 'Alabama', 'coastal': 'Y', 'lat': '32.9', 'lng': '86.8'}, {'city': 'Phoenix', 'temp': '35', 'region': 'Mountain', 'state': 'Arizona', 'coastal': 'N', 'lat': '33.6', 'lng': '112.5'}, {'city': 'Little Rock', 'temp': '31', 'region': 'Southcentral', 'state': 'Arkansas', 'coastal': 'N', 'lat': '35.4', 'lng': '92.8'}, {'city': 'Los Angeles', 'temp': '47', 'region': 'Pacific', 'state': 'California', 'coastal': 'Y', 'lat': '34.3', 'lng': '118.7'}, {'city': 'San Francisco', 'temp': '42', 'region': 'Pacific', 'state': 'California', 'coastal': 'Y', 'lat': '38.4', 'lng': '123'}, {'city': 'Denver', 'temp': '15', 'region': 'Mountain', 'state': 'Colorado', 'coastal': 'N', 'lat': '40.7', 'lng': '105.3'}, {'city': 'New Haven', 'temp': '22', 'region': 'Northeast', 'state': 'Connecticut', 'coastal': 'Y', 'lat': '41.7', 'lng': '73.4'}, {'city': 'Wilmington', 'temp': '26', 'region': 'Southatlantic', 'state': 'Delaware', 'coastal': 'Y', 'lat': '40.5', 'lng': '76.3'}, {'city': 'Washington', 'temp': '30', 'region': 'Southatlantic', 'state': 'DC', 'coastal': 'Y', 'lat': '39.7', 'lng': '77.5'}, {'city': 'Jacksonville', 'temp': '45', 'region': 'Southatlantic', 'state': 'Florida', 'coastal': 'Y', 'lat': '31', 'lng': '82.3'}, {'city': 'Key West', 'temp': '65', 'region': 'Southatlantic', 'state': 'Florida', 'coastal': 'Y', 'lat': '25', 'lng': '82'}, {'city': 'Miami', 'temp': '58', 'region': 'Southatlantic', 'state': 'Florida', 'coastal': 'Y', 'lat': '26.3', 'lng': '80.7'}, {'city': 'Atlanta', 'temp': '37', 'region': 'Southatlantic', 'state': 'Georgia', 'coastal': 'Y', 'lat': '33.9', 'lng': '85'}, {'city': 'Boise', 'temp': '22', 'region': 'Mountain', 'state': 'Idaho', 'coastal': 'N', 'lat': '43.7', 'lng': '117.1'}, {'city': 'Chicago', 'temp': '19', 'region': 'Northcentral', 'state': 'Illinois', 'coastal': 'N', 'lat': '42.3', 'lng': '88'}, {'city': 'Indianapolis', 'temp': '21', 'region': 'Northcentral', 'state': 'Indiana', 'coastal': 'N', 'lat': '39.8', 'lng': '86.9'}, {'city': 'Des Moines', 'temp': '11', 'region': 'Northcentral', 'state': 'Iowa', 'coastal': 'N', 'lat': '41.8', 'lng': '93.6'}, {'city': 'Wichita', 'temp': '22', 'region': 'Northcentral', 'state': 'Kansas', 'coastal': 'N', 'lat': '38.1', 'lng': '97.6'}, {'city': 'Louisville', 'temp': '27', 'region': 'Southcentral', 'state': 'Kentucky', 'coastal': 'N', 'lat': '39', 'lng': '86.5'}, {'city': 'New Orleans', 'temp': '45', 'region': 'Southcentral', 'state': 'Louisiana', 'coastal': 'Y', 'lat': '30.8', 'lng': '90.2'}, {'city': 'Portland', 'temp': '12', 'region': 'Northeast', 'state': 'Maine', 'coastal': 'Y', 'lat': '44.2', 'lng': '70.5'}, {'city': 'Baltimore', 'temp': '25', 'region': 'Southatlantic', 'state': 'Maryland', 'coastal': 'Y', 'lat': '39.7', 'lng': '77.3'}, {'city': 'Boston', 'temp': '23', 'region': 'Northeast', 'state': 'Massachusetts', 'coastal': 'Y', 'lat': '42.7', 'lng': '71.4'}, {'city': 'Detroit', 'temp': '21', 'region': 'Northcentral', 'state': 'Michigan', 'coastal': 'N', 'lat': '43.1', 'lng': '83.9'}, {'city': 'Minneapolis', 'temp': '2', 'region': 'Northcentral', 'state': 'Minnesota', 'coastal': 'N', 'lat': '45.9', 'lng': '93.9'}, {'city': 'St. Louis', 'temp': '24', 'region': 'Northcentral', 'state': 'Missouri', 'coastal': 'N', 'lat': '39.3', 'lng': '90.5'}, {'city': 'Helena', 'temp': '8', 'region': 'Mountain', 'state': 'Montana', 'coastal': 'N', 'lat': '47.1', 'lng': '112.4'}, {'city': 'Omaha', 'temp': '13', 'region': 'Northcentral', 'state': 'Nebraska', 'coastal': 'N', 'lat': '41.9', 'lng': '96.1'}, {'city': 'Concord', 'temp': '11', 'region': 'Northeast', 'state': 'New Hampshire', 'coastal': 'Y', 'lat': '43.5', 'lng': '71.9'}, {'city': 'Atlantic City', 'temp': '27', 'region': 'Midatlantic', 'state': 'New Jersey', 'coastal': 'Y', 'lat': '39.8', 'lng': '75.3'}, {'city': 'Albuquerque', 'temp': '24', 'region': 'Mountain', 'state': 'New Mexico', 'coastal': 'N', 'lat': '35.1', 'lng': '106.7'}, {'city': 'Albany', 'temp': '14', 'region': 'Midatlantic', 'state': 'New York', 'coastal': 'Y', 'lat': '42.6', 'lng': '73.7'}, {'city': 'New York', 'temp': '27', 'region': 'Midatlantic', 'state': 'New York', 'coastal': 'Y', 'lat': '40.8', 'lng': '74.6'}, {'city': 'Charlotte', 'temp': '34', 'region': 'Southatlantic', 'state': 'North Carolina', 'coastal': 'Y', 'lat': '35.9', 'lng': '81.5'}, {'city': 'Raleigh', 'temp': '31', 'region': 'Southatlantic', 'state': 'North Carolina', 'coastal': 'Y', 'lat': '36.4', 'lng': '78.9'}, {'city': 'Bismarck', 'temp': '0', 'region': 'Northcentral', 'state': 'North Dakota', 'coastal': 'N', 'lat': '47.1', 'lng': '101'}, {'city': 'Cincinnati', 'temp': '26', 'region': 'Northcentral', 'state': 'Ohio', 'coastal': 'N', 'lat': '39.2', 'lng': '85'}, {'city': 'Cleveland', 'temp': '21', 'region': 'Northcentral', 'state': 'Ohio', 'coastal': 'N', 'lat': '42.3', 'lng': '82.5'}, {'city': 'Oklahoma City', 'temp': '28', 'region': 'Southcentral', 'state': 'Oklahoma', 'coastal': 'N', 'lat': '35.9', 'lng': '97.5'}, {'city': 'Portland', 'temp': '33', 'region': 'Pacific', 'state': 'Oregon', 'coastal': 'Y', 'lat': '45.6', 'lng': '123.2'}, {'city': 'Harrisburg', 'temp': '24', 'region': 'Midatlantic', 'state': 'Pennsylvania', 'coastal': 'N', 'lat': '40.9', 'lng': '77.8'}, {'city': 'Philadelphia', 'temp': '24', 'region': 'Midatlantic', 'state': 'Pennsylvania', 'coastal': 'N', 'lat': '40.9', 'lng': '75.5'}, {'city': 'Charleston', 'temp': '38', 'region': 'Southatlantic', 'state': 'South Carolina', 'coastal': 'Y', 'lat': '33.3', 'lng': '80.8'}, {'city': 'Nashville', 'temp': '31', 'region': 'Southcentral', 'state': 'Tennessee', 'coastal': 'N', 'lat': '36.7', 'lng': '87.6'}, {'city': 'Amarillo', 'temp': '24', 'region': 'Southcentral', 'state': 'Texas', 'coastal': 'Y', 'lat': '35.6', 'lng': '101.9'}, {'city': 'Galveston', 'temp': '49', 'region': 'Southcentral', 'state': 'Texas', 'coastal': 'Y', 'lat': '29.4', 'lng': '95.5'}, {'city': 'Houston', 'temp': '44', 'region': 'Southcentral', 'state': 'Texas', 'coastal': 'Y', 'lat': '30.1', 'lng': '95.9'}, {'city': 'Salt Lake City', 'temp': '18', 'region': 'Mountain', 'state': 'Utah', 'coastal': 'N', 'lat': '41.1', 'lng': '112.3'}, {'city': 'Burlington', 'temp': '7', 'region': 'Northeast', 'state': 'Vermont', 'coastal': 'N', 'lat': '45', 'lng': '73.9'}, {'city': 'Norfolk', 'temp': '32', 'region': 'Southatlantic', 'state': 'Virginia', 'coastal': 'Y', 'lat': '37', 'lng': '76.6'}, {'city': 'Seattle', 'temp': '33', 'region': 'Pacific', 'state': 'Washington', 'coastal': 'Y', 'lat': '48.1', 'lng': '122.5'}, {'city': 'Spokane', 'temp': '19', 'region': 'Pacific', 'state': 'Washington', 'coastal': 'Y', 'lat': '48.1', 'lng': '117.9'}, {'city': 'Madison', 'temp': '9', 'region': 'Northcentral', 'state': 'Wisconsin', 'coastal': 'N', 'lat': '43.4', 'lng': '90.2'}, {'city': 'Milwaukee', 'temp': '13', 'region': 'Northcentral', 'state': 'Wisconsin', 'coastal': 'N', 'lat': '43.3', 'lng': '88.1'}, {'city': 'Cheyenne', 'temp': '14', 'region': 'Mountain', 'state': 'Wyoming', 'coastal': 'N', 'lat': '41.2', 'lng': '104.9'}]\n"
     ]
    }
   ],
   "source": [
    "all_temps_regions = []\n",
    "with open('OurTempsRegions.csv', 'rU') as my_temps_file:\n",
    "    my_temps_reader = csv.DictReader(my_temps_file)\n",
    "    for row in my_temps_reader:\n",
    "        all_temps_regions.append(row)\n",
    "print all_temps_regions"
   ]
  },
  {
   "cell_type": "markdown",
   "metadata": {},
   "source": [
    "###  Find Max temperature"
   ]
  },
  {
   "cell_type": "code",
   "execution_count": 15,
   "metadata": {},
   "outputs": [
    {
     "name": "stdout",
     "output_type": "stream",
     "text": [
      "65\n"
     ]
    }
   ],
   "source": [
    "max_value = -999999\n",
    "for city_info in all_temps_regions:\n",
    "    current_value = int(city_info['temp'])\n",
    "    if  current_value > max_value:\n",
    "        max_value = current_value\n",
    "print max_value"
   ]
  },
  {
   "cell_type": "code",
   "execution_count": 16,
   "metadata": {},
   "outputs": [
    {
     "name": "stdout",
     "output_type": "stream",
     "text": [
      "65\n"
     ]
    }
   ],
   "source": [
    "#shorter version of writing it 시티인포템프는 스티링값\n",
    "#list a가 있으면 max(a)하면 저절로 찾아지는데 여기서는 dic의 형태로 들어가 있어서 for문 돌리는 듯?\n",
    "print max([int(city_info['temp']) for city_info in all_temps_regions])"
   ]
  },
  {
   "cell_type": "markdown",
   "metadata": {},
   "source": [
    "### Find all cities with 'ville' in them\n",
    "### if문 의 조건 in에서 스티링 검색이 가능 함"
   ]
  },
  {
   "cell_type": "code",
   "execution_count": 24,
   "metadata": {
    "scrolled": true
   },
   "outputs": [
    {
     "name": "stdout",
     "output_type": "stream",
     "text": [
      "City: Jacksonville, State: Florida, Temp: 45\n",
      "City: Louisville, State: Kentucky, Temp: 27\n",
      "City: Nashville, State: Tennessee, Temp: 31\n"
     ]
    }
   ],
   "source": [
    "for city_info in all_temps_regions:\n",
    "    if 'ville' in city_info['city']:\n",
    "        print 'City: {}, State: {}, Temp: {}'.format(city_info['city'], city_info['state'], city_info['temp'])"
   ]
  },
  {
   "cell_type": "code",
   "execution_count": 26,
   "metadata": {},
   "outputs": [
    {
     "name": "stdout",
     "output_type": "stream",
     "text": [
      "{'city': 'Mobile', 'temp': '44', 'region': 'Southcentral', 'state': 'Alabama', 'coastal': 'Y', 'lat': '31.2', 'lng': '88.5'}\n",
      "31.2\n"
     ]
    }
   ],
   "source": [
    "print all_temps_regions[0]\n",
    "print all_temps_regions[0]['lat']"
   ]
  },
  {
   "cell_type": "markdown",
   "metadata": {},
   "source": [
    "### Find pairs of cities such that lat1 > lat2  and temp1 > temp2"
   ]
  },
  {
   "cell_type": "code",
   "execution_count": 20,
   "metadata": {},
   "outputs": [
    {
     "ename": "NameError",
     "evalue": "name 'all_temps_regions' is not defined",
     "output_type": "error",
     "traceback": [
      "\u001b[1;31m---------------------------------------------------------------------------\u001b[0m",
      "\u001b[1;31mNameError\u001b[0m                                 Traceback (most recent call last)",
      "\u001b[1;32m<ipython-input-20-67dee8785352>\u001b[0m in \u001b[0;36m<module>\u001b[1;34m()\u001b[0m\n\u001b[1;32m----> 1\u001b[1;33m \u001b[1;32mfor\u001b[0m \u001b[0mi\u001b[0m \u001b[1;32min\u001b[0m \u001b[0mrange\u001b[0m\u001b[1;33m(\u001b[0m\u001b[0mlen\u001b[0m\u001b[1;33m(\u001b[0m\u001b[0mall_temps_regions\u001b[0m\u001b[1;33m)\u001b[0m\u001b[1;33m)\u001b[0m\u001b[1;33m:\u001b[0m\u001b[1;33m\u001b[0m\u001b[0m\n\u001b[0m\u001b[0;32m      2\u001b[0m     \u001b[1;32mfor\u001b[0m \u001b[0mj\u001b[0m \u001b[1;32min\u001b[0m \u001b[0mrange\u001b[0m\u001b[1;33m(\u001b[0m\u001b[0mi\u001b[0m\u001b[1;33m+\u001b[0m\u001b[1;36m1\u001b[0m\u001b[1;33m,\u001b[0m \u001b[0mlen\u001b[0m\u001b[1;33m(\u001b[0m\u001b[0mall_temps_regions\u001b[0m\u001b[1;33m)\u001b[0m\u001b[1;33m)\u001b[0m\u001b[1;33m:\u001b[0m\u001b[1;33m\u001b[0m\u001b[0m\n\u001b[0;32m      3\u001b[0m         \u001b[0mlat1\u001b[0m \u001b[1;33m=\u001b[0m \u001b[0mfloat\u001b[0m\u001b[1;33m(\u001b[0m\u001b[0mall_temps_regions\u001b[0m\u001b[1;33m[\u001b[0m\u001b[0mi\u001b[0m\u001b[1;33m]\u001b[0m\u001b[1;33m[\u001b[0m\u001b[1;34m'lat'\u001b[0m\u001b[1;33m]\u001b[0m\u001b[1;33m)\u001b[0m\u001b[1;33m\u001b[0m\u001b[0m\n\u001b[0;32m      4\u001b[0m         \u001b[0mlat2\u001b[0m \u001b[1;33m=\u001b[0m \u001b[0mfloat\u001b[0m\u001b[1;33m(\u001b[0m\u001b[0mall_temps_regions\u001b[0m\u001b[1;33m[\u001b[0m\u001b[0mj\u001b[0m\u001b[1;33m]\u001b[0m\u001b[1;33m[\u001b[0m\u001b[1;34m'lat'\u001b[0m\u001b[1;33m]\u001b[0m\u001b[1;33m)\u001b[0m\u001b[1;33m\u001b[0m\u001b[0m\n\u001b[0;32m      5\u001b[0m         \u001b[0mtemp1\u001b[0m \u001b[1;33m=\u001b[0m \u001b[0mfloat\u001b[0m\u001b[1;33m(\u001b[0m\u001b[0mall_temps_regions\u001b[0m\u001b[1;33m[\u001b[0m\u001b[0mi\u001b[0m\u001b[1;33m]\u001b[0m\u001b[1;33m[\u001b[0m\u001b[1;34m'temp'\u001b[0m\u001b[1;33m]\u001b[0m\u001b[1;33m)\u001b[0m\u001b[1;33m\u001b[0m\u001b[0m\n",
      "\u001b[1;31mNameError\u001b[0m: name 'all_temps_regions' is not defined"
     ]
    }
   ],
   "source": [
    "for i in range(len(all_temps_regions)):\n",
    "    for j in range(i+1, len(all_temps_regions)):\n",
    "        lat1 = float(all_temps_regions[i]['lat'])\n",
    "        lat2 = float(all_temps_regions[j]['lat'])\n",
    "        temp1 = float(all_temps_regions[i]['temp'])\n",
    "        temp2 = float(all_temps_regions[j]['temp'])\n",
    "        if (lat1 >= lat2 and temp1 > temp2) or (lat1 <= lat2 and temp1 < temp2):\n",
    "            print '({}, {}) and ({}, {})'.format(\n",
    "                all_temps_regions[i]['city'], temp1,\n",
    "                all_temps_regions[j]['city'], temp2)"
   ]
  },
  {
   "cell_type": "code",
   "execution_count": null,
   "metadata": {
    "collapsed": true
   },
   "outputs": [],
   "source": []
  }
 ],
 "metadata": {
  "kernelspec": {
   "display_name": "Python 2",
   "language": "python",
   "name": "python2"
  },
  "language_info": {
   "codemirror_mode": {
    "name": "ipython",
    "version": 2
   },
   "file_extension": ".py",
   "mimetype": "text/x-python",
   "name": "python",
   "nbconvert_exporter": "python",
   "pygments_lexer": "ipython2",
   "version": "2.7.13"
  }
 },
 "nbformat": 4,
 "nbformat_minor": 1
}
