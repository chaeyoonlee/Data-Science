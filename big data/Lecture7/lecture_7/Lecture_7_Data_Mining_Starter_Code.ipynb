{
 "cells": [
  {
   "cell_type": "markdown",
   "metadata": {},
   "source": [
    "# Data Mining with Python"
   ]
  },
  {
   "cell_type": "markdown",
   "metadata": {},
   "source": [
    "This is the notebook for you to complete in class. The solutions are in Lecture_7_Data_Mining.ipynb, which is in the same folder."
   ]
  },
  {
   "cell_type": "markdown",
   "metadata": {},
   "source": [
    "## Computing Frequent Itemsets\n",
    "\n",
    "Data set: Shop.csv with tid,item pairs"
   ]
  },
  {
   "cell_type": "code",
   "execution_count": null,
   "metadata": {
    "collapsed": true
   },
   "outputs": [],
   "source": [
    "import csv"
   ]
  },
  {
   "cell_type": "code",
   "execution_count": null,
   "metadata": {},
   "outputs": [],
   "source": [
    "transactions={} # dictionary from TID to list of items\n",
    "items={} # dictionary from item to list of TIDs\n",
    "with open('Shop.csv', 'rU') as csvfile:\n",
    "    data = csv.reader(csvfile)\n",
    "    for row in data:\n",
    "        if row[0] != 'TID':\n",
    "            if row[0] not in transactions: \n",
    "                transactions[row[0]]=[row[1]]\n",
    "            else: \n",
    "                transactions[row[0]].append(row[1])\n",
    "            if row[1] not in items: \n",
    "                items[row[1]]=[row[0]]\n",
    "            else: \n",
    "                items[row[1]].append(row[0])\n",
    "\n",
    "numtransactions = len(transactions)\n",
    "print (\"Number of transaction in data set: {}\".format(numtransactions))"
   ]
  },
  {
   "cell_type": "code",
   "execution_count": null,
   "metadata": {
    "collapsed": true
   },
   "outputs": [],
   "source": [
    "# compute all pairs of items, alphabetical\n",
    "pairs = []\n",
    "\n",
    "# YOUR CODE HERE"
   ]
  },
  {
   "cell_type": "code",
   "execution_count": null,
   "metadata": {
    "collapsed": true
   },
   "outputs": [],
   "source": [
    "# append number of transactions containing each pair\n",
    "\n",
    "# YOUR CODE HERE"
   ]
  },
  {
   "cell_type": "code",
   "execution_count": null,
   "metadata": {},
   "outputs": [],
   "source": [
    "# compute frequent itemsets of two with support-threshold = 0.3\n",
    "frequent2 = []\n",
    "\n",
    "# YOUR CODE HERE\n",
    "\n",
    "print 'FREQUENT ITEMSETS OF TWO:'  \n",
    "for f in frequent2: \n",
    "    print '  ', f[0], f[1]"
   ]
  },
  {
   "cell_type": "code",
   "execution_count": null,
   "metadata": {
    "collapsed": true
   },
   "outputs": [],
   "source": [
    "# compute all triples of items where first two are in frequent itemsets\n",
    "# of two, alphabetical\n",
    "triples = [] \n",
    "\n",
    "# YOUR CODE HERE"
   ]
  },
  {
   "cell_type": "code",
   "execution_count": null,
   "metadata": {
    "collapsed": true
   },
   "outputs": [],
   "source": [
    "# append number of transactions containing each triple\n",
    "\n",
    "# YOUR CODE HERE"
   ]
  },
  {
   "cell_type": "code",
   "execution_count": null,
   "metadata": {},
   "outputs": [],
   "source": [
    "# compute frequent itemsets of three with support-threshold = 0.3\n",
    "frequent3 = []\n",
    "\n",
    "# YOUR CODE HERE\n",
    "\n",
    "print 'FREQUENT ITEMSETS OF THREE:'\n",
    "for f in frequent3: \n",
    "    print '  ', f[0], f[1], f[2]"
   ]
  }
 ],
 "metadata": {
  "kernelspec": {
   "display_name": "Python 2",
   "language": "python",
   "name": "python2"
  },
  "language_info": {
   "codemirror_mode": {
    "name": "ipython",
    "version": 2
   },
   "file_extension": ".py",
   "mimetype": "text/x-python",
   "name": "python",
   "nbconvert_exporter": "python",
   "pygments_lexer": "ipython2",
   "version": "2.7.13"
  }
 },
 "nbformat": 4,
 "nbformat_minor": 1
}
