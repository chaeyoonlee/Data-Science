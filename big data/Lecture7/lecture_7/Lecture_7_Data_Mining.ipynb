{
 "cells": [
  {
   "cell_type": "markdown",
   "metadata": {},
   "source": [
    "# Data Mining with Python"
   ]
  },
  {
   "cell_type": "markdown",
   "metadata": {},
   "source": [
    "## Computing Frequent Itemsets\n",
    "\n",
    "Data set: Shop.csv with tid,item pairs"
   ]
  },
  {
   "cell_type": "code",
   "execution_count": 4,
   "metadata": {
    "collapsed": true
   },
   "outputs": [],
   "source": [
    "import csv"
   ]
  },
  {
   "cell_type": "code",
   "execution_count": 5,
   "metadata": {},
   "outputs": [
    {
     "name": "stdout",
     "output_type": "stream",
     "text": [
      "rows : \n",
      "['TID', 'item']\n",
      "['1', 'beer']\n",
      "['1', 'eggs']\n",
      "['1', 'milk']\n",
      "['2', 'beer']\n",
      "['2', 'diapers']\n",
      "['2', 'milk']\n",
      "['3', 'chips']\n",
      "['3', 'eggs']\n",
      "['4', 'eggs']\n",
      "['4', 'milk']\n",
      "['5', 'beer']\n",
      "['5', 'chips']\n",
      "['5', 'diapers']\n",
      "['5', 'milk']\n",
      "\n",
      "            Number of transaction in data set(total): 5\n"
     ]
    }
   ],
   "source": [
    "transactions={} # dictionary from TID to list of items 트렌젝션별      []dic {]list\n",
    "items={} # dictionary from item to list of TIDs 아이템 별\n",
    "print \"rows : \"\n",
    "with open('Shop.csv', 'rU') as csvfile:\n",
    "    data = csv.reader(csvfile)\n",
    "    for row in data:#row는 행\n",
    "        print row\n",
    "        if row[0] != 'TID':#행 항목 나타냄 TID 랑 Item 이 한 행. 그래서 이거 첫 줄 건너 뛰는 거\n",
    "            if row[0] not in transactions: #row[0]은 TID 숫자고 row[1]은 item 아이템임\n",
    "                transactions[row[0]]=[row[1]]\n",
    "            else: \n",
    "                transactions[row[0]].append(row[1])\n",
    "            if row[1] not in items: \n",
    "                items[row[1]]=[row[0]]\n",
    "            else: \n",
    "                items[row[1]].append(row[0])\n",
    "\n",
    "numtransactions = len(transactions)\n",
    "print (\"\\n            Number of transaction in data set(total): {}\".format(numtransactions)) #total 전체 수"
   ]
  },
  {
   "cell_type": "code",
   "execution_count": 6,
   "metadata": {},
   "outputs": [
    {
     "name": "stdout",
     "output_type": "stream",
     "text": [
      "transactions :  {'1': ['beer', 'eggs', 'milk'], '3': ['chips', 'eggs'], '2': ['beer', 'diapers', 'milk'], '5': ['beer', 'chips', 'diapers', 'milk'], '4': ['eggs', 'milk']}\n"
     ]
    }
   ],
   "source": [
    "print \"transactions : \", transactions"
   ]
  },
  {
   "cell_type": "code",
   "execution_count": 7,
   "metadata": {},
   "outputs": [
    {
     "name": "stdout",
     "output_type": "stream",
     "text": [
      "items :  {'diapers': ['2', '5'], 'beer': ['1', '2', '5'], 'chips': ['3', '5'], 'eggs': ['1', '3', '4'], 'milk': ['1', '2', '4', '5']}\n"
     ]
    }
   ],
   "source": [
    "print \"items : \", items"
   ]
  },
  {
   "cell_type": "code",
   "execution_count": 8,
   "metadata": {
    "collapsed": true
   },
   "outputs": [],
   "source": [
    "# compute all pairs of items, alphabetical 알파벳순 정렬도 있지만 중복 방지도 가능\n",
    "#가능한 짝을 뽑음    가능한 짝의 수 = 5*4/2\n",
    "pairs = []\n",
    "for i1 in items:\n",
    "    for i2 in items:\n",
    "        if i1<i2: \n",
    "            pairs.append([i1,i2,0])            "
   ]
  },
  {
   "cell_type": "code",
   "execution_count": 9,
   "metadata": {},
   "outputs": [
    {
     "name": "stdout",
     "output_type": "stream",
     "text": [
      "pairs :  [['diapers', 'eggs', 0], ['diapers', 'milk', 2], ['beer', 'diapers', 2], ['beer', 'chips', 1], ['beer', 'eggs', 1], ['beer', 'milk', 3], ['chips', 'diapers', 1], ['chips', 'eggs', 1], ['chips', 'milk', 1], ['eggs', 'milk', 2]]\n"
     ]
    }
   ],
   "source": [
    "# append number of transactions containing each pair\n",
    "for p in pairs:\n",
    "    for t in transactions:\n",
    "        if p[0] in transactions[t] and p[1] in transactions[t]: # p[0]과  p[1]이 모두 t에 있으면 개수 하나씩 올림\n",
    "            p[2] += 1\n",
    "print \"pairs : \",pairs"
   ]
  },
  {
   "cell_type": "markdown",
   "metadata": {},
   "source": [
    "### ->  transactions 트렌젝션별(숫자별) /  items 아이템 별/  pairs 두개 씩 짝지은 아이템별 같은 트렌젝션에 들어간 횟수"
   ]
  },
  {
   "cell_type": "code",
   "execution_count": 12,
   "metadata": {},
   "outputs": [
    {
     "name": "stdout",
     "output_type": "stream",
     "text": [
      "FREQUENT ITEMSETS OF TWO:\n",
      "   diapers milk\n",
      "   beer diapers\n",
      "   beer milk\n",
      "   eggs milk\n",
      "[['diapers', 'milk', 2], ['beer', 'diapers', 2], ['beer', 'milk', 3], ['eggs', 'milk', 2]]\n",
      "items :  {'diapers': ['2', '5'], 'beer': ['1', '2', '5'], 'chips': ['3', '5'], 'eggs': ['1', '3', '4'], 'milk': ['1', '2', '4', '5']}\n"
     ]
    }
   ],
   "source": [
    "# compute frequent itemsets of two with support-threshold = 0.3\n",
    "frequent2 = []\n",
    "for p in pairs:\n",
    "    if float(p[2])/float(numtransactions) > 0.3: #float!!!!\n",
    "        frequent2.append(p)\n",
    "\n",
    "print 'FREQUENT ITEMSETS OF TWO:'  \n",
    "for f in frequent2: \n",
    "    print '  ', f[0], f[1]\n",
    "    \n",
    "print frequent2\n",
    "print \"items : \", items"
   ]
  },
  {
   "cell_type": "code",
   "execution_count": 33,
   "metadata": {},
   "outputs": [
    {
     "name": "stdout",
     "output_type": "stream",
     "text": [
      "[['beer', 'diapers', 'eggs', 0], ['beer', 'diapers', 'milk', 0]]\n"
     ]
    }
   ],
   "source": [
    "# compute all triples of items where first two are in frequent itemsets\n",
    "# of two, alphabetical\n",
    "triples = [] \n",
    "for f in frequent2:\n",
    "    for i in items:\n",
    "        if f[0] < i and f[1] < i: #왜 =!가 아니라 크다로 했을 까?? 중복\n",
    "            triples.append([f[0],f[1],i,0])\n",
    "            \n",
    "print triples"
   ]
  },
  {
   "cell_type": "code",
   "execution_count": 38,
   "metadata": {},
   "outputs": [
    {
     "name": "stdout",
     "output_type": "stream",
     "text": [
      "[['beer', 'diapers', 'eggs', 0], ['beer', 'diapers', 'milk', 2]]\n"
     ]
    }
   ],
   "source": [
    "# append number of transactions containing each triple\n",
    "for tr in triples:\n",
    "    for t in transactions:\n",
    "        if tr[0] in transactions[t] and tr[1] in transactions[t] and tr[2] in transactions[t]: \n",
    "            tr[3] += 1\n",
    "print triples"
   ]
  },
  {
   "cell_type": "code",
   "execution_count": 17,
   "metadata": {},
   "outputs": [
    {
     "name": "stdout",
     "output_type": "stream",
     "text": [
      "FREQUENT ITEMSETS OF THREE:\n",
      "   beer diapers milk\n"
     ]
    }
   ],
   "source": [
    "# compute frequent itemsets of three with support-threshold = 0.3\n",
    "frequent3 = []\n",
    "for tr in triples:\n",
    "    if float(tr[3])/float(numtransactions) > 0.3: \n",
    "        frequent3.append(tr)\n",
    "\n",
    "print 'FREQUENT ITEMSETS OF THREE:'\n",
    "for f in frequent3: \n",
    "    print '  ', f[0], f[1], f[2]"
   ]
  },
  {
   "cell_type": "code",
   "execution_count": null,
   "metadata": {
    "collapsed": true
   },
   "outputs": [],
   "source": []
  }
 ],
 "metadata": {
  "kernelspec": {
   "display_name": "Python 2",
   "language": "python",
   "name": "python2"
  },
  "language_info": {
   "codemirror_mode": {
    "name": "ipython",
    "version": 2
   },
   "file_extension": ".py",
   "mimetype": "text/x-python",
   "name": "python",
   "nbconvert_exporter": "python",
   "pygments_lexer": "ipython2",
   "version": "2.7.13"
  }
 },
 "nbformat": 4,
 "nbformat_minor": 1
}
