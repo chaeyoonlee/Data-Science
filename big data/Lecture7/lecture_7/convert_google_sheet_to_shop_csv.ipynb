{
 "cells": [
  {
   "cell_type": "code",
   "execution_count": 1,
   "metadata": {
    "collapsed": true
   },
   "outputs": [],
   "source": [
    "import csv"
   ]
  },
  {
   "cell_type": "code",
   "execution_count": 9,
   "metadata": {
    "collapsed": false
   },
   "outputs": [
    {
     "name": "stdout",
     "output_type": "stream",
     "text": [
      "[('TID', 'item'), (0, 'Eggs'), (0, 'Sugar'), (0, 'Milk'), (1, 'Tonic'), (1, 'Diapers'), (1, 'Beer'), (1, 'Gin')]\n"
     ]
    }
   ],
   "source": [
    "transaction_by_item = [('TID', 'item')]\n",
    "\n",
    "with open('class_baskets.csv', 'rU') as f: # class_baskets.csv is the output from the Google form\n",
    "    data = csv.DictReader(f) \n",
    "    for i, row in enumerate(data):\n",
    "        for item, value in row.items():\n",
    "            if value != '' and item != 'Timestamp':\n",
    "                transaction_by_item.append((i, item))\n",
    "print transaction_by_item "
   ]
  },
  {
   "cell_type": "code",
   "execution_count": 10,
   "metadata": {
    "collapsed": true
   },
   "outputs": [],
   "source": [
    "with open('class_shop.csv', 'wb') as f:\n",
    "    writer = csv.writer(f)\n",
    "    for t in transaction_by_item:\n",
    "        writer.writerow((t[0], t[1]))"
   ]
  },
  {
   "cell_type": "code",
   "execution_count": null,
   "metadata": {
    "collapsed": true
   },
   "outputs": [],
   "source": []
  }
 ],
 "metadata": {
  "kernelspec": {
   "display_name": "Python2 tf_venv shared",
   "language": "python",
   "name": "tf_venv"
  },
  "language_info": {
   "codemirror_mode": {
    "name": "ipython",
    "version": 2
   },
   "file_extension": ".py",
   "mimetype": "text/x-python",
   "name": "python",
   "nbconvert_exporter": "python",
   "pygments_lexer": "ipython2",
   "version": "2.7.12"
  }
 },
 "nbformat": 4,
 "nbformat_minor": 1
}
