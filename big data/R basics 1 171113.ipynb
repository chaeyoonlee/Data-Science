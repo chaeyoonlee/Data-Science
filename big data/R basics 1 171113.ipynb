{
 "cells": [
  {
   "cell_type": "markdown",
   "metadata": {},
   "source": [
    "r에서는 변수를 객체라고 함\n",
    "\n",
    "대소문자 구분\n",
    "\n",
    "print 안쓰고 그대로 변수 이름 쓰면 출력\n",
    "\n"
   ]
  },
  {
   "cell_type": "code",
   "execution_count": 21,
   "metadata": {},
   "outputs": [
    {
     "ename": "ERROR",
     "evalue": "Error in parse(text = x, srcfile = src): <text>:2:6: 예상하지 못한 기호(symbol)입니다.\n1: # ---Simple Calculations---\n2: 2 + 3sin\n        ^\n",
     "output_type": "error",
     "traceback": [
      "Error in parse(text = x, srcfile = src): <text>:2:6: 예상하지 못한 기호(symbol)입니다.\n1: # ---Simple Calculations---\n2: 2 + 3sin\n        ^\nTraceback:\n"
     ]
    }
   ],
   "source": [
    "# ---Simple Calculations---\n",
    "2 + 3sin(pi)         # 1.224606e-16\n",
    "log(3)          # 1.098612 (자연로그)\n",
    "log10(100)      # 2  (상용로그)\n",
    "floor(3.14)     # 3  (버림)\n",
    "ceiling(5.87)   # 6  (올림)\n",
    "round(4.65)     # 5  (반올림)\n",
    "sqrt(9)         # 3  (제곱근)\n",
    "min(c(1,5,7))   # 1  (최소값)\n",
    "max(c(2,6,9))   # 9  (최대값)\n",
    "mean(c(3,6,9))  # 6  (평균)\n",
    "sum(c(1,2,4,7)) # 14  (합계)\n",
    "sd(c(1,2,3,4))  # 1.290994  (표준편차)\n",
    "runif(2, 1, 10) # 난수 2개를 벡터로 생성(1 초과 10 미만)\n",
    "\n",
    "x <- 2\n",
    "y <- 3\n",
    "x + y\n",
    "x * y\n",
    "x %/% y #나누기\n",
    "x %% y #나머지\n",
    "3^2 # 거듭제곱 이렇게 가능"
   ]
  },
  {
   "cell_type": "code",
   "execution_count": 22,
   "metadata": {},
   "outputs": [
    {
     "data": {
      "text/html": [
       "<ol class=list-inline>\n",
       "\t<li>1</li>\n",
       "\t<li>3</li>\n",
       "\t<li>5</li>\n",
       "\t<li>7</li>\n",
       "\t<li>9</li>\n",
       "</ol>\n"
      ],
      "text/latex": [
       "\\begin{enumerate*}\n",
       "\\item 1\n",
       "\\item 3\n",
       "\\item 5\n",
       "\\item 7\n",
       "\\item 9\n",
       "\\end{enumerate*}\n"
      ],
      "text/markdown": [
       "1. 1\n",
       "2. 3\n",
       "3. 5\n",
       "4. 7\n",
       "5. 9\n",
       "\n",
       "\n"
      ],
      "text/plain": [
       "[1] 1 3 5 7 9"
      ]
     },
     "metadata": {},
     "output_type": "display_data"
    }
   ],
   "source": [
    "# 1부터 10까지 2씩 증가하는 벡터 \n",
    "s<-seq(1, 10, by=2)\n",
    "s"
   ]
  },
  {
   "cell_type": "code",
   "execution_count": 23,
   "metadata": {},
   "outputs": [
    {
     "data": {
      "text/html": [
       "<ol class=list-inline>\n",
       "\t<li>'a'</li>\n",
       "\t<li>'gender'</li>\n",
       "\t<li>'q1'</li>\n",
       "\t<li>'q2'</li>\n",
       "\t<li>'q3'</li>\n",
       "\t<li>'q4'</li>\n",
       "\t<li>'s'</li>\n",
       "\t<li>'v'</li>\n",
       "\t<li>'workshop'</li>\n",
       "\t<li>'x'</li>\n",
       "\t<li>'y'</li>\n",
       "</ol>\n"
      ],
      "text/latex": [
       "\\begin{enumerate*}\n",
       "\\item 'a'\n",
       "\\item 'gender'\n",
       "\\item 'q1'\n",
       "\\item 'q2'\n",
       "\\item 'q3'\n",
       "\\item 'q4'\n",
       "\\item 's'\n",
       "\\item 'v'\n",
       "\\item 'workshop'\n",
       "\\item 'x'\n",
       "\\item 'y'\n",
       "\\end{enumerate*}\n"
      ],
      "text/markdown": [
       "1. 'a'\n",
       "2. 'gender'\n",
       "3. 'q1'\n",
       "4. 'q2'\n",
       "5. 'q3'\n",
       "6. 'q4'\n",
       "7. 's'\n",
       "8. 'v'\n",
       "9. 'workshop'\n",
       "10. 'x'\n",
       "11. 'y'\n",
       "\n",
       "\n"
      ],
      "text/plain": [
       " [1] \"a\"        \"gender\"   \"q1\"       \"q2\"       \"q3\"       \"q4\"      \n",
       " [7] \"s\"        \"v\"        \"workshop\" \"x\"        \"y\"       "
      ]
     },
     "metadata": {},
     "output_type": "display_data"
    },
    {
     "data": {
      "text/html": [
       "<ol class=list-inline>\n",
       "\t<li>'a'</li>\n",
       "\t<li>'gender'</li>\n",
       "\t<li>'q1'</li>\n",
       "\t<li>'q2'</li>\n",
       "\t<li>'q3'</li>\n",
       "\t<li>'q4'</li>\n",
       "\t<li>'s'</li>\n",
       "\t<li>'v'</li>\n",
       "\t<li>'workshop'</li>\n",
       "\t<li>'x'</li>\n",
       "\t<li>'y'</li>\n",
       "</ol>\n"
      ],
      "text/latex": [
       "\\begin{enumerate*}\n",
       "\\item 'a'\n",
       "\\item 'gender'\n",
       "\\item 'q1'\n",
       "\\item 'q2'\n",
       "\\item 'q3'\n",
       "\\item 'q4'\n",
       "\\item 's'\n",
       "\\item 'v'\n",
       "\\item 'workshop'\n",
       "\\item 'x'\n",
       "\\item 'y'\n",
       "\\end{enumerate*}\n"
      ],
      "text/markdown": [
       "1. 'a'\n",
       "2. 'gender'\n",
       "3. 'q1'\n",
       "4. 'q2'\n",
       "5. 'q3'\n",
       "6. 'q4'\n",
       "7. 's'\n",
       "8. 'v'\n",
       "9. 'workshop'\n",
       "10. 'x'\n",
       "11. 'y'\n",
       "\n",
       "\n"
      ],
      "text/plain": [
       " [1] \"a\"        \"gender\"   \"q1\"       \"q2\"       \"q3\"       \"q4\"      \n",
       " [7] \"s\"        \"v\"        \"workshop\" \"x\"        \"y\"       "
      ]
     },
     "metadata": {},
     "output_type": "display_data"
    }
   ],
   "source": [
    "ls()#현재까지의 모든 객체 이름 확인\n",
    "objects()#이것도\n",
    "rm(x)#객체 삭제"
   ]
  },
  {
   "cell_type": "markdown",
   "metadata": {},
   "source": [
    "## 스칼라와 벡터 \n",
    "\n",
    "## 스칼라\n",
    "### 3가지 값 할당 가능\n",
    "### x <- 2.7         # 실수\n",
    "### y <- \"string\"    # 문자열\n",
    "### z <- FALSE       # 논리값\n",
    "\n",
    "## 벡터 - 스칼라에 순서를 가지고 만든 거\n"
   ]
  },
  {
   "cell_type": "code",
   "execution_count": 24,
   "metadata": {},
   "outputs": [
    {
     "data": {
      "text/html": [
       "<ol class=list-inline>\n",
       "\t<li>1.5</li>\n",
       "\t<li>2.5</li>\n",
       "\t<li>3.5</li>\n",
       "\t<li>4.5</li>\n",
       "</ol>\n"
      ],
      "text/latex": [
       "\\begin{enumerate*}\n",
       "\\item 1.5\n",
       "\\item 2.5\n",
       "\\item 3.5\n",
       "\\item 4.5\n",
       "\\end{enumerate*}\n"
      ],
      "text/markdown": [
       "1. 1.5\n",
       "2. 2.5\n",
       "3. 3.5\n",
       "4. 4.5\n",
       "\n",
       "\n"
      ],
      "text/plain": [
       "[1] 1.5 2.5 3.5 4.5"
      ]
     },
     "metadata": {},
     "output_type": "display_data"
    },
    {
     "data": {
      "text/html": [
       "<ol class=list-inline>\n",
       "\t<li>2</li>\n",
       "\t<li>3</li>\n",
       "\t<li>4</li>\n",
       "</ol>\n"
      ],
      "text/latex": [
       "\\begin{enumerate*}\n",
       "\\item 2\n",
       "\\item 3\n",
       "\\item 4\n",
       "\\end{enumerate*}\n"
      ],
      "text/markdown": [
       "1. 2\n",
       "2. 3\n",
       "3. 4\n",
       "\n",
       "\n"
      ],
      "text/plain": [
       "[1] 2 3 4"
      ]
     },
     "metadata": {},
     "output_type": "display_data"
    },
    {
     "data": {
      "text/html": [
       "<dl class=dl-horizontal>\n",
       "\t<dt>a1</dt>\n",
       "\t\t<dd>1</dd>\n",
       "\t<dt>a2</dt>\n",
       "\t\t<dd>2</dd>\n",
       "\t<dt>a3</dt>\n",
       "\t\t<dd>3</dd>\n",
       "</dl>\n"
      ],
      "text/latex": [
       "\\begin{description*}\n",
       "\\item[a1] 1\n",
       "\\item[a2] 2\n",
       "\\item[a3] 3\n",
       "\\end{description*}\n"
      ],
      "text/markdown": [
       "a1\n",
       ":   1a2\n",
       ":   2a3\n",
       ":   3\n",
       "\n"
      ],
      "text/plain": [
       "a1 a2 a3 \n",
       " 1  2  3 "
      ]
     },
     "metadata": {},
     "output_type": "display_data"
    }
   ],
   "source": [
    "y <- 1.5:4.9     # 1.5 2.5 3.5 4.5 1단위로\n",
    "y\n",
    "v <- c(1,2,3)\n",
    "v <- v+1 #벡터에도 산술연산자 사용 가능\n",
    "v\n",
    "c(a= c(1,2,3))#이름 붙여 나오기\n"
   ]
  },
  {
   "cell_type": "code",
   "execution_count": 2,
   "metadata": {},
   "outputs": [
    {
     "data": {
      "text/plain": [
       "   Min. 1st Qu.  Median    Mean 3rd Qu.    Max. \n",
       "    1.0     1.0     1.5     1.5     2.0     2.0 "
      ]
     },
     "metadata": {},
     "output_type": "display_data"
    },
    {
     "name": "stdout",
     "output_type": "stream",
     "text": [
      "[1] 1 2 1 2 1 2 1 2\n",
      "1 2 1 2 1 2 1 2 df"
     ]
    },
    {
     "data": {
      "text/html": [
       "<ol class=list-inline>\n",
       "\t<li>1</li>\n",
       "\t<li>2</li>\n",
       "\t<li>1</li>\n",
       "\t<li>2</li>\n",
       "\t<li>1</li>\n",
       "\t<li>2</li>\n",
       "\t<li>1</li>\n",
       "\t<li>2</li>\n",
       "</ol>\n"
      ],
      "text/latex": [
       "\\begin{enumerate*}\n",
       "\\item 1\n",
       "\\item 2\n",
       "\\item 1\n",
       "\\item 2\n",
       "\\item 1\n",
       "\\item 2\n",
       "\\item 1\n",
       "\\item 2\n",
       "\\end{enumerate*}\n"
      ],
      "text/markdown": [
       "1. 1\n",
       "2. 2\n",
       "3. 1\n",
       "4. 2\n",
       "5. 1\n",
       "6. 2\n",
       "7. 1\n",
       "8. 2\n",
       "\n",
       "\n"
      ],
      "text/plain": [
       "[1] 1 2 1 2 1 2 1 2"
      ]
     },
     "metadata": {},
     "output_type": "display_data"
    }
   ],
   "source": [
    "# Vectors\n",
    "workshop <- c(1, 2, 1, 2, 1, 2, 1, 2)\n",
    "summary(workshop)\n",
    "print(workshop)\n",
    "x<- \"df\"\n",
    "cat(workshop,x)#한번에 여러개 출력 가능, 개행하지 않음 '\\n' string으로 넣으면 개행 됨\n",
    "workshop\n",
    " \n",
    "gender <- c(\"f\", \"f\", \"f\", NA, \"m\", \"m\", \"m\", \"m\")#NA는 m일 수도 있고 f일수도 있는 x 그\n",
    "q1 <- c(1, 2, 2, 3, 4, 5, 5, 4)\n",
    "q2 <- c(1, 1, 2, 1, 5, 4, 3, 5)\n",
    "q3 <- c(5, 4, 4,NA, 2, 5, 4, 5)\n",
    "q4 <- c(1, 1, 3, 3, 4, 5, 4, 5)"
   ]
  },
  {
   "cell_type": "code",
   "execution_count": 3,
   "metadata": {},
   "outputs": [
    {
     "data": {
      "text/html": [
       "4"
      ],
      "text/latex": [
       "4"
      ],
      "text/markdown": [
       "4"
      ],
      "text/plain": [
       "[1] 4"
      ]
     },
     "metadata": {},
     "output_type": "display_data"
    },
    {
     "data": {
      "text/html": [
       "<ol class=list-inline>\n",
       "\t<li>4</li>\n",
       "\t<li>5</li>\n",
       "\t<li>5</li>\n",
       "\t<li>4</li>\n",
       "</ol>\n"
      ],
      "text/latex": [
       "\\begin{enumerate*}\n",
       "\\item 4\n",
       "\\item 5\n",
       "\\item 5\n",
       "\\item 4\n",
       "\\end{enumerate*}\n"
      ],
      "text/markdown": [
       "1. 4\n",
       "2. 5\n",
       "3. 5\n",
       "4. 4\n",
       "\n",
       "\n"
      ],
      "text/plain": [
       "[1] 4 5 5 4"
      ]
     },
     "metadata": {},
     "output_type": "display_data"
    },
    {
     "name": "stdout",
     "output_type": "stream",
     "text": [
      "[1] 1 2 2 3 4 5 5 4\n"
     ]
    },
    {
     "data": {
      "text/html": [
       "<ol class=list-inline>\n",
       "\t<li>4</li>\n",
       "\t<li>5</li>\n",
       "\t<li>5</li>\n",
       "\t<li>4</li>\n",
       "</ol>\n"
      ],
      "text/latex": [
       "\\begin{enumerate*}\n",
       "\\item 4\n",
       "\\item 5\n",
       "\\item 5\n",
       "\\item 4\n",
       "\\end{enumerate*}\n"
      ],
      "text/markdown": [
       "1. 4\n",
       "2. 5\n",
       "3. 5\n",
       "4. 4\n",
       "\n",
       "\n"
      ],
      "text/plain": [
       "[1] 4 5 5 4"
      ]
     },
     "metadata": {},
     "output_type": "display_data"
    }
   ],
   "source": [
    "# Selecting Elements of Vectors\n",
    "q1[5]#index가 1부터 시작함 0이 아니라\n",
    "q1[ c(5, 6, 7, 8) ]# 한개이상은 이렇게 찾아야함.index 번호로 검색 하려면\n",
    "#[]는 index searching. 벡터에 있는 순서의 값들 출력\n",
    "print(q1)\n",
    "q1[5:8]"
   ]
  },
  {
   "cell_type": "code",
   "execution_count": 4,
   "metadata": {},
   "outputs": [
    {
     "data": {
      "text/html": [
       "<ol class=list-inline>\n",
       "\t<li>FALSE</li>\n",
       "\t<li>FALSE</li>\n",
       "\t<li>FALSE</li>\n",
       "\t<li>NA</li>\n",
       "\t<li>TRUE</li>\n",
       "\t<li>TRUE</li>\n",
       "\t<li>TRUE</li>\n",
       "\t<li>TRUE</li>\n",
       "</ol>\n"
      ],
      "text/latex": [
       "\\begin{enumerate*}\n",
       "\\item FALSE\n",
       "\\item FALSE\n",
       "\\item FALSE\n",
       "\\item NA\n",
       "\\item TRUE\n",
       "\\item TRUE\n",
       "\\item TRUE\n",
       "\\item TRUE\n",
       "\\end{enumerate*}\n"
      ],
      "text/markdown": [
       "1. FALSE\n",
       "2. FALSE\n",
       "3. FALSE\n",
       "4. NA\n",
       "5. TRUE\n",
       "6. TRUE\n",
       "7. TRUE\n",
       "8. TRUE\n",
       "\n",
       "\n"
      ],
      "text/plain": [
       "[1] FALSE FALSE FALSE    NA  TRUE  TRUE  TRUE  TRUE"
      ]
     },
     "metadata": {},
     "output_type": "display_data"
    },
    {
     "data": {
      "text/html": [
       "'logical'"
      ],
      "text/latex": [
       "'logical'"
      ],
      "text/markdown": [
       "'logical'"
      ],
      "text/plain": [
       "[1] \"logical\""
      ]
     },
     "metadata": {},
     "output_type": "display_data"
    },
    {
     "data": {
      "text/html": [
       "TRUE"
      ],
      "text/latex": [
       "TRUE"
      ],
      "text/markdown": [
       "TRUE"
      ],
      "text/plain": [
       "[1] TRUE"
      ]
     },
     "metadata": {},
     "output_type": "display_data"
    },
    {
     "data": {
      "text/html": [
       "<ol class=list-inline>\n",
       "\t<li>NA</li>\n",
       "\t<li>4</li>\n",
       "\t<li>5</li>\n",
       "\t<li>5</li>\n",
       "\t<li>4</li>\n",
       "</ol>\n"
      ],
      "text/latex": [
       "\\begin{enumerate*}\n",
       "\\item NA\n",
       "\\item 4\n",
       "\\item 5\n",
       "\\item 5\n",
       "\\item 4\n",
       "\\end{enumerate*}\n"
      ],
      "text/markdown": [
       "1. NA\n",
       "2. 4\n",
       "3. 5\n",
       "4. 5\n",
       "5. 4\n",
       "\n",
       "\n"
      ],
      "text/plain": [
       "[1] NA  4  5  5  4"
      ]
     },
     "metadata": {},
     "output_type": "display_data"
    },
    {
     "data": {
      "text/html": [
       "4.5"
      ],
      "text/latex": [
       "4.5"
      ],
      "text/markdown": [
       "4.5"
      ],
      "text/plain": [
       "[1] 4.5"
      ]
     },
     "metadata": {},
     "output_type": "display_data"
    },
    {
     "data": {
      "text/plain": [
       "[1] NA"
      ]
     },
     "metadata": {},
     "output_type": "display_data"
    }
   ],
   "source": [
    "gender == \"m\"#gender벡터에서 조건에 맞는지 안맞는지 검사. 벡터 값의 논리값 나옴\n",
    "typeof(gender == \"m\")\n",
    "is.vector(gender == \"m\")\n",
    "q1[gender == \"m\"]#true인 값들 모아서\n",
    "# NA also matches \"m\". na.rm -> remove NA when computing mean\n",
    "mean( q1[ gender == \"m\" ], na.rm = TRUE)#na가 가능성이 있으니 출려되는데 그래서 na.rm(remove)해서\n",
    "mean( q1[ gender == \"m\" ])#ㅡmean은 평균 값"
   ]
  },
  {
   "cell_type": "code",
   "execution_count": 5,
   "metadata": {},
   "outputs": [
    {
     "data": {
      "text/html": [
       "<ol class=list-inline>\n",
       "\t<li>1</li>\n",
       "\t<li>2</li>\n",
       "\t<li>1</li>\n",
       "\t<li>2</li>\n",
       "\t<li>1</li>\n",
       "\t<li>2</li>\n",
       "\t<li>1</li>\n",
       "\t<li>2</li>\n",
       "</ol>\n"
      ],
      "text/latex": [
       "\\begin{enumerate*}\n",
       "\\item 1\n",
       "\\item 2\n",
       "\\item 1\n",
       "\\item 2\n",
       "\\item 1\n",
       "\\item 2\n",
       "\\item 1\n",
       "\\item 2\n",
       "\\end{enumerate*}\n"
      ],
      "text/markdown": [
       "1. 1\n",
       "2. 2\n",
       "3. 1\n",
       "4. 2\n",
       "5. 1\n",
       "6. 2\n",
       "7. 1\n",
       "8. 2\n",
       "\n",
       "\n"
      ],
      "text/plain": [
       "[1] 1 2 1 2 1 2 1 2"
      ]
     },
     "metadata": {},
     "output_type": "display_data"
    },
    {
     "data": {
      "text/plain": [
       "workshop\n",
       "1 2 \n",
       "4 4 "
      ]
     },
     "metadata": {},
     "output_type": "display_data"
    },
    {
     "data": {
      "text/html": [
       "1.5"
      ],
      "text/latex": [
       "1.5"
      ],
      "text/markdown": [
       "1.5"
      ],
      "text/plain": [
       "[1] 1.5"
      ]
     },
     "metadata": {},
     "output_type": "display_data"
    },
    {
     "data": {
      "text/html": [
       "<ol class=list-inline>\n",
       "\t<li>'f'</li>\n",
       "\t<li>'NA'</li>\n",
       "\t<li>'m'</li>\n",
       "\t<li>'m'</li>\n",
       "</ol>\n"
      ],
      "text/latex": [
       "\\begin{enumerate*}\n",
       "\\item 'f'\n",
       "\\item 'NA'\n",
       "\\item 'm'\n",
       "\\item 'm'\n",
       "\\end{enumerate*}\n"
      ],
      "text/markdown": [
       "1. 'f'\n",
       "2. 'NA'\n",
       "3. 'm'\n",
       "4. 'm'\n",
       "\n",
       "\n"
      ],
      "text/plain": [
       "[1] \"f\" NA  \"m\" \"m\""
      ]
     },
     "metadata": {},
     "output_type": "display_data"
    }
   ],
   "source": [
    "# First, as a vector\n",
    "workshop <- c(1, 2, 1, 2, 1, 2, 1, 2)\n",
    "workshop\n",
    "# Count frequency of elements in list\n",
    "table(workshop)#표로 보여줌 원소의 개수를\n",
    "mean(workshop)\n",
    "gender[workshop == 2]#2,4,6,8에 있으니 그걸 gender에서 가지고 옴"
   ]
  },
  {
   "cell_type": "markdown",
   "metadata": {},
   "source": [
    "c는 벡터\n",
    "\n",
    "## factor는 vector를 레벨 정보로 가지고 있는 거\n",
    "\n",
    "## factor는 벡터 값들을 char으로 바꿔서 넣음\n",
    "\n",
    "# factor = vector represented using level information, levels can be used as categories \n",
    "factor는 levels 함수를 쓸 수 있게해줌\n",
    "\n",
    "카테고리형 변수"
   ]
  },
  {
   "cell_type": "code",
   "execution_count": 6,
   "metadata": {},
   "outputs": [
    {
     "name": "stdout",
     "output_type": "stream",
     "text": [
      "level :  2 3 4 5 \n",
      "table :  3 1 1 3 \n",
      "summary :  3 1 1 3 \n"
     ]
    }
   ],
   "source": [
    "# Now as a factor\n",
    "workshop <- c(4, 2, 5, 2, 5, 2, 5, 3)\n",
    "workshop <- factor(workshop)#원래 백터와 팩터 둘 다 가지고 있는 게 조음. factor변환하면 cahr이 되어버려서\n",
    "\n",
    "cat(\"level : \", levels(workshop),\"\\n\")#level이라는 가지는데, 이건 원소중에 중복되지 않은 것들만 뽑아줌 \n",
    "cat(\"table : \",table(workshop),\"\\n\")#원소의 개수 label별로\n",
    "cat(\"summary : \",summary(workshop),\"\\n\")#table과 동일한데 행과 열이 바뀌어 있음"
   ]
  },
  {
   "cell_type": "markdown",
   "metadata": {},
   "source": [
    "## as.numeric 하면\n",
    "### factor는 char이기 때문에, 크기 순서대로 임의로 1,2,3,4이렇게 부여함(숫자순, 알파벳순), 같은 label이면 같은 숫자를 줌\n",
    "### 그래서 평균은 변환된 숫자의 평균. 원래 숫자가 아니라."
   ]
  },
  {
   "cell_type": "code",
   "execution_count": 7,
   "metadata": {},
   "outputs": [
    {
     "name": "stderr",
     "output_type": "stream",
     "text": [
      "Warning message in mean.default(workshop):\n",
      "\"argument is not numeric or logical: returning NA\""
     ]
    },
    {
     "data": {
      "text/plain": [
       "[1] NA"
      ]
     },
     "metadata": {},
     "output_type": "display_data"
    },
    {
     "data": {
      "text/html": [
       "'integer'"
      ],
      "text/latex": [
       "'integer'"
      ],
      "text/markdown": [
       "'integer'"
      ],
      "text/plain": [
       "[1] \"integer\""
      ]
     },
     "metadata": {},
     "output_type": "display_data"
    },
    {
     "data": {
      "text/html": [
       "<ol class=list-inline>\n",
       "\t<li>3</li>\n",
       "\t<li>1</li>\n",
       "\t<li>4</li>\n",
       "\t<li>1</li>\n",
       "\t<li>4</li>\n",
       "\t<li>1</li>\n",
       "\t<li>4</li>\n",
       "\t<li>2</li>\n",
       "</ol>\n"
      ],
      "text/latex": [
       "\\begin{enumerate*}\n",
       "\\item 3\n",
       "\\item 1\n",
       "\\item 4\n",
       "\\item 1\n",
       "\\item 4\n",
       "\\item 1\n",
       "\\item 4\n",
       "\\item 2\n",
       "\\end{enumerate*}\n"
      ],
      "text/markdown": [
       "1. 3\n",
       "2. 1\n",
       "3. 4\n",
       "4. 1\n",
       "5. 4\n",
       "6. 1\n",
       "7. 4\n",
       "8. 2\n",
       "\n",
       "\n"
      ],
      "text/plain": [
       "[1] 3 1 4 1 4 1 4 2"
      ]
     },
     "metadata": {},
     "output_type": "display_data"
    },
    {
     "data": {
      "text/html": [
       "2.5"
      ],
      "text/latex": [
       "2.5"
      ],
      "text/markdown": [
       "2.5"
      ],
      "text/plain": [
       "[1] 2.5"
      ]
     },
     "metadata": {},
     "output_type": "display_data"
    }
   ],
   "source": [
    "mean(workshop) #에러 - facor로 되면 원소들 char 레이블로 생각함\n",
    "#generates error now since factored output is character\n",
    "typeof(workshop)#int라고 뜨지만 아님.\n",
    "as.numeric(workshop)\n",
    "mean(as.numeric(workshop))#as.numeric은 숫자로 바꿔줌\n",
    "# factor workshop can be accessed by both strings and integers due to levels\n"
   ]
  },
  {
   "cell_type": "code",
   "execution_count": 8,
   "metadata": {},
   "outputs": [
    {
     "data": {
      "text/html": [
       "<ol class=list-inline>\n",
       "\t<li>2</li>\n",
       "\t<li>3</li>\n",
       "\t<li>2</li>\n",
       "\t<li>1</li>\n",
       "</ol>\n"
      ],
      "text/latex": [
       "\\begin{enumerate*}\n",
       "\\item 2\n",
       "\\item 3\n",
       "\\item 2\n",
       "\\item 1\n",
       "\\end{enumerate*}\n"
      ],
      "text/markdown": [
       "1. 2\n",
       "2. 3\n",
       "3. 2\n",
       "4. 1\n",
       "\n",
       "\n"
      ],
      "text/plain": [
       "[1] 2 3 2 1"
      ]
     },
     "metadata": {},
     "output_type": "display_data"
    },
    {
     "data": {
      "text/html": [
       "2"
      ],
      "text/latex": [
       "2"
      ],
      "text/markdown": [
       "2"
      ],
      "text/plain": [
       "[1] 2"
      ]
     },
     "metadata": {},
     "output_type": "display_data"
    },
    {
     "data": {
      "text/html": [
       "<ol class=list-inline>\n",
       "\t<li>'f'</li>\n",
       "\t<li>'NA'</li>\n",
       "\t<li>'m'</li>\n",
       "</ol>\n"
      ],
      "text/latex": [
       "\\begin{enumerate*}\n",
       "\\item 'f'\n",
       "\\item 'NA'\n",
       "\\item 'm'\n",
       "\\end{enumerate*}\n"
      ],
      "text/markdown": [
       "1. 'f'\n",
       "2. 'NA'\n",
       "3. 'm'\n",
       "\n",
       "\n"
      ],
      "text/plain": [
       "[1] \"f\" NA  \"m\""
      ]
     },
     "metadata": {},
     "output_type": "display_data"
    },
    {
     "data": {
      "text/html": [
       "<ol class=list-inline>\n",
       "\t<li>'f'</li>\n",
       "\t<li>'NA'</li>\n",
       "\t<li>'m'</li>\n",
       "</ol>\n"
      ],
      "text/latex": [
       "\\begin{enumerate*}\n",
       "\\item 'f'\n",
       "\\item 'NA'\n",
       "\\item 'm'\n",
       "\\end{enumerate*}\n"
      ],
      "text/markdown": [
       "1. 'f'\n",
       "2. 'NA'\n",
       "3. 'm'\n",
       "\n",
       "\n"
      ],
      "text/plain": [
       "[1] \"f\" NA  \"m\""
      ]
     },
     "metadata": {},
     "output_type": "display_data"
    }
   ],
   "source": [
    "xx<-factor(c(\"k\",\"K\",\"k\",\"ff\"))\n",
    "as.numeric(xx)\n",
    "mean(as.numeric(xx))\n",
    "#검색은 둘 다 가능\n",
    "gender[workshop == 2]\n",
    "gender[workshop == \"2\"]"
   ]
  },
  {
   "cell_type": "code",
   "execution_count": 9,
   "metadata": {
    "scrolled": false
   },
   "outputs": [
    {
     "data": {
      "text/html": [
       "<ol class=list-inline>\n",
       "\t<li>'A'</li>\n",
       "\t<li>'C'</li>\n",
       "\t<li>'B'</li>\n",
       "\t<li>'A'</li>\n",
       "\t<li>'A'</li>\n",
       "\t<li>'C'</li>\n",
       "\t<li>'B'</li>\n",
       "</ol>\n"
      ],
      "text/latex": [
       "\\begin{enumerate*}\n",
       "\\item 'A'\n",
       "\\item 'C'\n",
       "\\item 'B'\n",
       "\\item 'A'\n",
       "\\item 'A'\n",
       "\\item 'C'\n",
       "\\item 'B'\n",
       "\\end{enumerate*}\n"
      ],
      "text/markdown": [
       "1. 'A'\n",
       "2. 'C'\n",
       "3. 'B'\n",
       "4. 'A'\n",
       "5. 'A'\n",
       "6. 'C'\n",
       "7. 'B'\n",
       "\n",
       "\n"
      ],
      "text/plain": [
       "[1] \"A\" \"C\" \"B\" \"A\" \"A\" \"C\" \"B\""
      ]
     },
     "metadata": {},
     "output_type": "display_data"
    },
    {
     "data": {
      "text/html": [
       "<ol class=list-inline>\n",
       "\t<li>A</li>\n",
       "\t<li>C</li>\n",
       "\t<li>NA</li>\n",
       "\t<li>A</li>\n",
       "\t<li>A</li>\n",
       "\t<li>C</li>\n",
       "\t<li>NA</li>\n",
       "</ol>\n"
      ],
      "text/latex": [
       "\\begin{enumerate*}\n",
       "\\item A\n",
       "\\item C\n",
       "\\item NA\n",
       "\\item A\n",
       "\\item A\n",
       "\\item C\n",
       "\\item NA\n",
       "\\end{enumerate*}\n"
      ],
      "text/markdown": [
       "1. A\n",
       "2. C\n",
       "3. NA\n",
       "4. A\n",
       "5. A\n",
       "6. C\n",
       "7. NA\n",
       "\n",
       "\n"
      ],
      "text/plain": [
       "[1] A    C    <NA> A    A    C    <NA>\n",
       "Levels: A C"
      ]
     },
     "metadata": {},
     "output_type": "display_data"
    },
    {
     "data": {
      "text/html": [
       "<ol class=list-inline>\n",
       "\t<li>A</li>\n",
       "\t<li>C</li>\n",
       "\t<li>NA</li>\n",
       "\t<li>A</li>\n",
       "\t<li>A</li>\n",
       "\t<li>C</li>\n",
       "\t<li>NA</li>\n",
       "</ol>\n"
      ],
      "text/latex": [
       "\\begin{enumerate*}\n",
       "\\item A\n",
       "\\item C\n",
       "\\item NA\n",
       "\\item A\n",
       "\\item A\n",
       "\\item C\n",
       "\\item NA\n",
       "\\end{enumerate*}\n"
      ],
      "text/markdown": [
       "1. A\n",
       "2. C\n",
       "3. NA\n",
       "4. A\n",
       "5. A\n",
       "6. C\n",
       "7. NA\n",
       "\n",
       "\n"
      ],
      "text/plain": [
       "[1] A    C    <NA> A    A    C    <NA>\n",
       "Levels: A C"
      ]
     },
     "metadata": {},
     "output_type": "display_data"
    },
    {
     "data": {
      "text/html": [
       "<ol class=list-inline>\n",
       "\t<li>1</li>\n",
       "\t<li>2</li>\n",
       "\t<li>NA</li>\n",
       "\t<li>1</li>\n",
       "\t<li>1</li>\n",
       "\t<li>2</li>\n",
       "\t<li>NA</li>\n",
       "</ol>\n"
      ],
      "text/latex": [
       "\\begin{enumerate*}\n",
       "\\item 1\n",
       "\\item 2\n",
       "\\item NA\n",
       "\\item 1\n",
       "\\item 1\n",
       "\\item 2\n",
       "\\item NA\n",
       "\\end{enumerate*}\n"
      ],
      "text/markdown": [
       "1. 1\n",
       "2. 2\n",
       "3. NA\n",
       "4. 1\n",
       "5. 1\n",
       "6. 2\n",
       "7. NA\n",
       "\n",
       "\n"
      ],
      "text/plain": [
       "[1]  1  2 NA  1  1  2 NA"
      ]
     },
     "metadata": {},
     "output_type": "display_data"
    }
   ],
   "source": [
    "xv <- c(\"A\", \"C\", \"B\", \"A\", \"A\", \"C\", \"B\") \n",
    "xv\n",
    "# factor = vector represented using level information, levels can be used as categories \n",
    "# vector stores all 7 strings \n",
    "#whereas factor stores only 3 strings and let vector be represented as sequence of integers\n",
    "x <- factor(xv, c(\"A\", \"C\"))\n",
    "x\n",
    "x <- factor(xv, levels = c(\"A\", \"C\"))#리스트에 넣어서 비교 둘다 같은 말\n",
    "x\n",
    "as.numeric(x)#위에서 levels란 함수에서 각 고유한 문자들을 숫자로 가지고 있음. 그래서 a는 1 b는 2\n"
   ]
  },
  {
   "cell_type": "code",
   "execution_count": 10,
   "metadata": {},
   "outputs": [
    {
     "data": {
      "text/html": [
       "<ol class=list-inline>\n",
       "\t<li>'abc'</li>\n",
       "\t<li>'12'</li>\n",
       "\t<li>'0.456'</li>\n",
       "\t<li>'TRUE'</li>\n",
       "</ol>\n"
      ],
      "text/latex": [
       "\\begin{enumerate*}\n",
       "\\item 'abc'\n",
       "\\item '12'\n",
       "\\item '0.456'\n",
       "\\item 'TRUE'\n",
       "\\end{enumerate*}\n"
      ],
      "text/markdown": [
       "1. 'abc'\n",
       "2. '12'\n",
       "3. '0.456'\n",
       "4. 'TRUE'\n",
       "\n",
       "\n"
      ],
      "text/plain": [
       "[1] \"abc\"   \"12\"    \"0.456\" \"TRUE\" "
      ]
     },
     "metadata": {},
     "output_type": "display_data"
    },
    {
     "data": {
      "text/html": [
       "TRUE"
      ],
      "text/latex": [
       "TRUE"
      ],
      "text/markdown": [
       "TRUE"
      ],
      "text/plain": [
       "[1] TRUE"
      ]
     },
     "metadata": {},
     "output_type": "display_data"
    },
    {
     "data": {
      "text/html": [
       "4"
      ],
      "text/latex": [
       "4"
      ],
      "text/markdown": [
       "4"
      ],
      "text/plain": [
       "[1] 4"
      ]
     },
     "metadata": {},
     "output_type": "display_data"
    }
   ],
   "source": [
    "# different types can be in the same vector\n",
    "v <- c(\"abc\", 12, 0.456, TRUE)\n",
    "v\n",
    "is.vector(v)\n",
    "length(v)\n"
   ]
  },
  {
   "cell_type": "markdown",
   "metadata": {},
   "source": [
    "## 리스트(list)\n",
    "걍 다 넣을 수 있음"
   ]
  },
  {
   "cell_type": "code",
   "execution_count": 11,
   "metadata": {},
   "outputs": [
    {
     "data": {
      "text/html": [
       "<dl>\n",
       "\t<dt>$data1</dt>\n",
       "\t\t<dd><ol class=list-inline>\n",
       "\t<li>1</li>\n",
       "\t<li>2</li>\n",
       "\t<li>3</li>\n",
       "\t<li>1</li>\n",
       "\t<li>2</li>\n",
       "\t<li>3</li>\n",
       "\t<li>1</li>\n",
       "\t<li>2</li>\n",
       "\t<li>3</li>\n",
       "</ol>\n",
       "</dd>\n",
       "\t<dt>$data2</dt>\n",
       "\t\t<dd><pre class=language-r><code>.Primitive(\"max\")</code></pre></dd>\n",
       "\t<dt>$data3</dt>\n",
       "\t\t<dd><table>\n",
       "<tbody>\n",
       "\t<tr><td>1</td><td>1</td></tr>\n",
       "\t<tr><td>2</td><td>2</td></tr>\n",
       "</tbody>\n",
       "</table>\n",
       "</dd>\n",
       "</dl>\n"
      ],
      "text/latex": [
       "\\begin{description}\n",
       "\\item[\\$data1] \\begin{enumerate*}\n",
       "\\item 1\n",
       "\\item 2\n",
       "\\item 3\n",
       "\\item 1\n",
       "\\item 2\n",
       "\\item 3\n",
       "\\item 1\n",
       "\\item 2\n",
       "\\item 3\n",
       "\\end{enumerate*}\n",
       "\n",
       "\\item[\\$data2] \\begin{minted}{r}\n",
       ".Primitive(\"max\")\n",
       "\\end{minted}\n",
       "\\item[\\$data3] \\begin{tabular}{ll}\n",
       "\t 1 & 1\\\\\n",
       "\t 2 & 2\\\\\n",
       "\\end{tabular}\n",
       "\n",
       "\\end{description}\n"
      ],
      "text/markdown": [
       "$data1\n",
       ":   1. 1\n",
       "2. 2\n",
       "3. 3\n",
       "4. 1\n",
       "5. 2\n",
       "6. 3\n",
       "7. 1\n",
       "8. 2\n",
       "9. 3\n",
       "\n",
       "\n",
       "\n",
       "$data2\n",
       ":   ```r\n",
       ".Primitive(\"max\")\n",
       "```\n",
       "$data3\n",
       ":   \n",
       "| 1 | 1 | \n",
       "| 2 | 2 | \n",
       "\n",
       "\n",
       "\n",
       "\n",
       "\n"
      ],
      "text/plain": [
       "$data1\n",
       "[1] 1 2 3 1 2 3 1 2 3\n",
       "\n",
       "$data2\n",
       "function (..., na.rm = FALSE)  .Primitive(\"max\")\n",
       "\n",
       "$data3\n",
       "     [,1] [,2]\n",
       "[1,]    1    1\n",
       "[2,]    2    2\n"
      ]
     },
     "metadata": {},
     "output_type": "display_data"
    }
   ],
   "source": [
    "# (3,2,1)을 3번 반복하는 벡터 작성 \n",
    "vec <- rep(c(1,2,3),3)\n",
    "mat <- matrix(1:12, ncol = 4)\n",
    "mx <- matrix(rep(c(1,2),2), ncol =2)\n",
    "MyList <- list(data1 = vec, data2 = max, data3 = mx)\n",
    "MyList"
   ]
  },
  {
   "cell_type": "markdown",
   "metadata": {},
   "source": [
    "## 데이터프레임(data frame)\n",
    "### 리스트의 한 종류로 리스트에 포함된 모든 값이 길이가 같은 벡터일 때, 혹은 행의 수, 열의 수가 같은 행렬에 한해 그 리스트를 함수 data.frame()을 이용해 데이터프레임으로 변환시킬 수 있다.\n",
    "행은 임의로 1,2,3,4 열은 넣을 때 이름 => 바꿀 수 있음"
   ]
  },
  {
   "cell_type": "code",
   "execution_count": 12,
   "metadata": {},
   "outputs": [
    {
     "name": "stdout",
     "output_type": "stream",
     "text": [
      "[1] \"mydata\"\n"
     ]
    },
    {
     "data": {
      "text/html": [
       "<table>\n",
       "<thead><tr><th scope=col>workshop</th><th scope=col>gender</th><th scope=col>q1</th><th scope=col>q2</th><th scope=col>q3</th><th scope=col>q4</th></tr></thead>\n",
       "<tbody>\n",
       "\t<tr><td>4 </td><td>f </td><td>1 </td><td>1 </td><td> 5</td><td>1 </td></tr>\n",
       "\t<tr><td>2 </td><td>f </td><td>2 </td><td>1 </td><td> 4</td><td>1 </td></tr>\n",
       "\t<tr><td>5 </td><td>f </td><td>2 </td><td>2 </td><td> 4</td><td>3 </td></tr>\n",
       "\t<tr><td>2 </td><td>NA</td><td>3 </td><td>1 </td><td>NA</td><td>3 </td></tr>\n",
       "\t<tr><td>5 </td><td>m </td><td>4 </td><td>5 </td><td> 2</td><td>4 </td></tr>\n",
       "\t<tr><td>2 </td><td>m </td><td>5 </td><td>4 </td><td> 5</td><td>5 </td></tr>\n",
       "\t<tr><td>5 </td><td>m </td><td>5 </td><td>3 </td><td> 4</td><td>4 </td></tr>\n",
       "\t<tr><td>3 </td><td>m </td><td>4 </td><td>5 </td><td> 5</td><td>5 </td></tr>\n",
       "</tbody>\n",
       "</table>\n"
      ],
      "text/latex": [
       "\\begin{tabular}{r|llllll}\n",
       " workshop & gender & q1 & q2 & q3 & q4\\\\\n",
       "\\hline\n",
       "\t 4  & f  & 1  & 1  &  5 & 1 \\\\\n",
       "\t 2  & f  & 2  & 1  &  4 & 1 \\\\\n",
       "\t 5  & f  & 2  & 2  &  4 & 3 \\\\\n",
       "\t 2  & NA & 3  & 1  & NA & 3 \\\\\n",
       "\t 5  & m  & 4  & 5  &  2 & 4 \\\\\n",
       "\t 2  & m  & 5  & 4  &  5 & 5 \\\\\n",
       "\t 5  & m  & 5  & 3  &  4 & 4 \\\\\n",
       "\t 3  & m  & 4  & 5  &  5 & 5 \\\\\n",
       "\\end{tabular}\n"
      ],
      "text/markdown": [
       "\n",
       "workshop | gender | q1 | q2 | q3 | q4 | \n",
       "|---|---|---|---|---|---|---|---|\n",
       "| 4  | f  | 1  | 1  |  5 | 1  | \n",
       "| 2  | f  | 2  | 1  |  4 | 1  | \n",
       "| 5  | f  | 2  | 2  |  4 | 3  | \n",
       "| 2  | NA | 3  | 1  | NA | 3  | \n",
       "| 5  | m  | 4  | 5  |  2 | 4  | \n",
       "| 2  | m  | 5  | 4  |  5 | 5  | \n",
       "| 5  | m  | 5  | 3  |  4 | 4  | \n",
       "| 3  | m  | 4  | 5  |  5 | 5  | \n",
       "\n",
       "\n"
      ],
      "text/plain": [
       "  workshop gender q1 q2 q3 q4\n",
       "1 4        f      1  1   5 1 \n",
       "2 2        f      2  1   4 1 \n",
       "3 5        f      2  2   4 3 \n",
       "4 2        NA     3  1  NA 3 \n",
       "5 5        m      4  5   2 4 \n",
       "6 2        m      5  4   5 5 \n",
       "7 5        m      5  3   4 4 \n",
       "8 3        m      4  5   5 5 "
      ]
     },
     "metadata": {},
     "output_type": "display_data"
    },
    {
     "name": "stdout",
     "output_type": "stream",
     "text": [
      "[1] \"names of mydata\"\n"
     ]
    },
    {
     "data": {
      "text/html": [
       "<ol class=list-inline>\n",
       "\t<li>'workshop'</li>\n",
       "\t<li>'gender'</li>\n",
       "\t<li>'q1'</li>\n",
       "\t<li>'q2'</li>\n",
       "\t<li>'q3'</li>\n",
       "\t<li>'q4'</li>\n",
       "</ol>\n"
      ],
      "text/latex": [
       "\\begin{enumerate*}\n",
       "\\item 'workshop'\n",
       "\\item 'gender'\n",
       "\\item 'q1'\n",
       "\\item 'q2'\n",
       "\\item 'q3'\n",
       "\\item 'q4'\n",
       "\\end{enumerate*}\n"
      ],
      "text/markdown": [
       "1. 'workshop'\n",
       "2. 'gender'\n",
       "3. 'q1'\n",
       "4. 'q2'\n",
       "5. 'q3'\n",
       "6. 'q4'\n",
       "\n",
       "\n"
      ],
      "text/plain": [
       "[1] \"workshop\" \"gender\"   \"q1\"       \"q2\"       \"q3\"       \"q4\"      "
      ]
     },
     "metadata": {},
     "output_type": "display_data"
    },
    {
     "name": "stdout",
     "output_type": "stream",
     "text": [
      "[1] \"row names of mydata\"\n"
     ]
    },
    {
     "data": {
      "text/html": [
       "<ol class=list-inline>\n",
       "\t<li>'1'</li>\n",
       "\t<li>'2'</li>\n",
       "\t<li>'3'</li>\n",
       "\t<li>'4'</li>\n",
       "\t<li>'5'</li>\n",
       "\t<li>'6'</li>\n",
       "\t<li>'7'</li>\n",
       "\t<li>'8'</li>\n",
       "</ol>\n"
      ],
      "text/latex": [
       "\\begin{enumerate*}\n",
       "\\item '1'\n",
       "\\item '2'\n",
       "\\item '3'\n",
       "\\item '4'\n",
       "\\item '5'\n",
       "\\item '6'\n",
       "\\item '7'\n",
       "\\item '8'\n",
       "\\end{enumerate*}\n"
      ],
      "text/markdown": [
       "1. '1'\n",
       "2. '2'\n",
       "3. '3'\n",
       "4. '4'\n",
       "5. '5'\n",
       "6. '6'\n",
       "7. '7'\n",
       "8. '8'\n",
       "\n",
       "\n"
      ],
      "text/plain": [
       "[1] \"1\" \"2\" \"3\" \"4\" \"5\" \"6\" \"7\" \"8\""
      ]
     },
     "metadata": {},
     "output_type": "display_data"
    },
    {
     "name": "stdout",
     "output_type": "stream",
     "text": [
      "[1] \"new row names of mydata\"\n"
     ]
    },
    {
     "data": {
      "text/html": [
       "<ol class=list-inline>\n",
       "\t<li>'a'</li>\n",
       "\t<li>'b'</li>\n",
       "\t<li>'c'</li>\n",
       "\t<li>'d'</li>\n",
       "\t<li>'e'</li>\n",
       "\t<li>'f'</li>\n",
       "\t<li>'g'</li>\n",
       "\t<li>'h'</li>\n",
       "</ol>\n"
      ],
      "text/latex": [
       "\\begin{enumerate*}\n",
       "\\item 'a'\n",
       "\\item 'b'\n",
       "\\item 'c'\n",
       "\\item 'd'\n",
       "\\item 'e'\n",
       "\\item 'f'\n",
       "\\item 'g'\n",
       "\\item 'h'\n",
       "\\end{enumerate*}\n"
      ],
      "text/markdown": [
       "1. 'a'\n",
       "2. 'b'\n",
       "3. 'c'\n",
       "4. 'd'\n",
       "5. 'e'\n",
       "6. 'f'\n",
       "7. 'g'\n",
       "8. 'h'\n",
       "\n",
       "\n"
      ],
      "text/plain": [
       "[1] \"a\" \"b\" \"c\" \"d\" \"e\" \"f\" \"g\" \"h\""
      ]
     },
     "metadata": {},
     "output_type": "display_data"
    },
    {
     "data": {
      "text/html": [
       "<table>\n",
       "<thead><tr><th></th><th scope=col>workshop</th><th scope=col>gender</th><th scope=col>q1</th><th scope=col>q2</th><th scope=col>q3</th><th scope=col>q4</th></tr></thead>\n",
       "<tbody>\n",
       "\t<tr><th scope=row>a</th><td>4 </td><td>f </td><td>1 </td><td>1 </td><td> 5</td><td>1 </td></tr>\n",
       "\t<tr><th scope=row>b</th><td>2 </td><td>f </td><td>2 </td><td>1 </td><td> 4</td><td>1 </td></tr>\n",
       "\t<tr><th scope=row>c</th><td>5 </td><td>f </td><td>2 </td><td>2 </td><td> 4</td><td>3 </td></tr>\n",
       "\t<tr><th scope=row>d</th><td>2 </td><td>NA</td><td>3 </td><td>1 </td><td>NA</td><td>3 </td></tr>\n",
       "\t<tr><th scope=row>e</th><td>5 </td><td>m </td><td>4 </td><td>5 </td><td> 2</td><td>4 </td></tr>\n",
       "\t<tr><th scope=row>f</th><td>2 </td><td>m </td><td>5 </td><td>4 </td><td> 5</td><td>5 </td></tr>\n",
       "\t<tr><th scope=row>g</th><td>5 </td><td>m </td><td>5 </td><td>3 </td><td> 4</td><td>4 </td></tr>\n",
       "\t<tr><th scope=row>h</th><td>3 </td><td>m </td><td>4 </td><td>5 </td><td> 5</td><td>5 </td></tr>\n",
       "</tbody>\n",
       "</table>\n"
      ],
      "text/latex": [
       "\\begin{tabular}{r|llllll}\n",
       "  & workshop & gender & q1 & q2 & q3 & q4\\\\\n",
       "\\hline\n",
       "\ta & 4  & f  & 1  & 1  &  5 & 1 \\\\\n",
       "\tb & 2  & f  & 2  & 1  &  4 & 1 \\\\\n",
       "\tc & 5  & f  & 2  & 2  &  4 & 3 \\\\\n",
       "\td & 2  & NA & 3  & 1  & NA & 3 \\\\\n",
       "\te & 5  & m  & 4  & 5  &  2 & 4 \\\\\n",
       "\tf & 2  & m  & 5  & 4  &  5 & 5 \\\\\n",
       "\tg & 5  & m  & 5  & 3  &  4 & 4 \\\\\n",
       "\th & 3  & m  & 4  & 5  &  5 & 5 \\\\\n",
       "\\end{tabular}\n"
      ],
      "text/markdown": [
       "\n",
       "| <!--/--> | workshop | gender | q1 | q2 | q3 | q4 | \n",
       "|---|---|---|---|---|---|---|---|\n",
       "| a | 4  | f  | 1  | 1  |  5 | 1  | \n",
       "| b | 2  | f  | 2  | 1  |  4 | 1  | \n",
       "| c | 5  | f  | 2  | 2  |  4 | 3  | \n",
       "| d | 2  | NA | 3  | 1  | NA | 3  | \n",
       "| e | 5  | m  | 4  | 5  |  2 | 4  | \n",
       "| f | 2  | m  | 5  | 4  |  5 | 5  | \n",
       "| g | 5  | m  | 5  | 3  |  4 | 4  | \n",
       "| h | 3  | m  | 4  | 5  |  5 | 5  | \n",
       "\n",
       "\n"
      ],
      "text/plain": [
       "  workshop gender q1 q2 q3 q4\n",
       "a 4        f      1  1   5 1 \n",
       "b 2        f      2  1   4 1 \n",
       "c 5        f      2  2   4 3 \n",
       "d 2        NA     3  1  NA 3 \n",
       "e 5        m      4  5   2 4 \n",
       "f 2        m      5  4   5 5 \n",
       "g 5        m      5  3   4 4 \n",
       "h 3        m      4  5   5 5 "
      ]
     },
     "metadata": {},
     "output_type": "display_data"
    }
   ],
   "source": [
    "# Data Frames\n",
    "mydata <- data.frame(workshop, gender, q1, q2, q3, q4)\n",
    "print(\"mydata\")\n",
    "mydata\n",
    "print(\"names of mydata\") \n",
    "names(mydata)#index 각 항목 이름\n",
    "print(\"row names of mydata\")\n",
    "row.names(mydata)#rownames(mydata)해도 됨\n",
    "row.names(mydata) <- c(\"a\",\"b\",\"c\",\"d\",\"e\",\"f\",\"g\",\"h\")#row 이름을 정함\n",
    "print(\"new row names of mydata\")\n",
    "row.names(mydata)\n",
    "mydata"
   ]
  },
  {
   "cell_type": "markdown",
   "metadata": {},
   "source": [
    "### [행:열]   [세로:가로]   [row, col]\n",
    "### matrix는 cbind \n",
    "### data.frame 그냥 list넣듯 그리고 $$$씀\n",
    "### list도 $ 씀"
   ]
  },
  {
   "cell_type": "code",
   "execution_count": 36,
   "metadata": {},
   "outputs": [
    {
     "data": {
      "text/html": [
       "5"
      ],
      "text/latex": [
       "5"
      ],
      "text/markdown": [
       "5"
      ],
      "text/plain": [
       "[1] 5"
      ]
     },
     "metadata": {},
     "output_type": "display_data"
    },
    {
     "data": {
      "text/html": [
       "<ol class=list-inline>\n",
       "\t<li>1</li>\n",
       "\t<li>1</li>\n",
       "\t<li>3</li>\n",
       "\t<li>3</li>\n",
       "\t<li>4</li>\n",
       "\t<li>5</li>\n",
       "\t<li>4</li>\n",
       "\t<li>5</li>\n",
       "</ol>\n"
      ],
      "text/latex": [
       "\\begin{enumerate*}\n",
       "\\item 1\n",
       "\\item 1\n",
       "\\item 3\n",
       "\\item 3\n",
       "\\item 4\n",
       "\\item 5\n",
       "\\item 4\n",
       "\\item 5\n",
       "\\end{enumerate*}\n"
      ],
      "text/markdown": [
       "1. 1\n",
       "2. 1\n",
       "3. 3\n",
       "4. 3\n",
       "5. 4\n",
       "6. 5\n",
       "7. 4\n",
       "8. 5\n",
       "\n",
       "\n"
      ],
      "text/plain": [
       "[1] 1 1 3 3 4 5 4 5"
      ]
     },
     "metadata": {},
     "output_type": "display_data"
    },
    {
     "data": {
      "text/html": [
       "<ol class=list-inline>\n",
       "\t<li>4</li>\n",
       "\t<li>5</li>\n",
       "\t<li>4</li>\n",
       "\t<li>5</li>\n",
       "</ol>\n"
      ],
      "text/latex": [
       "\\begin{enumerate*}\n",
       "\\item 4\n",
       "\\item 5\n",
       "\\item 4\n",
       "\\item 5\n",
       "\\end{enumerate*}\n"
      ],
      "text/markdown": [
       "1. 4\n",
       "2. 5\n",
       "3. 4\n",
       "4. 5\n",
       "\n",
       "\n"
      ],
      "text/plain": [
       "[1] 4 5 4 5"
      ]
     },
     "metadata": {},
     "output_type": "display_data"
    },
    {
     "data": {
      "text/html": [
       "<ol class=list-inline>\n",
       "\t<li>4</li>\n",
       "\t<li>5</li>\n",
       "\t<li>4</li>\n",
       "\t<li>5</li>\n",
       "</ol>\n"
      ],
      "text/latex": [
       "\\begin{enumerate*}\n",
       "\\item 4\n",
       "\\item 5\n",
       "\\item 4\n",
       "\\item 5\n",
       "\\end{enumerate*}\n"
      ],
      "text/markdown": [
       "1. 4\n",
       "2. 5\n",
       "3. 4\n",
       "4. 5\n",
       "\n",
       "\n"
      ],
      "text/plain": [
       "[1] 4 5 4 5"
      ]
     },
     "metadata": {},
     "output_type": "display_data"
    }
   ],
   "source": [
    "# Selecting components by index number\n",
    "mydata[8, 6] #8th obs행, 6th var렬 row를 나타내는 abcd빼고 1234샘. 1=1 2=f\n",
    "mydata[ , 6] #All obs, 6th var\n",
    "mydata[ , 6][5:8] #6th var, obs 5:8 5~6행\n",
    "mydata[5:8, 6] #윗 줄이랑 같은 말"
   ]
  },
  {
   "cell_type": "code",
   "execution_count": 37,
   "metadata": {},
   "outputs": [
    {
     "data": {
      "text/html": [
       "<ol class=list-inline>\n",
       "\t<li>1</li>\n",
       "\t<li>2</li>\n",
       "\t<li>2</li>\n",
       "\t<li>3</li>\n",
       "\t<li>4</li>\n",
       "\t<li>5</li>\n",
       "\t<li>5</li>\n",
       "\t<li>4</li>\n",
       "</ol>\n"
      ],
      "text/latex": [
       "\\begin{enumerate*}\n",
       "\\item 1\n",
       "\\item 2\n",
       "\\item 2\n",
       "\\item 3\n",
       "\\item 4\n",
       "\\item 5\n",
       "\\item 5\n",
       "\\item 4\n",
       "\\end{enumerate*}\n"
      ],
      "text/markdown": [
       "1. 1\n",
       "2. 2\n",
       "3. 2\n",
       "4. 3\n",
       "5. 4\n",
       "6. 5\n",
       "7. 5\n",
       "8. 4\n",
       "\n",
       "\n"
      ],
      "text/plain": [
       "[1] 1 2 2 3 4 5 5 4"
      ]
     },
     "metadata": {},
     "output_type": "display_data"
    },
    {
     "data": {
      "text/html": [
       "<ol class=list-inline>\n",
       "\t<li>4</li>\n",
       "\t<li>5</li>\n",
       "\t<li>5</li>\n",
       "\t<li>4</li>\n",
       "</ol>\n"
      ],
      "text/latex": [
       "\\begin{enumerate*}\n",
       "\\item 4\n",
       "\\item 5\n",
       "\\item 5\n",
       "\\item 4\n",
       "\\end{enumerate*}\n"
      ],
      "text/markdown": [
       "1. 4\n",
       "2. 5\n",
       "3. 5\n",
       "4. 4\n",
       "\n",
       "\n"
      ],
      "text/plain": [
       "[1] 4 5 5 4"
      ]
     },
     "metadata": {},
     "output_type": "display_data"
    }
   ],
   "source": [
    "# Selecting components by name\n",
    "mydata$q1\n",
    "mydata$q1[5:8]"
   ]
  },
  {
   "cell_type": "code",
   "execution_count": 38,
   "metadata": {},
   "outputs": [
    {
     "data": {
      "text/html": [
       "<table>\n",
       "<thead><tr><th scope=col>workshop</th><th scope=col>sex</th><th scope=col>q1</th><th scope=col>q2</th><th scope=col>q3</th><th scope=col>q4</th></tr></thead>\n",
       "<tbody>\n",
       "\t<tr><td>4 </td><td>f </td><td>1 </td><td>1 </td><td> 5</td><td>1 </td></tr>\n",
       "\t<tr><td>2 </td><td>f </td><td>2 </td><td>1 </td><td> 4</td><td>1 </td></tr>\n",
       "\t<tr><td>5 </td><td>f </td><td>2 </td><td>2 </td><td> 4</td><td>3 </td></tr>\n",
       "\t<tr><td>2 </td><td>NA</td><td>3 </td><td>1 </td><td>NA</td><td>3 </td></tr>\n",
       "\t<tr><td>5 </td><td>m </td><td>4 </td><td>5 </td><td> 2</td><td>4 </td></tr>\n",
       "\t<tr><td>2 </td><td>m </td><td>5 </td><td>4 </td><td> 5</td><td>5 </td></tr>\n",
       "\t<tr><td>5 </td><td>m </td><td>5 </td><td>3 </td><td> 4</td><td>4 </td></tr>\n",
       "\t<tr><td>3 </td><td>m </td><td>4 </td><td>5 </td><td> 5</td><td>5 </td></tr>\n",
       "</tbody>\n",
       "</table>\n"
      ],
      "text/latex": [
       "\\begin{tabular}{r|llllll}\n",
       " workshop & sex & q1 & q2 & q3 & q4\\\\\n",
       "\\hline\n",
       "\t 4  & f  & 1  & 1  &  5 & 1 \\\\\n",
       "\t 2  & f  & 2  & 1  &  4 & 1 \\\\\n",
       "\t 5  & f  & 2  & 2  &  4 & 3 \\\\\n",
       "\t 2  & NA & 3  & 1  & NA & 3 \\\\\n",
       "\t 5  & m  & 4  & 5  &  2 & 4 \\\\\n",
       "\t 2  & m  & 5  & 4  &  5 & 5 \\\\\n",
       "\t 5  & m  & 5  & 3  &  4 & 4 \\\\\n",
       "\t 3  & m  & 4  & 5  &  5 & 5 \\\\\n",
       "\\end{tabular}\n"
      ],
      "text/markdown": [
       "\n",
       "workshop | sex | q1 | q2 | q3 | q4 | \n",
       "|---|---|---|---|---|---|---|---|\n",
       "| 4  | f  | 1  | 1  |  5 | 1  | \n",
       "| 2  | f  | 2  | 1  |  4 | 1  | \n",
       "| 5  | f  | 2  | 2  |  4 | 3  | \n",
       "| 2  | NA | 3  | 1  | NA | 3  | \n",
       "| 5  | m  | 4  | 5  |  2 | 4  | \n",
       "| 2  | m  | 5  | 4  |  5 | 5  | \n",
       "| 5  | m  | 5  | 3  |  4 | 4  | \n",
       "| 3  | m  | 4  | 5  |  5 | 5  | \n",
       "\n",
       "\n"
      ],
      "text/plain": [
       "  workshop sex q1 q2 q3 q4\n",
       "1 4        f   1  1   5 1 \n",
       "2 2        f   2  1   4 1 \n",
       "3 5        f   2  2   4 3 \n",
       "4 2        NA  3  1  NA 3 \n",
       "5 5        m   4  5   2 4 \n",
       "6 2        m   5  4   5 5 \n",
       "7 5        m   5  3   4 4 \n",
       "8 3        m   4  5   5 5 "
      ]
     },
     "metadata": {},
     "output_type": "display_data"
    }
   ],
   "source": [
    "# Example renaming gender to sex while\n",
    "# creating a data frame (left as a comment)\n",
    "mydata <- data.frame(workshop, sex = gender, q1, q2, q3, q4)\n",
    "mydata"
   ]
  },
  {
   "cell_type": "code",
   "execution_count": 39,
   "metadata": {},
   "outputs": [
    {
     "data": {
      "text/html": [
       "<table>\n",
       "<tbody>\n",
       "\t<tr><td>1 </td><td>4 </td><td>16</td></tr>\n",
       "\t<tr><td>2 </td><td>8 </td><td>32</td></tr>\n",
       "</tbody>\n",
       "</table>\n"
      ],
      "text/latex": [
       "\\begin{tabular}{lll}\n",
       "\t 1  & 4  & 16\\\\\n",
       "\t 2  & 8  & 32\\\\\n",
       "\\end{tabular}\n"
      ],
      "text/markdown": [
       "\n",
       "| 1  | 4  | 16 | \n",
       "| 2  | 8  | 32 | \n",
       "\n",
       "\n"
      ],
      "text/plain": [
       "     [,1] [,2] [,3]\n",
       "[1,] 1    4    16  \n",
       "[2,] 2    8    32  "
      ]
     },
     "metadata": {},
     "output_type": "display_data"
    }
   ],
   "source": [
    "#매트릭스(벡터, 행개수, 열개수)\n",
    "matrix(\n",
    "    c(1, 2, 4, 8, 16, 32),\n",
    "    nrow=2,\n",
    "    ncol=3\n",
    ")"
   ]
  },
  {
   "cell_type": "code",
   "execution_count": 40,
   "metadata": {},
   "outputs": [
    {
     "data": {
      "text/html": [
       "<table>\n",
       "<thead><tr><th scope=col>q1</th><th scope=col>q2</th><th scope=col>q3</th><th scope=col>q4</th></tr></thead>\n",
       "<tbody>\n",
       "\t<tr><td>1 </td><td>1 </td><td> 5</td><td>1 </td></tr>\n",
       "\t<tr><td>2 </td><td>1 </td><td> 4</td><td>1 </td></tr>\n",
       "\t<tr><td>2 </td><td>2 </td><td> 4</td><td>3 </td></tr>\n",
       "\t<tr><td>3 </td><td>1 </td><td>NA</td><td>3 </td></tr>\n",
       "\t<tr><td>4 </td><td>5 </td><td> 2</td><td>4 </td></tr>\n",
       "\t<tr><td>5 </td><td>4 </td><td> 5</td><td>5 </td></tr>\n",
       "\t<tr><td>5 </td><td>3 </td><td> 4</td><td>4 </td></tr>\n",
       "\t<tr><td>4 </td><td>5 </td><td> 5</td><td>5 </td></tr>\n",
       "</tbody>\n",
       "</table>\n"
      ],
      "text/latex": [
       "\\begin{tabular}{llll}\n",
       " q1 & q2 & q3 & q4\\\\\n",
       "\\hline\n",
       "\t 1  & 1  &  5 & 1 \\\\\n",
       "\t 2  & 1  &  4 & 1 \\\\\n",
       "\t 2  & 2  &  4 & 3 \\\\\n",
       "\t 3  & 1  & NA & 3 \\\\\n",
       "\t 4  & 5  &  2 & 4 \\\\\n",
       "\t 5  & 4  &  5 & 5 \\\\\n",
       "\t 5  & 3  &  4 & 4 \\\\\n",
       "\t 4  & 5  &  5 & 5 \\\\\n",
       "\\end{tabular}\n"
      ],
      "text/markdown": [
       "\n",
       "q1 | q2 | q3 | q4 | \n",
       "|---|---|---|---|---|---|---|---|\n",
       "| 1  | 1  |  5 | 1  | \n",
       "| 2  | 1  |  4 | 1  | \n",
       "| 2  | 2  |  4 | 3  | \n",
       "| 3  | 1  | NA | 3  | \n",
       "| 4  | 5  |  2 | 4  | \n",
       "| 5  | 4  |  5 | 5  | \n",
       "| 5  | 3  |  4 | 4  | \n",
       "| 4  | 5  |  5 | 5  | \n",
       "\n",
       "\n"
      ],
      "text/plain": [
       "     q1 q2 q3 q4\n",
       "[1,] 1  1   5 1 \n",
       "[2,] 2  1   4 1 \n",
       "[3,] 2  2   4 3 \n",
       "[4,] 3  1  NA 3 \n",
       "[5,] 4  5   2 4 \n",
       "[6,] 5  4   5 5 \n",
       "[7,] 5  3   4 4 \n",
       "[8,] 4  5   5 5 "
      ]
     },
     "metadata": {},
     "output_type": "display_data"
    },
    {
     "data": {
      "text/html": [
       "<ol class=list-inline>\n",
       "\t<li>8</li>\n",
       "\t<li>4</li>\n",
       "</ol>\n"
      ],
      "text/latex": [
       "\\begin{enumerate*}\n",
       "\\item 8\n",
       "\\item 4\n",
       "\\end{enumerate*}\n"
      ],
      "text/markdown": [
       "1. 8\n",
       "2. 4\n",
       "\n",
       "\n"
      ],
      "text/plain": [
       "[1] 8 4"
      ]
     },
     "metadata": {},
     "output_type": "display_data"
    }
   ],
   "source": [
    "# Matrices\n",
    " \n",
    "# Creating from vectors\n",
    "mymatrix <- cbind(q1, q2, q3, q4)#column bind\n",
    "mymatrix\n",
    "dim(mymatrix)#행과 열을 알려줌 dimension"
   ]
  },
  {
   "cell_type": "code",
   "execution_count": 41,
   "metadata": {},
   "outputs": [
    {
     "data": {
      "text/html": [
       "<table>\n",
       "<thead><tr><th></th><th scope=col>C1</th><th scope=col>C2</th><th scope=col>C3</th><th scope=col>C4</th></tr></thead>\n",
       "<tbody>\n",
       "\t<tr><th scope=row>R1</th><td>1 </td><td>1 </td><td> 5</td><td>1 </td></tr>\n",
       "\t<tr><th scope=row>R2</th><td>2 </td><td>1 </td><td> 4</td><td>1 </td></tr>\n",
       "\t<tr><th scope=row>R3</th><td>2 </td><td>2 </td><td> 4</td><td>3 </td></tr>\n",
       "\t<tr><th scope=row>R4</th><td>3 </td><td>1 </td><td>NA</td><td>3 </td></tr>\n",
       "\t<tr><th scope=row>R5</th><td>4 </td><td>5 </td><td> 2</td><td>4 </td></tr>\n",
       "\t<tr><th scope=row>R6</th><td>5 </td><td>4 </td><td> 5</td><td>5 </td></tr>\n",
       "\t<tr><th scope=row>R7</th><td>5 </td><td>3 </td><td> 4</td><td>4 </td></tr>\n",
       "\t<tr><th scope=row>R8</th><td>4 </td><td>5 </td><td> 5</td><td>4 </td></tr>\n",
       "</tbody>\n",
       "</table>\n"
      ],
      "text/latex": [
       "\\begin{tabular}{r|llll}\n",
       "  & C1 & C2 & C3 & C4\\\\\n",
       "\\hline\n",
       "\tR1 & 1  & 1  &  5 & 1 \\\\\n",
       "\tR2 & 2  & 1  &  4 & 1 \\\\\n",
       "\tR3 & 2  & 2  &  4 & 3 \\\\\n",
       "\tR4 & 3  & 1  & NA & 3 \\\\\n",
       "\tR5 & 4  & 5  &  2 & 4 \\\\\n",
       "\tR6 & 5  & 4  &  5 & 5 \\\\\n",
       "\tR7 & 5  & 3  &  4 & 4 \\\\\n",
       "\tR8 & 4  & 5  &  5 & 4 \\\\\n",
       "\\end{tabular}\n"
      ],
      "text/markdown": [
       "\n",
       "| <!--/--> | C1 | C2 | C3 | C4 | \n",
       "|---|---|---|---|---|---|---|---|\n",
       "| R1 | 1  | 1  |  5 | 1  | \n",
       "| R2 | 2  | 1  |  4 | 1  | \n",
       "| R3 | 2  | 2  |  4 | 3  | \n",
       "| R4 | 3  | 1  | NA | 3  | \n",
       "| R5 | 4  | 5  |  2 | 4  | \n",
       "| R6 | 5  | 4  |  5 | 5  | \n",
       "| R7 | 5  | 3  |  4 | 4  | \n",
       "| R8 | 4  | 5  |  5 | 4  | \n",
       "\n",
       "\n"
      ],
      "text/plain": [
       "   C1 C2 C3 C4\n",
       "R1 1  1   5 1 \n",
       "R2 2  1   4 1 \n",
       "R3 2  2   4 3 \n",
       "R4 3  1  NA 3 \n",
       "R5 4  5   2 4 \n",
       "R6 5  4   5 5 \n",
       "R7 5  3   4 4 \n",
       "R8 4  5   5 4 "
      ]
     },
     "metadata": {},
     "output_type": "display_data"
    }
   ],
   "source": [
    "# Creating from matrix function\n",
    "# left as a comment so we keep\n",
    "# version with names q1, q2...\n",
    "#matrix(벡터, nrow=행개수, ncol=열개수)\n",
    "rnames <- c(\"R1\", \"R2\",\"R3\",\"R4\",\"R5\", \"R6\",\"R7\",\"R8\")\n",
    "cnames <- c(\"C1\", \"C2\",\"C3\",\"C4\")\n",
    "mymatrix <- matrix(\n",
    "   c(1, 1, 5, 1,\n",
    "     2, 1, 4, 1,\n",
    "     2, 2, 4, 3,\n",
    "     3, 1, NA,3,\n",
    "     4, 5, 2, 4,\n",
    "     5, 4, 5, 5,\n",
    "     5, 3, 4, 4,\n",
    "     4, 5, 5, 4),\n",
    "  nrow = 8, ncol = 4,byrow = TRUE,dimnames=list(rnames, cnames))\n",
    "mymatrix\n",
    "#byrow = TRUE row 채우는 식"
   ]
  },
  {
   "cell_type": "code",
   "execution_count": 42,
   "metadata": {},
   "outputs": [
    {
     "data": {
      "text/plain": [
       "mymatrix\n",
       "1 2 3 4 5 \n",
       "6 4 4 9 8 "
      ]
     },
     "metadata": {},
     "output_type": "display_data"
    },
    {
     "data": {
      "text/html": [
       "3.29032258064516"
      ],
      "text/latex": [
       "3.29032258064516"
      ],
      "text/markdown": [
       "3.29032258064516"
      ],
      "text/plain": [
       "[1] 3.290323"
      ]
     },
     "metadata": {},
     "output_type": "display_data"
    },
    {
     "data": {
      "text/html": [
       "<table>\n",
       "<thead><tr><th></th><th scope=col>C1</th><th scope=col>C2</th><th scope=col>C3</th><th scope=col>C4</th></tr></thead>\n",
       "<tbody>\n",
       "\t<tr><th scope=row>C1</th><td> 1.0000000</td><td> 0.7395179</td><td>-0.1250000</td><td> 0.9055415</td></tr>\n",
       "\t<tr><th scope=row>C2</th><td> 0.7395179</td><td> 1.0000000</td><td>-0.2700309</td><td> 0.7968327</td></tr>\n",
       "\t<tr><th scope=row>C3</th><td>-0.1250000</td><td>-0.2700309</td><td> 1.0000000</td><td>-0.1132277</td></tr>\n",
       "\t<tr><th scope=row>C4</th><td> 0.9055415</td><td> 0.7968327</td><td>-0.1132277</td><td> 1.0000000</td></tr>\n",
       "</tbody>\n",
       "</table>\n"
      ],
      "text/latex": [
       "\\begin{tabular}{r|llll}\n",
       "  & C1 & C2 & C3 & C4\\\\\n",
       "\\hline\n",
       "\tC1 &  1.0000000 &  0.7395179 & -0.1250000 &  0.9055415\\\\\n",
       "\tC2 &  0.7395179 &  1.0000000 & -0.2700309 &  0.7968327\\\\\n",
       "\tC3 & -0.1250000 & -0.2700309 &  1.0000000 & -0.1132277\\\\\n",
       "\tC4 &  0.9055415 &  0.7968327 & -0.1132277 &  1.0000000\\\\\n",
       "\\end{tabular}\n"
      ],
      "text/markdown": [
       "\n",
       "| <!--/--> | C1 | C2 | C3 | C4 | \n",
       "|---|---|---|---|\n",
       "| C1 |  1.0000000 |  0.7395179 | -0.1250000 |  0.9055415 | \n",
       "| C2 |  0.7395179 |  1.0000000 | -0.2700309 |  0.7968327 | \n",
       "| C3 | -0.1250000 | -0.2700309 |  1.0000000 | -0.1132277 | \n",
       "| C4 |  0.9055415 |  0.7968327 | -0.1132277 |  1.0000000 | \n",
       "\n",
       "\n"
      ],
      "text/plain": [
       "   C1         C2         C3         C4        \n",
       "C1  1.0000000  0.7395179 -0.1250000  0.9055415\n",
       "C2  0.7395179  1.0000000 -0.2700309  0.7968327\n",
       "C3 -0.1250000 -0.2700309  1.0000000 -0.1132277\n",
       "C4  0.9055415  0.7968327 -0.1132277  1.0000000"
      ]
     },
     "metadata": {},
     "output_type": "display_data"
    },
    {
     "data": {
      "text/html": [
       "<table>\n",
       "<thead><tr><th></th><th scope=col>C1</th><th scope=col>C2</th><th scope=col>C3</th><th scope=col>C4</th></tr></thead>\n",
       "<tbody>\n",
       "\t<tr><th scope=row>C1</th><td> 1.0000000</td><td> 0.7800892</td><td>-0.1250000</td><td> 0.9058216</td></tr>\n",
       "\t<tr><th scope=row>C2</th><td> 0.7800892</td><td> 1.0000000</td><td>-0.2700309</td><td> 0.8560993</td></tr>\n",
       "\t<tr><th scope=row>C3</th><td>-0.1250000</td><td>-0.2700309</td><td> 1.0000000</td><td>-0.1132277</td></tr>\n",
       "\t<tr><th scope=row>C4</th><td> 0.9058216</td><td> 0.8560993</td><td>-0.1132277</td><td> 1.0000000</td></tr>\n",
       "</tbody>\n",
       "</table>\n"
      ],
      "text/latex": [
       "\\begin{tabular}{r|llll}\n",
       "  & C1 & C2 & C3 & C4\\\\\n",
       "\\hline\n",
       "\tC1 &  1.0000000 &  0.7800892 & -0.1250000 &  0.9058216\\\\\n",
       "\tC2 &  0.7800892 &  1.0000000 & -0.2700309 &  0.8560993\\\\\n",
       "\tC3 & -0.1250000 & -0.2700309 &  1.0000000 & -0.1132277\\\\\n",
       "\tC4 &  0.9058216 &  0.8560993 & -0.1132277 &  1.0000000\\\\\n",
       "\\end{tabular}\n"
      ],
      "text/markdown": [
       "\n",
       "| <!--/--> | C1 | C2 | C3 | C4 | \n",
       "|---|---|---|---|\n",
       "| C1 |  1.0000000 |  0.7800892 | -0.1250000 |  0.9058216 | \n",
       "| C2 |  0.7800892 |  1.0000000 | -0.2700309 |  0.8560993 | \n",
       "| C3 | -0.1250000 | -0.2700309 |  1.0000000 | -0.1132277 | \n",
       "| C4 |  0.9058216 |  0.8560993 | -0.1132277 |  1.0000000 | \n",
       "\n",
       "\n"
      ],
      "text/plain": [
       "   C1         C2         C3         C4        \n",
       "C1  1.0000000  0.7800892 -0.1250000  0.9058216\n",
       "C2  0.7800892  1.0000000 -0.2700309  0.8560993\n",
       "C3 -0.1250000 -0.2700309  1.0000000 -0.1132277\n",
       "C4  0.9058216  0.8560993 -0.1132277  1.0000000"
      ]
     },
     "metadata": {},
     "output_type": "display_data"
    }
   ],
   "source": [
    "table(mymatrix)\n",
    "mean(mymatrix, na.rm = TRUE)\n",
    "# Compute correlations between columns of matrix\n",
    "cor(mymatrix, use = \"pairwise\")#pairwise 쌍으로\n",
    "cor(mymatrix, use=\"complete\")#NA있으면 처리하는 방식"
   ]
  },
  {
   "cell_type": "code",
   "execution_count": 43,
   "metadata": {},
   "outputs": [
    {
     "data": {
      "text/html": [
       "4"
      ],
      "text/latex": [
       "4"
      ],
      "text/markdown": [
       "4"
      ],
      "text/plain": [
       "[1] 4"
      ]
     },
     "metadata": {},
     "output_type": "display_data"
    },
    {
     "data": {
      "text/html": [
       "<table>\n",
       "<thead><tr><th></th><th scope=col>C3</th><th scope=col>C4</th></tr></thead>\n",
       "<tbody>\n",
       "\t<tr><th scope=row>R5</th><td>2</td><td>4</td></tr>\n",
       "\t<tr><th scope=row>R6</th><td>5</td><td>5</td></tr>\n",
       "\t<tr><th scope=row>R7</th><td>4</td><td>4</td></tr>\n",
       "\t<tr><th scope=row>R8</th><td>5</td><td>4</td></tr>\n",
       "</tbody>\n",
       "</table>\n"
      ],
      "text/latex": [
       "\\begin{tabular}{r|ll}\n",
       "  & C3 & C4\\\\\n",
       "\\hline\n",
       "\tR5 & 2 & 4\\\\\n",
       "\tR6 & 5 & 5\\\\\n",
       "\tR7 & 4 & 4\\\\\n",
       "\tR8 & 5 & 4\\\\\n",
       "\\end{tabular}\n"
      ],
      "text/markdown": [
       "\n",
       "| <!--/--> | C3 | C4 | \n",
       "|---|---|---|---|\n",
       "| R5 | 2 | 4 | \n",
       "| R6 | 5 | 5 | \n",
       "| R7 | 4 | 4 | \n",
       "| R8 | 5 | 4 | \n",
       "\n",
       "\n"
      ],
      "text/plain": [
       "   C3 C4\n",
       "R5 2  4 \n",
       "R6 5  5 \n",
       "R7 4  4 \n",
       "R8 5  4 "
      ]
     },
     "metadata": {},
     "output_type": "display_data"
    },
    {
     "data": {
      "text/html": [
       "<dl class=dl-horizontal>\n",
       "\t<dt>R1</dt>\n",
       "\t\t<dd>1</dd>\n",
       "\t<dt>R2</dt>\n",
       "\t\t<dd>1</dd>\n",
       "\t<dt>R3</dt>\n",
       "\t\t<dd>3</dd>\n",
       "\t<dt>R4</dt>\n",
       "\t\t<dd>3</dd>\n",
       "</dl>\n"
      ],
      "text/latex": [
       "\\begin{description*}\n",
       "\\item[R1] 1\n",
       "\\item[R2] 1\n",
       "\\item[R3] 3\n",
       "\\item[R4] 3\n",
       "\\end{description*}\n"
      ],
      "text/markdown": [
       "R1\n",
       ":   1R2\n",
       ":   1R3\n",
       ":   3R4\n",
       ":   3\n",
       "\n"
      ],
      "text/plain": [
       "R1 R2 R3 R4 \n",
       " 1  1  3  3 "
      ]
     },
     "metadata": {},
     "output_type": "display_data"
    },
    {
     "ename": "ERROR",
     "evalue": "Error in mymatrix$q4: $ operator is invalid for atomic vectors\n",
     "output_type": "error",
     "traceback": [
      "Error in mymatrix$q4: $ operator is invalid for atomic vectors\nTraceback:\n"
     ]
    }
   ],
   "source": [
    "# Selecting Subsets of Matrices\n",
    " \n",
    "mymatrix[8, 4]\n",
    "mymatrix[5:8, 3:4]#4*2가 나옴\n",
    "mymatrix[ ,4][1:4]\n",
    "mymatrix$q4  # No good! $q4 is good for dataframe\n",
    "mymatrix[ ,\"q4\"]"
   ]
  },
  {
   "cell_type": "code",
   "execution_count": 44,
   "metadata": {},
   "outputs": [
    {
     "data": {
      "text/html": [
       "<table>\n",
       "<thead><tr><th></th><th scope=col>R1</th><th scope=col>R2</th><th scope=col>R3</th><th scope=col>R4</th><th scope=col>R5</th><th scope=col>R6</th><th scope=col>R7</th><th scope=col>R8</th></tr></thead>\n",
       "<tbody>\n",
       "\t<tr><th scope=row>C1</th><td>1 </td><td>2 </td><td>2 </td><td> 3</td><td>4 </td><td>5 </td><td>5 </td><td>4 </td></tr>\n",
       "\t<tr><th scope=row>C2</th><td>1 </td><td>1 </td><td>2 </td><td> 1</td><td>5 </td><td>4 </td><td>3 </td><td>5 </td></tr>\n",
       "\t<tr><th scope=row>C3</th><td>5 </td><td>4 </td><td>4 </td><td>NA</td><td>2 </td><td>5 </td><td>4 </td><td>5 </td></tr>\n",
       "\t<tr><th scope=row>C4</th><td>1 </td><td>1 </td><td>3 </td><td> 3</td><td>4 </td><td>5 </td><td>4 </td><td>4 </td></tr>\n",
       "</tbody>\n",
       "</table>\n"
      ],
      "text/latex": [
       "\\begin{tabular}{r|llllllll}\n",
       "  & R1 & R2 & R3 & R4 & R5 & R6 & R7 & R8\\\\\n",
       "\\hline\n",
       "\tC1 & 1  & 2  & 2  &  3 & 4  & 5  & 5  & 4 \\\\\n",
       "\tC2 & 1  & 1  & 2  &  1 & 5  & 4  & 3  & 5 \\\\\n",
       "\tC3 & 5  & 4  & 4  & NA & 2  & 5  & 4  & 5 \\\\\n",
       "\tC4 & 1  & 1  & 3  &  3 & 4  & 5  & 4  & 4 \\\\\n",
       "\\end{tabular}\n"
      ],
      "text/markdown": [
       "\n",
       "| <!--/--> | R1 | R2 | R3 | R4 | R5 | R6 | R7 | R8 | \n",
       "|---|---|---|---|\n",
       "| C1 | 1  | 2  | 2  |  3 | 4  | 5  | 5  | 4  | \n",
       "| C2 | 1  | 1  | 2  |  1 | 5  | 4  | 3  | 5  | \n",
       "| C3 | 5  | 4  | 4  | NA | 2  | 5  | 4  | 5  | \n",
       "| C4 | 1  | 1  | 3  |  3 | 4  | 5  | 4  | 4  | \n",
       "\n",
       "\n"
      ],
      "text/plain": [
       "   R1 R2 R3 R4 R5 R6 R7 R8\n",
       "C1 1  2  2   3 4  5  5  4 \n",
       "C2 1  1  2   1 5  4  3  5 \n",
       "C3 5  4  4  NA 2  5  4  5 \n",
       "C4 1  1  3   3 4  5  4  4 "
      ]
     },
     "metadata": {},
     "output_type": "display_data"
    }
   ],
   "source": [
    "# Matrix Algebra\n",
    "#transpose 8*4rk 4*8이 됨\n",
    "mymatrixT <- t(mymatrix)\n",
    "mymatrixT"
   ]
  },
  {
   "cell_type": "code",
   "execution_count": 45,
   "metadata": {},
   "outputs": [
    {
     "data": {
      "text/html": [
       "<ol>\n",
       "\t<li><ol class=list-inline>\n",
       "\t<li>4</li>\n",
       "\t<li>2</li>\n",
       "\t<li>5</li>\n",
       "\t<li>2</li>\n",
       "\t<li>5</li>\n",
       "\t<li>2</li>\n",
       "\t<li>5</li>\n",
       "\t<li>3</li>\n",
       "</ol>\n",
       "</li>\n",
       "\t<li><ol class=list-inline>\n",
       "\t<li>'f'</li>\n",
       "\t<li>'f'</li>\n",
       "\t<li>'f'</li>\n",
       "\t<li>'NA'</li>\n",
       "\t<li>'m'</li>\n",
       "\t<li>'m'</li>\n",
       "\t<li>'m'</li>\n",
       "\t<li>'m'</li>\n",
       "</ol>\n",
       "</li>\n",
       "\t<li><ol class=list-inline>\n",
       "\t<li>1</li>\n",
       "\t<li>2</li>\n",
       "\t<li>2</li>\n",
       "\t<li>3</li>\n",
       "\t<li>4</li>\n",
       "\t<li>5</li>\n",
       "\t<li>5</li>\n",
       "\t<li>4</li>\n",
       "</ol>\n",
       "</li>\n",
       "\t<li><ol class=list-inline>\n",
       "\t<li>1</li>\n",
       "\t<li>1</li>\n",
       "\t<li>2</li>\n",
       "\t<li>1</li>\n",
       "\t<li>5</li>\n",
       "\t<li>4</li>\n",
       "\t<li>3</li>\n",
       "\t<li>5</li>\n",
       "</ol>\n",
       "</li>\n",
       "\t<li><ol class=list-inline>\n",
       "\t<li>5</li>\n",
       "\t<li>4</li>\n",
       "\t<li>4</li>\n",
       "\t<li>NA</li>\n",
       "\t<li>2</li>\n",
       "\t<li>5</li>\n",
       "\t<li>4</li>\n",
       "\t<li>5</li>\n",
       "</ol>\n",
       "</li>\n",
       "\t<li><ol class=list-inline>\n",
       "\t<li>1</li>\n",
       "\t<li>1</li>\n",
       "\t<li>3</li>\n",
       "\t<li>3</li>\n",
       "\t<li>4</li>\n",
       "\t<li>5</li>\n",
       "\t<li>4</li>\n",
       "\t<li>5</li>\n",
       "</ol>\n",
       "</li>\n",
       "\t<li><table>\n",
       "<thead><tr><th></th><th scope=col>C1</th><th scope=col>C2</th><th scope=col>C3</th><th scope=col>C4</th></tr></thead>\n",
       "<tbody>\n",
       "\t<tr><th scope=row>R1</th><td>1 </td><td>1 </td><td> 5</td><td>1 </td></tr>\n",
       "\t<tr><th scope=row>R2</th><td>2 </td><td>1 </td><td> 4</td><td>1 </td></tr>\n",
       "\t<tr><th scope=row>R3</th><td>2 </td><td>2 </td><td> 4</td><td>3 </td></tr>\n",
       "\t<tr><th scope=row>R4</th><td>3 </td><td>1 </td><td>NA</td><td>3 </td></tr>\n",
       "\t<tr><th scope=row>R5</th><td>4 </td><td>5 </td><td> 2</td><td>4 </td></tr>\n",
       "\t<tr><th scope=row>R6</th><td>5 </td><td>4 </td><td> 5</td><td>5 </td></tr>\n",
       "\t<tr><th scope=row>R7</th><td>5 </td><td>3 </td><td> 4</td><td>4 </td></tr>\n",
       "\t<tr><th scope=row>R8</th><td>4 </td><td>5 </td><td> 5</td><td>4 </td></tr>\n",
       "</tbody>\n",
       "</table>\n",
       "</li>\n",
       "</ol>\n"
      ],
      "text/latex": [
       "\\begin{enumerate}\n",
       "\\item \\begin{enumerate*}\n",
       "\\item 4\n",
       "\\item 2\n",
       "\\item 5\n",
       "\\item 2\n",
       "\\item 5\n",
       "\\item 2\n",
       "\\item 5\n",
       "\\item 3\n",
       "\\end{enumerate*}\n",
       "\n",
       "\\item \\begin{enumerate*}\n",
       "\\item 'f'\n",
       "\\item 'f'\n",
       "\\item 'f'\n",
       "\\item 'NA'\n",
       "\\item 'm'\n",
       "\\item 'm'\n",
       "\\item 'm'\n",
       "\\item 'm'\n",
       "\\end{enumerate*}\n",
       "\n",
       "\\item \\begin{enumerate*}\n",
       "\\item 1\n",
       "\\item 2\n",
       "\\item 2\n",
       "\\item 3\n",
       "\\item 4\n",
       "\\item 5\n",
       "\\item 5\n",
       "\\item 4\n",
       "\\end{enumerate*}\n",
       "\n",
       "\\item \\begin{enumerate*}\n",
       "\\item 1\n",
       "\\item 1\n",
       "\\item 2\n",
       "\\item 1\n",
       "\\item 5\n",
       "\\item 4\n",
       "\\item 3\n",
       "\\item 5\n",
       "\\end{enumerate*}\n",
       "\n",
       "\\item \\begin{enumerate*}\n",
       "\\item 5\n",
       "\\item 4\n",
       "\\item 4\n",
       "\\item NA\n",
       "\\item 2\n",
       "\\item 5\n",
       "\\item 4\n",
       "\\item 5\n",
       "\\end{enumerate*}\n",
       "\n",
       "\\item \\begin{enumerate*}\n",
       "\\item 1\n",
       "\\item 1\n",
       "\\item 3\n",
       "\\item 3\n",
       "\\item 4\n",
       "\\item 5\n",
       "\\item 4\n",
       "\\item 5\n",
       "\\end{enumerate*}\n",
       "\n",
       "\\item \\begin{tabular}{r|llll}\n",
       "  & C1 & C2 & C3 & C4\\\\\n",
       "\\hline\n",
       "\tR1 & 1  & 1  &  5 & 1 \\\\\n",
       "\tR2 & 2  & 1  &  4 & 1 \\\\\n",
       "\tR3 & 2  & 2  &  4 & 3 \\\\\n",
       "\tR4 & 3  & 1  & NA & 3 \\\\\n",
       "\tR5 & 4  & 5  &  2 & 4 \\\\\n",
       "\tR6 & 5  & 4  &  5 & 5 \\\\\n",
       "\tR7 & 5  & 3  &  4 & 4 \\\\\n",
       "\tR8 & 4  & 5  &  5 & 4 \\\\\n",
       "\\end{tabular}\n",
       "\n",
       "\\end{enumerate}\n"
      ],
      "text/markdown": [
       "1. 1. 4\n",
       "2. 2\n",
       "3. 5\n",
       "4. 2\n",
       "5. 5\n",
       "6. 2\n",
       "7. 5\n",
       "8. 3\n",
       "\n",
       "\n",
       "\n",
       "2. 1. 'f'\n",
       "2. 'f'\n",
       "3. 'f'\n",
       "4. 'NA'\n",
       "5. 'm'\n",
       "6. 'm'\n",
       "7. 'm'\n",
       "8. 'm'\n",
       "\n",
       "\n",
       "\n",
       "3. 1. 1\n",
       "2. 2\n",
       "3. 2\n",
       "4. 3\n",
       "5. 4\n",
       "6. 5\n",
       "7. 5\n",
       "8. 4\n",
       "\n",
       "\n",
       "\n",
       "4. 1. 1\n",
       "2. 1\n",
       "3. 2\n",
       "4. 1\n",
       "5. 5\n",
       "6. 4\n",
       "7. 3\n",
       "8. 5\n",
       "\n",
       "\n",
       "\n",
       "5. 1. 5\n",
       "2. 4\n",
       "3. 4\n",
       "4. NA\n",
       "5. 2\n",
       "6. 5\n",
       "7. 4\n",
       "8. 5\n",
       "\n",
       "\n",
       "\n",
       "6. 1. 1\n",
       "2. 1\n",
       "3. 3\n",
       "4. 3\n",
       "5. 4\n",
       "6. 5\n",
       "7. 4\n",
       "8. 5\n",
       "\n",
       "\n",
       "\n",
       "7. \n",
       "| <!--/--> | C1 | C2 | C3 | C4 | \n",
       "|---|---|---|---|---|---|---|---|\n",
       "| R1 | 1  | 1  |  5 | 1  | \n",
       "| R2 | 2  | 1  |  4 | 1  | \n",
       "| R3 | 2  | 2  |  4 | 3  | \n",
       "| R4 | 3  | 1  | NA | 3  | \n",
       "| R5 | 4  | 5  |  2 | 4  | \n",
       "| R6 | 5  | 4  |  5 | 5  | \n",
       "| R7 | 5  | 3  |  4 | 4  | \n",
       "| R8 | 4  | 5  |  5 | 4  | \n",
       "\n",
       "\n",
       "\n",
       "\n",
       "\n"
      ],
      "text/plain": [
       "[[1]]\n",
       "[1] 4 2 5 2 5 2 5 3\n",
       "Levels: 2 3 4 5\n",
       "\n",
       "[[2]]\n",
       "[1] \"f\" \"f\" \"f\" NA  \"m\" \"m\" \"m\" \"m\"\n",
       "\n",
       "[[3]]\n",
       "[1] 1 2 2 3 4 5 5 4\n",
       "\n",
       "[[4]]\n",
       "[1] 1 1 2 1 5 4 3 5\n",
       "\n",
       "[[5]]\n",
       "[1]  5  4  4 NA  2  5  4  5\n",
       "\n",
       "[[6]]\n",
       "[1] 1 1 3 3 4 5 4 5\n",
       "\n",
       "[[7]]\n",
       "   C1 C2 C3 C4\n",
       "R1  1  1  5  1\n",
       "R2  2  1  4  1\n",
       "R3  2  2  4  3\n",
       "R4  3  1 NA  3\n",
       "R5  4  5  2  4\n",
       "R6  5  4  5  5\n",
       "R7  5  3  4  4\n",
       "R8  4  5  5  4\n"
      ]
     },
     "metadata": {},
     "output_type": "display_data"
    }
   ],
   "source": [
    "# Lists\n",
    "mylist <- list(workshop, gender,\n",
    "q1, q2, q3, q4, mymatrix)\n",
    "mylist"
   ]
  },
  {
   "cell_type": "code",
   "execution_count": 46,
   "metadata": {},
   "outputs": [
    {
     "data": {
      "text/html": [
       "<dl>\n",
       "\t<dt>$workshop</dt>\n",
       "\t\t<dd><ol class=list-inline>\n",
       "\t<li>4</li>\n",
       "\t<li>2</li>\n",
       "\t<li>5</li>\n",
       "\t<li>2</li>\n",
       "\t<li>5</li>\n",
       "\t<li>2</li>\n",
       "\t<li>5</li>\n",
       "\t<li>3</li>\n",
       "</ol>\n",
       "</dd>\n",
       "\t<dt>$gender</dt>\n",
       "\t\t<dd><ol class=list-inline>\n",
       "\t<li>'f'</li>\n",
       "\t<li>'f'</li>\n",
       "\t<li>'f'</li>\n",
       "\t<li>'NA'</li>\n",
       "\t<li>'m'</li>\n",
       "\t<li>'m'</li>\n",
       "\t<li>'m'</li>\n",
       "\t<li>'m'</li>\n",
       "</ol>\n",
       "</dd>\n",
       "\t<dt>$q1</dt>\n",
       "\t\t<dd><ol class=list-inline>\n",
       "\t<li>1</li>\n",
       "\t<li>2</li>\n",
       "\t<li>2</li>\n",
       "\t<li>3</li>\n",
       "\t<li>4</li>\n",
       "\t<li>5</li>\n",
       "\t<li>5</li>\n",
       "\t<li>4</li>\n",
       "</ol>\n",
       "</dd>\n",
       "\t<dt>$q2</dt>\n",
       "\t\t<dd><ol class=list-inline>\n",
       "\t<li>1</li>\n",
       "\t<li>1</li>\n",
       "\t<li>2</li>\n",
       "\t<li>1</li>\n",
       "\t<li>5</li>\n",
       "\t<li>4</li>\n",
       "\t<li>3</li>\n",
       "\t<li>5</li>\n",
       "</ol>\n",
       "</dd>\n",
       "\t<dt>$q3</dt>\n",
       "\t\t<dd><ol class=list-inline>\n",
       "\t<li>5</li>\n",
       "\t<li>4</li>\n",
       "\t<li>4</li>\n",
       "\t<li>NA</li>\n",
       "\t<li>2</li>\n",
       "\t<li>5</li>\n",
       "\t<li>4</li>\n",
       "\t<li>5</li>\n",
       "</ol>\n",
       "</dd>\n",
       "\t<dt>$q4</dt>\n",
       "\t\t<dd><ol class=list-inline>\n",
       "\t<li>1</li>\n",
       "\t<li>1</li>\n",
       "\t<li>3</li>\n",
       "\t<li>3</li>\n",
       "\t<li>4</li>\n",
       "\t<li>5</li>\n",
       "\t<li>4</li>\n",
       "\t<li>5</li>\n",
       "</ol>\n",
       "</dd>\n",
       "\t<dt>$mymatrix</dt>\n",
       "\t\t<dd><table>\n",
       "<thead><tr><th></th><th scope=col>C1</th><th scope=col>C2</th><th scope=col>C3</th><th scope=col>C4</th></tr></thead>\n",
       "<tbody>\n",
       "\t<tr><th scope=row>R1</th><td>1 </td><td>1 </td><td> 5</td><td>1 </td></tr>\n",
       "\t<tr><th scope=row>R2</th><td>2 </td><td>1 </td><td> 4</td><td>1 </td></tr>\n",
       "\t<tr><th scope=row>R3</th><td>2 </td><td>2 </td><td> 4</td><td>3 </td></tr>\n",
       "\t<tr><th scope=row>R4</th><td>3 </td><td>1 </td><td>NA</td><td>3 </td></tr>\n",
       "\t<tr><th scope=row>R5</th><td>4 </td><td>5 </td><td> 2</td><td>4 </td></tr>\n",
       "\t<tr><th scope=row>R6</th><td>5 </td><td>4 </td><td> 5</td><td>5 </td></tr>\n",
       "\t<tr><th scope=row>R7</th><td>5 </td><td>3 </td><td> 4</td><td>4 </td></tr>\n",
       "\t<tr><th scope=row>R8</th><td>4 </td><td>5 </td><td> 5</td><td>4 </td></tr>\n",
       "</tbody>\n",
       "</table>\n",
       "</dd>\n",
       "</dl>\n"
      ],
      "text/latex": [
       "\\begin{description}\n",
       "\\item[\\$workshop] \\begin{enumerate*}\n",
       "\\item 4\n",
       "\\item 2\n",
       "\\item 5\n",
       "\\item 2\n",
       "\\item 5\n",
       "\\item 2\n",
       "\\item 5\n",
       "\\item 3\n",
       "\\end{enumerate*}\n",
       "\n",
       "\\item[\\$gender] \\begin{enumerate*}\n",
       "\\item 'f'\n",
       "\\item 'f'\n",
       "\\item 'f'\n",
       "\\item 'NA'\n",
       "\\item 'm'\n",
       "\\item 'm'\n",
       "\\item 'm'\n",
       "\\item 'm'\n",
       "\\end{enumerate*}\n",
       "\n",
       "\\item[\\$q1] \\begin{enumerate*}\n",
       "\\item 1\n",
       "\\item 2\n",
       "\\item 2\n",
       "\\item 3\n",
       "\\item 4\n",
       "\\item 5\n",
       "\\item 5\n",
       "\\item 4\n",
       "\\end{enumerate*}\n",
       "\n",
       "\\item[\\$q2] \\begin{enumerate*}\n",
       "\\item 1\n",
       "\\item 1\n",
       "\\item 2\n",
       "\\item 1\n",
       "\\item 5\n",
       "\\item 4\n",
       "\\item 3\n",
       "\\item 5\n",
       "\\end{enumerate*}\n",
       "\n",
       "\\item[\\$q3] \\begin{enumerate*}\n",
       "\\item 5\n",
       "\\item 4\n",
       "\\item 4\n",
       "\\item NA\n",
       "\\item 2\n",
       "\\item 5\n",
       "\\item 4\n",
       "\\item 5\n",
       "\\end{enumerate*}\n",
       "\n",
       "\\item[\\$q4] \\begin{enumerate*}\n",
       "\\item 1\n",
       "\\item 1\n",
       "\\item 3\n",
       "\\item 3\n",
       "\\item 4\n",
       "\\item 5\n",
       "\\item 4\n",
       "\\item 5\n",
       "\\end{enumerate*}\n",
       "\n",
       "\\item[\\$mymatrix] \\begin{tabular}{r|llll}\n",
       "  & C1 & C2 & C3 & C4\\\\\n",
       "\\hline\n",
       "\tR1 & 1  & 1  &  5 & 1 \\\\\n",
       "\tR2 & 2  & 1  &  4 & 1 \\\\\n",
       "\tR3 & 2  & 2  &  4 & 3 \\\\\n",
       "\tR4 & 3  & 1  & NA & 3 \\\\\n",
       "\tR5 & 4  & 5  &  2 & 4 \\\\\n",
       "\tR6 & 5  & 4  &  5 & 5 \\\\\n",
       "\tR7 & 5  & 3  &  4 & 4 \\\\\n",
       "\tR8 & 4  & 5  &  5 & 4 \\\\\n",
       "\\end{tabular}\n",
       "\n",
       "\\end{description}\n"
      ],
      "text/markdown": [
       "$workshop\n",
       ":   1. 4\n",
       "2. 2\n",
       "3. 5\n",
       "4. 2\n",
       "5. 5\n",
       "6. 2\n",
       "7. 5\n",
       "8. 3\n",
       "\n",
       "\n",
       "\n",
       "$gender\n",
       ":   1. 'f'\n",
       "2. 'f'\n",
       "3. 'f'\n",
       "4. 'NA'\n",
       "5. 'm'\n",
       "6. 'm'\n",
       "7. 'm'\n",
       "8. 'm'\n",
       "\n",
       "\n",
       "\n",
       "$q1\n",
       ":   1. 1\n",
       "2. 2\n",
       "3. 2\n",
       "4. 3\n",
       "5. 4\n",
       "6. 5\n",
       "7. 5\n",
       "8. 4\n",
       "\n",
       "\n",
       "\n",
       "$q2\n",
       ":   1. 1\n",
       "2. 1\n",
       "3. 2\n",
       "4. 1\n",
       "5. 5\n",
       "6. 4\n",
       "7. 3\n",
       "8. 5\n",
       "\n",
       "\n",
       "\n",
       "$q3\n",
       ":   1. 5\n",
       "2. 4\n",
       "3. 4\n",
       "4. NA\n",
       "5. 2\n",
       "6. 5\n",
       "7. 4\n",
       "8. 5\n",
       "\n",
       "\n",
       "\n",
       "$q4\n",
       ":   1. 1\n",
       "2. 1\n",
       "3. 3\n",
       "4. 3\n",
       "5. 4\n",
       "6. 5\n",
       "7. 4\n",
       "8. 5\n",
       "\n",
       "\n",
       "\n",
       "$mymatrix\n",
       ":   \n",
       "| <!--/--> | C1 | C2 | C3 | C4 | \n",
       "|---|---|---|---|---|---|---|---|\n",
       "| R1 | 1  | 1  |  5 | 1  | \n",
       "| R2 | 2  | 1  |  4 | 1  | \n",
       "| R3 | 2  | 2  |  4 | 3  | \n",
       "| R4 | 3  | 1  | NA | 3  | \n",
       "| R5 | 4  | 5  |  2 | 4  | \n",
       "| R6 | 5  | 4  |  5 | 5  | \n",
       "| R7 | 5  | 3  |  4 | 4  | \n",
       "| R8 | 4  | 5  |  5 | 4  | \n",
       "\n",
       "\n",
       "\n",
       "\n",
       "\n"
      ],
      "text/plain": [
       "$workshop\n",
       "[1] 4 2 5 2 5 2 5 3\n",
       "Levels: 2 3 4 5\n",
       "\n",
       "$gender\n",
       "[1] \"f\" \"f\" \"f\" NA  \"m\" \"m\" \"m\" \"m\"\n",
       "\n",
       "$q1\n",
       "[1] 1 2 2 3 4 5 5 4\n",
       "\n",
       "$q2\n",
       "[1] 1 1 2 1 5 4 3 5\n",
       "\n",
       "$q3\n",
       "[1]  5  4  4 NA  2  5  4  5\n",
       "\n",
       "$q4\n",
       "[1] 1 1 3 3 4 5 4 5\n",
       "\n",
       "$mymatrix\n",
       "   C1 C2 C3 C4\n",
       "R1  1  1  5  1\n",
       "R2  2  1  4  1\n",
       "R3  2  2  4  3\n",
       "R4  3  1 NA  3\n",
       "R5  4  5  2  4\n",
       "R6  5  4  5  5\n",
       "R7  5  3  4  4\n",
       "R8  4  5  5  4\n"
      ]
     },
     "metadata": {},
     "output_type": "display_data"
    }
   ],
   "source": [
    "# List, this time adding names\n",
    "mylist <- list(\n",
    "workshop = workshop,\n",
    "gender   = gender,\n",
    "q1 = q1,\n",
    "q2 = q2,\n",
    "q3 = q3,\n",
    "q4 = q4,\n",
    "mymatrix = mymatrix)\n",
    "mylist"
   ]
  },
  {
   "cell_type": "markdown",
   "metadata": {},
   "source": [
    "### list[$로된 항목이름]\n",
    "### list[[항목의 원소접근]]"
   ]
  },
  {
   "cell_type": "code",
   "execution_count": 48,
   "metadata": {},
   "outputs": [
    {
     "data": {
      "text/html": [
       "<ol class=list-inline>\n",
       "\t<li>'f'</li>\n",
       "\t<li>'f'</li>\n",
       "\t<li>'f'</li>\n",
       "\t<li>'NA'</li>\n",
       "\t<li>'m'</li>\n",
       "\t<li>'m'</li>\n",
       "\t<li>'m'</li>\n",
       "\t<li>'m'</li>\n",
       "</ol>\n"
      ],
      "text/latex": [
       "\\begin{enumerate*}\n",
       "\\item 'f'\n",
       "\\item 'f'\n",
       "\\item 'f'\n",
       "\\item 'NA'\n",
       "\\item 'm'\n",
       "\\item 'm'\n",
       "\\item 'm'\n",
       "\\item 'm'\n",
       "\\end{enumerate*}\n"
      ],
      "text/markdown": [
       "1. 'f'\n",
       "2. 'f'\n",
       "3. 'f'\n",
       "4. 'NA'\n",
       "5. 'm'\n",
       "6. 'm'\n",
       "7. 'm'\n",
       "8. 'm'\n",
       "\n",
       "\n"
      ],
      "text/plain": [
       "[1] \"f\" \"f\" \"f\" NA  \"m\" \"m\" \"m\" \"m\""
      ]
     },
     "metadata": {},
     "output_type": "display_data"
    },
    {
     "data": {
      "text/html": [
       "<ol class=list-inline>\n",
       "\t<li>'m'</li>\n",
       "\t<li>'m'</li>\n",
       "\t<li>'m'</li>\n",
       "\t<li>'m'</li>\n",
       "</ol>\n"
      ],
      "text/latex": [
       "\\begin{enumerate*}\n",
       "\\item 'm'\n",
       "\\item 'm'\n",
       "\\item 'm'\n",
       "\\item 'm'\n",
       "\\end{enumerate*}\n"
      ],
      "text/markdown": [
       "1. 'm'\n",
       "2. 'm'\n",
       "3. 'm'\n",
       "4. 'm'\n",
       "\n",
       "\n"
      ],
      "text/plain": [
       "[1] \"m\" \"m\" \"m\" \"m\""
      ]
     },
     "metadata": {},
     "output_type": "display_data"
    },
    {
     "data": {
      "text/html": [
       "<strong>$gender</strong> = <ol class=list-inline>\n",
       "\t<li>'f'</li>\n",
       "\t<li>'f'</li>\n",
       "\t<li>'f'</li>\n",
       "\t<li>'NA'</li>\n",
       "\t<li>'m'</li>\n",
       "\t<li>'m'</li>\n",
       "\t<li>'m'</li>\n",
       "\t<li>'m'</li>\n",
       "</ol>\n"
      ],
      "text/latex": [
       "\\textbf{\\$gender} = \\begin{enumerate*}\n",
       "\\item 'f'\n",
       "\\item 'f'\n",
       "\\item 'f'\n",
       "\\item 'NA'\n",
       "\\item 'm'\n",
       "\\item 'm'\n",
       "\\item 'm'\n",
       "\\item 'm'\n",
       "\\end{enumerate*}\n"
      ],
      "text/markdown": [
       "**$gender** = 1. 'f'\n",
       "2. 'f'\n",
       "3. 'f'\n",
       "4. 'NA'\n",
       "5. 'm'\n",
       "6. 'm'\n",
       "7. 'm'\n",
       "8. 'm'\n",
       "\n",
       "\n"
      ],
      "text/plain": [
       "$gender\n",
       "[1] \"f\" \"f\" \"f\" NA  \"m\" \"m\" \"m\" \"m\"\n"
      ]
     },
     "metadata": {},
     "output_type": "display_data"
    },
    {
     "data": {
      "text/plain": [
       "$<NA>\n",
       "NULL\n",
       "\n",
       "$<NA>\n",
       "NULL\n",
       "\n",
       "$<NA>\n",
       "NULL\n",
       "\n",
       "$<NA>\n",
       "NULL\n"
      ]
     },
     "metadata": {},
     "output_type": "display_data"
    },
    {
     "data": {
      "text/html": [
       "<ol class=list-inline>\n",
       "\t<li>'m'</li>\n",
       "\t<li>'m'</li>\n",
       "\t<li>'m'</li>\n",
       "\t<li>'m'</li>\n",
       "</ol>\n"
      ],
      "text/latex": [
       "\\begin{enumerate*}\n",
       "\\item 'm'\n",
       "\\item 'm'\n",
       "\\item 'm'\n",
       "\\item 'm'\n",
       "\\end{enumerate*}\n"
      ],
      "text/markdown": [
       "1. 'm'\n",
       "2. 'm'\n",
       "3. 'm'\n",
       "4. 'm'\n",
       "\n",
       "\n"
      ],
      "text/plain": [
       "[1] \"m\" \"m\" \"m\" \"m\""
      ]
     },
     "metadata": {},
     "output_type": "display_data"
    }
   ],
   "source": [
    "# Selecting components by index number.\n",
    "mylist[[2]]#gender\n",
    "mylist[[2]][5:8]\n",
    " \n",
    "mylist[2]#이름까지 같이 나옴\n",
    "mylist[2][5:8]  # Bad!#이름의 원소말이 안되니까 null 나옴 \n",
    "\n",
    "mylist$gender[5:8]"
   ]
  },
  {
   "cell_type": "code",
   "execution_count": 31,
   "metadata": {},
   "outputs": [
    {
     "data": {
      "text/html": [
       "<ol class=list-inline>\n",
       "\t<li>'workshop'</li>\n",
       "\t<li>'gender'</li>\n",
       "\t<li>'q1'</li>\n",
       "\t<li>'q2'</li>\n",
       "\t<li>'q3'</li>\n",
       "\t<li>'q4'</li>\n",
       "\t<li>'mymatrix'</li>\n",
       "</ol>\n"
      ],
      "text/latex": [
       "\\begin{enumerate*}\n",
       "\\item 'workshop'\n",
       "\\item 'gender'\n",
       "\\item 'q1'\n",
       "\\item 'q2'\n",
       "\\item 'q3'\n",
       "\\item 'q4'\n",
       "\\item 'mymatrix'\n",
       "\\end{enumerate*}\n"
      ],
      "text/markdown": [
       "1. 'workshop'\n",
       "2. 'gender'\n",
       "3. 'q1'\n",
       "4. 'q2'\n",
       "5. 'q3'\n",
       "6. 'q4'\n",
       "7. 'mymatrix'\n",
       "\n",
       "\n"
      ],
      "text/plain": [
       "[1] \"workshop\" \"gender\"   \"q1\"       \"q2\"       \"q3\"       \"q4\"       \"mymatrix\""
      ]
     },
     "metadata": {},
     "output_type": "display_data"
    },
    {
     "data": {
      "text/html": [
       "<ol class=list-inline>\n",
       "\t<li>1</li>\n",
       "\t<li>2</li>\n",
       "\t<li>2</li>\n",
       "\t<li>3</li>\n",
       "\t<li>4</li>\n",
       "\t<li>5</li>\n",
       "\t<li>5</li>\n",
       "\t<li>4</li>\n",
       "</ol>\n"
      ],
      "text/latex": [
       "\\begin{enumerate*}\n",
       "\\item 1\n",
       "\\item 2\n",
       "\\item 2\n",
       "\\item 3\n",
       "\\item 4\n",
       "\\item 5\n",
       "\\item 5\n",
       "\\item 4\n",
       "\\end{enumerate*}\n"
      ],
      "text/markdown": [
       "1. 1\n",
       "2. 2\n",
       "3. 2\n",
       "4. 3\n",
       "5. 4\n",
       "6. 5\n",
       "7. 5\n",
       "8. 4\n",
       "\n",
       "\n"
      ],
      "text/plain": [
       "[1] 1 2 2 3 4 5 5 4"
      ]
     },
     "metadata": {},
     "output_type": "display_data"
    },
    {
     "data": {
      "text/html": [
       "<table>\n",
       "<thead><tr><th></th><th scope=col>C3</th><th scope=col>C4</th></tr></thead>\n",
       "<tbody>\n",
       "\t<tr><th scope=row>R5</th><td>2</td><td>4</td></tr>\n",
       "\t<tr><th scope=row>R6</th><td>5</td><td>5</td></tr>\n",
       "\t<tr><th scope=row>R7</th><td>4</td><td>4</td></tr>\n",
       "\t<tr><th scope=row>R8</th><td>5</td><td>4</td></tr>\n",
       "</tbody>\n",
       "</table>\n"
      ],
      "text/latex": [
       "\\begin{tabular}{r|ll}\n",
       "  & C3 & C4\\\\\n",
       "\\hline\n",
       "\tR5 & 2 & 4\\\\\n",
       "\tR6 & 5 & 5\\\\\n",
       "\tR7 & 4 & 4\\\\\n",
       "\tR8 & 5 & 4\\\\\n",
       "\\end{tabular}\n"
      ],
      "text/markdown": [
       "\n",
       "| <!--/--> | C3 | C4 | \n",
       "|---|---|---|---|\n",
       "| R5 | 2 | 4 | \n",
       "| R6 | 5 | 5 | \n",
       "| R7 | 4 | 4 | \n",
       "| R8 | 5 | 4 | \n",
       "\n",
       "\n"
      ],
      "text/plain": [
       "   C3 C4\n",
       "R5 2  4 \n",
       "R6 5  5 \n",
       "R7 4  4 \n",
       "R8 5  4 "
      ]
     },
     "metadata": {},
     "output_type": "display_data"
    }
   ],
   "source": [
    "# Selecting components by name.\n",
    "names(mylist)\n",
    "mylist$q1#matrics는 그대로 들어간 게 아니라 $로 검색이 안되지만 dataframe과 list는 가능\n",
    "mylist$mymatrix[5:8, 3:4]"
   ]
  },
  {
   "cell_type": "code",
   "execution_count": 51,
   "metadata": {},
   "outputs": [
    {
     "name": "stdout",
     "output_type": "stream",
     "text": [
      "[1] 3\n",
      "[1] 1.581139\n",
      "[1] 3\n",
      "[1] 1.581139\n"
     ]
    }
   ],
   "source": [
    "# A good function that just prints.\n",
    "myvar <- c(1, 2, 3, 4, 5)\n",
    "\n",
    "mystats <- function(x) {\n",
    "print( mean(x, na.rm = TRUE) )\n",
    "print(   sd(x, na.rm = TRUE) )\n",
    "# return(0) return 값을 소괄호로 감싸야함\n",
    "}#sd는 표준편차\n",
    "\n",
    "ms <- mystats\n",
    "#함수하당가능\n",
    "ms(myvar)\n",
    "\n",
    "mystats(myvar)"
   ]
  },
  {
   "cell_type": "code",
   "execution_count": 59,
   "metadata": {},
   "outputs": [
    {
     "data": {
      "text/html": [
       "<dl class=dl-horizontal>\n",
       "\t<dt>mean</dt>\n",
       "\t\t<dd>3</dd>\n",
       "\t<dt>sd</dt>\n",
       "\t\t<dd>1.58113883008419</dd>\n",
       "</dl>\n"
      ],
      "text/latex": [
       "\\begin{description*}\n",
       "\\item[mean] 3\n",
       "\\item[sd] 1.58113883008419\n",
       "\\end{description*}\n"
      ],
      "text/markdown": [
       "mean\n",
       ":   3sd\n",
       ":   1.58113883008419\n",
       "\n"
      ],
      "text/plain": [
       "    mean       sd \n",
       "3.000000 1.581139 "
      ]
     },
     "metadata": {},
     "output_type": "display_data"
    }
   ],
   "source": [
    "# A function with vector output.\n",
    "mystats  <- function(x) {\n",
    "mymean <- mean(x, na.rm = TRUE)\n",
    "mysd   <-   sd(x, na.rm = TRUE)\n",
    "c(mean = mymean, sd = mysd )#이걸 return\n",
    "}\n",
    "mystats(myvar)\n",
    "yVector <- mystats(myvar)\n",
    "#myVector"
   ]
  },
  {
   "cell_type": "code",
   "execution_count": 41,
   "metadata": {},
   "outputs": [
    {
     "name": "stdout",
     "output_type": "stream",
     "text": [
      "[1] \"call mystats\"\n"
     ]
    },
    {
     "data": {
      "text/html": [
       "<dl>\n",
       "\t<dt>$data</dt>\n",
       "\t\t<dd><ol class=list-inline>\n",
       "\t<li>1</li>\n",
       "\t<li>2</li>\n",
       "\t<li>3</li>\n",
       "\t<li>4</li>\n",
       "\t<li>5</li>\n",
       "</ol>\n",
       "</dd>\n",
       "\t<dt>$mean</dt>\n",
       "\t\t<dd>3</dd>\n",
       "\t<dt>$sd</dt>\n",
       "\t\t<dd>1.58113883008419</dd>\n",
       "</dl>\n"
      ],
      "text/latex": [
       "\\begin{description}\n",
       "\\item[\\$data] \\begin{enumerate*}\n",
       "\\item 1\n",
       "\\item 2\n",
       "\\item 3\n",
       "\\item 4\n",
       "\\item 5\n",
       "\\end{enumerate*}\n",
       "\n",
       "\\item[\\$mean] 3\n",
       "\\item[\\$sd] 1.58113883008419\n",
       "\\end{description}\n"
      ],
      "text/markdown": [
       "$data\n",
       ":   1. 1\n",
       "2. 2\n",
       "3. 3\n",
       "4. 4\n",
       "5. 5\n",
       "\n",
       "\n",
       "\n",
       "$mean\n",
       ":   3\n",
       "$sd\n",
       ":   1.58113883008419\n",
       "\n",
       "\n"
      ],
      "text/plain": [
       "$data\n",
       "[1] 1 2 3 4 5\n",
       "\n",
       "$mean\n",
       "[1] 3\n",
       "\n",
       "$sd\n",
       "[1] 1.581139\n"
      ]
     },
     "metadata": {},
     "output_type": "display_data"
    },
    {
     "name": "stdout",
     "output_type": "stream",
     "text": [
      "[1] \"call mystats and save into myStatlist\"\n"
     ]
    },
    {
     "data": {
      "text/html": [
       "<dl>\n",
       "\t<dt>$data</dt>\n",
       "\t\t<dd><ol class=list-inline>\n",
       "\t<li>1</li>\n",
       "\t<li>2</li>\n",
       "\t<li>3</li>\n",
       "\t<li>4</li>\n",
       "\t<li>5</li>\n",
       "</ol>\n",
       "</dd>\n",
       "\t<dt>$mean</dt>\n",
       "\t\t<dd>3</dd>\n",
       "\t<dt>$sd</dt>\n",
       "\t\t<dd>1.58113883008419</dd>\n",
       "</dl>\n"
      ],
      "text/latex": [
       "\\begin{description}\n",
       "\\item[\\$data] \\begin{enumerate*}\n",
       "\\item 1\n",
       "\\item 2\n",
       "\\item 3\n",
       "\\item 4\n",
       "\\item 5\n",
       "\\end{enumerate*}\n",
       "\n",
       "\\item[\\$mean] 3\n",
       "\\item[\\$sd] 1.58113883008419\n",
       "\\end{description}\n"
      ],
      "text/markdown": [
       "$data\n",
       ":   1. 1\n",
       "2. 2\n",
       "3. 3\n",
       "4. 4\n",
       "5. 5\n",
       "\n",
       "\n",
       "\n",
       "$mean\n",
       ":   3\n",
       "$sd\n",
       ":   1.58113883008419\n",
       "\n",
       "\n"
      ],
      "text/plain": [
       "$data\n",
       "[1] 1 2 3 4 5\n",
       "\n",
       "$mean\n",
       "[1] 3\n",
       "\n",
       "$sd\n",
       "[1] 1.581139\n"
      ]
     },
     "metadata": {},
     "output_type": "display_data"
    },
    {
     "name": "stdout",
     "output_type": "stream",
     "text": [
      "[1] \"copy mystats\"\n"
     ]
    },
    {
     "data": {
      "text/html": [
       "<pre class=language-r><code>function (x) \n",
       "{\n",
       "<span style=white-space:pre-wrap>    myinput &lt;- x</span>\n",
       "<span style=white-space:pre-wrap>    mymean &lt;- mean(x, na.rm = TRUE)</span>\n",
       "<span style=white-space:pre-wrap>    mysd &lt;- sd(x, na.rm = TRUE)</span>\n",
       "<span style=white-space:pre-wrap>    list(data = myinput, mean = mymean, sd = mysd)</span>\n",
       "}</code></pre>"
      ],
      "text/latex": [
       "\\begin{minted}{r}\n",
       "function (x) \n",
       "\\{\n",
       "    myinput <- x\n",
       "    mymean <- mean(x, na.rm = TRUE)\n",
       "    mysd <- sd(x, na.rm = TRUE)\n",
       "    list(data = myinput, mean = mymean, sd = mysd)\n",
       "\\}\n",
       "\\end{minted}"
      ],
      "text/markdown": [
       "```r\n",
       "function (x) \n",
       "{\n",
       "    myinput <- x\n",
       "    mymean <- mean(x, na.rm = TRUE)\n",
       "    mysd <- sd(x, na.rm = TRUE)\n",
       "    list(data = myinput, mean = mymean, sd = mysd)\n",
       "}\n",
       "```"
      ],
      "text/plain": [
       "function(x) {\n",
       "myinput <- x\n",
       "mymean  <- mean(x, na.rm = TRUE)\n",
       "mysd    <-   sd(x, na.rm = TRUE)\n",
       "list(data = myinput, mean = mymean, sd = mysd)\n",
       "}"
      ]
     },
     "metadata": {},
     "output_type": "display_data"
    },
    {
     "name": "stdout",
     "output_type": "stream",
     "text": [
      "[1] \"save things into external R file\"\n"
     ]
    }
   ],
   "source": [
    "# A function with list output.\n",
    "mystats   <- function(x) {\n",
    "myinput <- x\n",
    "mymean  <- mean(x, na.rm = TRUE)\n",
    "mysd    <-   sd(x, na.rm = TRUE)\n",
    "list(data = myinput, mean = mymean, sd = mysd)\n",
    "}\n",
    "print(\"call mystats\")\n",
    "mystats(myvar)\n",
    "print(\"call mystats and save into myStatlist\")\n",
    "myStatlist <- mystats(myvar)\n",
    "myStatlist\n",
    "print(\"copy mystats\")\n",
    "mystats#함수 그대로 찍음\n",
    "print(\"save things into external R file\")# 파일 저장\n",
    "#save(mydata, mymatrix, mylist, mystats,file = \"myWorkspace.RData\")"
   ]
  },
  {
   "cell_type": "code",
   "execution_count": 42,
   "metadata": {},
   "outputs": [
    {
     "data": {
      "text/html": [
       "<ol class=list-inline>\n",
       "\t<li>'mydata'</li>\n",
       "\t<li>'mymatrix'</li>\n",
       "\t<li>'mylist'</li>\n",
       "\t<li>'mystats'</li>\n",
       "</ol>\n"
      ],
      "text/latex": [
       "\\begin{enumerate*}\n",
       "\\item 'mydata'\n",
       "\\item 'mymatrix'\n",
       "\\item 'mylist'\n",
       "\\item 'mystats'\n",
       "\\end{enumerate*}\n"
      ],
      "text/markdown": [
       "1. 'mydata'\n",
       "2. 'mymatrix'\n",
       "3. 'mylist'\n",
       "4. 'mystats'\n",
       "\n",
       "\n"
      ],
      "text/plain": [
       "[1] \"mydata\"   \"mymatrix\" \"mylist\"   \"mystats\" "
      ]
     },
     "metadata": {},
     "output_type": "display_data"
    },
    {
     "data": {
      "text/html": [
       "<table>\n",
       "<thead><tr><th scope=col>workshop</th><th scope=col>sex</th><th scope=col>q1</th><th scope=col>q2</th><th scope=col>q3</th><th scope=col>q4</th></tr></thead>\n",
       "<tbody>\n",
       "\t<tr><td>1 </td><td>f </td><td>1 </td><td>1 </td><td> 5</td><td>1 </td></tr>\n",
       "\t<tr><td>2 </td><td>f </td><td>2 </td><td>1 </td><td> 4</td><td>1 </td></tr>\n",
       "\t<tr><td>1 </td><td>f </td><td>2 </td><td>2 </td><td> 4</td><td>3 </td></tr>\n",
       "\t<tr><td>2 </td><td>NA</td><td>3 </td><td>1 </td><td>NA</td><td>3 </td></tr>\n",
       "\t<tr><td>1 </td><td>m </td><td>4 </td><td>5 </td><td> 2</td><td>4 </td></tr>\n",
       "\t<tr><td>2 </td><td>m </td><td>5 </td><td>4 </td><td> 5</td><td>5 </td></tr>\n",
       "\t<tr><td>1 </td><td>m </td><td>5 </td><td>3 </td><td> 4</td><td>4 </td></tr>\n",
       "\t<tr><td>2 </td><td>m </td><td>4 </td><td>5 </td><td> 5</td><td>5 </td></tr>\n",
       "</tbody>\n",
       "</table>\n"
      ],
      "text/latex": [
       "\\begin{tabular}{r|llllll}\n",
       " workshop & sex & q1 & q2 & q3 & q4\\\\\n",
       "\\hline\n",
       "\t 1  & f  & 1  & 1  &  5 & 1 \\\\\n",
       "\t 2  & f  & 2  & 1  &  4 & 1 \\\\\n",
       "\t 1  & f  & 2  & 2  &  4 & 3 \\\\\n",
       "\t 2  & NA & 3  & 1  & NA & 3 \\\\\n",
       "\t 1  & m  & 4  & 5  &  2 & 4 \\\\\n",
       "\t 2  & m  & 5  & 4  &  5 & 5 \\\\\n",
       "\t 1  & m  & 5  & 3  &  4 & 4 \\\\\n",
       "\t 2  & m  & 4  & 5  &  5 & 5 \\\\\n",
       "\\end{tabular}\n"
      ],
      "text/markdown": [
       "\n",
       "workshop | sex | q1 | q2 | q3 | q4 | \n",
       "|---|---|---|---|---|---|---|---|\n",
       "| 1  | f  | 1  | 1  |  5 | 1  | \n",
       "| 2  | f  | 2  | 1  |  4 | 1  | \n",
       "| 1  | f  | 2  | 2  |  4 | 3  | \n",
       "| 2  | NA | 3  | 1  | NA | 3  | \n",
       "| 1  | m  | 4  | 5  |  2 | 4  | \n",
       "| 2  | m  | 5  | 4  |  5 | 5  | \n",
       "| 1  | m  | 5  | 3  |  4 | 4  | \n",
       "| 2  | m  | 4  | 5  |  5 | 5  | \n",
       "\n",
       "\n"
      ],
      "text/plain": [
       "  workshop sex q1 q2 q3 q4\n",
       "1 1        f   1  1   5 1 \n",
       "2 2        f   2  1   4 1 \n",
       "3 1        f   2  2   4 3 \n",
       "4 2        NA  3  1  NA 3 \n",
       "5 1        m   4  5   2 4 \n",
       "6 2        m   5  4   5 5 \n",
       "7 1        m   5  3   4 4 \n",
       "8 2        m   4  5   5 5 "
      ]
     },
     "metadata": {},
     "output_type": "display_data"
    },
    {
     "data": {
      "text/html": [
       "<table>\n",
       "<tbody>\n",
       "\t<tr><td>1 </td><td>1 </td><td> 5</td><td>1 </td></tr>\n",
       "\t<tr><td>2 </td><td>1 </td><td> 4</td><td>1 </td></tr>\n",
       "\t<tr><td>2 </td><td>2 </td><td> 4</td><td>3 </td></tr>\n",
       "\t<tr><td>3 </td><td>1 </td><td>NA</td><td>3 </td></tr>\n",
       "\t<tr><td>4 </td><td>5 </td><td> 2</td><td>4 </td></tr>\n",
       "\t<tr><td>5 </td><td>4 </td><td> 5</td><td>5 </td></tr>\n",
       "\t<tr><td>5 </td><td>3 </td><td> 4</td><td>4 </td></tr>\n",
       "\t<tr><td>4 </td><td>5 </td><td> 5</td><td>5 </td></tr>\n",
       "</tbody>\n",
       "</table>\n"
      ],
      "text/latex": [
       "\\begin{tabular}{llll}\n",
       "\t 1  & 1  &  5 & 1 \\\\\n",
       "\t 2  & 1  &  4 & 1 \\\\\n",
       "\t 2  & 2  &  4 & 3 \\\\\n",
       "\t 3  & 1  & NA & 3 \\\\\n",
       "\t 4  & 5  &  2 & 4 \\\\\n",
       "\t 5  & 4  &  5 & 5 \\\\\n",
       "\t 5  & 3  &  4 & 4 \\\\\n",
       "\t 4  & 5  &  5 & 5 \\\\\n",
       "\\end{tabular}\n"
      ],
      "text/markdown": [
       "\n",
       "| 1  | 1  |  5 | 1  | \n",
       "| 2  | 1  |  4 | 1  | \n",
       "| 2  | 2  |  4 | 3  | \n",
       "| 3  | 1  | NA | 3  | \n",
       "| 4  | 5  |  2 | 4  | \n",
       "| 5  | 4  |  5 | 5  | \n",
       "| 5  | 3  |  4 | 4  | \n",
       "| 4  | 5  |  5 | 5  | \n",
       "\n",
       "\n"
      ],
      "text/plain": [
       "     [,1] [,2] [,3] [,4]\n",
       "[1,] 1    1     5   1   \n",
       "[2,] 2    1     4   1   \n",
       "[3,] 2    2     4   3   \n",
       "[4,] 3    1    NA   3   \n",
       "[5,] 4    5     2   4   \n",
       "[6,] 5    4     5   5   \n",
       "[7,] 5    3     4   4   \n",
       "[8,] 4    5     5   5   "
      ]
     },
     "metadata": {},
     "output_type": "display_data"
    }
   ],
   "source": [
    "myWS <- load(\"myWorkspace.RData\")\n",
    "myWS#안에 이름만 등장\n",
    "mydata\n",
    "mymatrix"
   ]
  },
  {
   "cell_type": "code",
   "execution_count": null,
   "metadata": {
    "collapsed": true
   },
   "outputs": [],
   "source": [
    "#반복 loop \n",
    "i <- 0\n",
    "while(i < 10) {\n",
    "    i <- i + 1\n",
    "}\n",
    "\n",
    "sum <- 0\n",
    "for(i in c(1, 4, 7)) {\n",
    "    sum <- sum + i\n",
    "}\n",
    "\n",
    "sum <- 0\n",
    "for(i in 5:15) {\n",
    "    if(i%%2 == 0)\n",
    "    {\n",
    "        next;\n",
    "    }\n",
    "    if(i%%10 == 0)\n",
    "    {\n",
    "        break;\n",
    "    }\n",
    "    sum <- sum + i\n",
    "}"
   ]
  }
 ],
 "metadata": {
  "kernelspec": {
   "display_name": "R",
   "language": "R",
   "name": "ir"
  },
  "language_info": {
   "codemirror_mode": "r",
   "file_extension": ".r",
   "mimetype": "text/x-r-source",
   "name": "R",
   "pygments_lexer": "r",
   "version": "3.4.1"
  }
 },
 "nbformat": 4,
 "nbformat_minor": 2
}
