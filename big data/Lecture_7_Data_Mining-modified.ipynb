{
 "cells": [
  {
   "cell_type": "markdown",
   "metadata": {},
   "source": [
    "# Data Mining with Python"
   ]
  },
  {
   "cell_type": "markdown",
   "metadata": {},
   "source": [
    "## Computing Frequent Itemsets\n",
    "\n",
    "Data set: Shop.csv with tid,item pairs"
   ]
  },
  {
   "cell_type": "code",
   "execution_count": 4,
   "metadata": {
    "collapsed": true
   },
   "outputs": [],
   "source": [
    "import csv"
   ]
  },
  {
   "cell_type": "code",
   "execution_count": 5,
   "metadata": {
    "scrolled": true
   },
   "outputs": [
    {
     "name": "stdout",
     "output_type": "stream",
     "text": [
      "Number of transaction in data set: 5\n"
     ]
    }
   ],
   "source": [
    "transactions={} # dictionary from TID(를 key로 씀) to list of items (tid가 1번인애들기리 모음)\n",
    "items={} # dictionary from item to list of TIDs(item을 key로 써서 묶음)\n",
    "with open('Shop.csv', 'rU') as csvfile:\n",
    "    data = csv.reader(csvfile)\n",
    "    for row in data:\n",
    "        if row[0] != 'TID': #첫 줄 건너뛰기 왜냐면 첫줄은 걍 항목 이름\n",
    "            if row[0] not in transactions:#row[0]은 TID 숫자고 row[1]은 item 아이템임\n",
    "                transactions[row[0]]=[row[1]] # key = valuse; 첫번째가 없으면 []에 넣어서 대입해야함\n",
    "            else: \n",
    "                transactions[row[0]].append(row[1])#list라 append 가능 \n",
    "            if row[1] not in items: \n",
    "                items[row[1]]=[row[0]] # ex) beer 에 1 너음\n",
    "            else: \n",
    "                items[row[1]].append(row[0])\n",
    "\n",
    "numtransactions = len(transactions)\n",
    "print (\"Number of transaction in data set: {}\".format(numtransactions))"
   ]
  },
  {
   "cell_type": "code",
   "execution_count": 6,
   "metadata": {},
   "outputs": [
    {
     "name": "stdout",
     "output_type": "stream",
     "text": [
      "===== transactions =====\n",
      "{'1': ['beer', 'eggs', 'milk'], '3': ['chips', 'eggs'], '2': ['beer', 'diapers', 'milk'], '5': ['beer', 'chips', 'diapers', 'milk'], '4': ['eggs', 'milk']}\n",
      "===== items =====\n",
      "{'diapers': ['2', '5'], 'beer': ['1', '2', '5'], 'chips': ['3', '5'], 'eggs': ['1', '3', '4'], 'milk': ['1', '2', '4', '5']}\n",
      "===== sorted transactions 1 =====\n",
      "[('1', ['beer', 'eggs', 'milk']), ('2', ['beer', 'diapers', 'milk']), ('3', ['chips', 'eggs']), ('4', ['eggs', 'milk']), ('5', ['beer', 'chips', 'diapers', 'milk'])]\n",
      "===== sorted transactions 2 =====\n",
      "OrderedDict([('1', ['beer', 'eggs', 'milk']), ('2', ['beer', 'diapers', 'milk']), ('3', ['chips', 'eggs']), ('4', ['eggs', 'milk']), ('5', ['beer', 'chips', 'diapers', 'milk'])])\n",
      "<class 'collections.OrderedDict'>\n",
      "['beer', 'eggs', 'milk']\n"
     ]
    }
   ],
   "source": [
    "#정렬하는 방법들\n",
    "print '===== transactions ====='\n",
    "print transactions\n",
    "print '===== items ====='\n",
    "print items\n",
    "# Sort dictionary by keys 근데 list로 반환함\n",
    "import operator\n",
    "sorted_transactions = sorted(transactions.items())\n",
    "print '===== sorted transactions 1 ====='\n",
    "print sorted_transactions\n",
    "#print sorted_transactions['1'] dictionary는 sort가 불가능 왜냐면 필요가 보통 없음 key로 찾으면 돼서\n",
    "# Not in dict form 이게 dic형태로 안되어 있어서 에러가 남. dic은 걍 key값으로 찾으면 됨\n",
    "# Thus cannot access by sorted_transactions['1']\n",
    "# Then how?\n",
    "import collections #Ordered Dict라고 형태가 있는데 그러면 tuple안에 list에서 key값으로 검색이 됨\n",
    "sorted_transactions = collections.OrderedDict(sorted(transactions.items()))\n",
    "print '===== sorted transactions 2 ====='\n",
    "print sorted_transactions\n",
    "print type(sorted_transactions)\n",
    "# Though it is not in dict form, it works same as dict\n",
    "print sorted_transactions['1'] #dic형식으로 검색"
   ]
  },
  {
   "cell_type": "code",
   "execution_count": 10,
   "metadata": {},
   "outputs": [
    {
     "name": "stdout",
     "output_type": "stream",
     "text": [
      "[1, 2, 3, 4, 5]\n",
      "[1, 2, 3, 4, 5]\n"
     ]
    }
   ],
   "source": [
    "# list sort하는 방법\n",
    "a = [5, 2, 3, 1, 4]\n",
    "a.sort()\n",
    "print a\n",
    "#근데 어떤 형태도 sorted는 사용 가능 but list로 return 함\n",
    "print sorted({1: 'D', 2: 'B', 3: 'B', 4: 'E', 5: 'A'})\n",
    "#dictionary sorted 쓸 때 sorted(d, key=d.get, reverse=True)"
   ]
  },
  {
   "cell_type": "code",
   "execution_count": 11,
   "metadata": {},
   "outputs": [
    {
     "name": "stdout",
     "output_type": "stream",
     "text": [
      "{'diapers': ['2', '5'], 'beer': ['1', '2', '5'], 'chips': ['3', '5'], 'eggs': ['1', '3', '4'], 'milk': ['1', '2', '4', '5']}\n"
     ]
    }
   ],
   "source": [
    "print items"
   ]
  },
  {
   "cell_type": "code",
   "execution_count": 12,
   "metadata": {},
   "outputs": [
    {
     "name": "stdout",
     "output_type": "stream",
     "text": [
      "[['diapers', 'eggs', 0], ['diapers', 'milk', 0], ['beer', 'diapers', 0], ['beer', 'chips', 0], ['beer', 'eggs', 0], ['beer', 'milk', 0], ['chips', 'diapers', 0], ['chips', 'eggs', 0], ['chips', 'milk', 0], ['eggs', 'milk', 0]]\n"
     ]
    }
   ],
   "source": [
    "# compute all pairs of items, alphabetical\n",
    "# < is needed to avoid duplicates\n",
    "pairs = []\n",
    "for i1 in items: #i1은 item 안에 key 값을 순서대로 들고 옴 근데 여기서는 key값이 하나라 \n",
    "    for i2 in items:\n",
    "        if i1<i2:# 중복 막을라고 이렇게 함\n",
    "            pairs.append([i1,i2,0])#몇회 등장한느지 0있는 자리에 업데이트 할거임\n",
    "# i1 and i2 pick up first element, i.e., key\n",
    "# Or you can do items가 dictionary라서 일케쓸 수 있음\n",
    "#for name, food_list in friends_favorite_food.items():\n",
    "\n",
    "#for i1, j1 in items.items():\n",
    "#    for i2, j2 in items.items():\n",
    "#        if i1<i2: \n",
    "#            pairs.append([i1,i2,0])\n",
    "print pairs"
   ]
  },
  {
   "cell_type": "code",
   "execution_count": 13,
   "metadata": {},
   "outputs": [],
   "source": [
    "# append number of transactions containing each pair\n",
    "# p is [i1, i2, number], t is the first element, i.e., key\n",
    "for p in pairs:\n",
    "    for t in transactions:\n",
    "        if p[0] in transactions[t] and p[1] in transactions[t]: \n",
    "            p[2] += 1"
   ]
  },
  {
   "cell_type": "code",
   "execution_count": 25,
   "metadata": {},
   "outputs": [],
   "source": [
    "#or anther way\n",
    "sorted_transactions = sorted(transactions.items())\n",
    "for p in pairs:\n",
    "    for t in sorted_transactions:\n",
    "        if len(set( p )& set(t[1]) )> 0: \n",
    "            p[2] += 1"
   ]
  },
  {
   "cell_type": "code",
   "execution_count": 26,
   "metadata": {},
   "outputs": [
    {
     "name": "stdout",
     "output_type": "stream",
     "text": [
      "[['diapers', 'eggs', 5], ['diapers', 'milk', 6], ['beer', 'diapers', 5], ['beer', 'chips', 5], ['beer', 'eggs', 6], ['beer', 'milk', 7], ['chips', 'diapers', 4], ['chips', 'eggs', 5], ['chips', 'milk', 6], ['eggs', 'milk', 7]]\n"
     ]
    }
   ],
   "source": [
    "print pairs"
   ]
  },
  {
   "cell_type": "markdown",
   "metadata": {},
   "source": [
    "### -> transactions 트렌젝션별(숫자별) / items 아이템 별/ pairs 두개 씩 짝지은 아이템별 같은 트렌젝션에 들어간 횟수"
   ]
  },
  {
   "cell_type": "code",
   "execution_count": 20,
   "metadata": {},
   "outputs": [
    {
     "name": "stdout",
     "output_type": "stream",
     "text": [
      "FREQUENT ITEMSETS OF TWO:\n",
      "   diapers milk\n",
      "   beer diapers\n",
      "   beer milk\n",
      "   eggs milk\n"
     ]
    }
   ],
   "source": [
    "# compute frequent itemsets of two with support-threshold = 0.3\n",
    "# Since numtransactions = 5, frequency >= 2 will be picked\n",
    "frequent2 = []\n",
    "for p in pairs:\n",
    "    if float(p[2])/float(numtransactions) > 0.3: \n",
    "        frequent2.append(p)\n",
    "\n",
    "print 'FREQUENT ITEMSETS OF TWO:'  \n",
    "for f in frequent2: \n",
    "    print '  ', f[0], f[1]"
   ]
  },
  {
   "cell_type": "code",
   "execution_count": 21,
   "metadata": {
    "collapsed": true
   },
   "outputs": [],
   "source": [
    "# compute all triples of items where first two are in frequent itemsets\n",
    "# of two, alphabetical\n",
    "# < is needed to avoid duplicates\n",
    "triples = [] \n",
    "for f in frequent2:\n",
    "    for i in items:\n",
    "        if f[0] < i and f[1] < i: \n",
    "            triples.append([f[0],f[1],i,0])"
   ]
  },
  {
   "cell_type": "code",
   "execution_count": 22,
   "metadata": {},
   "outputs": [
    {
     "name": "stdout",
     "output_type": "stream",
     "text": [
      "[['beer', 'diapers', 'eggs', 0], ['beer', 'diapers', 'milk', 0]]\n"
     ]
    }
   ],
   "source": [
    "print triples"
   ]
  },
  {
   "cell_type": "code",
   "execution_count": 23,
   "metadata": {
    "collapsed": true
   },
   "outputs": [],
   "source": [
    "# append number of transactions containing each triple\n",
    "for tr in triples:\n",
    "    for t in transactions:\n",
    "        if tr[0] in transactions[t] and tr[1] in transactions[t] and tr[2] in transactions[t]: \n",
    "            tr[3] += 1"
   ]
  },
  {
   "cell_type": "code",
   "execution_count": 24,
   "metadata": {},
   "outputs": [
    {
     "name": "stdout",
     "output_type": "stream",
     "text": [
      "[['beer', 'diapers', 'eggs', 0], ['beer', 'diapers', 'milk', 2]]\n"
     ]
    }
   ],
   "source": [
    "print triples"
   ]
  },
  {
   "cell_type": "code",
   "execution_count": 25,
   "metadata": {},
   "outputs": [
    {
     "name": "stdout",
     "output_type": "stream",
     "text": [
      "FREQUENT ITEMSETS OF THREE:\n",
      "   beer diapers milk\n"
     ]
    }
   ],
   "source": [
    "# compute frequent itemsets of three with support-threshold = 0.3\n",
    "frequent3 = []\n",
    "for tr in triples:\n",
    "    if float(tr[3])/float(numtransactions) > 0.3: \n",
    "        frequent3.append(tr)\n",
    "\n",
    "print 'FREQUENT ITEMSETS OF THREE:'\n",
    "for f in frequent3: \n",
    "    print '  ', f[0], f[1], f[2]"
   ]
  },
  {
   "cell_type": "code",
   "execution_count": null,
   "metadata": {
    "collapsed": true
   },
   "outputs": [],
   "source": []
  }
 ],
 "metadata": {
  "kernelspec": {
   "display_name": "Python 2",
   "language": "python",
   "name": "python2"
  },
  "language_info": {
   "codemirror_mode": {
    "name": "ipython",
    "version": 2
   },
   "file_extension": ".py",
   "mimetype": "text/x-python",
   "name": "python",
   "nbconvert_exporter": "python",
   "pygments_lexer": "ipython2",
   "version": "2.7.13"
  }
 },
 "nbformat": 4,
 "nbformat_minor": 1
}
