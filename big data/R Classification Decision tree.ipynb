{
 "cells": [
  {
   "cell_type": "code",
   "execution_count": 3,
   "metadata": {},
   "outputs": [
    {
     "name": "stdout",
     "output_type": "stream",
     "text": [
      "'data.frame':\t150 obs. of  5 variables:\n",
      " $ Sepal.Length: num  5.1 4.9 4.7 4.6 5 5.4 4.6 5 4.4 4.9 ...\n",
      " $ Sepal.Width : num  3.5 3 3.2 3.1 3.6 3.9 3.4 3.4 2.9 3.1 ...\n",
      " $ Petal.Length: num  1.4 1.4 1.3 1.5 1.4 1.7 1.4 1.5 1.4 1.5 ...\n",
      " $ Petal.Width : num  0.2 0.2 0.2 0.2 0.2 0.4 0.3 0.2 0.2 0.1 ...\n",
      " $ Species     : Factor w/ 3 levels \"setosa\",\"versicolor\",..: 1 1 1 1 1 1 1 1 1 1 ...\n",
      "    Sepal.Length Sepal.Width Petal.Length Petal.Width    Species\n",
      "1            5.1         3.5          1.4         0.2     setosa\n",
      "2            4.9         3.0          1.4         0.2     setosa\n",
      "3            4.7         3.2          1.3         0.2     setosa\n",
      "4            4.6         3.1          1.5         0.2     setosa\n",
      "5            5.0         3.6          1.4         0.2     setosa\n",
      "6            5.4         3.9          1.7         0.4     setosa\n",
      "7            4.6         3.4          1.4         0.3     setosa\n",
      "8            5.0         3.4          1.5         0.2     setosa\n",
      "9            4.4         2.9          1.4         0.2     setosa\n",
      "10           4.9         3.1          1.5         0.1     setosa\n",
      "11           5.4         3.7          1.5         0.2     setosa\n",
      "12           4.8         3.4          1.6         0.2     setosa\n",
      "13           4.8         3.0          1.4         0.1     setosa\n",
      "14           4.3         3.0          1.1         0.1     setosa\n",
      "15           5.8         4.0          1.2         0.2     setosa\n",
      "16           5.7         4.4          1.5         0.4     setosa\n",
      "17           5.4         3.9          1.3         0.4     setosa\n",
      "18           5.1         3.5          1.4         0.3     setosa\n",
      "19           5.7         3.8          1.7         0.3     setosa\n",
      "20           5.1         3.8          1.5         0.3     setosa\n",
      "21           5.4         3.4          1.7         0.2     setosa\n",
      "22           5.1         3.7          1.5         0.4     setosa\n",
      "23           4.6         3.6          1.0         0.2     setosa\n",
      "24           5.1         3.3          1.7         0.5     setosa\n",
      "25           4.8         3.4          1.9         0.2     setosa\n",
      "26           5.0         3.0          1.6         0.2     setosa\n",
      "27           5.0         3.4          1.6         0.4     setosa\n",
      "28           5.2         3.5          1.5         0.2     setosa\n",
      "29           5.2         3.4          1.4         0.2     setosa\n",
      "30           4.7         3.2          1.6         0.2     setosa\n",
      "31           4.8         3.1          1.6         0.2     setosa\n",
      "32           5.4         3.4          1.5         0.4     setosa\n",
      "33           5.2         4.1          1.5         0.1     setosa\n",
      "34           5.5         4.2          1.4         0.2     setosa\n",
      "35           4.9         3.1          1.5         0.2     setosa\n",
      "36           5.0         3.2          1.2         0.2     setosa\n",
      "37           5.5         3.5          1.3         0.2     setosa\n",
      "38           4.9         3.6          1.4         0.1     setosa\n",
      "39           4.4         3.0          1.3         0.2     setosa\n",
      "40           5.1         3.4          1.5         0.2     setosa\n",
      "41           5.0         3.5          1.3         0.3     setosa\n",
      "42           4.5         2.3          1.3         0.3     setosa\n",
      "43           4.4         3.2          1.3         0.2     setosa\n",
      "44           5.0         3.5          1.6         0.6     setosa\n",
      "45           5.1         3.8          1.9         0.4     setosa\n",
      "46           4.8         3.0          1.4         0.3     setosa\n",
      "47           5.1         3.8          1.6         0.2     setosa\n",
      "48           4.6         3.2          1.4         0.2     setosa\n",
      "49           5.3         3.7          1.5         0.2     setosa\n",
      "50           5.0         3.3          1.4         0.2     setosa\n",
      "51           7.0         3.2          4.7         1.4 versicolor\n",
      "52           6.4         3.2          4.5         1.5 versicolor\n",
      "53           6.9         3.1          4.9         1.5 versicolor\n",
      "54           5.5         2.3          4.0         1.3 versicolor\n",
      "55           6.5         2.8          4.6         1.5 versicolor\n",
      "56           5.7         2.8          4.5         1.3 versicolor\n",
      "57           6.3         3.3          4.7         1.6 versicolor\n",
      "58           4.9         2.4          3.3         1.0 versicolor\n",
      "59           6.6         2.9          4.6         1.3 versicolor\n",
      "60           5.2         2.7          3.9         1.4 versicolor\n",
      "61           5.0         2.0          3.5         1.0 versicolor\n",
      "62           5.9         3.0          4.2         1.5 versicolor\n",
      "63           6.0         2.2          4.0         1.0 versicolor\n",
      "64           6.1         2.9          4.7         1.4 versicolor\n",
      "65           5.6         2.9          3.6         1.3 versicolor\n",
      "66           6.7         3.1          4.4         1.4 versicolor\n",
      "67           5.6         3.0          4.5         1.5 versicolor\n",
      "68           5.8         2.7          4.1         1.0 versicolor\n",
      "69           6.2         2.2          4.5         1.5 versicolor\n",
      "70           5.6         2.5          3.9         1.1 versicolor\n",
      "71           5.9         3.2          4.8         1.8 versicolor\n",
      "72           6.1         2.8          4.0         1.3 versicolor\n",
      "73           6.3         2.5          4.9         1.5 versicolor\n",
      "74           6.1         2.8          4.7         1.2 versicolor\n",
      "75           6.4         2.9          4.3         1.3 versicolor\n",
      "76           6.6         3.0          4.4         1.4 versicolor\n",
      "77           6.8         2.8          4.8         1.4 versicolor\n",
      "78           6.7         3.0          5.0         1.7 versicolor\n",
      "79           6.0         2.9          4.5         1.5 versicolor\n",
      "80           5.7         2.6          3.5         1.0 versicolor\n",
      "81           5.5         2.4          3.8         1.1 versicolor\n",
      "82           5.5         2.4          3.7         1.0 versicolor\n",
      "83           5.8         2.7          3.9         1.2 versicolor\n",
      "84           6.0         2.7          5.1         1.6 versicolor\n",
      "85           5.4         3.0          4.5         1.5 versicolor\n",
      "86           6.0         3.4          4.5         1.6 versicolor\n",
      "87           6.7         3.1          4.7         1.5 versicolor\n",
      "88           6.3         2.3          4.4         1.3 versicolor\n",
      "89           5.6         3.0          4.1         1.3 versicolor\n",
      "90           5.5         2.5          4.0         1.3 versicolor\n",
      "91           5.5         2.6          4.4         1.2 versicolor\n",
      "92           6.1         3.0          4.6         1.4 versicolor\n",
      "93           5.8         2.6          4.0         1.2 versicolor\n",
      "94           5.0         2.3          3.3         1.0 versicolor\n",
      "95           5.6         2.7          4.2         1.3 versicolor\n",
      "96           5.7         3.0          4.2         1.2 versicolor\n",
      "97           5.7         2.9          4.2         1.3 versicolor\n",
      "98           6.2         2.9          4.3         1.3 versicolor\n",
      "99           5.1         2.5          3.0         1.1 versicolor\n",
      "100          5.7         2.8          4.1         1.3 versicolor\n",
      "101          6.3         3.3          6.0         2.5  virginica\n",
      "102          5.8         2.7          5.1         1.9  virginica\n",
      "103          7.1         3.0          5.9         2.1  virginica\n",
      "104          6.3         2.9          5.6         1.8  virginica\n",
      "105          6.5         3.0          5.8         2.2  virginica\n",
      "106          7.6         3.0          6.6         2.1  virginica\n",
      "107          4.9         2.5          4.5         1.7  virginica\n",
      "108          7.3         2.9          6.3         1.8  virginica\n",
      "109          6.7         2.5          5.8         1.8  virginica\n",
      "110          7.2         3.6          6.1         2.5  virginica\n",
      "111          6.5         3.2          5.1         2.0  virginica\n",
      "112          6.4         2.7          5.3         1.9  virginica\n",
      "113          6.8         3.0          5.5         2.1  virginica\n",
      "114          5.7         2.5          5.0         2.0  virginica\n",
      "115          5.8         2.8          5.1         2.4  virginica\n",
      "116          6.4         3.2          5.3         2.3  virginica\n",
      "117          6.5         3.0          5.5         1.8  virginica\n",
      "118          7.7         3.8          6.7         2.2  virginica\n",
      "119          7.7         2.6          6.9         2.3  virginica\n",
      "120          6.0         2.2          5.0         1.5  virginica\n",
      "121          6.9         3.2          5.7         2.3  virginica\n",
      "122          5.6         2.8          4.9         2.0  virginica\n",
      "123          7.7         2.8          6.7         2.0  virginica\n",
      "124          6.3         2.7          4.9         1.8  virginica\n",
      "125          6.7         3.3          5.7         2.1  virginica\n",
      "126          7.2         3.2          6.0         1.8  virginica\n",
      "127          6.2         2.8          4.8         1.8  virginica\n",
      "128          6.1         3.0          4.9         1.8  virginica\n",
      "129          6.4         2.8          5.6         2.1  virginica\n",
      "130          7.2         3.0          5.8         1.6  virginica\n",
      "131          7.4         2.8          6.1         1.9  virginica\n",
      "132          7.9         3.8          6.4         2.0  virginica\n",
      "133          6.4         2.8          5.6         2.2  virginica\n",
      "134          6.3         2.8          5.1         1.5  virginica\n",
      "135          6.1         2.6          5.6         1.4  virginica\n",
      "136          7.7         3.0          6.1         2.3  virginica\n",
      "137          6.3         3.4          5.6         2.4  virginica\n",
      "138          6.4         3.1          5.5         1.8  virginica\n",
      "139          6.0         3.0          4.8         1.8  virginica\n",
      "140          6.9         3.1          5.4         2.1  virginica\n",
      "141          6.7         3.1          5.6         2.4  virginica\n",
      "142          6.9         3.1          5.1         2.3  virginica\n",
      "143          5.8         2.7          5.1         1.9  virginica\n",
      "144          6.8         3.2          5.9         2.3  virginica\n",
      "145          6.7         3.3          5.7         2.5  virginica\n",
      "146          6.7         3.0          5.2         2.3  virginica\n",
      "147          6.3         2.5          5.0         1.9  virginica\n",
      "148          6.5         3.0          5.2         2.0  virginica\n",
      "149          6.2         3.4          5.4         2.3  virginica\n",
      "150          5.9         3.0          5.1         1.8  virginica\n"
     ]
    },
    {
     "name": "stdout",
     "output_type": "stream",
     "text": [
      "\n",
      "\t Conditional inference tree with 4 terminal nodes\n",
      "\n",
      "Response:  Species \n",
      "Inputs:  Sepal.Length, Sepal.Width, Petal.Length, Petal.Width \n",
      "Number of observations:  150 \n",
      "\n",
      "1) Petal.Length <= 1.9; criterion = 1, statistic = 140.264\n",
      "  2)*  weights = 50 \n",
      "1) Petal.Length > 1.9\n",
      "  3) Petal.Width <= 1.7; criterion = 1, statistic = 67.894\n",
      "    4) Petal.Length <= 4.8; criterion = 0.999, statistic = 13.865\n",
      "      5)*  weights = 46 \n",
      "    4) Petal.Length > 4.8\n",
      "      6)*  weights = 8 \n",
      "  3) Petal.Width > 1.7\n",
      "    7)*  weights = 46 \n"
     ]
    },
    {
     "data": {
      "image/png": "[encoded data removed]",
      "text/plain": [
       "plot without title"
      ]
     },
     "metadata": {},
     "output_type": "display_data"
    }
   ],
   "source": [
    "# Refer to http://www.rdatamining.com/examples\n",
    "# Decision tree, should install party package first\n",
    "# party has conditional inference tree function called ctree\n",
    "# Once installed, comment it\n",
    "#install.packages('party', repos='http://cran.us.r-project.org')\n",
    "library(party)#include 대신에\n",
    "# Compactly display the internal \"structure\" of an R object\n",
    "str(iris)#summary보여줌. dataframe의 함수 #iris는 꽃에 대한 데이터. 5개 변수로 이루어져 있고 150개 객체로\n",
    "print(iris)#factor는  unique level인데 여기는 3개 speices\n",
    "# sepal : 꽃받침, petal : 꽃잎\n",
    "iris_ctree <- ctree(Species ~ Sepal.Length + Sepal.Width + Petal.Length + Petal.Width, data=iris)\n",
    "# conditional tree. Target ~ list of input independent variables ~이거 전이 타겟 변수\n",
    "# ctree does not need pruning since it branches based on significance\n",
    "# thus tends not to overfit\n",
    "print(iris_ctree)\n",
    "plot(iris_ctree)"
   ]
  },
  {
   "cell_type": "markdown",
   "metadata": {},
   "source": [
    "## 출력된 그래프가 100% 분류되지 않은 채로 나옴 - > 왜? ## overfitting의 위험. \n",
    " ## -> pruning(가지치기) 를 함. 이 ctree는 안해도 됨. 만약에 100퍼 나오는 게 있으면 그건 해야됨"
   ]
  },
  {
   "cell_type": "code",
   "execution_count": 4,
   "metadata": {},
   "outputs": [
    {
     "data": {
      "image/png": "[encoded data removed]",
      "text/plain": [
       "plot without title"
      ]
     },
     "metadata": {},
     "output_type": "display_data"
    }
   ],
   "source": [
    "plot(iris_ctree, type=\"simple\")#다른 그래프 타입"
   ]
  },
  {
   "cell_type": "code",
   "execution_count": 5,
   "metadata": {},
   "outputs": [
    {
     "name": "stdout",
     "output_type": "stream",
     "text": [
      "'data.frame':\t303 obs. of  15 variables:\n",
      " $ X        : int  1 2 3 4 5 6 7 8 9 10 ...\n",
      " $ Age      : int  63 67 67 37 41 56 62 57 63 53 ...\n",
      " $ Sex      : int  1 1 1 1 0 1 0 0 1 1 ...\n",
      " $ ChestPain: Factor w/ 4 levels \"asymptomatic\",..: 4 1 1 2 3 3 1 1 1 1 ...\n",
      " $ RestBP   : int  145 160 120 130 130 120 140 120 130 140 ...\n",
      " $ Chol     : int  233 286 229 250 204 236 268 354 254 203 ...\n",
      " $ Fbs      : int  1 0 0 0 0 0 0 0 0 1 ...\n",
      " $ RestECG  : int  2 2 2 0 2 0 2 0 2 2 ...\n",
      " $ MaxHR    : int  150 108 129 187 172 178 160 163 147 155 ...\n",
      " $ ExAng    : int  0 1 1 0 0 0 0 1 0 1 ...\n",
      " $ Oldpeak  : num  2.3 1.5 2.6 3.5 1.4 0.8 3.6 0.6 1.4 3.1 ...\n",
      " $ Slope    : int  3 2 2 3 1 1 3 1 2 3 ...\n",
      " $ Ca       : int  0 3 2 0 0 0 2 0 1 0 ...\n",
      " $ Thal     : Factor w/ 3 levels \"fixed\",\"normal\",..: 1 2 3 2 2 2 2 2 3 3 ...\n",
      " $ AHD      : Factor w/ 2 levels \"No\",\"Yes\": 1 2 2 1 1 1 2 1 2 2 ...\n"
     ]
    }
   ],
   "source": [
    "# Decision tree for Heart data\n",
    "# Refer to http://www.dodomira.com/2016/05/29/564/\n",
    "df<-read.csv('http://www-bcf.usc.edu/~gareth/ISL/Heart.csv')\n",
    "str(df)"
   ]
  },
  {
   "cell_type": "code",
   "execution_count": 7,
   "metadata": {},
   "outputs": [
    {
     "data": {
      "text/html": [
       "<table>\n",
       "<thead><tr><th scope=col>X</th><th scope=col>Age</th><th scope=col>Sex</th><th scope=col>ChestPain</th><th scope=col>RestBP</th><th scope=col>Chol</th><th scope=col>Fbs</th><th scope=col>RestECG</th><th scope=col>MaxHR</th><th scope=col>ExAng</th><th scope=col>Oldpeak</th><th scope=col>Slope</th><th scope=col>Ca</th><th scope=col>Thal</th><th scope=col>AHD</th></tr></thead>\n",
       "<tbody>\n",
       "\t<tr><td>1           </td><td>63          </td><td>1           </td><td>typical     </td><td>145         </td><td>233         </td><td>1           </td><td>2           </td><td>150         </td><td>0           </td><td>2.3         </td><td>3           </td><td>0           </td><td>fixed       </td><td>No          </td></tr>\n",
       "\t<tr><td>2           </td><td>67          </td><td>1           </td><td>asymptomatic</td><td>160         </td><td>286         </td><td>0           </td><td>2           </td><td>108         </td><td>1           </td><td>1.5         </td><td>2           </td><td>3           </td><td>normal      </td><td>Yes         </td></tr>\n",
       "\t<tr><td>3           </td><td>67          </td><td>1           </td><td>asymptomatic</td><td>120         </td><td>229         </td><td>0           </td><td>2           </td><td>129         </td><td>1           </td><td>2.6         </td><td>2           </td><td>2           </td><td>reversable  </td><td>Yes         </td></tr>\n",
       "\t<tr><td>4           </td><td>37          </td><td>1           </td><td>nonanginal  </td><td>130         </td><td>250         </td><td>0           </td><td>0           </td><td>187         </td><td>0           </td><td>3.5         </td><td>3           </td><td>0           </td><td>normal      </td><td>No          </td></tr>\n",
       "\t<tr><td>5           </td><td>41          </td><td>0           </td><td>nontypical  </td><td>130         </td><td>204         </td><td>0           </td><td>2           </td><td>172         </td><td>0           </td><td>1.4         </td><td>1           </td><td>0           </td><td>normal      </td><td>No          </td></tr>\n",
       "</tbody>\n",
       "</table>\n"
      ],
      "text/latex": [
       "\\begin{tabular}{r|lllllllllllllll}\n",
       " X & Age & Sex & ChestPain & RestBP & Chol & Fbs & RestECG & MaxHR & ExAng & Oldpeak & Slope & Ca & Thal & AHD\\\\\n",
       "\\hline\n",
       "\t 1            & 63           & 1            & typical      & 145          & 233          & 1            & 2            & 150          & 0            & 2.3          & 3            & 0            & fixed        & No          \\\\\n",
       "\t 2            & 67           & 1            & asymptomatic & 160          & 286          & 0            & 2            & 108          & 1            & 1.5          & 2            & 3            & normal       & Yes         \\\\\n",
       "\t 3            & 67           & 1            & asymptomatic & 120          & 229          & 0            & 2            & 129          & 1            & 2.6          & 2            & 2            & reversable   & Yes         \\\\\n",
       "\t 4            & 37           & 1            & nonanginal   & 130          & 250          & 0            & 0            & 187          & 0            & 3.5          & 3            & 0            & normal       & No          \\\\\n",
       "\t 5            & 41           & 0            & nontypical   & 130          & 204          & 0            & 2            & 172          & 0            & 1.4          & 1            & 0            & normal       & No          \\\\\n",
       "\\end{tabular}\n"
      ],
      "text/markdown": [
       "\n",
       "X | Age | Sex | ChestPain | RestBP | Chol | Fbs | RestECG | MaxHR | ExAng | Oldpeak | Slope | Ca | Thal | AHD | \n",
       "|---|---|---|---|---|\n",
       "| 1            | 63           | 1            | typical      | 145          | 233          | 1            | 2            | 150          | 0            | 2.3          | 3            | 0            | fixed        | No           | \n",
       "| 2            | 67           | 1            | asymptomatic | 160          | 286          | 0            | 2            | 108          | 1            | 1.5          | 2            | 3            | normal       | Yes          | \n",
       "| 3            | 67           | 1            | asymptomatic | 120          | 229          | 0            | 2            | 129          | 1            | 2.6          | 2            | 2            | reversable   | Yes          | \n",
       "| 4            | 37           | 1            | nonanginal   | 130          | 250          | 0            | 0            | 187          | 0            | 3.5          | 3            | 0            | normal       | No           | \n",
       "| 5            | 41           | 0            | nontypical   | 130          | 204          | 0            | 2            | 172          | 0            | 1.4          | 1            | 0            | normal       | No           | \n",
       "\n",
       "\n"
      ],
      "text/plain": [
       "  X Age Sex ChestPain    RestBP Chol Fbs RestECG MaxHR ExAng Oldpeak Slope Ca\n",
       "1 1 63  1   typical      145    233  1   2       150   0     2.3     3     0 \n",
       "2 2 67  1   asymptomatic 160    286  0   2       108   1     1.5     2     3 \n",
       "3 3 67  1   asymptomatic 120    229  0   2       129   1     2.6     2     2 \n",
       "4 4 37  1   nonanginal   130    250  0   0       187   0     3.5     3     0 \n",
       "5 5 41  0   nontypical   130    204  0   2       172   0     1.4     1     0 \n",
       "  Thal       AHD\n",
       "1 fixed      No \n",
       "2 normal     Yes\n",
       "3 reversable Yes\n",
       "4 normal     No \n",
       "5 normal     No "
      ]
     },
     "metadata": {},
     "output_type": "display_data"
    },
    {
     "data": {
      "text/html": [
       "303"
      ],
      "text/latex": [
       "303"
      ],
      "text/markdown": [
       "303"
      ],
      "text/plain": [
       "[1] 303"
      ]
     },
     "metadata": {},
     "output_type": "display_data"
    }
   ],
   "source": [
    "head(df,5)\n",
    "nrow(df)"
   ]
  },
  {
   "cell_type": "markdown",
   "metadata": {},
   "source": [
    "caret::createDataPartition(\n",
    "  y,          # 분류(또는 레이블)\n",
    "  times=1,    # 생성할 분할의 수\n",
    "  p=0.5,      # 훈련 데이터에서 사용할 데이터의 비율\n",
    "  list=TRUE,  # 결과를 리스트로 반환할지 여부. FALSE면 행렬을 반환한다.\n",
    ")"
   ]
  },
  {
   "cell_type": "code",
   "execution_count": 10,
   "metadata": {},
   "outputs": [
    {
     "name": "stdout",
     "output_type": "stream",
     "text": [
      "       Resample1\n",
      "  [1,]         1\n",
      "  [2,]         2\n",
      "  [3,]         3\n",
      "  [4,]         4\n",
      "  [5,]         5\n",
      "  [6,]         6\n",
      "  [7,]         7\n",
      "  [8,]         8\n",
      "  [9,]        10\n",
      " [10,]        11\n",
      " [11,]        12\n",
      " [12,]        13\n",
      " [13,]        14\n",
      " [14,]        15\n",
      " [15,]        16\n",
      " [16,]        17\n",
      " [17,]        18\n",
      " [18,]        20\n",
      " [19,]        21\n",
      " [20,]        22\n",
      " [21,]        23\n",
      " [22,]        27\n",
      " [23,]        28\n",
      " [24,]        29\n",
      " [25,]        30\n",
      " [26,]        32\n",
      " [27,]        33\n",
      " [28,]        34\n",
      " [29,]        35\n",
      " [30,]        39\n",
      " [31,]        40\n",
      " [32,]        41\n",
      " [33,]        43\n",
      " [34,]        44\n",
      " [35,]        45\n",
      " [36,]        48\n",
      " [37,]        49\n",
      " [38,]        51\n",
      " [39,]        52\n",
      " [40,]        53\n",
      " [41,]        54\n",
      " [42,]        56\n",
      " [43,]        58\n",
      " [44,]        59\n",
      " [45,]        61\n",
      " [46,]        63\n",
      " [47,]        65\n",
      " [48,]        67\n",
      " [49,]        68\n",
      " [50,]        69\n",
      " [51,]        70\n",
      " [52,]        71\n",
      " [53,]        72\n",
      " [54,]        73\n",
      " [55,]        74\n",
      " [56,]        76\n",
      " [57,]        77\n",
      " [58,]        79\n",
      " [59,]        80\n",
      " [60,]        81\n",
      " [61,]        82\n",
      " [62,]        83\n",
      " [63,]        84\n",
      " [64,]        85\n",
      " [65,]        88\n",
      " [66,]        89\n",
      " [67,]        90\n",
      " [68,]        92\n",
      " [69,]        94\n",
      " [70,]        95\n",
      " [71,]        97\n",
      " [72,]        98\n",
      " [73,]        99\n",
      " [74,]       101\n",
      " [75,]       102\n",
      " [76,]       103\n",
      " [77,]       104\n",
      " [78,]       105\n",
      " [79,]       108\n",
      " [80,]       109\n",
      " [81,]       110\n",
      " [82,]       113\n",
      " [83,]       114\n",
      " [84,]       116\n",
      " [85,]       118\n",
      " [86,]       121\n",
      " [87,]       122\n",
      " [88,]       123\n",
      " [89,]       124\n",
      " [90,]       125\n",
      " [91,]       127\n",
      " [92,]       128\n",
      " [93,]       129\n",
      " [94,]       130\n",
      " [95,]       133\n",
      " [96,]       134\n",
      " [97,]       135\n",
      " [98,]       136\n",
      " [99,]       137\n",
      "[100,]       138\n",
      "[101,]       139\n",
      "[102,]       140\n",
      "[103,]       141\n",
      "[104,]       142\n",
      "[105,]       143\n",
      "[106,]       144\n",
      "[107,]       146\n",
      "[108,]       147\n",
      "[109,]       148\n",
      "[110,]       149\n",
      "[111,]       150\n",
      "[112,]       152\n",
      "[113,]       154\n",
      "[114,]       155\n",
      "[115,]       156\n",
      "[116,]       157\n",
      "[117,]       159\n",
      "[118,]       162\n",
      "[119,]       164\n",
      "[120,]       165\n",
      "[121,]       166\n",
      "[122,]       168\n",
      "[123,]       169\n",
      "[124,]       170\n",
      "[125,]       171\n",
      "[126,]       172\n",
      "[127,]       173\n",
      "[128,]       174\n",
      "[129,]       176\n",
      "[130,]       177\n",
      "[131,]       178\n",
      "[132,]       179\n",
      "[133,]       180\n",
      "[134,]       181\n",
      "[135,]       182\n",
      "[136,]       184\n",
      "[137,]       185\n",
      "[138,]       187\n",
      "[139,]       188\n",
      "[140,]       189\n",
      "[141,]       191\n",
      "[142,]       193\n",
      "[143,]       196\n",
      "[144,]       198\n",
      "[145,]       199\n",
      "[146,]       200\n",
      "[147,]       203\n",
      "[148,]       204\n",
      "[149,]       206\n",
      "[150,]       209\n",
      "[151,]       210\n",
      "[152,]       211\n",
      "[153,]       213\n",
      "[154,]       214\n",
      "[155,]       216\n",
      "[156,]       219\n",
      "[157,]       220\n",
      "[158,]       221\n",
      "[159,]       222\n",
      "[160,]       223\n",
      "[161,]       224\n",
      "[162,]       225\n",
      "[163,]       227\n",
      "[164,]       228\n",
      "[165,]       229\n",
      "[166,]       231\n",
      "[167,]       232\n",
      "[168,]       233\n",
      "[169,]       234\n",
      "[170,]       235\n",
      "[171,]       237\n",
      "[172,]       238\n",
      "[173,]       239\n",
      "[174,]       241\n",
      "[175,]       242\n",
      "[176,]       243\n",
      "[177,]       245\n",
      "[178,]       246\n",
      "[179,]       247\n",
      "[180,]       249\n",
      "[181,]       251\n",
      "[182,]       252\n",
      "[183,]       253\n",
      "[184,]       254\n",
      "[185,]       256\n",
      "[186,]       257\n",
      "[187,]       258\n",
      "[188,]       259\n",
      "[189,]       260\n",
      "[190,]       262\n",
      "[191,]       263\n",
      "[192,]       264\n",
      "[193,]       265\n",
      "[194,]       268\n",
      "[195,]       270\n",
      "[196,]       276\n",
      "[197,]       278\n",
      "[198,]       279\n",
      "[199,]       281\n",
      "[200,]       282\n",
      "[201,]       285\n",
      "[202,]       286\n",
      "[203,]       287\n",
      "[204,]       288\n",
      "[205,]       289\n",
      "[206,]       293\n",
      "[207,]       294\n",
      "[208,]       295\n",
      "[209,]       296\n",
      "[210,]       297\n",
      "[211,]       300\n",
      "[212,]       301\n",
      "[213,]       303\n"
     ]
    }
   ],
   "source": [
    "# caret : classification and regression package\n",
    "#install.packages('caret', repos='http://cran.us.r-project.org')\n",
    "library(caret)#include \n",
    "set.seed(1000) #reproducability setting 이 숫자를 기억해 놓고 쓰면 랜덤한 수가 달ㄹ라지지 않고 계속 이대로\n",
    "# list=FALSE returns matrix, list=TRUE returns list\n",
    "# df$AHD : AHD의 YES, NO 별로 각 70%씩을 train data로 지정\n",
    "intrain<-createDataPartition(y=df$AHD, p=0.7, list=FALSE) #트레인데이터로 70퍼센트를 쪼새서 list에 있는 걸로 반환\n",
    "print (intrain)\n",
    "train<-df[intrain, ]\n",
    "test<-df[-intrain, ]#행에 있지 않은 데이터들"
   ]
  },
  {
   "cell_type": "code",
   "execution_count": 13,
   "metadata": {},
   "outputs": [
    {
     "name": "stdout",
     "output_type": "stream",
     "text": [
      "node), split, n, deviance, yval, (yprob)\n",
      "      * denotes terminal node\n",
      "\n",
      " 1) root 209 288.700 No ( 0.53589 0.46411 )  \n",
      "   2) Thal: normal 118 126.900 No ( 0.77119 0.22881 )  \n",
      "     4) Age < 56.5 68  40.590 No ( 0.91176 0.08824 )  \n",
      "       8) MaxHR < 154 19  23.700 No ( 0.68421 0.31579 ) *\n",
      "       9) MaxHR > 154 49   0.000 No ( 1.00000 0.00000 ) *\n",
      "     5) Age > 56.5 50  68.030 No ( 0.58000 0.42000 )  \n",
      "      10) Slope < 1.5 29  32.050 No ( 0.75862 0.24138 )  \n",
      "        20) Oldpeak < 0.1 18  24.060 No ( 0.61111 0.38889 )  \n",
      "          40) RestBP < 124.5 5   0.000 No ( 1.00000 0.00000 ) *\n",
      "          41) RestBP > 124.5 13  17.940 Yes ( 0.46154 0.53846 )  \n",
      "            82) Chol < 303.5 8   8.997 No ( 0.75000 0.25000 ) *\n",
      "            83) Chol > 303.5 5   0.000 Yes ( 0.00000 1.00000 ) *\n",
      "        21) Oldpeak > 0.1 11   0.000 No ( 1.00000 0.00000 ) *\n",
      "      11) Slope > 1.5 21  26.730 Yes ( 0.33333 0.66667 )  \n",
      "        22) ChestPain: nonanginal,typical 6   7.638 No ( 0.66667 0.33333 ) *\n",
      "        23) ChestPain: asymptomatic,nontypical 15  15.010 Yes ( 0.20000 0.80000 )  \n",
      "          46) ExAng < 0.5 7   9.561 Yes ( 0.42857 0.57143 ) *\n",
      "          47) ExAng > 0.5 8   0.000 Yes ( 0.00000 1.00000 ) *\n",
      "   3) Thal: fixed,reversable 91  98.320 Yes ( 0.23077 0.76923 )  \n",
      "     6) Ca < 0.5 41  56.230 Yes ( 0.43902 0.56098 )  \n",
      "      12) ExAng < 0.5 23  29.720 No ( 0.65217 0.34783 )  \n",
      "        24) Age < 51 9  11.460 Yes ( 0.33333 0.66667 ) *\n",
      "        25) Age > 51 14  11.480 No ( 0.85714 0.14286 )  \n",
      "          50) Chol < 233.5 9   0.000 No ( 1.00000 0.00000 ) *\n",
      "          51) Chol > 233.5 5   6.730 No ( 0.60000 0.40000 ) *\n",
      "      13) ExAng > 0.5 18  16.220 Yes ( 0.16667 0.83333 )  \n",
      "        26) X < 161.5 12   0.000 Yes ( 0.00000 1.00000 ) *\n",
      "        27) X > 161.5 6   8.318 Yes ( 0.50000 0.50000 ) *\n",
      "     7) Ca > 0.5 50  22.700 Yes ( 0.06000 0.94000 )  \n",
      "      14) Oldpeak < 0.3 10  12.220 Yes ( 0.30000 0.70000 )  \n",
      "        28) Oldpeak < 0.05 5   0.000 Yes ( 0.00000 1.00000 ) *\n",
      "        29) Oldpeak > 0.05 5   6.730 No ( 0.60000 0.40000 ) *\n",
      "      15) Oldpeak > 0.3 40   0.000 Yes ( 0.00000 1.00000 ) *\n"
     ]
    },
    {
     "data": {
      "image/png": "[encoded data removed]",
      "text/plain": [
       "plot without title"
      ]
     },
     "metadata": {},
     "output_type": "display_data"
    }
   ],
   "source": [
    "#install.packages('tree', repos='http://cran.us.r-project.org')\n",
    "library(tree)\n",
    "treemod<-tree(AHD~. , data=train)#타켓 ~input들\n",
    "plot(treemod)\n",
    "text(treemod)\n",
    "print(treemod)"
   ]
  },
  {
   "cell_type": "markdown",
   "metadata": {},
   "source": [
    "## cross-validation : training data를 같은 사이즈의 k개로 나눠서 얼마를 training데이터로 나머지를 validation 용으로. 검증용으로 k번 수행해서 최고 평균 값으로\n",
    "\n",
    "test data와 다름. test data는 최종으로 만들어진 모델을 가지고 이제 실전"
   ]
  },
  {
   "cell_type": "code",
   "execution_count": 14,
   "metadata": {},
   "outputs": [
    {
     "data": {
      "image/png": "[encoded data removed]",
      "text/plain": [
       "plot without title"
      ]
     },
     "metadata": {},
     "output_type": "display_data"
    }
   ],
   "source": [
    "# tree needs pruning due to overfitting whereas ctree does not.오버피팅의 가능성땜ㄴ에\n",
    "# Do pruning using k-fold cross-validation 프루닝함\n",
    "# Divide train set into K groups. Use K-1 groups for training and 1 group for validation. \n",
    "# Repeat K times and take average performance. Try for different K's and choose the one giving the best average.\n",
    "# k 값에 변화를 줘서 가장 좋은 k값으로 \n",
    "# (Do partition several times and choose the one with min variance)\n",
    "# cv = cross validation, FUN : pruning function name\n",
    "cv.trees<-cv.tree(treemod, FUN=prune.misclass ) # for classification decision tree 프루닝\n",
    "plot(cv.trees) # k값에 따른 misclass 정도\n",
    "#12 이 정도가 젤 낮으니까 이게 젤 좋겠네"
   ]
  },
  {
   "cell_type": "markdown",
   "metadata": {},
   "source": [
    "# set best to size with min variance"
   ]
  },
  {
   "cell_type": "code",
   "execution_count": 15,
   "metadata": {},
   "outputs": [
    {
     "data": {
      "image/png": "[encoded data removed]",
      "text/plain": [
       "plot without title"
      ]
     },
     "metadata": {},
     "output_type": "display_data"
    }
   ],
   "source": [
    "prune.trees <- prune.misclass(treemod, best=11)  # for regression decision tree, use prune.tree function\n",
    "plot(prune.trees)\n",
    "text(prune.trees, pretty=0)"
   ]
  },
  {
   "cell_type": "markdown",
   "metadata": {},
   "source": [
    "# Do prediction on test set and evaluate the model"
   ]
  },
  {
   "cell_type": "code",
   "execution_count": 18,
   "metadata": {},
   "outputs": [
    {
     "name": "stdout",
     "output_type": "stream",
     "text": [
      "[1] \"Prediction for test set\"\n"
     ]
    },
    {
     "data": {
      "text/plain": [
       "Confusion Matrix and Statistics\n",
       "\n",
       "          Reference\n",
       "Prediction No Yes\n",
       "       No  38  10\n",
       "       Yes 11  31\n",
       "                                          \n",
       "               Accuracy : 0.7667          \n",
       "                 95% CI : (0.6657, 0.8494)\n",
       "    No Information Rate : 0.5444          \n",
       "    P-Value [Acc > NIR] : 1.061e-05       \n",
       "                                          \n",
       "                  Kappa : 0.5306          \n",
       " Mcnemar's Test P-Value : 1               \n",
       "                                          \n",
       "            Sensitivity : 0.7755          \n",
       "            Specificity : 0.7561          \n",
       "         Pos Pred Value : 0.7917          \n",
       "         Neg Pred Value : 0.7381          \n",
       "             Prevalence : 0.5444          \n",
       "         Detection Rate : 0.4222          \n",
       "   Detection Prevalence : 0.5333          \n",
       "      Balanced Accuracy : 0.7658          \n",
       "                                          \n",
       "       'Positive' Class : No              \n",
       "                                          "
      ]
     },
     "metadata": {},
     "output_type": "display_data"
    },
    {
     "name": "stdout",
     "output_type": "stream",
     "text": [
      "[1] \"Prediction for training set\"\n"
     ]
    },
    {
     "data": {
      "text/plain": [
       "Confusion Matrix and Statistics\n",
       "\n",
       "          Reference\n",
       "Prediction  No Yes\n",
       "       No  102  12\n",
       "       Yes  13  86\n",
       "                                          \n",
       "               Accuracy : 0.8826          \n",
       "                 95% CI : (0.8316, 0.9226)\n",
       "    No Information Rate : 0.5399          \n",
       "    P-Value [Acc > NIR] : <2e-16          \n",
       "                                          \n",
       "                  Kappa : 0.7639          \n",
       " Mcnemar's Test P-Value : 1               \n",
       "                                          \n",
       "            Sensitivity : 0.8870          \n",
       "            Specificity : 0.8776          \n",
       "         Pos Pred Value : 0.8947          \n",
       "         Neg Pred Value : 0.8687          \n",
       "             Prevalence : 0.5399          \n",
       "         Detection Rate : 0.4789          \n",
       "   Detection Prevalence : 0.5352          \n",
       "      Balanced Accuracy : 0.8823          \n",
       "                                          \n",
       "       'Positive' Class : No              \n",
       "                                          "
      ]
     },
     "metadata": {},
     "output_type": "display_data"
    }
   ],
   "source": [
    "#install.packages('e1071', repos='http://cran.us.r-project.org')\n",
    "# e1071 contains statistical functions such as support vector machine, \n",
    "# naive Bayes, Fourier transform, fuzzy clustering, etc.\n",
    "library(e1071)\n",
    "print(\"Prediction for test set\")\n",
    "treepred <- predict(prune.trees, test, type='class')#test data setㅇ으로\n",
    "confusionMatrix(treepred, test$AHD)# 모델이 얼마나 예측에 불 정확한가 yes가 yes이고 no가 no 인게 정확 yy + n/전체\n",
    "print(\"Prediction for training set\")\n",
    "treepred <- predict(prune.trees, train, type='class')#type는 거르는 거. class는 label주고 response는 숫자를 줌\n",
    "confusionMatrix(treepred, train$AHD)"
   ]
  },
  {
   "cell_type": "code",
   "execution_count": null,
   "metadata": {
    "collapsed": true
   },
   "outputs": [],
   "source": []
  }
 ],
 "metadata": {
  "kernelspec": {
   "display_name": "R",
   "language": "R",
   "name": "ir"
  },
  "language_info": {
   "codemirror_mode": "r",
   "file_extension": ".r",
   "mimetype": "text/x-r-source",
   "name": "R",
   "pygments_lexer": "r",
   "version": "3.4.1"
  }
 },
 "nbformat": 4,
 "nbformat_minor": 2
}
