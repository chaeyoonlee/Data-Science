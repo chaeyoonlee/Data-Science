{
 "cells": [
  {
   "cell_type": "markdown",
   "metadata": {},
   "source": [
    "# Comparison of 3 Decision tree algorithms\n",
    "## (Refer to http://www.dodomira.com/2016/05/29/564/)\n",
    "### 3가지 패키지는 가지치기 방법따라 다름\n",
    "\n",
    "tree 패키지는 binary recursive partitioning을,  rpart 패키지는 CART(classification and regression trees) 방법론을 사용합니다. 이 패키지들은 엔트로피, 지니계수를 기준으로 가지치기를 할 변수를 결정하기 때문에 상대적으로 연산 속도는 빠르지만 과적합화의 위험성이 존재합니다. 그래서 두 패키지를 사용할 경우에는 Pruning 과정을 거쳐서 의사결정나무를 최적화 하는 과정이 필요합니다.\n",
    "\n",
    "party 패키지는 Unbiased recursive partitioning based on permutation tests 방법론을 사용합니다. p-test를 거친 Significance를 기준으로 가지치기를 할 변수를 결정하기 때문에 biased 될 위험이 없어 별도로 Pruning할 필요가 없다는 장점이 있습니다. 대신 입력 변수의 레벨이 31개 까지로 제한되어 있다는 단점이 있죠.\n",
    "\n",
    "### R has many different packages having same or similar algorithms. Three representative packages having decision tree algorithms are:\n",
    "### 1. rpart package - recursive partitioning based on Gini and entropy, pruning needed(overfitting 때문에)\n",
    "### 2. tree package - CART based on Gini and entropy, pruning needed\n",
    "### 3. party package - Unbiased recursive partitioning based on permutation tests(p-test), pruning not needed"
   ]
  },
  {
   "cell_type": "markdown",
   "metadata": {},
   "source": [
    "## Read in Heart.csv data and show structure"
   ]
  },
  {
   "cell_type": "code",
   "execution_count": 10,
   "metadata": {},
   "outputs": [
    {
     "name": "stdout",
     "output_type": "stream",
     "text": [
      "'data.frame':\t303 obs. of  15 variables:\n",
      " $ X        : int  1 2 3 4 5 6 7 8 9 10 ...\n",
      " $ Age      : int  63 67 67 37 41 56 62 57 63 53 ...\n",
      " $ Sex      : int  1 1 1 1 0 1 0 0 1 1 ...\n",
      " $ ChestPain: Factor w/ 4 levels \"asymptomatic\",..: 4 1 1 2 3 3 1 1 1 1 ...\n",
      " $ RestBP   : int  145 160 120 130 130 120 140 120 130 140 ...\n",
      " $ Chol     : int  233 286 229 250 204 236 268 354 254 203 ...\n",
      " $ Fbs      : int  1 0 0 0 0 0 0 0 0 1 ...\n",
      " $ RestECG  : int  2 2 2 0 2 0 2 0 2 2 ...\n",
      " $ MaxHR    : int  150 108 129 187 172 178 160 163 147 155 ...\n",
      " $ ExAng    : int  0 1 1 0 0 0 0 1 0 1 ...\n",
      " $ Oldpeak  : num  2.3 1.5 2.6 3.5 1.4 0.8 3.6 0.6 1.4 3.1 ...\n",
      " $ Slope    : int  3 2 2 3 1 1 3 1 2 3 ...\n",
      " $ Ca       : int  0 3 2 0 0 0 2 0 1 0 ...\n",
      " $ Thal     : Factor w/ 3 levels \"fixed\",\"normal\",..: 1 2 3 2 2 2 2 2 3 3 ...\n",
      " $ AHD      : Factor w/ 2 levels \"No\",\"Yes\": 1 2 2 1 1 1 2 1 2 2 ...\n"
     ]
    }
   ],
   "source": [
    "df<-read.csv('http://www-bcf.usc.edu/~gareth/ISL/Heart.csv')\n",
    "str(df)\n",
    "#obs 행 AHD 심장 질환 여부(타겟 변수로 될꺼임) "
   ]
  },
  {
   "cell_type": "code",
   "execution_count": 2,
   "metadata": {},
   "outputs": [
    {
     "data": {
      "text/html": [
       "<table>\n",
       "<thead><tr><th scope=col>X</th><th scope=col>Age</th><th scope=col>Sex</th><th scope=col>ChestPain</th><th scope=col>RestBP</th><th scope=col>Chol</th><th scope=col>Fbs</th><th scope=col>RestECG</th><th scope=col>MaxHR</th><th scope=col>ExAng</th><th scope=col>Oldpeak</th><th scope=col>Slope</th><th scope=col>Ca</th><th scope=col>Thal</th><th scope=col>AHD</th></tr></thead>\n",
       "<tbody>\n",
       "\t<tr><td>1           </td><td>63          </td><td>1           </td><td>typical     </td><td>145         </td><td>233         </td><td>1           </td><td>2           </td><td>150         </td><td>0           </td><td>2.3         </td><td>3           </td><td>0           </td><td>fixed       </td><td>No          </td></tr>\n",
       "\t<tr><td>2           </td><td>67          </td><td>1           </td><td>asymptomatic</td><td>160         </td><td>286         </td><td>0           </td><td>2           </td><td>108         </td><td>1           </td><td>1.5         </td><td>2           </td><td>3           </td><td>normal      </td><td>Yes         </td></tr>\n",
       "\t<tr><td>3           </td><td>67          </td><td>1           </td><td>asymptomatic</td><td>120         </td><td>229         </td><td>0           </td><td>2           </td><td>129         </td><td>1           </td><td>2.6         </td><td>2           </td><td>2           </td><td>reversable  </td><td>Yes         </td></tr>\n",
       "\t<tr><td>4           </td><td>37          </td><td>1           </td><td>nonanginal  </td><td>130         </td><td>250         </td><td>0           </td><td>0           </td><td>187         </td><td>0           </td><td>3.5         </td><td>3           </td><td>0           </td><td>normal      </td><td>No          </td></tr>\n",
       "\t<tr><td>5           </td><td>41          </td><td>0           </td><td>nontypical  </td><td>130         </td><td>204         </td><td>0           </td><td>2           </td><td>172         </td><td>0           </td><td>1.4         </td><td>1           </td><td>0           </td><td>normal      </td><td>No          </td></tr>\n",
       "\t<tr><td>6           </td><td>56          </td><td>1           </td><td>nontypical  </td><td>120         </td><td>236         </td><td>0           </td><td>0           </td><td>178         </td><td>0           </td><td>0.8         </td><td>1           </td><td>0           </td><td>normal      </td><td>No          </td></tr>\n",
       "</tbody>\n",
       "</table>\n"
      ],
      "text/latex": [
       "\\begin{tabular}{r|lllllllllllllll}\n",
       " X & Age & Sex & ChestPain & RestBP & Chol & Fbs & RestECG & MaxHR & ExAng & Oldpeak & Slope & Ca & Thal & AHD\\\\\n",
       "\\hline\n",
       "\t 1            & 63           & 1            & typical      & 145          & 233          & 1            & 2            & 150          & 0            & 2.3          & 3            & 0            & fixed        & No          \\\\\n",
       "\t 2            & 67           & 1            & asymptomatic & 160          & 286          & 0            & 2            & 108          & 1            & 1.5          & 2            & 3            & normal       & Yes         \\\\\n",
       "\t 3            & 67           & 1            & asymptomatic & 120          & 229          & 0            & 2            & 129          & 1            & 2.6          & 2            & 2            & reversable   & Yes         \\\\\n",
       "\t 4            & 37           & 1            & nonanginal   & 130          & 250          & 0            & 0            & 187          & 0            & 3.5          & 3            & 0            & normal       & No          \\\\\n",
       "\t 5            & 41           & 0            & nontypical   & 130          & 204          & 0            & 2            & 172          & 0            & 1.4          & 1            & 0            & normal       & No          \\\\\n",
       "\t 6            & 56           & 1            & nontypical   & 120          & 236          & 0            & 0            & 178          & 0            & 0.8          & 1            & 0            & normal       & No          \\\\\n",
       "\\end{tabular}\n"
      ],
      "text/markdown": [
       "\n",
       "X | Age | Sex | ChestPain | RestBP | Chol | Fbs | RestECG | MaxHR | ExAng | Oldpeak | Slope | Ca | Thal | AHD | \n",
       "|---|---|---|---|---|---|\n",
       "| 1            | 63           | 1            | typical      | 145          | 233          | 1            | 2            | 150          | 0            | 2.3          | 3            | 0            | fixed        | No           | \n",
       "| 2            | 67           | 1            | asymptomatic | 160          | 286          | 0            | 2            | 108          | 1            | 1.5          | 2            | 3            | normal       | Yes          | \n",
       "| 3            | 67           | 1            | asymptomatic | 120          | 229          | 0            | 2            | 129          | 1            | 2.6          | 2            | 2            | reversable   | Yes          | \n",
       "| 4            | 37           | 1            | nonanginal   | 130          | 250          | 0            | 0            | 187          | 0            | 3.5          | 3            | 0            | normal       | No           | \n",
       "| 5            | 41           | 0            | nontypical   | 130          | 204          | 0            | 2            | 172          | 0            | 1.4          | 1            | 0            | normal       | No           | \n",
       "| 6            | 56           | 1            | nontypical   | 120          | 236          | 0            | 0            | 178          | 0            | 0.8          | 1            | 0            | normal       | No           | \n",
       "\n",
       "\n"
      ],
      "text/plain": [
       "  X Age Sex ChestPain    RestBP Chol Fbs RestECG MaxHR ExAng Oldpeak Slope Ca\n",
       "1 1 63  1   typical      145    233  1   2       150   0     2.3     3     0 \n",
       "2 2 67  1   asymptomatic 160    286  0   2       108   1     1.5     2     3 \n",
       "3 3 67  1   asymptomatic 120    229  0   2       129   1     2.6     2     2 \n",
       "4 4 37  1   nonanginal   130    250  0   0       187   0     3.5     3     0 \n",
       "5 5 41  0   nontypical   130    204  0   2       172   0     1.4     1     0 \n",
       "6 6 56  1   nontypical   120    236  0   0       178   0     0.8     1     0 \n",
       "  Thal       AHD\n",
       "1 fixed      No \n",
       "2 normal     Yes\n",
       "3 reversable Yes\n",
       "4 normal     No \n",
       "5 normal     No \n",
       "6 normal     No "
      ]
     },
     "metadata": {},
     "output_type": "display_data"
    }
   ],
   "source": [
    "head(df)"
   ]
  },
  {
   "cell_type": "markdown",
   "metadata": {},
   "source": [
    "## Partition data into train and test using caret package"
   ]
  },
  {
   "cell_type": "code",
   "execution_count": 7,
   "metadata": {},
   "outputs": [],
   "source": [
    "#install.packages('caret', repos='http://cran.us.r-project.org')\n",
    "library(caret)#caret은 데이터 셋 나눌려고\n",
    "set.seed(100) #reproducability setting 랜덤숫자 가져오기\n",
    "intrain<-createDataPartition(y=df$AHD, p=0.7, list=FALSE) \n",
    "train<-df[intrain, ]\n",
    "test<-df[-intrain, ]#거기 업는 index들"
   ]
  },
  {
   "cell_type": "markdown",
   "metadata": {},
   "source": [
    "# [rpart]\n",
    "## Load rpart package and produce decision tree"
   ]
  },
  {
   "cell_type": "code",
   "execution_count": 9,
   "metadata": {},
   "outputs": [
    {
     "data": {
      "image/png": "[encoded data removed]",
      "text/plain": [
       "plot without title"
      ]
     },
     "metadata": {},
     "output_type": "display_data"
    }
   ],
   "source": [
    "#install.packages('rpart', repos='http://cran.us.r-project.org')\n",
    "library(rpart)\n",
    "rpartmod<-rpart(AHD~. , data=train, method=\"class\")\n",
    "plot(rpartmod)\n",
    "text(rpartmod)"
   ]
  },
  {
   "cell_type": "markdown",
   "metadata": {},
   "source": [
    "## Do k-fold cross validation for various k and gives number of splits yielding min misclass error 가장 합당한 k값으로 프루닝"
   ]
  },
  {
   "cell_type": "code",
   "execution_count": 24,
   "metadata": {},
   "outputs": [
    {
     "name": "stdout",
     "output_type": "stream",
     "text": [
      "\n",
      "Classification tree:\n",
      "rpart(formula = AHD ~ ., data = train, method = \"class\")\n",
      "\n",
      "Variables actually used in tree construction:\n",
      "[1] Age       Ca        ChestPain Chol      Slope     Thal     \n",
      "\n",
      "Root node error: 98/213 = 0.46009\n",
      "\n",
      "n= 213 \n",
      "\n",
      "        CP nsplit rel error  xerror     xstd\n",
      "1 0.520408      0   1.00000 1.00000 0.074224\n",
      "2 0.035714      1   0.47959 0.56122 0.065177\n",
      "3 0.030612      3   0.40816 0.59184 0.066292\n",
      "4 0.020408      5   0.34694 0.55102 0.064786\n",
      "5 0.010204      6   0.32653 0.54082 0.064385\n",
      "6 0.010000      8   0.30612 0.54082 0.064385\n"
     ]
    },
    {
     "data": {
      "image/png": "[encoded data removed]",
      "text/plain": [
       "plot without title"
      ]
     },
     "metadata": {},
     "output_type": "display_data"
    }
   ],
   "source": [
    "printcp(rpartmod)#cross validation 함수\n",
    "plotcp(rpartmod)"
   ]
  },
  {
   "cell_type": "markdown",
   "metadata": {},
   "source": [
    "## 그래프 보면 6에서 가장 낮음"
   ]
  },
  {
   "cell_type": "markdown",
   "metadata": {},
   "source": [
    "## Do pruning with chosen number of splits\n",
    "### rpart진행항 rpartmod에서 crossvalidation한 table에서 min 값을 찾아내서 (xerror값(y축,x축) 프루닝함"
   ]
  },
  {
   "cell_type": "code",
   "execution_count": 25,
   "metadata": {},
   "outputs": [
    {
     "data": {
      "image/png": "[encoded data removed]",
      "text/plain": [
       "plot without title"
      ]
     },
     "metadata": {},
     "output_type": "display_data"
    }
   ],
   "source": [
    "ptree<-prune(rpartmod, cp= rpartmod$cptable[which.min(rpartmod$cptable[,\"xerror\"]),\"CP\"])\n",
    "plot(ptree)\n",
    "text(ptree)"
   ]
  },
  {
   "cell_type": "markdown",
   "metadata": {},
   "source": [
    "## Do prediction with test data and show statistics\n",
    "### ptree는 프루닝된 트리. 테스트 값으로 이제 됐늕 안됐는지"
   ]
  },
  {
   "cell_type": "code",
   "execution_count": 26,
   "metadata": {},
   "outputs": [
    {
     "data": {
      "text/plain": [
       "Confusion Matrix and Statistics\n",
       "\n",
       "          Reference\n",
       "Prediction No Yes\n",
       "       No  34   5\n",
       "       Yes 15  36\n",
       "                                          \n",
       "               Accuracy : 0.7778          \n",
       "                 95% CI : (0.6779, 0.8587)\n",
       "    No Information Rate : 0.5444          \n",
       "    P-Value [Acc > NIR] : 3.689e-06       \n",
       "                                          \n",
       "                  Kappa : 0.5608          \n",
       " Mcnemar's Test P-Value : 0.04417         \n",
       "                                          \n",
       "            Sensitivity : 0.6939          \n",
       "            Specificity : 0.8780          \n",
       "         Pos Pred Value : 0.8718          \n",
       "         Neg Pred Value : 0.7059          \n",
       "             Prevalence : 0.5444          \n",
       "         Detection Rate : 0.3778          \n",
       "   Detection Prevalence : 0.4333          \n",
       "      Balanced Accuracy : 0.7860          \n",
       "                                          \n",
       "       'Positive' Class : No              \n",
       "                                          "
      ]
     },
     "metadata": {},
     "output_type": "display_data"
    }
   ],
   "source": [
    "rpartpred<-predict(ptree, test, type='class')#프루닝된 tree에서 test가지고\n",
    "confusionMatrix(rpartpred, test$AHD)# reference는 원래 값 yes yes nono가 예측이 정확히 된 거\n",
    "# kappa는 random으로 yes no 준 거. random으로 준 데이터보다 낮다면 우리가 한 게 별 효과가 없다. "
   ]
  },
  {
   "cell_type": "markdown",
   "metadata": {},
   "source": [
    "# [tree]\n",
    "## Load tree package and produce decision tree"
   ]
  },
  {
   "cell_type": "code",
   "execution_count": 27,
   "metadata": {},
   "outputs": [
    {
     "data": {
      "image/png": "[encoded data removed]",
      "text/plain": [
       "plot without title"
      ]
     },
     "metadata": {},
     "output_type": "display_data"
    }
   ],
   "source": [
    "library(tree)\n",
    "treemod<-tree(AHD~. , data=train)\n",
    "plot(treemod)\n",
    "text(treemod)"
   ]
  },
  {
   "cell_type": "markdown",
   "metadata": {},
   "source": [
    "## Do k-fold cross validation for various k and gives k yielding min misclass error"
   ]
  },
  {
   "cell_type": "code",
   "execution_count": 28,
   "metadata": {},
   "outputs": [
    {
     "data": {
      "image/png": "[encoded data removed]",
      "text/plain": [
       "plot without title"
      ]
     },
     "metadata": {},
     "output_type": "display_data"
    }
   ],
   "source": [
    "cv.trees<-cv.tree(treemod, FUN=prune.misclass ) # for classification decision tree\n",
    "plot(cv.trees)"
   ]
  },
  {
   "cell_type": "markdown",
   "metadata": {},
   "source": [
    "## Do pruning with chosen k"
   ]
  },
  {
   "cell_type": "code",
   "execution_count": 29,
   "metadata": {},
   "outputs": [
    {
     "data": {
      "image/png": "[encoded data removed]",
      "text/plain": [
       "plot without title"
      ]
     },
     "metadata": {},
     "output_type": "display_data"
    }
   ],
   "source": [
    "prune.trees <- prune.misclass(treemod, best=7)  # for regression decision tree, use prune.tree function\n",
    "plot(prune.trees)\n",
    "text(prune.trees, pretty=0)"
   ]
  },
  {
   "cell_type": "markdown",
   "metadata": {},
   "source": [
    "## Do prediction with test data and show statistics"
   ]
  },
  {
   "cell_type": "code",
   "execution_count": 30,
   "metadata": {},
   "outputs": [
    {
     "data": {
      "text/plain": [
       "Confusion Matrix and Statistics\n",
       "\n",
       "          Reference\n",
       "Prediction No Yes\n",
       "       No  34   5\n",
       "       Yes 15  36\n",
       "                                          \n",
       "               Accuracy : 0.7778          \n",
       "                 95% CI : (0.6779, 0.8587)\n",
       "    No Information Rate : 0.5444          \n",
       "    P-Value [Acc > NIR] : 3.689e-06       \n",
       "                                          \n",
       "                  Kappa : 0.5608          \n",
       " Mcnemar's Test P-Value : 0.04417         \n",
       "                                          \n",
       "            Sensitivity : 0.6939          \n",
       "            Specificity : 0.8780          \n",
       "         Pos Pred Value : 0.8718          \n",
       "         Neg Pred Value : 0.7059          \n",
       "             Prevalence : 0.5444          \n",
       "         Detection Rate : 0.3778          \n",
       "   Detection Prevalence : 0.4333          \n",
       "      Balanced Accuracy : 0.7860          \n",
       "                                          \n",
       "       'Positive' Class : No              \n",
       "                                          "
      ]
     },
     "metadata": {},
     "output_type": "display_data"
    }
   ],
   "source": [
    "library(e1071)\n",
    "treepred <- predict(prune.trees, test, type='class')\n",
    "confusionMatrix(treepred, test$AHD)"
   ]
  },
  {
   "cell_type": "markdown",
   "metadata": {},
   "source": [
    "# [party]\n",
    "## Load party package and produce decision tree"
   ]
  },
  {
   "cell_type": "code",
   "execution_count": 31,
   "metadata": {},
   "outputs": [
    {
     "data": {
      "image/png": "[encoded data removed]",
      "text/plain": [
       "plot without title"
      ]
     },
     "metadata": {},
     "output_type": "display_data"
    }
   ],
   "source": [
    "library(party)\n",
    "partymod<-ctree(AHD~., data=train)\n",
    "plot(partymod)"
   ]
  },
  {
   "cell_type": "markdown",
   "metadata": {},
   "source": [
    "## Do prediction with test data and show statistics"
   ]
  },
  {
   "cell_type": "code",
   "execution_count": 32,
   "metadata": {},
   "outputs": [
    {
     "data": {
      "text/plain": [
       "Confusion Matrix and Statistics\n",
       "\n",
       "          Reference\n",
       "Prediction No Yes\n",
       "       No  31   8\n",
       "       Yes 18  33\n",
       "                                         \n",
       "               Accuracy : 0.7111         \n",
       "                 95% CI : (0.606, 0.8018)\n",
       "    No Information Rate : 0.5444         \n",
       "    P-Value [Acc > NIR] : 0.0008961      \n",
       "                                         \n",
       "                  Kappa : 0.429          \n",
       " Mcnemar's Test P-Value : 0.0775562      \n",
       "                                         \n",
       "            Sensitivity : 0.6327         \n",
       "            Specificity : 0.8049         \n",
       "         Pos Pred Value : 0.7949         \n",
       "         Neg Pred Value : 0.6471         \n",
       "             Prevalence : 0.5444         \n",
       "         Detection Rate : 0.3444         \n",
       "   Detection Prevalence : 0.4333         \n",
       "      Balanced Accuracy : 0.7188         \n",
       "                                         \n",
       "       'Positive' Class : No             \n",
       "                                         "
      ]
     },
     "metadata": {},
     "output_type": "display_data"
    }
   ],
   "source": [
    "partypred<-predict(partymod, test)\n",
    "confusionMatrix(partypred, test$AHD)  "
   ]
  },
  {
   "cell_type": "code",
   "execution_count": null,
   "metadata": {
    "collapsed": true
   },
   "outputs": [],
   "source": []
  }
 ],
 "metadata": {
  "kernelspec": {
   "display_name": "R",
   "language": "R",
   "name": "ir"
  },
  "language_info": {
   "codemirror_mode": "r",
   "file_extension": ".r",
   "mimetype": "text/x-r-source",
   "name": "R",
   "pygments_lexer": "r",
   "version": "3.4.1"
  }
 },
 "nbformat": 4,
 "nbformat_minor": 2
}
