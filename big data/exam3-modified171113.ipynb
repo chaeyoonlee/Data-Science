{
 "cells": [
  {
   "cell_type": "markdown",
   "metadata": {},
   "source": [
    "# Exam 3: Data Mining, Regression and Classification"
   ]
  },
  {
   "cell_type": "markdown",
   "metadata": {},
   "source": [
    "# Setup"
   ]
  },
  {
   "cell_type": "code",
   "execution_count": 39,
   "metadata": {
    "collapsed": true
   },
   "outputs": [],
   "source": [
    "import csv\n",
    "import pandas as pd\n",
    "import numpy as np\n",
    "from sklearn.neighbors import KNeighborsClassifier\n",
    "import matplotlib.pyplot as plt\n",
    "%matplotlib inline"
   ]
  },
  {
   "cell_type": "code",
   "execution_count": 40,
   "metadata": {},
   "outputs": [
    {
     "name": "stdout",
     "output_type": "stream",
     "text": [
      "213\n",
      "cold: 17\n",
      "cool: 92\n",
      "warm: 79\n",
      "hot: 25\n"
     ]
    }
   ],
   "source": [
    "# Read Cities.csv into dataframe, add column for temperature category\n",
    "# Note: For a dataframe D and integer i, D.ix[i] is the i-th row of D\n",
    "f = open('Cities.csv','rU')\n",
    "cities = pd.read_csv(f)\n",
    "print len(cities)\n",
    "cats = []\n",
    "for i in range(len(cities)):\n",
    "    if cities.iloc[i]['temperature'] < 5:\n",
    "        cats.append('cold')\n",
    "    elif cities.iloc[i]['temperature'] < 9:\n",
    "        cats.append('cool')\n",
    "    elif cities.iloc[i]['temperature'] < 15:\n",
    "        cats.append('warm')\n",
    "    else: cats.append('hot')\n",
    "cities['category'] = cats\n",
    "print \"cold:\", len(cities[(cities.category == 'cold')])\n",
    "print \"cool:\", len(cities[(cities.category == 'cool')])\n",
    "print \"warm:\", len(cities[(cities.category == 'warm')])\n",
    "print \"hot:\", len(cities[(cities.category == 'hot')])"
   ]
  },
  {
   "cell_type": "markdown",
   "metadata": {},
   "source": [
    "# Problem 1 (K-NN Classification)\n",
    "위에서 만든 dataframe인 cities를 편집하여 country가 Germany, Spain, France, Romania인 데이터만 갖는 새로운 dataframe을 만드시오. 이 dataframe을 city 이름의 오름차순으로 정렬하고 첫 10개를 출력하시오. 이 dataframe의 상위 90%를 training data로 사용하고 나머지는 test data로 사용하여 K-NN classification을 수행하시오. 이 때 K 값을 2부터 10까지 변화시켜 가며 training accuracy와 test accuracy를 계산하여 K 값과 두 accuracy 값을 출력하시오. 그리고 9개의 K 값중 training accuracy와 test accuracy 차의 절대값이 가장 작은 K값과 그 때의 차의 절대값을 출력하시오. 아래 각 cell에 지정된 부분을 수행하는 code를 넣으시오."
   ]
  },
  {
   "cell_type": "markdown",
   "metadata": {},
   "source": [
    "### (a) 위에서 만든 dataframe인 cities를 편집하여 country가 Germany, Spain, France, Romania인 데이터만 갖는 새로운 dataframe을 만들고 그 크기를 출력하시오."
   ]
  },
  {
   "cell_type": "code",
   "execution_count": 41,
   "metadata": {},
   "outputs": [
    {
     "name": "stdout",
     "output_type": "stream",
     "text": [
      "59\n"
     ]
    }
   ],
   "source": [
    "cities = cities[(cities.country=='Germany') | (cities.country =='Spain') | (cities.country=='France') | (cities.country=='Romania')]\n",
    "print len(cities)"
   ]
  },
  {
   "cell_type": "markdown",
   "metadata": {},
   "source": [
    "### (b) 이 dataframe을 city 이름의 오름차순으로 정렬하고 첫 10개를 출력하시오."
   ]
  },
  {
   "cell_type": "code",
   "execution_count": 42,
   "metadata": {},
   "outputs": [
    {
     "name": "stdout",
     "output_type": "stream",
     "text": [
      "         city  country  latitude  longitude  temperature category\n",
      "4    Albacete    Spain     39.00      -1.87        12.62     warm\n",
      "5   Algeciras    Spain     36.13      -5.47        17.38      hot\n",
      "6      Amiens   France     49.90       2.30        10.17     warm\n",
      "10     Angers   France     47.48      -0.53        10.98     warm\n",
      "13       Arad  Romania     46.17      21.32         9.32     warm\n",
      "15   Augsburg  Germany     48.35      10.90         4.54     cold\n",
      "16      Bacau  Romania     46.58      26.92         7.51     cool\n",
      "17    Badajoz    Spain     38.88      -6.97        15.61      hot\n",
      "18  Baia Mare  Romania     47.66      23.58         8.87     cool\n",
      "20  Barcelona    Spain     41.38       2.18        15.78      hot\n"
     ]
    }
   ],
   "source": [
    "cities = cities.sort_values(by='city')\n",
    "print cities[:10]"
   ]
  },
  {
   "cell_type": "markdown",
   "metadata": {},
   "source": [
    "### (c) 이 dataframe의 상위 90%를 training data로 사용하고 나머지는 test data로 사용하며 training data와 test data의 갯수를 출력하시오."
   ]
  },
  {
   "cell_type": "code",
   "execution_count": 43,
   "metadata": {},
   "outputs": [
    {
     "name": "stdout",
     "output_type": "stream",
     "text": [
      "Training set 53 items\n",
      "Test set 6 items\n"
     ]
    }
   ],
   "source": [
    "# Create training and test sets for cities data\n",
    "num_items = len(cities)\n",
    "percent_train = 0.9\n",
    "num_train = int(num_items*percent_train)\n",
    "num_test = num_items - num_train\n",
    "print 'Training set', num_train, 'items'\n",
    "print'Test set', num_test, 'items'\n",
    "citiesTrain = cities[0:num_train]\n",
    "citiesTest = cities[num_train:]"
   ]
  },
  {
   "cell_type": "markdown",
   "metadata": {},
   "source": [
    "### (d) 위의 데이터에 대하여 K-NN classification을 수행하시오. 이 때 K 값을 2부터 10까지 변화시켜 가며 training accuracy와 test accuracy를 계산하여 K 값과 두 accuracy 값을 출력하시오. 그리고 9개의 K 값중 training accuracy와 test accuracy 차의 절대값이 가장 작은 K값과 그 때의 차의 절대값을 출력하시오. accuracy값과 절대값을 출력할때 소수점이하 4자리까지만 하시오.  pandas에서 절대값 함수는 abs()이며 소수점이하 4자리까지의 출력은 print '{0:.4f}'.format(출력변수 또는 수식) 형식을 사용하면 됨."
   ]
  },
  {
   "cell_type": "code",
   "execution_count": 44,
   "metadata": {},
   "outputs": [
    {
     "name": "stdout",
     "output_type": "stream",
     "text": [
      "K =  2\n",
      "Training Accuracy: 0.9434\n",
      "Test Accuracy: 0.8333\n",
      "accuracy difference = 0.1101\n",
      "\n",
      "K =  3\n",
      "Training Accuracy: 0.9811\n",
      "Test Accuracy: 0.8333\n",
      "accuracy difference = 0.1478\n",
      "\n",
      "K =  4\n",
      "Training Accuracy: 0.9811\n",
      "Test Accuracy: 0.8333\n",
      "accuracy difference = 0.1478\n",
      "\n",
      "K =  5\n",
      "Training Accuracy: 0.9811\n",
      "Test Accuracy: 1.0000\n",
      "accuracy difference = 0.0189\n",
      "\n",
      "K =  6\n",
      "Training Accuracy: 0.9434\n",
      "Test Accuracy: 1.0000\n",
      "accuracy difference = 0.0566\n",
      "\n",
      "K =  7\n",
      "Training Accuracy: 0.9057\n",
      "Test Accuracy: 0.8333\n",
      "accuracy difference = 0.0723\n",
      "\n",
      "K =  8\n",
      "Training Accuracy: 0.8868\n",
      "Test Accuracy: 0.8333\n",
      "accuracy difference = 0.0535\n",
      "\n",
      "K =  9\n",
      "Training Accuracy: 0.9057\n",
      "Test Accuracy: 0.8333\n",
      "accuracy difference = 0.0723\n",
      "\n",
      "K =  10\n",
      "Training Accuracy: 0.8491\n",
      "Test Accuracy: 1.0000\n",
      "accuracy difference = 0.1509\n",
      "\n",
      "minimum accuracy K =  5 , minimum accuracy difference = 0.0189\n"
     ]
    }
   ],
   "source": [
    "# Predict temperature category from other features\n",
    "features = ['longitude', 'latitude', 'temperature']\n",
    "minimum = 100\n",
    "for i in range(9):\n",
    "  # Create classfier\n",
    "  neighbors = i+2 # Number of neighbors to consider for k nearest neighbor classification\n",
    "  print 'K = ', neighbors\n",
    "  classifier = KNeighborsClassifier(n_neighbors=neighbors)\n",
    "\n",
    "  # Train the classifier on training data\n",
    "  classifier.fit(citiesTrain[features], citiesTrain['category'])\n",
    "\n",
    "  # Make predictions on training data\n",
    "  train_predictions = classifier.predict(citiesTrain[features])\n",
    "\n",
    "  # Make predictions on test data\n",
    "  test_predictions = classifier.predict(citiesTest[features])\n",
    "\n",
    "  num_train = len(citiesTrain)\n",
    "  num_test = len(citiesTest)\n",
    "  # Calculate training accuracy\n",
    "  train_correct = 0\n",
    "  for i in range(num_train):\n",
    "      #print 'Predicted:', train_predictions[i], ' Actual:', citiesTrain.iloc[i]['category']\n",
    "      if train_predictions[i] == citiesTrain.iloc[i]['category']: train_correct +=1\n",
    "  train_accuracy = float(train_correct)/float(num_train)\n",
    "  print 'Training Accuracy: {0:.4f}' .format(train_accuracy)\n",
    "\n",
    "  # Calculate test accuracy\n",
    "  test_correct = 0\n",
    "  for i in range(num_test):\n",
    "      #print 'Predicted:', test_predictions[i], ' Actual:', citiesTest.iloc[i]['category']\n",
    "      if test_predictions[i] == citiesTest.iloc[i]['category']: test_correct +=1\n",
    "  test_accuracy = float(test_correct)/float(num_test)\n",
    "  print 'Test Accuracy: {0:.4f}' .format(test_accuracy)\n",
    "\n",
    "  if minimum > abs(train_accuracy - test_accuracy): \n",
    "     minimum = abs(train_accuracy - test_accuracy)\n",
    "     min_k = neighbors\n",
    "  print 'accuracy difference = {0:.4f}'.format(abs(train_accuracy - test_accuracy))\n",
    "  print \"\"\n",
    "print 'minimum accuracy K = ', min_k,', minimum accuracy difference = {0:.4f}' .format(minimum)\n",
    "  # Comment out print, try other values for neighbors, other features"
   ]
  },
  {
   "cell_type": "markdown",
   "metadata": {},
   "source": [
    "# Problem 2\n",
    "Movies.csv의 데이터를 이용하여 frequent itemsets of two, frequent itemsets of three, frequent itemsets of four를 출력하는 python 프로그램을 작성하시오. 단, support threshold는 0.03임.(0.3이 아님!!!) 만약 맞게 프로그램했다면 20개의 frequent itemsets of two, 14개의 frequent itemsets of three, 3개의  frequent itemsets of four가 찾아져야 함. 아래 각 cell에 지정된 부분을 수행하는 code를 넣으시오."
   ]
  },
  {
   "cell_type": "markdown",
   "metadata": {},
   "source": [
    "### (a) Frequent itemsets of two\n",
    "모든 frequent itemsets of two와 그것의 갯수를 출력하시오"
   ]
  },
  {
   "cell_type": "code",
   "execution_count": 45,
   "metadata": {},
   "outputs": [
    {
     "name": "stdout",
     "output_type": "stream",
     "text": [
      "FREQUENT ITEMSETS OF TWO:\n",
      "  Gone Girl Inside Out\n",
      "  Gone Girl The Imitation Game\n",
      "  Gone Girl The Fault in Our Stars\n",
      "  Big Hero 6 Gone Girl\n",
      "  Big Hero 6 Inside Out\n",
      "  Big Hero 6 The Imitation Game\n",
      "  Big Hero 6 The Fault in Our Stars\n",
      "  Big Hero 6 Boyhood\n",
      "  Big Hero 6 Fury\n",
      "  Inside Out The Imitation Game\n",
      "  The Imitation Game Wild Tales\n",
      "  The Fault in Our Stars The Imitation Game\n",
      "  Boyhood Gone Girl\n",
      "  Boyhood Inside Out\n",
      "  Boyhood The Imitation Game\n",
      "  Boyhood The Fault in Our Stars\n",
      "  Boyhood Fury\n",
      "  Fury Gone Girl\n",
      "  Fury Inside Out\n",
      "  Fury The Imitation Game\n",
      "20\n"
     ]
    }
   ],
   "source": [
    "transactions={} # dictionary from TID to list of items\n",
    "items={} # dictionary from item to list of TIDs\n",
    "with open('Movies.csv', 'rU') as csvfile:\n",
    "    data = csv.reader(csvfile)\n",
    "    for row in data:\n",
    "        if row[0] not in transactions: transactions[row[0]]=[row[1]]\n",
    "        else: transactions[row[0]].append(row[1])\n",
    "        if row[1] not in items: items[row[1]]=[row[0]]\n",
    "        else: items[row[1]].append(row[0])\n",
    "numtransactions = len(transactions)\n",
    "\n",
    "# compute all pairs of items, alphabetical\n",
    "pairs = []\n",
    "for i1 in items:\n",
    "    for i2 in items:\n",
    "        if i1<i2: pairs.append([i1,i2,0])\n",
    "            \n",
    "# append number of transactions containing each pair\n",
    "for p in pairs:\n",
    "    for t in transactions:\n",
    "        if p[0] in transactions[t] and p[1] in transactions[t]: p[2] += 1\n",
    "\n",
    "# compute frequent itemsets of two\n",
    "frequent2 = []\n",
    "for p in pairs:\n",
    "    if float(p[2])/float(numtransactions) > .03: frequent2.append(p)\n",
    "print 'FREQUENT ITEMSETS OF TWO:'\n",
    "for f in frequent2: print ' ', f[0], f[1]\n",
    "print len(frequent2)"
   ]
  },
  {
   "cell_type": "markdown",
   "metadata": {},
   "source": [
    "### (b) Frequent itemsets of three\n",
    "모든 frequent itemsets of three와 그것의 갯수를 출력하시오. frequent itemsets of three의 three중 2개는 반드시 앞에서 계산한 frequent itemsets of two에 속해야 함. 즉, frequent itemsets of three를 계산할 때는 frequent itemsets of two에 한 개를 더 붙이는 형식이 되어야 한다는 뜻임."
   ]
  },
  {
   "cell_type": "code",
   "execution_count": 46,
   "metadata": {},
   "outputs": [
    {
     "name": "stdout",
     "output_type": "stream",
     "text": [
      "FREQUENT ITEMSETS OF THREE:\n",
      "  Gone Girl Inside Out The Imitation Game\n",
      "  Big Hero 6 Gone Girl Inside Out\n",
      "  Big Hero 6 Gone Girl The Imitation Game\n",
      "  Big Hero 6 Inside Out The Imitation Game\n",
      "  Big Hero 6 Boyhood Gone Girl\n",
      "  Big Hero 6 Boyhood The Imitation Game\n",
      "  Big Hero 6 Fury Gone Girl\n",
      "  Big Hero 6 Fury The Imitation Game\n",
      "  Boyhood Gone Girl Inside Out\n",
      "  Boyhood Gone Girl The Imitation Game\n",
      "  Boyhood Inside Out The Imitation Game\n",
      "  Boyhood Fury Gone Girl\n",
      "  Boyhood Fury The Imitation Game\n",
      "  Fury Gone Girl The Imitation Game\n",
      "14\n"
     ]
    }
   ],
   "source": [
    "# compute all triples of items where first two are in frequent itemsets of two,\n",
    "# alphabetical\n",
    "triples = []\n",
    "for f in frequent2:\n",
    "    for i in items:\n",
    "        if f[0] < i and f[1] < i: triples.append([f[0],f[1],i,0])\n",
    "\n",
    "# append number of transactions containing each triple\n",
    "for tr in triples:\n",
    "    for t in transactions:\n",
    "        if tr[0] in transactions[t] and tr[1] in transactions[t] \\\n",
    "        and tr[2] in transactions[t]: tr[3] += 1\n",
    "\n",
    "# compute frequent itemsets of three\n",
    "frequent3 = []\n",
    "for t in triples:\n",
    "    if float(t[3])/float(numtransactions) > .03: frequent3.append(t)\n",
    "print 'FREQUENT ITEMSETS OF THREE:'\n",
    "for f in frequent3: print ' ', f[0], f[1], f[2]\n",
    "print len(frequent3)"
   ]
  },
  {
   "cell_type": "markdown",
   "metadata": {},
   "source": [
    "### (c) Frequent itemsets of four\n",
    "모든 frequent itemsets of four와 그것의 갯수를 출력하시오. frequent itemsets of four의 four중 3개는 반드시 앞에서 계산한 frequent itemsets of three에 속해야 함. 즉, frequent itemsets of four를 계산할 때는 frequent itemsets of three에 한 개를 더 붙이는 형식이 되어야 한다는 뜻임."
   ]
  },
  {
   "cell_type": "code",
   "execution_count": 47,
   "metadata": {
    "scrolled": true
   },
   "outputs": [
    {
     "name": "stdout",
     "output_type": "stream",
     "text": [
      "FREQUENT ITEMSETS OF FOUR:\n",
      "  Big Hero 6 Gone Girl Inside Out The Imitation Game\n",
      "  Big Hero 6 Boyhood Gone Girl The Imitation Game\n",
      "  Boyhood Gone Girl Inside Out The Imitation Game\n",
      "3\n"
     ]
    }
   ],
   "source": [
    "# compute all quads of items where first three are in frequent itemsets of three,\n",
    "# alphabetical\n",
    "quads = []\n",
    "for f in frequent3:\n",
    "    for i in items:\n",
    "        if f[0] < i and f[1] < i and f[2] < i: quads.append([f[0],f[1],f[2],i,0])\n",
    "\n",
    "# append number of transactions containing each quad\n",
    "for q in quads:\n",
    "    for t in transactions:\n",
    "        if q[0] in transactions[t] and q[1] in transactions[t] and \\\n",
    "            q[2] in transactions[t] and q[3] in transactions[t]: q[4] += 1\n",
    "\n",
    "# compute frequent itemsets of four\n",
    "frequent4 = []\n",
    "for q in quads:\n",
    "    if float(q[4])/float(numtransactions) > .03: frequent4.append(q)\n",
    "print 'FREQUENT ITEMSETS OF FOUR:'\n",
    "for q in frequent4: print ' ', q[0], q[1], q[2], q[3]\n",
    "print len(frequent4)"
   ]
  },
  {
   "cell_type": "markdown",
   "metadata": {},
   "source": [
    "# Problem 3\n",
    "Players.csv의 데이터를 이용하여 minutes와 passes사이의 correlation값을 구하고 linear regression 하시오."
   ]
  },
  {
   "cell_type": "markdown",
   "metadata": {},
   "source": [
    "### (a) 데이터 읽기와 scatter plot\n",
    "Players.csv의 데이터를 읽어들여 횡축이 minutes, 종축이 passes인 scatter plot을 그리시오."
   ]
  },
  {
   "cell_type": "code",
   "execution_count": 48,
   "metadata": {},
   "outputs": [
    {
     "data": {
      "image/png": "[encoded data removed]",
      "text/plain": [
       "<matplotlib.figure.Figure at 0xd09d978>"
      ]
     },
     "metadata": {},
     "output_type": "display_data"
    }
   ],
   "source": [
    "f = open('Players.csv','rU')\n",
    "players = pd.read_csv(f)\n",
    "players.plot.scatter(x='minutes', y='passes')\n",
    "plt.show()"
   ]
  },
  {
   "cell_type": "markdown",
   "metadata": {},
   "source": [
    "### (b) Linear regression\n",
    "위의 데이터를 linear regression하시오. 위에서 그린 scatter plot을 다시 그리고 그위에 regression line을 적색으로 그리시오. x축 값의 범위는 실제 minutes값의 최소값과 최대값 범위로 한정하시오."
   ]
  },
  {
   "cell_type": "code",
   "execution_count": 49,
   "metadata": {},
   "outputs": [
    {
     "data": {
      "image/png": "[encoded data removed]",
      "text/plain": [
       "<matplotlib.figure.Figure at 0xd09d630>"
      ]
     },
     "metadata": {},
     "output_type": "display_data"
    }
   ],
   "source": [
    "# Add linear regression\n",
    "players.plot.scatter(x='minutes', y='passes')\n",
    "a,b = np.polyfit(players.minutes, players.passes, 1) # Regression line is y = ax + b\n",
    "x1 = min(players.minutes)\n",
    "x2 = max(players.minutes)\n",
    "plt.xlim(x1,x2)\n",
    "plt.plot([x1,x2], [a*x1 + b, a*x2 + b], color='red')\n",
    "plt.show()"
   ]
  },
  {
   "cell_type": "markdown",
   "metadata": {},
   "source": [
    "### (c) Correlation coefficient\n",
    "위의 minutes와 passes 데이터 사이의 상관계수(correlation coefficient)를 구하여 1개의 실수값으로 소숫점이하 4자리까지 출력하시오."
   ]
  },
  {
   "cell_type": "code",
   "execution_count": 50,
   "metadata": {},
   "outputs": [
    {
     "name": "stdout",
     "output_type": "stream",
     "text": [
      "0.8151\n"
     ]
    }
   ],
   "source": [
    "print '{0:.4f}'.format(np.corrcoef(players.minutes, players.passes)[1,0])"
   ]
  },
  {
   "cell_type": "code",
   "execution_count": null,
   "metadata": {
    "collapsed": true
   },
   "outputs": [],
   "source": []
  }
 ],
 "metadata": {
  "kernelspec": {
   "display_name": "Python 2",
   "language": "python",
   "name": "python2"
  },
  "language_info": {
   "codemirror_mode": {
    "name": "ipython",
    "version": 2
   },
   "file_extension": ".py",
   "mimetype": "text/x-python",
   "name": "python",
   "nbconvert_exporter": "python",
   "pygments_lexer": "ipython2",
   "version": "2.7.13"
  }
 },
 "nbformat": 4,
 "nbformat_minor": 1
}
