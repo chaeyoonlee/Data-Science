{
 "cells": [
  {
   "cell_type": "markdown",
   "metadata": {},
   "source": [
    "# Lecture 10: Classification Part 1\n",
    "\n",
    "### Classification using scikit-learn (with pandas)\n",
    "\n",
    "Classification Algorithms covered:\n",
    "1. k-Nearest Neighbors\n",
    "2. Decision Trees / Random Forest\n",
    "3. Logistic Regression\n",
    "\n",
    "Notebook created by Jennifer Widom, modified by Lisa Wang."
   ]
  },
  {
   "cell_type": "code",
   "execution_count": null,
   "metadata": {
    "collapsed": false
   },
   "outputs": [],
   "source": [
    "import csv\n",
    "import pandas as pd\n",
    "from sklearn.neighbors import KNeighborsClassifier\n",
    "from sklearn.tree import DecisionTreeClassifier\n",
    "from sklearn.ensemble import RandomForestClassifier\n",
    "from sklearn.linear_model import LogisticRegression"
   ]
  },
  {
   "cell_type": "code",
   "execution_count": null,
   "metadata": {
    "collapsed": false
   },
   "outputs": [],
   "source": [
    "# Read Cities.csv into dataframe, add column for temperature category\n",
    "# Note: For a dataframe D and integer i, D.ix[i] is the i-th row of D\n",
    "f = open('Cities.csv','rU')\n",
    "cities = pd.read_csv(f)\n",
    "cats = []\n",
    "for i in range(len(cities)):\n",
    "    if cities.ix[i]['temperature'] < 5:\n",
    "        cats.append('cold')\n",
    "    elif cities.ix[i]['temperature'] < 9:\n",
    "        cats.append('cool')\n",
    "    elif cities.ix[i]['temperature'] < 15:\n",
    "        cats.append('warm')\n",
    "    else: cats.append('hot')\n",
    "cities['category'] = cats\n",
    "print \"cold:\", len(cities[(cities.category == 'cold')])\n",
    "print \"cool:\", len(cities[(cities.category == 'cool')])\n",
    "print \"warm:\", len(cities[(cities.category == 'warm')])\n",
    "print \"hot:\", len(cities[(cities.category == 'hot')])"
   ]
  },
  {
   "cell_type": "code",
   "execution_count": null,
   "metadata": {
    "collapsed": false
   },
   "outputs": [],
   "source": [
    "# Create training and test sets for cities data\n",
    "num_items = len(cities)\n",
    "percent_train = 0.85\n",
    "num_train = int(numitems*percent_train)\n",
    "num_test = num_items - num_train\n",
    "print 'Training set', num_train, 'items'\n",
    "print'Test set', num_test, 'items'\n",
    "citiesTrain = cities[0:num_train]\n",
    "citiesTest = cities[num_train:]"
   ]
  },
  {
   "cell_type": "code",
   "execution_count": null,
   "metadata": {
    "collapsed": false
   },
   "outputs": [],
   "source": [
    "print citiesTrain[:10]"
   ]
  },
  {
   "cell_type": "markdown",
   "metadata": {},
   "source": [
    "Pandas: Note that you can access individual rows by their row index. E.g."
   ]
  },
  {
   "cell_type": "code",
   "execution_count": null,
   "metadata": {
    "collapsed": false
   },
   "outputs": [],
   "source": [
    "citiesTrain.ix[0]"
   ]
  },
  {
   "cell_type": "code",
   "execution_count": null,
   "metadata": {
    "collapsed": false
   },
   "outputs": [],
   "source": [
    "print citiesTest[:10]"
   ]
  },
  {
   "cell_type": "markdown",
   "metadata": {},
   "source": [
    "### K-nearest-neighbors classification"
   ]
  },
  {
   "cell_type": "code",
   "execution_count": null,
   "metadata": {
    "collapsed": false
   },
   "outputs": [],
   "source": [
    "# Predict temperature category from other features\n",
    "features = ['longitude', 'latitude']\n",
    "\n",
    "# Create classfier\n",
    "neighbors = 7 # Number of neighbors to consider for k nearest neighbor classification\n",
    "classifier = KNeighborsClassifier(n_neighbors=neighbors)\n",
    "\n",
    "# Train the classifier on training data\n",
    "classifier.fit(citiesTrain[features], citiesTrain['category'])\n",
    "\n",
    "# Make predictions on training data\n",
    "train_predictions = classifier.predict(citiesTrain[features])\n",
    "\n",
    "# Make predictions on test data\n",
    "test_predictions = classifier.predict(citiesTest[features])\n",
    "\n",
    "num_train = len(citiesTrain)\n",
    "num_test = len(citiesTest)\n",
    "# Calculate training accuracy\n",
    "train_correct = 0\n",
    "for i in range(num_train):\n",
    "    print 'Predicted:', train_predictions[i], ' Actual:', citiesTrain.ix[i]['category']\n",
    "    if train_predictions[i] == citiesTrain.ix[i]['category']: train_correct +=1\n",
    "print 'Training Accuracy:', float(train_correct)/float(num_train)\n",
    "print \"\"\n",
    "\n",
    "# Calculate test accuracy\n",
    "test_correct = 0\n",
    "for i in range(num_test):\n",
    "    print 'Predicted:', test_predictions[i], ' Actual:', citiesTest.ix[num_train + i]['category']\n",
    "    if test_predictions[i] == citiesTest.ix[num_train + i]['category']: test_correct +=1\n",
    "print 'Test Accuracy:', float(test_correct)/float(num_test)\n",
    "# Comment out print, try other values for neighbors, other features"
   ]
  },
  {
   "cell_type": "markdown",
   "metadata": {
    "collapsed": true
   },
   "source": [
    "### <font color=\"green\">Your Turn: K-nearest-neighbors on World Cup Data</font>"
   ]
  },
  {
   "cell_type": "code",
   "execution_count": null,
   "metadata": {
    "collapsed": false
   },
   "outputs": [],
   "source": [
    "# Predict position from one or more of minutes, shots, passes, tackles, saves.\n",
    "# This cell does all the set-up, including reordering the data to avoid team bias.\n",
    "f = open('Players.csv','rU')\n",
    "players = pd.read_csv(f)\n",
    "players = players.sort_values(by='surname')\n",
    "players = players.reset_index(drop=True)\n",
    "num_items = len(players)\n",
    "percent_train = 0.95\n",
    "num_train = int(num_items*percent_train)\n",
    "num_test = num_items - num_train\n",
    "print 'Training set', num_train, 'items'\n",
    "print'Test set', num_test, 'items'\n",
    "playersTrain = players[0:num_train]\n",
    "playersTest = players[num_train:]"
   ]
  },
  {
   "cell_type": "code",
   "execution_count": null,
   "metadata": {
    "collapsed": false
   },
   "outputs": [],
   "source": [
    "features = ['minutes', 'shots', 'passes', 'tackles', 'saves']\n",
    "# Predict a player's position ( playersTrain['position'] ) "
   ]
  },
  {
   "cell_type": "markdown",
   "metadata": {},
   "source": [
    "## Decision tree classification"
   ]
  },
  {
   "cell_type": "code",
   "execution_count": null,
   "metadata": {
    "collapsed": false
   },
   "outputs": [],
   "source": [
    "# Predict temperature category from other features\n",
    "features = ['longitude','latitude']\n",
    "\n",
    "# Create classifier\n",
    "split = 10\n",
    "dt = DecisionTreeClassifier(min_samples_split=split) # parameter is optional\n",
    "\n",
    "# Train the classifier on training data\n",
    "dt.fit(citiesTrain[features], citiesTrain['category'])\n",
    "\n",
    "# Make predictions on training data\n",
    "train_predictions = dt.predict(citiesTrain[features])\n",
    "\n",
    "# Make predictions on test data\n",
    "test_predictions = dt.predict(citiesTest[features])\n",
    "\n",
    "num_train = len(citiesTrain)\n",
    "num_test = len(citiesTest)\n",
    "# Calculate training accuracy\n",
    "train_correct = 0\n",
    "for i in range(num_train):\n",
    "#     print 'Predicted:', train_predictions[i], ' Actual:', citiesTrain.ix[i]['category']\n",
    "    if train_predictions[i] == citiesTrain.ix[i]['category']: train_correct +=1\n",
    "print 'Training Accuracy:', float(train_correct)/float(num_train)\n",
    "print \"\"\n",
    "\n",
    "# Calculate test accuracy\n",
    "test_correct = 0\n",
    "for i in range(num_test):\n",
    "#     print 'Predicted:', test_predictions[i], ' Actual:', citiesTest.ix[num_train + i]['category']\n",
    "    if test_predictions[i] == citiesTest.ix[num_train + i]['category']: test_correct +=1\n",
    "print 'Test Accuracy:', float(test_correct)/float(num_test)"
   ]
  },
  {
   "cell_type": "markdown",
   "metadata": {},
   "source": [
    "### \"Forest\" of decision trees"
   ]
  },
  {
   "cell_type": "code",
   "execution_count": null,
   "metadata": {
    "collapsed": false
   },
   "outputs": [],
   "source": [
    "# Predict temperature category from other features\n",
    "features = ['longitude', 'latitude']\n",
    "\n",
    "# Create classifier\n",
    "trees = 10 # Try other values for trees\n",
    "rf = RandomForestClassifier(n_estimators=trees)\n",
    "\n",
    "# Train the classifier on training data\n",
    "rf.fit(citiesTrain[features], citiesTrain['category'])\n",
    "\n",
    "# Make predictions on training data\n",
    "train_predictions = rf.predict(citiesTrain[features])\n",
    "\n",
    "# Make predictions on test data\n",
    "test_predictions = rf.predict(citiesTest[features])\n",
    "\n",
    "num_train = len(citiesTrain)\n",
    "num_test = len(citiesTest)\n",
    "# Calculate training accuracy\n",
    "train_correct = 0\n",
    "for i in range(num_train):\n",
    "#     print 'Predicted:', train_predictions[i], ' Actual:', citiesTrain.ix[i]['category']\n",
    "    if train_predictions[i] == citiesTrain.ix[i]['category']: train_correct +=1\n",
    "print 'Training Accuracy:', float(train_correct)/float(num_train)\n",
    "print \"\"\n",
    "\n",
    "# Calculate test accuracy\n",
    "test_correct = 0\n",
    "for i in range(num_test):\n",
    "#     print 'Predicted:', test_predictions[i], ' Actual:', citiesTest.ix[num_train + i]['category']\n",
    "    if test_predictions[i] == citiesTest.ix[num_train + i]['category']: test_correct +=1\n",
    "print 'Test Accuracy:', float(test_correct)/float(num_test)"
   ]
  },
  {
   "cell_type": "markdown",
   "metadata": {
    "collapsed": true
   },
   "source": [
    "### <font color=\"green\">Your Turn: Decision tree and forest of trees on World Cup Data</font>"
   ]
  },
  {
   "cell_type": "code",
   "execution_count": null,
   "metadata": {
    "collapsed": false
   },
   "outputs": [],
   "source": [
    "# SINGLE TREE\n",
    "# Predict position from one or more of minutes, shots, passes, tackles, saves.\n",
    "# Try different features and different values for min_samples_split.\n",
    "# What's the highest accuracy you can get?\n",
    "features = ['minutes', 'shots', 'passes', 'tackles', 'saves']"
   ]
  },
  {
   "cell_type": "code",
   "execution_count": null,
   "metadata": {
    "collapsed": false
   },
   "outputs": [],
   "source": [
    "# FOREST OF TREES\n",
    "# Predict position from one or more of minutes, shots, passes, tackles, saves.\n",
    "# Try different values for n_estimators.\n",
    "# What's the highest accuracy you can get?\n",
    "features = ['minutes', 'shots', 'passes', 'tackles', 'saves']"
   ]
  },
  {
   "cell_type": "markdown",
   "metadata": {},
   "source": [
    "### Logistic Regression Classification"
   ]
  },
  {
   "cell_type": "code",
   "execution_count": null,
   "metadata": {
    "collapsed": false
   },
   "outputs": [],
   "source": [
    "# Predict temperature category from other features\n",
    "features = ['longitude', 'latitude']\n",
    "\n",
    "# Create classifier\n",
    "lg = LogisticRegression()\n",
    "\n",
    "# Train the classifier on training data\n",
    "lg.fit(citiesTrain[features], citiesTrain['category'])\n",
    "\n",
    "# Make predictions on training data\n",
    "train_predictions = lg.predict(citiesTrain[features])\n",
    "\n",
    "# Make predictions on test data\n",
    "test_predictions = lg.predict(citiesTest[features])\n",
    "\n",
    "num_train = len(citiesTrain)\n",
    "num_test = len(citiesTest)\n",
    "# Calculate training accuracy\n",
    "train_correct = 0\n",
    "for i in range(num_train):\n",
    "#     print 'Predicted:', train_predictions[i], ' Actual:', citiesTrain.ix[i]['category']\n",
    "    if train_predictions[i] == citiesTrain.ix[i]['category']: train_correct +=1\n",
    "print 'Training Accuracy:', float(train_correct)/float(num_train)\n",
    "print \"\"\n",
    "\n",
    "# Calculate test accuracy\n",
    "test_correct = 0\n",
    "for i in range(num_test):\n",
    "#     print 'Predicted:', test_predictions[i], ' Actual:', citiesTest.ix[num_train + i]['category']\n",
    "    if test_predictions[i] == citiesTest.ix[num_train + i]['category']: test_correct +=1\n",
    "print 'Test Accuracy:', float(test_correct)/float(num_test)"
   ]
  },
  {
   "cell_type": "markdown",
   "metadata": {},
   "source": [
    "### <font color=\"green\">Your Turn: Logistic Regression on World Cup Data</font>"
   ]
  },
  {
   "cell_type": "code",
   "execution_count": null,
   "metadata": {
    "collapsed": false
   },
   "outputs": [],
   "source": [
    "# FOREST OF TREES\n",
    "# Predict position from one or more of minutes, shots, passes, tackles, saves.\n",
    "# Try different values for n_estimators.\n",
    "# What's the highest accuracy you can get?\n",
    "features = ['minutes', 'shots', 'passes', 'tackles', 'saves']"
   ]
  }
 ],
 "metadata": {
  "kernelspec": {
   "display_name": "Python 2",
   "language": "python",
   "name": "python2"
  },
  "language_info": {
   "codemirror_mode": {
    "name": "ipython",
    "version": 2
   },
   "file_extension": ".py",
   "mimetype": "text/x-python",
   "name": "python",
   "nbconvert_exporter": "python",
   "pygments_lexer": "ipython2",
   "version": "2.7.12"
  }
 },
 "nbformat": 4,
 "nbformat_minor": 0
}
