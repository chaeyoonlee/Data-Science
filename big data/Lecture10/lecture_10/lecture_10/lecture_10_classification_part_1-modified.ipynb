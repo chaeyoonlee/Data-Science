{
 "cells": [
  {
   "cell_type": "markdown",
   "metadata": {},
   "source": [
    "# Lecture 10: Classification Part 1\n",
    "\n",
    "### Classification using scikit-learn (with pandas)\n",
    "\n",
    "Classification Algorithms covered:\n",
    "1. k-Nearest Neighbors\n",
    "2. Decision Trees / Random Forest\n",
    "3. Logistic Regression\n",
    "\n",
    "Notebook created by Jennifer Widom, modified by Lisa Wang."
   ]
  },
  {
   "cell_type": "code",
   "execution_count": 2,
   "metadata": {
    "collapsed": true
   },
   "outputs": [],
   "source": [
    "import csv\n",
    "import pandas as pd\n",
    "from sklearn.neighbors import KNeighborsClassifier\n",
    "from sklearn.tree import DecisionTreeClassifier\n",
    "from sklearn.ensemble import RandomForestClassifier\n",
    "from sklearn.linear_model import LogisticRegression"
   ]
  },
  {
   "cell_type": "markdown",
   "metadata": {},
   "source": [
    "-pandas 기능\n",
    "train = cities[(cities.country=='Norway') | (cities.country=='France') | (cities.country=='Turkey')] \n",
    "CT_dataframe['temp'].max() temps만 찾아서 뒤에 함수도 가능. \n",
    "합치기도 가능\n",
    "sql기능 다 가능\n",
    "\n",
    "-list에서 key(label) 찾아 검색하는 거, \n",
    "앞에 7장에서 sorted_transactions = collections.OrderedDict(sorted(transactions.items()))\n",
    "해서 row['key']로 검색 가능"
   ]
  },
  {
   "cell_type": "code",
   "execution_count": 3,
   "metadata": {},
   "outputs": [
    {
     "name": "stdout",
     "output_type": "stream",
     "text": [
      "cold: 17\n",
      "cool: 92\n",
      "warm: 79\n",
      "hot: 25\n"
     ]
    }
   ],
   "source": [
    "# Read Cities.csv into dataframe, add column for temperature category\n",
    "# Note: For a dataframe D and integer i, D.ix[i] is the i-th row of D ix없어진대서 iloc으로 바꿈\n",
    "f = open('Cities.csv','rU')\n",
    "cities = pd.read_csv(f)\n",
    "cats = []\n",
    "for i in range(len(cities)):\n",
    "    if cities.iloc[i]['temperature'] < 5: # iloc은 원래 리스트 안에 항목 쓰듯이  loc은 그 안에 label 찾아서. 그게 똑같은 거 까지\n",
    "        cats.append('cold')\n",
    "    elif cities.iloc[i]['temperature'] < 9:\n",
    "        cats.append('cool')\n",
    "    elif cities.iloc[i]['temperature'] < 15:\n",
    "        cats.append('warm')\n",
    "    else: cats.append('hot')\n",
    "cities['category'] = cats #cat를 citiies에 새로운 항목으로 넣음\n",
    "print \"cold:\", len(cities[(cities.category == 'cold')])#판다 데이터 프레임의 기능\n",
    "print \"cool:\", len(cities[(cities.category == 'cool')])\n",
    "print \"warm:\", len(cities[(cities.category == 'warm')])\n",
    "print \"hot:\", len(cities[(cities.category == 'hot')])\n"
   ]
  },
  {
   "cell_type": "code",
   "execution_count": 4,
   "metadata": {},
   "outputs": [
    {
     "name": "stdout",
     "output_type": "stream",
     "text": [
      "       city         country  latitude  longitude  temperature category\n",
      "0   Aalborg         Denmark     57.03       9.92         7.52     cool\n",
      "1  Aberdeen  United Kingdom     57.17      -2.08         8.10     cool\n"
     ]
    }
   ],
   "source": [
    "print cities[:2]"
   ]
  },
  {
   "cell_type": "code",
   "execution_count": 5,
   "metadata": {},
   "outputs": [
    {
     "name": "stdout",
     "output_type": "stream",
     "text": [
      "Training set 181 items\n",
      "Test set 32 items\n"
     ]
    }
   ],
   "source": [
    "# Create training and test sets for cities data\n",
    "num_items = len(cities)\n",
    "percent_train = 0.85 #85%를 traning set으로 쓰겠다\n",
    "num_train = int(num_items*percent_train)\n",
    "num_test = num_items - num_train\n",
    "print 'Training set', num_train, 'items'\n",
    "print'Test set', num_test, 'items'\n",
    "citiesTrain = cities[0:num_train]\n",
    "citiesTest = cities[num_train:]"
   ]
  },
  {
   "cell_type": "markdown",
   "metadata": {},
   "source": [
    "http://scikit-learn.org/stable/modules/generated/sklearn.model_selection.train_test_split.html\n",
    "    train_test_split(dataset, 얼마나 test 할건지,shuffle true or false, random state )\n",
    "    import numpy as np\n",
    ">>> from sklearn.model_selection import train_test_split\n",
    ">>> X, y = np.arange(10).reshape((5, 2)), range(5)\n",
    "X_train, X_test, y_train, y_test = train_test_split(\n",
    "...     X, y, test_size=0.33, random_state=42)"
   ]
  },
  {
   "cell_type": "code",
   "execution_count": 6,
   "metadata": {},
   "outputs": [
    {
     "name": "stdout",
     "output_type": "stream",
     "text": [
      "        city         country  latitude  longitude  temperature category\n",
      "0    Aalborg         Denmark     57.03       9.92         7.52     cool\n",
      "1   Aberdeen  United Kingdom     57.17      -2.08         8.10     cool\n",
      "2     Abisko          Sweden     63.35      18.83         0.20     cold\n",
      "3      Adana          Turkey     36.99      35.32        18.67      hot\n",
      "4   Albacete           Spain     39.00      -1.87        12.62     warm\n",
      "5  Algeciras           Spain     36.13      -5.47        17.38      hot\n",
      "6     Amiens          France     49.90       2.30        10.17     warm\n",
      "7  Amsterdam     Netherlands     52.35       4.92         8.93     cool\n",
      "8     Ancona           Italy     43.60      13.50        13.52     warm\n",
      "9    Andorra         Andorra     42.50       1.52         9.60     warm\n"
     ]
    }
   ],
   "source": [
    "print citiesTrain[:10]"
   ]
  },
  {
   "cell_type": "markdown",
   "metadata": {},
   "source": [
    "Pandas: Note that you can access individual rows by their row index. E.g."
   ]
  },
  {
   "cell_type": "code",
   "execution_count": 7,
   "metadata": {},
   "outputs": [
    {
     "name": "stderr",
     "output_type": "stream",
     "text": [
      "C:\\Users\\ChaeYoon\\Anaconda3\\envs\\py27\\lib\\site-packages\\ipykernel_launcher.py:1: DeprecationWarning: \n",
      ".ix is deprecated. Please use\n",
      ".loc for label based indexing or\n",
      ".iloc for positional indexing\n",
      "\n",
      "See the documentation here:\n",
      "http://pandas.pydata.org/pandas-docs/stable/indexing.html#ix-indexer-is-deprecated\n",
      "  \"\"\"Entry point for launching an IPython kernel.\n"
     ]
    },
    {
     "data": {
      "text/plain": [
       "city           Aalborg\n",
       "country        Denmark\n",
       "latitude         57.03\n",
       "longitude         9.92\n",
       "temperature       7.52\n",
       "category          cool\n",
       "Name: 0, dtype: object"
      ]
     },
     "execution_count": 7,
     "metadata": {},
     "output_type": "execute_result"
    }
   ],
   "source": [
    "citiesTrain.ix[0] #첫 요소를 찍어봄"
   ]
  },
  {
   "cell_type": "code",
   "execution_count": 8,
   "metadata": {
    "scrolled": true
   },
   "outputs": [
    {
     "name": "stdout",
     "output_type": "stream",
     "text": [
      "             city         country  latitude  longitude  temperature category\n",
      "181         Sivas          Turkey     39.75      37.03         8.05     cool\n",
      "182        Skopje       Macedonia     42.00      21.43         9.36     warm\n",
      "183         Split         Croatia     43.52      16.47        12.46     warm\n",
      "184  Stara Zagora        Bulgaria     42.42      25.62        10.90     warm\n",
      "185     Stavanger          Norway     58.97       5.68         5.53     cool\n",
      "186     Stockholm          Sweden     59.35      18.10         6.26     cool\n",
      "187          Sumy         Ukraine     50.92      34.78         6.28     cool\n",
      "188       Swansea  United Kingdom     51.63      -3.95         9.73     warm\n",
      "189        Szeged         Hungary     46.25      20.15        10.34     warm\n",
      "190       Tallinn         Estonia     59.43      24.73         4.82     cold\n"
     ]
    }
   ],
   "source": [
    "print citiesTest[:10]"
   ]
  },
  {
   "cell_type": "markdown",
   "metadata": {},
   "source": [
    "### K-nearest-neighbors classification"
   ]
  },
  {
   "cell_type": "code",
   "execution_count": 9,
   "metadata": {},
   "outputs": [
    {
     "name": "stdout",
     "output_type": "stream",
     "text": [
      "Predicted: cool  Actual: cool\n",
      "Predicted: cool  Actual: cool\n",
      "Predicted: cold  Actual: cold\n",
      "Predicted: warm  Actual: hot\n",
      "Predicted: hot  Actual: warm\n",
      "Predicted: hot  Actual: hot\n",
      "Predicted: warm  Actual: warm\n",
      "Predicted: cool  Actual: cool\n",
      "Predicted: warm  Actual: warm\n",
      "Predicted: warm  Actual: warm\n",
      "Predicted: warm  Actual: warm\n",
      "Predicted: warm  Actual: warm\n",
      "Predicted: warm  Actual: warm\n",
      "Predicted: warm  Actual: warm\n",
      "Predicted: hot  Actual: hot\n",
      "Predicted: cool  Actual: cold\n",
      "Predicted: cool  Actual: cool\n",
      "Predicted: hot  Actual: hot\n",
      "Predicted: cool  Actual: cool\n",
      "Predicted: cool  Actual: cool\n",
      "Predicted: warm  Actual: hot\n",
      "Predicted: hot  Actual: hot\n",
      "Predicted: cool  Actual: cool\n",
      "Predicted: warm  Actual: warm\n",
      "Predicted: cool  Actual: cool\n",
      "Predicted: warm  Actual: warm\n",
      "Predicted: cool  Actual: warm\n",
      "Predicted: cool  Actual: cold\n",
      "Predicted: cool  Actual: cool\n",
      "Predicted: cool  Actual: cool\n",
      "Predicted: cool  Actual: cool\n",
      "Predicted: cool  Actual: cool\n",
      "Predicted: warm  Actual: warm\n",
      "Predicted: warm  Actual: cool\n",
      "Predicted: cool  Actual: warm\n",
      "Predicted: cold  Actual: cold\n",
      "Predicted: warm  Actual: warm\n",
      "Predicted: cool  Actual: cool\n",
      "Predicted: warm  Actual: warm\n",
      "Predicted: cool  Actual: cool\n",
      "Predicted: warm  Actual: warm\n",
      "Predicted: cool  Actual: cool\n",
      "Predicted: warm  Actual: warm\n",
      "Predicted: warm  Actual: warm\n",
      "Predicted: cool  Actual: warm\n",
      "Predicted: cool  Actual: cool\n",
      "Predicted: warm  Actual: warm\n",
      "Predicted: cool  Actual: cool\n",
      "Predicted: cool  Actual: cool\n",
      "Predicted: warm  Actual: warm\n",
      "Predicted: warm  Actual: warm\n",
      "Predicted: warm  Actual: warm\n",
      "Predicted: warm  Actual: warm\n",
      "Predicted: warm  Actual: warm\n",
      "Predicted: warm  Actual: warm\n",
      "Predicted: cool  Actual: cool\n",
      "Predicted: cool  Actual: cool\n",
      "Predicted: warm  Actual: warm\n",
      "Predicted: warm  Actual: warm\n",
      "Predicted: hot  Actual: hot\n",
      "Predicted: hot  Actual: hot\n",
      "Predicted: cool  Actual: cool\n",
      "Predicted: cool  Actual: cool\n",
      "Predicted: cool  Actual: cool\n",
      "Predicted: cool  Actual: cool\n",
      "Predicted: cool  Actual: cool\n",
      "Predicted: warm  Actual: warm\n",
      "Predicted: warm  Actual: warm\n",
      "Predicted: hot  Actual: hot\n",
      "Predicted: warm  Actual: warm\n",
      "Predicted: cool  Actual: cool\n",
      "Predicted: warm  Actual: cool\n",
      "Predicted: warm  Actual: hot\n",
      "Predicted: cool  Actual: cool\n",
      "Predicted: warm  Actual: cool\n",
      "Predicted: cool  Actual: cool\n",
      "Predicted: cool  Actual: cool\n",
      "Predicted: warm  Actual: warm\n",
      "Predicted: warm  Actual: hot\n",
      "Predicted: cool  Actual: cool\n",
      "Predicted: cool  Actual: cool\n",
      "Predicted: warm  Actual: cool\n",
      "Predicted: warm  Actual: cool\n",
      "Predicted: warm  Actual: warm\n",
      "Predicted: warm  Actual: warm\n",
      "Predicted: hot  Actual: warm\n",
      "Predicted: cool  Actual: cool\n",
      "Predicted: cool  Actual: cool\n",
      "Predicted: warm  Actual: warm\n",
      "Predicted: warm  Actual: warm\n",
      "Predicted: cool  Actual: cool\n",
      "Predicted: cool  Actual: warm\n",
      "Predicted: cool  Actual: cool\n",
      "Predicted: cool  Actual: cool\n",
      "Predicted: hot  Actual: hot\n",
      "Predicted: warm  Actual: cool\n",
      "Predicted: cool  Actual: cool\n",
      "Predicted: cool  Actual: cool\n",
      "Predicted: cool  Actual: warm\n",
      "Predicted: cool  Actual: cool\n",
      "Predicted: cool  Actual: cold\n",
      "Predicted: cool  Actual: cool\n",
      "Predicted: cool  Actual: cool\n",
      "Predicted: hot  Actual: hot\n",
      "Predicted: cool  Actual: cool\n",
      "Predicted: cold  Actual: cold\n",
      "Predicted: cool  Actual: cool\n",
      "Predicted: warm  Actual: warm\n",
      "Predicted: hot  Actual: hot\n",
      "Predicted: warm  Actual: warm\n",
      "Predicted: cool  Actual: cool\n",
      "Predicted: cool  Actual: cool\n",
      "Predicted: warm  Actual: cool\n",
      "Predicted: cool  Actual: cool\n",
      "Predicted: cool  Actual: cool\n",
      "Predicted: cool  Actual: cool\n",
      "Predicted: cold  Actual: cold\n",
      "Predicted: cool  Actual: cool\n",
      "Predicted: cool  Actual: cool\n",
      "Predicted: cool  Actual: cool\n",
      "Predicted: cool  Actual: cool\n",
      "Predicted: cool  Actual: cool\n",
      "Predicted: warm  Actual: warm\n",
      "Predicted: warm  Actual: warm\n",
      "Predicted: warm  Actual: warm\n",
      "Predicted: cool  Actual: cool\n",
      "Predicted: hot  Actual: hot\n",
      "Predicted: warm  Actual: warm\n",
      "Predicted: cool  Actual: cool\n",
      "Predicted: cool  Actual: cool\n",
      "Predicted: warm  Actual: warm\n",
      "Predicted: cool  Actual: cool\n",
      "Predicted: cool  Actual: cool\n",
      "Predicted: warm  Actual: warm\n",
      "Predicted: cool  Actual: cool\n",
      "Predicted: warm  Actual: hot\n",
      "Predicted: hot  Actual: hot\n",
      "Predicted: warm  Actual: warm\n",
      "Predicted: cool  Actual: cool\n",
      "Predicted: hot  Actual: hot\n",
      "Predicted: cool  Actual: cool\n",
      "Predicted: cool  Actual: cool\n",
      "Predicted: cool  Actual: cool\n",
      "Predicted: warm  Actual: warm\n",
      "Predicted: cool  Actual: cool\n",
      "Predicted: hot  Actual: hot\n",
      "Predicted: cool  Actual: cool\n",
      "Predicted: warm  Actual: warm\n",
      "Predicted: warm  Actual: warm\n",
      "Predicted: cool  Actual: cool\n",
      "Predicted: warm  Actual: warm\n",
      "Predicted: cool  Actual: cold\n",
      "Predicted: cool  Actual: cold\n",
      "Predicted: cool  Actual: cool\n",
      "Predicted: cold  Actual: cold\n",
      "Predicted: warm  Actual: warm\n",
      "Predicted: hot  Actual: hot\n",
      "Predicted: hot  Actual: hot\n",
      "Predicted: warm  Actual: warm\n",
      "Predicted: warm  Actual: warm\n",
      "Predicted: warm  Actual: hot\n",
      "Predicted: cool  Actual: cool\n",
      "Predicted: warm  Actual: warm\n",
      "Predicted: warm  Actual: cool\n",
      "Predicted: warm  Actual: warm\n",
      "Predicted: cool  Actual: cool\n",
      "Predicted: cool  Actual: cool\n",
      "Predicted: warm  Actual: warm\n",
      "Predicted: cool  Actual: cool\n",
      "Predicted: warm  Actual: warm\n",
      "Predicted: cool  Actual: cool\n",
      "Predicted: warm  Actual: hot\n",
      "Predicted: cool  Actual: cool\n",
      "Predicted: warm  Actual: warm\n",
      "Predicted: warm  Actual: warm\n",
      "Predicted: cold  Actual: cold\n",
      "Predicted: warm  Actual: warm\n",
      "Predicted: warm  Actual: warm\n",
      "Predicted: warm  Actual: warm\n",
      "Predicted: warm  Actual: cool\n",
      "Predicted: warm  Actual: warm\n",
      "Training Accuracy: 0.845303867403\n",
      "\n",
      "Predicted: warm  Actual: cool\n",
      "Predicted: warm  Actual: warm\n",
      "Predicted: warm  Actual: warm\n",
      "Predicted: warm  Actual: warm\n",
      "Predicted: cool  Actual: cool\n",
      "Predicted: cool  Actual: cool\n",
      "Predicted: cool  Actual: cool\n",
      "Predicted: warm  Actual: warm\n",
      "Predicted: warm  Actual: warm\n",
      "Predicted: cool  Actual: cold\n",
      "Predicted: cool  Actual: cold\n",
      "Predicted: warm  Actual: warm\n",
      "Predicted: cool  Actual: cold\n",
      "Predicted: warm  Actual: warm\n",
      "Predicted: warm  Actual: warm\n",
      "Predicted: warm  Actual: warm\n",
      "Predicted: warm  Actual: warm\n",
      "Predicted: hot  Actual: hot\n",
      "Predicted: cool  Actual: cold\n",
      "Predicted: cool  Actual: cold\n",
      "Predicted: cool  Actual: cold\n",
      "Predicted: hot  Actual: hot\n",
      "Predicted: cool  Actual: cool\n",
      "Predicted: warm  Actual: warm\n",
      "Predicted: cool  Actual: cool\n",
      "Predicted: cool  Actual: cool\n",
      "Predicted: cool  Actual: cool\n",
      "Predicted: cool  Actual: warm\n",
      "Predicted: warm  Actual: warm\n",
      "Predicted: cool  Actual: cool\n",
      "Predicted: warm  Actual: warm\n",
      "Predicted: cool  Actual: cool\n",
      "Test Accuracy: 0.75\n"
     ]
    },
    {
     "name": "stderr",
     "output_type": "stream",
     "text": [
      "C:\\Users\\ChaeYoon\\Anaconda3\\envs\\py27\\lib\\site-packages\\ipykernel_launcher.py:31: DeprecationWarning: \n",
      ".ix is deprecated. Please use\n",
      ".loc for label based indexing or\n",
      ".iloc for positional indexing\n",
      "\n",
      "See the documentation here:\n",
      "http://pandas.pydata.org/pandas-docs/stable/indexing.html#ix-indexer-is-deprecated\n"
     ]
    }
   ],
   "source": [
    "# Predict temperature category from other features\n",
    "features = ['longitude', 'latitude']\n",
    "\n",
    "# Create classfier\n",
    "neighbors = 7 # Number of neighbors to consider for k nearest neighbor classification k를 7로\n",
    "classifier = KNeighborsClassifier(n_neighbors=neighbors)\n",
    "\n",
    "# Train the classifier on training data\n",
    "classifier.fit(citiesTrain[features], citiesTrain['category']) #input, lable\n",
    "#fit함수는 fit(x,y) x를 트레이닝데이터로 y를 타겟으로 씀\n",
    "# Make predictions on training data\n",
    "train_predictions = classifier.predict(citiesTrain[features])\n",
    "#predict(data) 데이터에 대한 예상된 labeled 디이터 줌\n",
    "# Make predictions on test data\n",
    "test_predictions = classifier.predict(citiesTest[features])\n",
    "\n",
    "num_train = len(citiesTrain)\n",
    "num_test = len(citiesTest)\n",
    "# print classifier.kneighbors(citiesTest[features]) 그 주변의 포인트들 반환\n",
    "# Calculate training accuracy\n",
    "train_correct = 0\n",
    "for i in range(num_train):\n",
    "    print 'Predicted:', train_predictions[i], ' Actual:', citiesTrain.ix[i]['category']\n",
    "    if train_predictions[i] == citiesTrain.ix[i]['category']: train_correct +=1\n",
    "print 'Training Accuracy:', float(train_correct)/float(num_train)\n",
    "print \"\"\n",
    "\n",
    "# Calculate test accuracy\n",
    "test_correct = 0\n",
    "for i in range(num_test):\n",
    "    print 'Predicted:', test_predictions[i], ' Actual:', citiesTest.ix[num_train + i]['category']\n",
    "    if test_predictions[i] == citiesTest.ix[num_train + i]['category']: test_correct +=1\n",
    "print 'Test Accuracy:', float(test_correct)/float(num_test)\n",
    "# Comment out print, try other values for neighbors, other features"
   ]
  },
  {
   "cell_type": "markdown",
   "metadata": {
    "collapsed": true
   },
   "source": [
    "### <font color=\"green\">Your Turn: K-nearest-neighbors on World Cup Data</font>"
   ]
  },
  {
   "cell_type": "code",
   "execution_count": 12,
   "metadata": {},
   "outputs": [
    {
     "name": "stdout",
     "output_type": "stream",
     "text": [
      "                 surname          team    position  minutes  shots  passes  \\\n",
      "90                 Matip      Cameroon    defender       63      0      37   \n",
      "41                Carney     Australia    defender      180      0      56   \n",
      "165                Henry        France     forward       53      1      21   \n",
      "448              Holosko      Slovakia     forward       29      0      11   \n",
      "433              Lukovic        Serbia    defender      164      1      98   \n",
      "560            Fernandez       Uruguay  midfielder       75      1      17   \n",
      "484              Khumalo  South Africa    defender      270      2      74   \n",
      "385         Ri Myong-Guk   North Korea  goalkeeper      270      0      46   \n",
      "427            Jovanovic        Serbia  midfielder      245      4      65   \n",
      "302              Aguilar        Mexico    defender       55      0      31   \n",
      "33             Rodriguez     Argentina    defender       90      1      72   \n",
      "308   Giovani dos Santos        Mexico  midfielder      360      2     106   \n",
      "446               Durica      Slovakia    defender      360      1     159   \n",
      "537             Barnetta   Switzerland  midfielder      227      3     104   \n",
      "483              Khuboni  South Africa  midfielder       78      1      48   \n",
      "546               Huggel   Switzerland  midfielder      258      0      87   \n",
      "164                Govou        France     forward      162      1      35   \n",
      "198                 Ayew         Ghana  midfielder      389      3     170   \n",
      "13                Mesbah       Algeria  midfielder        1      0       1   \n",
      "140              Gerrard       England  midfielder      360     10     227   \n",
      "406              Almeida      Portugal     forward      136      5      42   \n",
      "342              Elliott   New Zealand  midfielder      270      1     119   \n",
      "419               Miguel      Portugal    defender       90      1      52   \n",
      "89                Makoun      Cameroon  midfielder      210      4     164   \n",
      "211  Avraam Papadopoulos        Greece    defender      270      1      70   \n",
      "270                Demel   Ivory Coast    defender      180      0      60   \n",
      "8               Halliche       Algeria    defender      270      2      94   \n",
      "468                Cesar      Slovenia    defender      270      1      89   \n",
      "347               Paston   New Zealand  goalkeeper      270      0      64   \n",
      "68             Kleberson        Brazil  midfielder        9      0       1   \n",
      "..                   ...           ...         ...      ...    ...     ...   \n",
      "481             Dikgacoi  South Africa  midfielder      180      2     108   \n",
      "564              Gargano       Uruguay  midfielder       91      0      44   \n",
      "482              Josephs  South Africa  goalkeeper      101      0      20   \n",
      "168               Ribery        France  midfielder      270      4     104   \n",
      "5               Djebbour       Algeria     forward      123      3      19   \n",
      "422              Ronaldo      Portugal     forward      360     18      91   \n",
      "102              Fuentes         Chile    defender       90      0      27   \n",
      "213                Gekas        Greece     forward      169      3      26   \n",
      "287                Honda         Japan  midfielder      390      8     143   \n",
      "200                 Gyan         Ghana     forward      501     27     151   \n",
      "143               Heskey       England     forward      176      2      53   \n",
      "169                Sagna        France    defender      270      0     125   \n",
      "288              Inamoto         Japan  midfielder        3      0       5   \n",
      "77        Alexandre Song      Cameroon  midfielder       90      1      59   \n",
      "57              Baptista        Brazil  midfielder       82      0      42   \n",
      "358               Haruna       Nigeria  midfielder      180      1      77   \n",
      "216          Katsouranis        Greece  midfielder      234      2     115   \n",
      "273               Drogba   Ivory Coast     forward      204      8      35   \n",
      "540              Bunjaku   Switzerland     forward       13      0       5   \n",
      "398              Riveros      Paraguay  midfielder      480      5     236   \n",
      "361              Martins       Nigeria     forward       71      2      16   \n",
      "570              Muslera       Uruguay  goalkeeper      570      0      75   \n",
      "504         Kim Dong-Jin   South Korea    defender        1      0       0   \n",
      "366                Taiwo       Nigeria    defender      129      3      36   \n",
      "534               Torres         Spain     forward      278      9      50   \n",
      "335           van Bommel   Netherlands  midfielder      540      2     307   \n",
      "458               Sapara      Slovakia  midfielder        2      0       5   \n",
      "435             Ninkovic        Serbia  midfielder      160      1      91   \n",
      "379           Mun In-Guk   North Korea  midfielder      205      2      71   \n",
      "401               Torres      Paraguay    defender       82      2      29   \n",
      "\n",
      "     tackles  saves  \n",
      "90         3      0  \n",
      "41         4      0  \n",
      "165        2      0  \n",
      "448        1      0  \n",
      "433        6      0  \n",
      "560        3      0  \n",
      "484        4      0  \n",
      "385        0     19  \n",
      "427        2      0  \n",
      "302        2      0  \n",
      "33         1      0  \n",
      "308        4      0  \n",
      "446        4      0  \n",
      "537        5      0  \n",
      "483        1      0  \n",
      "546        8      0  \n",
      "164        4      0  \n",
      "198       15      0  \n",
      "13         0      0  \n",
      "140        5      0  \n",
      "406        3      0  \n",
      "342        7      0  \n",
      "419        2      0  \n",
      "89         2      0  \n",
      "211        8      0  \n",
      "270        6      0  \n",
      "8          4      0  \n",
      "468        2      0  \n",
      "347        0      9  \n",
      "68         0      0  \n",
      "..       ...    ...  \n",
      "481        4      0  \n",
      "564        1      0  \n",
      "482        0      3  \n",
      "168        9      0  \n",
      "5          1      0  \n",
      "422        3      0  \n",
      "102        3      0  \n",
      "213        0      0  \n",
      "287        5      0  \n",
      "200        1      0  \n",
      "143        7      0  \n",
      "169        4      0  \n",
      "288        0      0  \n",
      "77         7      0  \n",
      "57         1      0  \n",
      "358        3      0  \n",
      "216        4      0  \n",
      "273        2      0  \n",
      "540        0      0  \n",
      "398       22      0  \n",
      "361        0      0  \n",
      "570        0     16  \n",
      "504        0      0  \n",
      "366        4      0  \n",
      "534        0      0  \n",
      "335       31      0  \n",
      "458        0      0  \n",
      "435        2      0  \n",
      "379        7      0  \n",
      "401        1      0  \n",
      "\n",
      "[595 rows x 8 columns]\n",
      "Training set 565 items\n",
      "Test set 30 items\n"
     ]
    }
   ],
   "source": [
    "# Predict position from one or more of minutes, shots, passes, tackles, saves.\n",
    "# This cell does all the set-up, including reordering the data to avoid team bias.\n",
    "f = open('Players.csv','rU')\n",
    "\n",
    "players = pd.read_csv(f)\n",
    "# ascending=True by default from sklearn.utils import shuffle\n",
    " #섞는 방법\n",
    "            #from sklearn.utils import shuffle\n",
    "            #players = shuffle(players)\n",
    "\n",
    "players = players.sort_values(by='surname')#원래 팀별로 나눠져 있는데 그러면 편중되게 들어가니까 이름별로 재정렬\n",
    "#print players.iloc[0:10]\n",
    "# Drop indices\n",
    "players = players.reset_index(drop=True)\n",
    "#print players.iloc[0:10]\n",
    "#print players[0:10]\n",
    "num_items = len(players)\n",
    "percent_train = 0.95\n",
    "num_train = int(num_items*percent_train)\n",
    "num_test = num_items - num_train\n",
    "print 'Training set', num_train, 'items'\n",
    "print'Test set', num_test, 'items'\n",
    "playersTrain = players[0:num_train]\n",
    "playersTest = players[num_train:]"
   ]
  },
  {
   "cell_type": "code",
   "execution_count": 22,
   "metadata": {},
   "outputs": [
    {
     "name": "stdout",
     "output_type": "stream",
     "text": [
      "Training Accuracy: 0.623008849558\n",
      "\n",
      "Predicted: forward  Actual: defender\n",
      "Predicted: midfielder  Actual: forward\n",
      "Predicted: forward  Actual: forward\n",
      "Predicted: defender  Actual: midfielder\n",
      "Predicted: forward  Actual: forward\n",
      "Predicted: defender  Actual: midfielder\n",
      "Predicted: defender  Actual: midfielder\n",
      "Predicted: forward  Actual: forward\n",
      "Predicted: defender  Actual: midfielder\n",
      "Predicted: midfielder  Actual: midfielder\n",
      "Predicted: defender  Actual: defender\n",
      "Predicted: defender  Actual: midfielder\n",
      "Predicted: forward  Actual: forward\n",
      "Predicted: forward  Actual: forward\n",
      "Predicted: midfielder  Actual: midfielder\n",
      "Predicted: midfielder  Actual: midfielder\n",
      "Predicted: midfielder  Actual: midfielder\n",
      "Predicted: forward  Actual: defender\n",
      "Predicted: defender  Actual: defender\n",
      "Predicted: midfielder  Actual: defender\n",
      "Predicted: midfielder  Actual: midfielder\n",
      "Predicted: defender  Actual: defender\n",
      "Predicted: forward  Actual: forward\n",
      "Predicted: defender  Actual: midfielder\n",
      "Predicted: defender  Actual: midfielder\n",
      "Predicted: midfielder  Actual: midfielder\n",
      "Predicted: defender  Actual: midfielder\n",
      "Predicted: defender  Actual: defender\n",
      "Predicted: forward  Actual: forward\n",
      "Predicted: forward  Actual: defender\n",
      "Test Accuracy: 0.566666666667\n"
     ]
    }
   ],
   "source": [
    "features = ['minutes', 'shots', 'passes', 'tackles', 'saves']\n",
    "# Predict a player's position ( playersTrain['position'] ) \n",
    "\n",
    "# Create classfier\n",
    "neighbors = 11\n",
    "classifier = KNeighborsClassifier(n_neighbors=neighbors)\n",
    "\n",
    "# Train the classifier on training data\n",
    "classifier.fit(playersTrain[features], playersTrain['position'])\n",
    "\n",
    "# Make predictions on training data\n",
    "train_predictions = classifier.predict(playersTrain[features])\n",
    "\n",
    "# Make predictions on test data\n",
    "test_predictions = classifier.predict(playersTest[features])\n",
    "\n",
    "num_train = len(playersTrain)\n",
    "num_test = len(playersTest)\n",
    "# Calculate training accuracy\n",
    "train_correct = 0\n",
    "for i in range(num_train):\n",
    "     print 'Predicted:', train_predictions[i], ' Actual:', playersTrain.ix[i]['position']\n",
    "    if train_predictions[i] == playersTrain.ix[i]['position']: train_correct +=1\n",
    "print 'Training Accuracy:', float(train_correct)/float(num_train)\n",
    "print \"\"\n",
    "\n",
    "# Calculate test accuracy\n",
    "test_correct = 0\n",
    "for i in range(num_test):\n",
    "    print 'Predicted:', test_predictions[i], ' Actual:', playersTest.ix[num_train + i]['position']\n",
    "    if test_predictions[i] == playersTest.ix[num_train + i]['position']: test_correct +=1\n",
    "print 'Test Accuracy:', float(test_correct)/float(num_test)\n"
   ]
  },
  {
   "cell_type": "markdown",
   "metadata": {},
   "source": [
    "## Decision tree classification"
   ]
  },
  {
   "cell_type": "code",
   "execution_count": 24,
   "metadata": {},
   "outputs": [
    {
     "name": "stdout",
     "output_type": "stream",
     "text": [
      "Training Accuracy: 0.933701657459\n",
      "\n",
      "Test Accuracy: 0.75\n"
     ]
    }
   ],
   "source": [
    "# Predict temperature category from other features\n",
    "features = ['longitude','latitude']\n",
    "\n",
    "# Create classifier\n",
    "split = 10 #split횟수를 10번으로 함\n",
    "# min_samples_split : number of samples required to split an internal node\n",
    "# if < 10, then stop splitting 10갸 미만으로 들어가 있으면 split안함\n",
    "dt = DecisionTreeClassifier(min_samples_split=split) # parameter is optional\n",
    "\n",
    "# Train the classifier on training data 훈련\n",
    "dt.fit(citiesTrain[features], citiesTrain['category'])#입력, 출력\n",
    "\n",
    "# Make predictions on training data 트레인데이터 예측\n",
    "#리스트로 에측 결과 들어가 있음\n",
    "train_predictions = dt.predict(citiesTrain[features])\n",
    "\n",
    "# Make predictions on test data 테스트 데이터 예측\n",
    "test_predictions = dt.predict(citiesTest[features])\n",
    "\n",
    "num_train = len(citiesTrain)\n",
    "num_test = len(citiesTest)\n",
    "# Calculate training accuracy\n",
    "train_correct = 0\n",
    "for i in range(num_train):\n",
    "#     print 'Predicted:', train_predictions[i], ' Actual:', citiesTrain.ix[i]['category']\n",
    "    if train_predictions[i] == citiesTrain.ix[i]['category']: train_correct +=1\n",
    "print 'Training Accuracy:', float(train_correct)/float(num_train)\n",
    "print \"\"\n",
    "\n",
    "# Calculate test accuracy\n",
    "test_correct = 0\n",
    "for i in range(num_test):\n",
    "#     print 'Predicted:', test_predictions[i], ' Actual:', citiesTest.ix[num_train + i]['category']\n",
    "    if test_predictions[i] == citiesTest.ix[num_train + i]['category']: test_correct +=1\n",
    "print 'Test Accuracy:', float(test_correct)/float(num_test)"
   ]
  },
  {
   "cell_type": "markdown",
   "metadata": {},
   "source": [
    "### \"Forest\" of decision trees"
   ]
  },
  {
   "cell_type": "code",
   "execution_count": 43,
   "metadata": {},
   "outputs": [
    {
     "name": "stdout",
     "output_type": "stream",
     "text": [
      "Training Accuracy: 0.983425414365\n",
      "\n",
      "Test Accuracy: 0.78125\n"
     ]
    }
   ],
   "source": [
    "# Predict temperature category from other features\n",
    "features = ['longitude', 'latitude']\n",
    "\n",
    "# Create classifier\n",
    "trees = 10 # Try other values for trees\n",
    "rf = RandomForestClassifier(n_estimators=trees)\n",
    "\n",
    "# Train the classifier on training data\n",
    "rf.fit(citiesTrain[features], citiesTrain['category'])#입력 출력\n",
    "\n",
    "# Make predictions on training data\n",
    "train_predictions = rf.predict(citiesTrain[features])\n",
    "\n",
    "# Make predictions on test data\n",
    "test_predictions = rf.predict(citiesTest[features])\n",
    "\n",
    "num_train = len(citiesTrain)\n",
    "num_test = len(citiesTest)\n",
    "# Calculate training accuracy\n",
    "train_correct = 0\n",
    "for i in range(num_train):\n",
    "#     print 'Predicted:', train_predictions[i], ' Actual:', citiesTrain.ix[i]['category']\n",
    "    if train_predictions[i] == citiesTrain.ix[i]['category']: train_correct +=1\n",
    "print 'Training Accuracy:', float(train_correct)/float(num_train)\n",
    "print \"\"\n",
    "\n",
    "# Calculate test accuracy\n",
    "test_correct = 0\n",
    "for i in range(num_test):\n",
    "#     print 'Predicted:', test_predictions[i], ' Actual:', citiesTest.ix[num_train + i]['category']\n",
    "    if test_predictions[i] == citiesTest.ix[num_train + i]['category']: test_correct +=1\n",
    "print 'Test Accuracy:', float(test_correct)/float(num_test)"
   ]
  },
  {
   "cell_type": "markdown",
   "metadata": {
    "collapsed": true
   },
   "source": [
    "### <font color=\"green\">Your Turn: Decision tree and forest of trees on World Cup Data</font>"
   ]
  },
  {
   "cell_type": "code",
   "execution_count": 53,
   "metadata": {},
   "outputs": [
    {
     "name": "stdout",
     "output_type": "stream",
     "text": [
      "Training Accuracy: 0.844247787611\n",
      "\n",
      "Test Accuracy: 0.466666666667\n"
     ]
    }
   ],
   "source": [
    "# SINGLE TREE\n",
    "# Predict position from one or more of minutes, shots, passes, tackles, saves.\n",
    "# Try different features and different values for min_samples_split.\n",
    "# What's the highest accuracy you can get?\n",
    "features = ['minutes', 'shots', 'passes', 'tackles', 'saves']\n",
    "\n",
    "# Create classifier\n",
    "split = 10\n",
    "dt = DecisionTreeClassifier(min_samples_split=split) # parameter is optional\n",
    "\n",
    "# Train the classifier on training data\n",
    "dt.fit(playersTrain[features], playersTrain['position'])\n",
    "\n",
    "# Make predictions on training data\n",
    "train_predictions = dt.predict(playersTrain[features])\n",
    "\n",
    "# Make predictions on test data\n",
    "test_predictions = dt.predict(playersTest[features])\n",
    "\n",
    "num_train = len(playersTrain)\n",
    "num_test = len(playersTest)\n",
    "# Calculate training accuracy\n",
    "train_correct = 0 #range(2,9)하면 2부터 9\n",
    "for i in range(num_train):\n",
    "#     print 'Predicted:', train_predictions[i], ' Actual:', playersTrain.ix[i]['position']\n",
    "    if train_predictions[i] == playersTrain.ix[i]['position']: train_correct +=1\n",
    "print 'Training Accuracy:', float(train_correct)/float(num_train)\n",
    "print \"\"\n",
    "\n",
    "# Calculate test accuracy\n",
    "test_correct = 0\n",
    "for i in range(num_test):\n",
    "#     print 'Predicted:', test_predictions[i], ' Actual:', playersTest.ix[num_train + i]['position']\n",
    "    if test_predictions[i] == playersTest.ix[num_train + i]['position']: test_correct +=1\n",
    "print 'Test Accuracy:', float(test_correct)/float(num_test)"
   ]
  },
  {
   "cell_type": "code",
   "execution_count": 56,
   "metadata": {},
   "outputs": [
    {
     "name": "stdout",
     "output_type": "stream",
     "text": [
      "Training Accuracy: 0.969911504425\n",
      "\n",
      "Test Accuracy: 0.6\n"
     ]
    }
   ],
   "source": [
    "# FOREST OF TREES\n",
    "# Predict position from one or more of minutes, shots, passes, tackles, saves.\n",
    "# Try different values for n_estimators.\n",
    "# What's the highest accuracy you can get?\n",
    "features = ['minutes', 'shots', 'passes', 'tackles', 'saves']\n",
    "\n",
    "# Create classifier\n",
    "trees = 10\n",
    "rf = RandomForestClassifier(n_estimators=trees)\n",
    "\n",
    "# Train the classifier on training data\n",
    "rf.fit(playersTrain[features], playersTrain['position'])\n",
    "\n",
    "# Make predictions on training data\n",
    "train_predictions = rf.predict(playersTrain[features])\n",
    "\n",
    "# Make predictions on test data\n",
    "test_predictions = rf.predict(playersTest[features])\n",
    "\n",
    "num_train = len(playersTrain)\n",
    "num_test = len(playersTest)\n",
    "# Calculate training accuracy\n",
    "train_correct = 0\n",
    "for i in range(num_train):\n",
    "#     print 'Predicted:', train_predictions[i], ' Actual:', playersTrain.ix[i]['position']\n",
    "    if train_predictions[i] == playersTrain.ix[i]['position']: train_correct +=1\n",
    "print 'Training Accuracy:', float(train_correct)/float(num_train)\n",
    "print \"\"\n",
    "\n",
    "# Calculate test accuracy\n",
    "test_correct = 0\n",
    "for i in range(num_test):\n",
    "#     print 'Predicted:', test_predictions[i], ' Actual:', playersTest.ix[num_train + i]['position']\n",
    "    if test_predictions[i] == playersTest.ix[num_train + i]['position']: test_correct +=1\n",
    "print 'Test Accuracy:', float(test_correct)/float(num_test)"
   ]
  },
  {
   "cell_type": "markdown",
   "metadata": {},
   "source": [
    "### Logistic Regression Classification"
   ]
  },
  {
   "cell_type": "code",
   "execution_count": 61,
   "metadata": {},
   "outputs": [
    {
     "name": "stdout",
     "output_type": "stream",
     "text": [
      "Training Accuracy: 0.541436464088\n",
      "\n",
      "Test Accuracy: 0.4375\n"
     ]
    }
   ],
   "source": [
    "# Predict temperature category from other features\n",
    "features = ['longitude', 'latitude']\n",
    "\n",
    "# Create classifier\n",
    "lg = LogisticRegression()\n",
    "\n",
    "# Train the classifier on training data\n",
    "lg.fit(citiesTrain[features], citiesTrain['category'])\n",
    "\n",
    "# Make predictions on training data\n",
    "train_predictions = lg.predict(citiesTrain[features])\n",
    "\n",
    "# Make predictions on test data\n",
    "test_predictions = lg.predict(citiesTest[features])\n",
    "\n",
    "num_train = len(citiesTrain)\n",
    "num_test = len(citiesTest)\n",
    "# Calculate training accuracy\n",
    "train_correct = 0\n",
    "for i in range(num_train):\n",
    "#     print 'Predicted:', train_predictions[i], ' Actual:', citiesTrain.ix[i]['category']\n",
    "    if train_predictions[i] == citiesTrain.ix[i]['category']: train_correct +=1\n",
    "print 'Training Accuracy:', float(train_correct)/float(num_train)\n",
    "print \"\"\n",
    "\n",
    "# Calculate test accuracy\n",
    "test_correct = 0\n",
    "for i in range(num_test):\n",
    "#     print 'Predicted:', test_predictions[i], ' Actual:', citiesTest.ix[num_train + i]['category']\n",
    "    if test_predictions[i] == citiesTest.ix[num_train + i]['category']: test_correct +=1\n",
    "print 'Test Accuracy:', float(test_correct)/float(num_test)"
   ]
  },
  {
   "cell_type": "markdown",
   "metadata": {},
   "source": [
    "### <font color=\"green\">Your Turn: Logistic Regression on World Cup Data</font>"
   ]
  },
  {
   "cell_type": "code",
   "execution_count": 64,
   "metadata": {},
   "outputs": [
    {
     "name": "stdout",
     "output_type": "stream",
     "text": [
      "Training Accuracy: 0.647787610619\n",
      "\n",
      "Test Accuracy: 0.733333333333\n"
     ]
    }
   ],
   "source": [
    "# FOREST OF TREES\n",
    "# Predict position from one or more of minutes, shots, passes, tackles, saves.\n",
    "# Try different values for n_estimators.\n",
    "# What's the highest accuracy you can get?\n",
    "features = ['minutes', 'shots', 'passes', 'tackles', 'saves']\n",
    "\n",
    "# Create classifier\n",
    "lg = LogisticRegression()\n",
    "\n",
    "# Train the classifier on training data\n",
    "lg.fit(playersTrain[features], playersTrain['position'])\n",
    "\n",
    "# Make predictions on training data\n",
    "train_predictions = lg.predict(playersTrain[features])\n",
    "\n",
    "# Make predictions on test data\n",
    "test_predictions = lg.predict(playersTest[features])\n",
    "\n",
    "num_train = len(playersTrain)\n",
    "num_test = len(playersTest)\n",
    "# Calculate training accuracy\n",
    "train_correct = 0\n",
    "for i in range(num_train):\n",
    "#     print 'Predicted:', train_predictions[i], ' Actual:', playersTrain.ix[i]['position']\n",
    "    if train_predictions[i] == playersTrain.ix[i]['position']: train_correct +=1\n",
    "print 'Training Accuracy:', float(train_correct)/float(num_train)\n",
    "print \"\"\n",
    "\n",
    "# Calculate test accuracy\n",
    "test_correct = 0\n",
    "for i in range(num_test):\n",
    "#     print 'Predicted:', test_predictions[i], ' Actual:', playersTest.ix[num_train + i]['position']\n",
    "    if test_predictions[i] == playersTest.ix[num_train + i]['position']: test_correct +=1\n",
    "print 'Test Accuracy:', float(test_correct)/float(num_test)"
   ]
  },
  {
   "cell_type": "code",
   "execution_count": null,
   "metadata": {
    "collapsed": true
   },
   "outputs": [],
   "source": []
  }
 ],
 "metadata": {
  "kernelspec": {
   "display_name": "Python 2",
   "language": "python",
   "name": "python2"
  },
  "language_info": {
   "codemirror_mode": {
    "name": "ipython",
    "version": 2
   },
   "file_extension": ".py",
   "mimetype": "text/x-python",
   "name": "python",
   "nbconvert_exporter": "python",
   "pygments_lexer": "ipython2",
   "version": "2.7.13"
  }
 },
 "nbformat": 4,
 "nbformat_minor": 1
}
