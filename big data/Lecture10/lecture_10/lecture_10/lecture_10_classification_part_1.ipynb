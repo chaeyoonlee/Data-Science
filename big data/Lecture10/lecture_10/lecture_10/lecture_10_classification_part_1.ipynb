{
 "cells": [
  {
   "cell_type": "markdown",
   "metadata": {},
   "source": [
    "# Lecture 10: Classification Part 1\n",
    "\n",
    "### Classification using scikit-learn (with pandas)\n",
    "\n",
    "Classification Algorithms covered:\n",
    "1. k-Nearest Neighbors\n",
    "2. Decision Trees / Random Forest\n",
    "3. Logistic Regression\n",
    "\n",
    "Notebook created by Jennifer Widom, modified by Lisa Wang."
   ]
  },
  {
   "cell_type": "code",
   "execution_count": 70,
   "metadata": {
    "collapsed": false
   },
   "outputs": [],
   "source": [
    "import csv\n",
    "import pandas as pd\n",
    "from sklearn.neighbors import KNeighborsClassifier\n",
    "from sklearn.tree import DecisionTreeClassifier\n",
    "from sklearn.ensemble import RandomForestClassifier\n",
    "from sklearn.linear_model import LogisticRegression"
   ]
  },
  {
   "cell_type": "code",
   "execution_count": 71,
   "metadata": {
    "collapsed": false
   },
   "outputs": [
    {
     "name": "stdout",
     "output_type": "stream",
     "text": [
      "cold: 17\n",
      "cool: 92\n",
      "warm: 79\n",
      "hot: 25\n"
     ]
    }
   ],
   "source": [
    "# Read Cities.csv into dataframe, add column for temperature category\n",
    "# Note: For a dataframe D and integer i, D.ix[i] is the i-th row of D\n",
    "f = open('Cities.csv','rU')\n",
    "cities = pd.read_csv(f)\n",
    "cats = []\n",
    "for i in range(len(cities)):\n",
    "    if cities.ix[i]['temperature'] < 5:\n",
    "        cats.append('cold')\n",
    "    elif cities.ix[i]['temperature'] < 9:\n",
    "        cats.append('cool')\n",
    "    elif cities.ix[i]['temperature'] < 15:\n",
    "        cats.append('warm')\n",
    "    else: cats.append('hot')\n",
    "cities['category'] = cats\n",
    "print \"cold:\", len(cities[(cities.category == 'cold')])\n",
    "print \"cool:\", len(cities[(cities.category == 'cool')])\n",
    "print \"warm:\", len(cities[(cities.category == 'warm')])\n",
    "print \"hot:\", len(cities[(cities.category == 'hot')])"
   ]
  },
  {
   "cell_type": "code",
   "execution_count": 72,
   "metadata": {
    "collapsed": false
   },
   "outputs": [
    {
     "name": "stdout",
     "output_type": "stream",
     "text": [
      "Training set 181 items\n",
      "Test set 32 items\n"
     ]
    }
   ],
   "source": [
    "# Create training and test sets for cities data\n",
    "num_items = len(cities)\n",
    "percent_train = 0.85\n",
    "num_train = int(numitems*percent_train)\n",
    "num_test = num_items - num_train\n",
    "print 'Training set', num_train, 'items'\n",
    "print'Test set', num_test, 'items'\n",
    "citiesTrain = cities[0:num_train]\n",
    "citiesTest = cities[num_train:]"
   ]
  },
  {
   "cell_type": "code",
   "execution_count": 73,
   "metadata": {
    "collapsed": false
   },
   "outputs": [
    {
     "name": "stdout",
     "output_type": "stream",
     "text": [
      "        city         country  latitude  longitude  temperature category\n",
      "0    Aalborg         Denmark     57.03       9.92         7.52     cool\n",
      "1   Aberdeen  United Kingdom     57.17      -2.08         8.10     cool\n",
      "2     Abisko          Sweden     63.35      18.83         0.20     cold\n",
      "3      Adana          Turkey     36.99      35.32        18.67      hot\n",
      "4   Albacete           Spain     39.00      -1.87        12.62     warm\n",
      "5  Algeciras           Spain     36.13      -5.47        17.38      hot\n",
      "6     Amiens          France     49.90       2.30        10.17     warm\n",
      "7  Amsterdam     Netherlands     52.35       4.92         8.93     cool\n",
      "8     Ancona           Italy     43.60      13.50        13.52     warm\n",
      "9    Andorra         Andorra     42.50       1.52         9.60     warm\n"
     ]
    }
   ],
   "source": [
    "print citiesTrain[:10]"
   ]
  },
  {
   "cell_type": "markdown",
   "metadata": {},
   "source": [
    "Pandas: Note that you can access individual rows by their row index. E.g."
   ]
  },
  {
   "cell_type": "code",
   "execution_count": 74,
   "metadata": {
    "collapsed": false
   },
   "outputs": [
    {
     "data": {
      "text/plain": [
       "city           Aalborg\n",
       "country        Denmark\n",
       "latitude         57.03\n",
       "longitude         9.92\n",
       "temperature       7.52\n",
       "category          cool\n",
       "Name: 0, dtype: object"
      ]
     },
     "execution_count": 74,
     "metadata": {},
     "output_type": "execute_result"
    }
   ],
   "source": [
    "citiesTrain.ix[0]"
   ]
  },
  {
   "cell_type": "code",
   "execution_count": 75,
   "metadata": {
    "collapsed": false
   },
   "outputs": [
    {
     "name": "stdout",
     "output_type": "stream",
     "text": [
      "             city         country  latitude  longitude  temperature category\n",
      "181         Sivas          Turkey     39.75      37.03         8.05     cool\n",
      "182        Skopje       Macedonia     42.00      21.43         9.36     warm\n",
      "183         Split         Croatia     43.52      16.47        12.46     warm\n",
      "184  Stara Zagora        Bulgaria     42.42      25.62        10.90     warm\n",
      "185     Stavanger          Norway     58.97       5.68         5.53     cool\n",
      "186     Stockholm          Sweden     59.35      18.10         6.26     cool\n",
      "187          Sumy         Ukraine     50.92      34.78         6.28     cool\n",
      "188       Swansea  United Kingdom     51.63      -3.95         9.73     warm\n",
      "189        Szeged         Hungary     46.25      20.15        10.34     warm\n",
      "190       Tallinn         Estonia     59.43      24.73         4.82     cold\n"
     ]
    }
   ],
   "source": [
    "print citiesTest[:10]"
   ]
  },
  {
   "cell_type": "markdown",
   "metadata": {},
   "source": [
    "### K-nearest-neighbors classification"
   ]
  },
  {
   "cell_type": "code",
   "execution_count": 76,
   "metadata": {
    "collapsed": false
   },
   "outputs": [
    {
     "name": "stdout",
     "output_type": "stream",
     "text": [
      "Predicted: cool  Actual: cool\n",
      "Predicted: cool  Actual: cool\n",
      "Predicted: cold  Actual: cold\n",
      "Predicted: warm  Actual: hot\n",
      "Predicted: hot  Actual: warm\n",
      "Predicted: hot  Actual: hot\n",
      "Predicted: warm  Actual: warm\n",
      "Predicted: cool  Actual: cool\n",
      "Predicted: warm  Actual: warm\n",
      "Predicted: warm  Actual: warm\n",
      "Predicted: warm  Actual: warm\n",
      "Predicted: warm  Actual: warm\n",
      "Predicted: warm  Actual: warm\n",
      "Predicted: warm  Actual: warm\n",
      "Predicted: hot  Actual: hot\n",
      "Predicted: cool  Actual: cold\n",
      "Predicted: cool  Actual: cool\n",
      "Predicted: hot  Actual: hot\n",
      "Predicted: cool  Actual: cool\n",
      "Predicted: cool  Actual: cool\n",
      "Predicted: warm  Actual: hot\n",
      "Predicted: hot  Actual: hot\n",
      "Predicted: cool  Actual: cool\n",
      "Predicted: warm  Actual: warm\n",
      "Predicted: cool  Actual: cool\n",
      "Predicted: warm  Actual: warm\n",
      "Predicted: cool  Actual: warm\n",
      "Predicted: cool  Actual: cold\n",
      "Predicted: cool  Actual: cool\n",
      "Predicted: cool  Actual: cool\n",
      "Predicted: cool  Actual: cool\n",
      "Predicted: cool  Actual: cool\n",
      "Predicted: warm  Actual: warm\n",
      "Predicted: warm  Actual: cool\n",
      "Predicted: cool  Actual: warm\n",
      "Predicted: cold  Actual: cold\n",
      "Predicted: warm  Actual: warm\n",
      "Predicted: cool  Actual: cool\n",
      "Predicted: warm  Actual: warm\n",
      "Predicted: cool  Actual: cool\n",
      "Predicted: warm  Actual: warm\n",
      "Predicted: cool  Actual: cool\n",
      "Predicted: warm  Actual: warm\n",
      "Predicted: warm  Actual: warm\n",
      "Predicted: cool  Actual: warm\n",
      "Predicted: cool  Actual: cool\n",
      "Predicted: warm  Actual: warm\n",
      "Predicted: cool  Actual: cool\n",
      "Predicted: cool  Actual: cool\n",
      "Predicted: warm  Actual: warm\n",
      "Predicted: warm  Actual: warm\n",
      "Predicted: warm  Actual: warm\n",
      "Predicted: warm  Actual: warm\n",
      "Predicted: warm  Actual: warm\n",
      "Predicted: warm  Actual: warm\n",
      "Predicted: cool  Actual: cool\n",
      "Predicted: cool  Actual: cool\n",
      "Predicted: warm  Actual: warm\n",
      "Predicted: warm  Actual: warm\n",
      "Predicted: hot  Actual: hot\n",
      "Predicted: hot  Actual: hot\n",
      "Predicted: cool  Actual: cool\n",
      "Predicted: cool  Actual: cool\n",
      "Predicted: cool  Actual: cool\n",
      "Predicted: cool  Actual: cool\n",
      "Predicted: cool  Actual: cool\n",
      "Predicted: warm  Actual: warm\n",
      "Predicted: warm  Actual: warm\n",
      "Predicted: hot  Actual: hot\n",
      "Predicted: warm  Actual: warm\n",
      "Predicted: cool  Actual: cool\n",
      "Predicted: warm  Actual: cool\n",
      "Predicted: warm  Actual: hot\n",
      "Predicted: cool  Actual: cool\n",
      "Predicted: warm  Actual: cool\n",
      "Predicted: cool  Actual: cool\n",
      "Predicted: cool  Actual: cool\n",
      "Predicted: warm  Actual: warm\n",
      "Predicted: warm  Actual: hot\n",
      "Predicted: cool  Actual: cool\n",
      "Predicted: cool  Actual: cool\n",
      "Predicted: warm  Actual: cool\n",
      "Predicted: warm  Actual: cool\n",
      "Predicted: warm  Actual: warm\n",
      "Predicted: warm  Actual: warm\n",
      "Predicted: hot  Actual: warm\n",
      "Predicted: cool  Actual: cool\n",
      "Predicted: cool  Actual: cool\n",
      "Predicted: warm  Actual: warm\n",
      "Predicted: warm  Actual: warm\n",
      "Predicted: cool  Actual: cool\n",
      "Predicted: cool  Actual: warm\n",
      "Predicted: cool  Actual: cool\n",
      "Predicted: cool  Actual: cool\n",
      "Predicted: hot  Actual: hot\n",
      "Predicted: warm  Actual: cool\n",
      "Predicted: cool  Actual: cool\n",
      "Predicted: cool  Actual: cool\n",
      "Predicted: cool  Actual: warm\n",
      "Predicted: cool  Actual: cool\n",
      "Predicted: cool  Actual: cold\n",
      "Predicted: cool  Actual: cool\n",
      "Predicted: cool  Actual: cool\n",
      "Predicted: hot  Actual: hot\n",
      "Predicted: cool  Actual: cool\n",
      "Predicted: cold  Actual: cold\n",
      "Predicted: cool  Actual: cool\n",
      "Predicted: warm  Actual: warm\n",
      "Predicted: hot  Actual: hot\n",
      "Predicted: warm  Actual: warm\n",
      "Predicted: cool  Actual: cool\n",
      "Predicted: cool  Actual: cool\n",
      "Predicted: warm  Actual: cool\n",
      "Predicted: cool  Actual: cool\n",
      "Predicted: cool  Actual: cool\n",
      "Predicted: cool  Actual: cool\n",
      "Predicted: cold  Actual: cold\n",
      "Predicted: cool  Actual: cool\n",
      "Predicted: cool  Actual: cool\n",
      "Predicted: cool  Actual: cool\n",
      "Predicted: cool  Actual: cool\n",
      "Predicted: cool  Actual: cool\n",
      "Predicted: warm  Actual: warm\n",
      "Predicted: warm  Actual: warm\n",
      "Predicted: warm  Actual: warm\n",
      "Predicted: cool  Actual: cool\n",
      "Predicted: hot  Actual: hot\n",
      "Predicted: warm  Actual: warm\n",
      "Predicted: cool  Actual: cool\n",
      "Predicted: cool  Actual: cool\n",
      "Predicted: warm  Actual: warm\n",
      "Predicted: cool  Actual: cool\n",
      "Predicted: cool  Actual: cool\n",
      "Predicted: warm  Actual: warm\n",
      "Predicted: cool  Actual: cool\n",
      "Predicted: warm  Actual: hot\n",
      "Predicted: hot  Actual: hot\n",
      "Predicted: warm  Actual: warm\n",
      "Predicted: cool  Actual: cool\n",
      "Predicted: hot  Actual: hot\n",
      "Predicted: cool  Actual: cool\n",
      "Predicted: cool  Actual: cool\n",
      "Predicted: cool  Actual: cool\n",
      "Predicted: warm  Actual: warm\n",
      "Predicted: cool  Actual: cool\n",
      "Predicted: hot  Actual: hot\n",
      "Predicted: cool  Actual: cool\n",
      "Predicted: warm  Actual: warm\n",
      "Predicted: warm  Actual: warm\n",
      "Predicted: cool  Actual: cool\n",
      "Predicted: warm  Actual: warm\n",
      "Predicted: cool  Actual: cold\n",
      "Predicted: cool  Actual: cold\n",
      "Predicted: cool  Actual: cool\n",
      "Predicted: cold  Actual: cold\n",
      "Predicted: warm  Actual: warm\n",
      "Predicted: hot  Actual: hot\n",
      "Predicted: hot  Actual: hot\n",
      "Predicted: warm  Actual: warm\n",
      "Predicted: warm  Actual: warm\n",
      "Predicted: warm  Actual: hot\n",
      "Predicted: cool  Actual: cool\n",
      "Predicted: warm  Actual: warm\n",
      "Predicted: warm  Actual: cool\n",
      "Predicted: warm  Actual: warm\n",
      "Predicted: cool  Actual: cool\n",
      "Predicted: cool  Actual: cool\n",
      "Predicted: warm  Actual: warm\n",
      "Predicted: cool  Actual: cool\n",
      "Predicted: warm  Actual: warm\n",
      "Predicted: cool  Actual: cool\n",
      "Predicted: warm  Actual: hot\n",
      "Predicted: cool  Actual: cool\n",
      "Predicted: warm  Actual: warm\n",
      "Predicted: warm  Actual: warm\n",
      "Predicted: cold  Actual: cold\n",
      "Predicted: warm  Actual: warm\n",
      "Predicted: warm  Actual: warm\n",
      "Predicted: warm  Actual: warm\n",
      "Predicted: warm  Actual: cool\n",
      "Predicted: warm  Actual: warm\n",
      "Training Accuracy: 0.845303867403\n",
      "\n",
      "Predicted: warm  Actual: cool\n",
      "Predicted: warm  Actual: warm\n",
      "Predicted: warm  Actual: warm\n",
      "Predicted: warm  Actual: warm\n",
      "Predicted: cool  Actual: cool\n",
      "Predicted: cool  Actual: cool\n",
      "Predicted: cool  Actual: cool\n",
      "Predicted: warm  Actual: warm\n",
      "Predicted: warm  Actual: warm\n",
      "Predicted: cool  Actual: cold\n",
      "Predicted: cool  Actual: cold\n",
      "Predicted: warm  Actual: warm\n",
      "Predicted: cool  Actual: cold\n",
      "Predicted: warm  Actual: warm\n",
      "Predicted: warm  Actual: warm\n",
      "Predicted: warm  Actual: warm\n",
      "Predicted: warm  Actual: warm\n",
      "Predicted: hot  Actual: hot\n",
      "Predicted: cool  Actual: cold\n",
      "Predicted: cool  Actual: cold\n",
      "Predicted: cool  Actual: cold\n",
      "Predicted: hot  Actual: hot\n",
      "Predicted: cool  Actual: cool\n",
      "Predicted: warm  Actual: warm\n",
      "Predicted: cool  Actual: cool\n",
      "Predicted: cool  Actual: cool\n",
      "Predicted: cool  Actual: cool\n",
      "Predicted: cool  Actual: warm\n",
      "Predicted: warm  Actual: warm\n",
      "Predicted: cool  Actual: cool\n",
      "Predicted: warm  Actual: warm\n",
      "Predicted: cool  Actual: cool\n",
      "Test Accuracy: 0.75\n"
     ]
    }
   ],
   "source": [
    "# Predict temperature category from other features\n",
    "features = ['longitude', 'latitude']\n",
    "\n",
    "# Create classfier\n",
    "neighbors = 7 # Number of neighbors to consider for k nearest neighbor classification\n",
    "classifier = KNeighborsClassifier(n_neighbors=neighbors)\n",
    "\n",
    "# Train the classifier on training data\n",
    "classifier.fit(citiesTrain[features], citiesTrain['category'])\n",
    "\n",
    "# Make predictions on training data\n",
    "train_predictions = classifier.predict(citiesTrain[features])\n",
    "\n",
    "# Make predictions on test data\n",
    "test_predictions = classifier.predict(citiesTest[features])\n",
    "\n",
    "num_train = len(citiesTrain)\n",
    "num_test = len(citiesTest)\n",
    "# Calculate training accuracy\n",
    "train_correct = 0\n",
    "for i in range(num_train):\n",
    "    print 'Predicted:', train_predictions[i], ' Actual:', citiesTrain.ix[i]['category']\n",
    "    if train_predictions[i] == citiesTrain.ix[i]['category']: train_correct +=1\n",
    "print 'Training Accuracy:', float(train_correct)/float(num_train)\n",
    "print \"\"\n",
    "\n",
    "# Calculate test accuracy\n",
    "test_correct = 0\n",
    "for i in range(num_test):\n",
    "    print 'Predicted:', test_predictions[i], ' Actual:', citiesTest.ix[num_train + i]['category']\n",
    "    if test_predictions[i] == citiesTest.ix[num_train + i]['category']: test_correct +=1\n",
    "print 'Test Accuracy:', float(test_correct)/float(num_test)\n",
    "# Comment out print, try other values for neighbors, other features"
   ]
  },
  {
   "cell_type": "markdown",
   "metadata": {
    "collapsed": true
   },
   "source": [
    "### <font color=\"green\">Your Turn: K-nearest-neighbors on World Cup Data</font>"
   ]
  },
  {
   "cell_type": "code",
   "execution_count": 77,
   "metadata": {
    "collapsed": false
   },
   "outputs": [
    {
     "name": "stdout",
     "output_type": "stream",
     "text": [
      "Training set 565 items\n",
      "Test set 30 items\n"
     ]
    }
   ],
   "source": [
    "# Predict position from one or more of minutes, shots, passes, tackles, saves.\n",
    "# This cell does all the set-up, including reordering the data to avoid team bias.\n",
    "f = open('Players.csv','rU')\n",
    "players = pd.read_csv(f)\n",
    "players = players.sort_values(by='surname')\n",
    "players = players.reset_index(drop=True)\n",
    "num_items = len(players)\n",
    "percent_train = 0.95\n",
    "num_train = int(num_items*percent_train)\n",
    "num_test = num_items - num_train\n",
    "print 'Training set', num_train, 'items'\n",
    "print'Test set', num_test, 'items'\n",
    "playersTrain = players[0:num_train]\n",
    "playersTest = players[num_train:]"
   ]
  },
  {
   "cell_type": "code",
   "execution_count": 78,
   "metadata": {
    "collapsed": false
   },
   "outputs": [
    {
     "name": "stdout",
     "output_type": "stream",
     "text": [
      "Training Accuracy: 0.623008849558\n",
      "\n",
      "Predicted: forward  Actual: defender\n",
      "Predicted: midfielder  Actual: forward\n",
      "Predicted: forward  Actual: forward\n",
      "Predicted: defender  Actual: midfielder\n",
      "Predicted: forward  Actual: forward\n",
      "Predicted: defender  Actual: midfielder\n",
      "Predicted: defender  Actual: midfielder\n",
      "Predicted: forward  Actual: forward\n",
      "Predicted: defender  Actual: midfielder\n",
      "Predicted: midfielder  Actual: midfielder\n",
      "Predicted: defender  Actual: defender\n",
      "Predicted: defender  Actual: midfielder\n",
      "Predicted: forward  Actual: forward\n",
      "Predicted: forward  Actual: forward\n",
      "Predicted: midfielder  Actual: midfielder\n",
      "Predicted: midfielder  Actual: midfielder\n",
      "Predicted: midfielder  Actual: midfielder\n",
      "Predicted: forward  Actual: defender\n",
      "Predicted: defender  Actual: defender\n",
      "Predicted: midfielder  Actual: defender\n",
      "Predicted: midfielder  Actual: midfielder\n",
      "Predicted: defender  Actual: defender\n",
      "Predicted: forward  Actual: forward\n",
      "Predicted: defender  Actual: midfielder\n",
      "Predicted: defender  Actual: midfielder\n",
      "Predicted: midfielder  Actual: midfielder\n",
      "Predicted: defender  Actual: midfielder\n",
      "Predicted: defender  Actual: defender\n",
      "Predicted: forward  Actual: forward\n",
      "Predicted: forward  Actual: defender\n",
      "Test Accuracy: 0.566666666667\n"
     ]
    }
   ],
   "source": [
    "features = ['minutes', 'shots', 'passes', 'tackles', 'saves']\n",
    "# Predict a player's position ( playersTrain['position'] ) \n",
    "\n",
    "# Create classfier\n",
    "neighbors = 11\n",
    "classifier = KNeighborsClassifier(n_neighbors=neighbors)\n",
    "\n",
    "# Train the classifier on training data\n",
    "classifier.fit(playersTrain[features], playersTrain['position'])\n",
    "\n",
    "# Make predictions on training data\n",
    "train_predictions = classifier.predict(playersTrain[features])\n",
    "\n",
    "# Make predictions on test data\n",
    "test_predictions = classifier.predict(playersTest[features])\n",
    "\n",
    "num_train = len(playersTrain)\n",
    "num_test = len(playersTest)\n",
    "# Calculate training accuracy\n",
    "train_correct = 0\n",
    "for i in range(num_train):\n",
    "#     print 'Predicted:', train_predictions[i], ' Actual:', playersTrain.ix[i]['position']\n",
    "    if train_predictions[i] == playersTrain.ix[i]['position']: train_correct +=1\n",
    "print 'Training Accuracy:', float(train_correct)/float(num_train)\n",
    "print \"\"\n",
    "\n",
    "# Calculate test accuracy\n",
    "test_correct = 0\n",
    "for i in range(num_test):\n",
    "    print 'Predicted:', test_predictions[i], ' Actual:', playersTest.ix[num_train + i]['position']\n",
    "    if test_predictions[i] == playersTest.ix[num_train + i]['position']: test_correct +=1\n",
    "print 'Test Accuracy:', float(test_correct)/float(num_test)\n"
   ]
  },
  {
   "cell_type": "markdown",
   "metadata": {},
   "source": [
    "## Decision tree classification"
   ]
  },
  {
   "cell_type": "code",
   "execution_count": 79,
   "metadata": {
    "collapsed": false
   },
   "outputs": [
    {
     "name": "stdout",
     "output_type": "stream",
     "text": [
      "Training Accuracy: 0.933701657459\n",
      "\n",
      "Test Accuracy: 0.75\n"
     ]
    }
   ],
   "source": [
    "# Predict temperature category from other features\n",
    "features = ['longitude','latitude']\n",
    "\n",
    "# Create classifier\n",
    "split = 10\n",
    "dt = DecisionTreeClassifier(min_samples_split=split) # parameter is optional\n",
    "\n",
    "# Train the classifier on training data\n",
    "dt.fit(citiesTrain[features], citiesTrain['category'])\n",
    "\n",
    "# Make predictions on training data\n",
    "train_predictions = dt.predict(citiesTrain[features])\n",
    "\n",
    "# Make predictions on test data\n",
    "test_predictions = dt.predict(citiesTest[features])\n",
    "\n",
    "num_train = len(citiesTrain)\n",
    "num_test = len(citiesTest)\n",
    "# Calculate training accuracy\n",
    "train_correct = 0\n",
    "for i in range(num_train):\n",
    "#     print 'Predicted:', train_predictions[i], ' Actual:', citiesTrain.ix[i]['category']\n",
    "    if train_predictions[i] == citiesTrain.ix[i]['category']: train_correct +=1\n",
    "print 'Training Accuracy:', float(train_correct)/float(num_train)\n",
    "print \"\"\n",
    "\n",
    "# Calculate test accuracy\n",
    "test_correct = 0\n",
    "for i in range(num_test):\n",
    "#     print 'Predicted:', test_predictions[i], ' Actual:', citiesTest.ix[num_train + i]['category']\n",
    "    if test_predictions[i] == citiesTest.ix[num_train + i]['category']: test_correct +=1\n",
    "print 'Test Accuracy:', float(test_correct)/float(num_test)"
   ]
  },
  {
   "cell_type": "markdown",
   "metadata": {},
   "source": [
    "### \"Forest\" of decision trees"
   ]
  },
  {
   "cell_type": "code",
   "execution_count": 80,
   "metadata": {
    "collapsed": false
   },
   "outputs": [
    {
     "name": "stdout",
     "output_type": "stream",
     "text": [
      "Training Accuracy: 0.983425414365\n",
      "\n",
      "Test Accuracy: 0.75\n"
     ]
    }
   ],
   "source": [
    "# Predict temperature category from other features\n",
    "features = ['longitude', 'latitude']\n",
    "\n",
    "# Create classifier\n",
    "trees = 10 # Try other values for trees\n",
    "rf = RandomForestClassifier(n_estimators=trees)\n",
    "\n",
    "# Train the classifier on training data\n",
    "rf.fit(citiesTrain[features], citiesTrain['category'])\n",
    "\n",
    "# Make predictions on training data\n",
    "train_predictions = rf.predict(citiesTrain[features])\n",
    "\n",
    "# Make predictions on test data\n",
    "test_predictions = rf.predict(citiesTest[features])\n",
    "\n",
    "num_train = len(citiesTrain)\n",
    "num_test = len(citiesTest)\n",
    "# Calculate training accuracy\n",
    "train_correct = 0\n",
    "for i in range(num_train):\n",
    "#     print 'Predicted:', train_predictions[i], ' Actual:', citiesTrain.ix[i]['category']\n",
    "    if train_predictions[i] == citiesTrain.ix[i]['category']: train_correct +=1\n",
    "print 'Training Accuracy:', float(train_correct)/float(num_train)\n",
    "print \"\"\n",
    "\n",
    "# Calculate test accuracy\n",
    "test_correct = 0\n",
    "for i in range(num_test):\n",
    "#     print 'Predicted:', test_predictions[i], ' Actual:', citiesTest.ix[num_train + i]['category']\n",
    "    if test_predictions[i] == citiesTest.ix[num_train + i]['category']: test_correct +=1\n",
    "print 'Test Accuracy:', float(test_correct)/float(num_test)"
   ]
  },
  {
   "cell_type": "markdown",
   "metadata": {
    "collapsed": true
   },
   "source": [
    "### <font color=\"green\">Your Turn: Decision tree and forest of trees on World Cup Data</font>"
   ]
  },
  {
   "cell_type": "code",
   "execution_count": 81,
   "metadata": {
    "collapsed": false
   },
   "outputs": [
    {
     "name": "stdout",
     "output_type": "stream",
     "text": [
      "Training Accuracy: 0.846017699115\n",
      "\n",
      "Test Accuracy: 0.466666666667\n"
     ]
    }
   ],
   "source": [
    "# SINGLE TREE\n",
    "# Predict position from one or more of minutes, shots, passes, tackles, saves.\n",
    "# Try different features and different values for min_samples_split.\n",
    "# What's the highest accuracy you can get?\n",
    "features = ['minutes', 'shots', 'passes', 'tackles', 'saves']\n",
    "\n",
    "# Create classifier\n",
    "split = 10\n",
    "dt = DecisionTreeClassifier(min_samples_split=split) # parameter is optional\n",
    "\n",
    "# Train the classifier on training data\n",
    "dt.fit(playersTrain[features], playersTrain['position'])\n",
    "\n",
    "# Make predictions on training data\n",
    "train_predictions = dt.predict(playersTrain[features])\n",
    "\n",
    "# Make predictions on test data\n",
    "test_predictions = dt.predict(playersTest[features])\n",
    "\n",
    "num_train = len(playersTrain)\n",
    "num_test = len(playersTest)\n",
    "# Calculate training accuracy\n",
    "train_correct = 0\n",
    "for i in range(num_train):\n",
    "#     print 'Predicted:', train_predictions[i], ' Actual:', playersTrain.ix[i]['position']\n",
    "    if train_predictions[i] == playersTrain.ix[i]['position']: train_correct +=1\n",
    "print 'Training Accuracy:', float(train_correct)/float(num_train)\n",
    "print \"\"\n",
    "\n",
    "# Calculate test accuracy\n",
    "test_correct = 0\n",
    "for i in range(num_test):\n",
    "#     print 'Predicted:', test_predictions[i], ' Actual:', playersTest.ix[num_train + i]['position']\n",
    "    if test_predictions[i] == playersTest.ix[num_train + i]['position']: test_correct +=1\n",
    "print 'Test Accuracy:', float(test_correct)/float(num_test)"
   ]
  },
  {
   "cell_type": "code",
   "execution_count": 82,
   "metadata": {
    "collapsed": false
   },
   "outputs": [
    {
     "name": "stdout",
     "output_type": "stream",
     "text": [
      "Training Accuracy: 0.978761061947\n",
      "\n",
      "Test Accuracy: 0.5\n"
     ]
    }
   ],
   "source": [
    "# FOREST OF TREES\n",
    "# Predict position from one or more of minutes, shots, passes, tackles, saves.\n",
    "# Try different values for n_estimators.\n",
    "# What's the highest accuracy you can get?\n",
    "features = ['minutes', 'shots', 'passes', 'tackles', 'saves']\n",
    "\n",
    "# Create classifier\n",
    "trees = 10\n",
    "rf = RandomForestClassifier(n_estimators=trees)\n",
    "\n",
    "# Train the classifier on training data\n",
    "rf.fit(playersTrain[features], playersTrain['position'])\n",
    "\n",
    "# Make predictions on training data\n",
    "train_predictions = rf.predict(playersTrain[features])\n",
    "\n",
    "# Make predictions on test data\n",
    "test_predictions = rf.predict(playersTest[features])\n",
    "\n",
    "num_train = len(playersTrain)\n",
    "num_test = len(playersTest)\n",
    "# Calculate training accuracy\n",
    "train_correct = 0\n",
    "for i in range(num_train):\n",
    "#     print 'Predicted:', train_predictions[i], ' Actual:', playersTrain.ix[i]['position']\n",
    "    if train_predictions[i] == playersTrain.ix[i]['position']: train_correct +=1\n",
    "print 'Training Accuracy:', float(train_correct)/float(num_train)\n",
    "print \"\"\n",
    "\n",
    "# Calculate test accuracy\n",
    "test_correct = 0\n",
    "for i in range(num_test):\n",
    "#     print 'Predicted:', test_predictions[i], ' Actual:', playersTest.ix[num_train + i]['position']\n",
    "    if test_predictions[i] == playersTest.ix[num_train + i]['position']: test_correct +=1\n",
    "print 'Test Accuracy:', float(test_correct)/float(num_test)"
   ]
  },
  {
   "cell_type": "markdown",
   "metadata": {},
   "source": [
    "### Logistic Regression Classification"
   ]
  },
  {
   "cell_type": "code",
   "execution_count": 83,
   "metadata": {
    "collapsed": false
   },
   "outputs": [
    {
     "name": "stdout",
     "output_type": "stream",
     "text": [
      "Training Accuracy: 0.541436464088\n",
      "\n",
      "Test Accuracy: 0.4375\n"
     ]
    }
   ],
   "source": [
    "# Predict temperature category from other features\n",
    "features = ['longitude', 'latitude']\n",
    "\n",
    "# Create classifier\n",
    "lg = LogisticRegression()\n",
    "\n",
    "# Train the classifier on training data\n",
    "lg.fit(citiesTrain[features], citiesTrain['category'])\n",
    "\n",
    "# Make predictions on training data\n",
    "train_predictions = lg.predict(citiesTrain[features])\n",
    "\n",
    "# Make predictions on test data\n",
    "test_predictions = lg.predict(citiesTest[features])\n",
    "\n",
    "num_train = len(citiesTrain)\n",
    "num_test = len(citiesTest)\n",
    "# Calculate training accuracy\n",
    "train_correct = 0\n",
    "for i in range(num_train):\n",
    "#     print 'Predicted:', train_predictions[i], ' Actual:', citiesTrain.ix[i]['category']\n",
    "    if train_predictions[i] == citiesTrain.ix[i]['category']: train_correct +=1\n",
    "print 'Training Accuracy:', float(train_correct)/float(num_train)\n",
    "print \"\"\n",
    "\n",
    "# Calculate test accuracy\n",
    "test_correct = 0\n",
    "for i in range(num_test):\n",
    "#     print 'Predicted:', test_predictions[i], ' Actual:', citiesTest.ix[num_train + i]['category']\n",
    "    if test_predictions[i] == citiesTest.ix[num_train + i]['category']: test_correct +=1\n",
    "print 'Test Accuracy:', float(test_correct)/float(num_test)"
   ]
  },
  {
   "cell_type": "markdown",
   "metadata": {},
   "source": [
    "### <font color=\"green\">Your Turn: Logistic Regression on World Cup Data</font>"
   ]
  },
  {
   "cell_type": "code",
   "execution_count": 84,
   "metadata": {
    "collapsed": false
   },
   "outputs": [
    {
     "name": "stdout",
     "output_type": "stream",
     "text": [
      "Training Accuracy: 0.647787610619\n",
      "\n",
      "Test Accuracy: 0.733333333333\n"
     ]
    }
   ],
   "source": [
    "# FOREST OF TREES\n",
    "# Predict position from one or more of minutes, shots, passes, tackles, saves.\n",
    "# Try different values for n_estimators.\n",
    "# What's the highest accuracy you can get?\n",
    "features = ['minutes', 'shots', 'passes', 'tackles', 'saves']\n",
    "\n",
    "# Create classifier\n",
    "lg = LogisticRegression()\n",
    "\n",
    "# Train the classifier on training data\n",
    "lg.fit(playersTrain[features], playersTrain['position'])\n",
    "\n",
    "# Make predictions on training data\n",
    "train_predictions = lg.predict(playersTrain[features])\n",
    "\n",
    "# Make predictions on test data\n",
    "test_predictions = lg.predict(playersTest[features])\n",
    "\n",
    "num_train = len(playersTrain)\n",
    "num_test = len(playersTest)\n",
    "# Calculate training accuracy\n",
    "train_correct = 0\n",
    "for i in range(num_train):\n",
    "#     print 'Predicted:', train_predictions[i], ' Actual:', playersTrain.ix[i]['position']\n",
    "    if train_predictions[i] == playersTrain.ix[i]['position']: train_correct +=1\n",
    "print 'Training Accuracy:', float(train_correct)/float(num_train)\n",
    "print \"\"\n",
    "\n",
    "# Calculate test accuracy\n",
    "test_correct = 0\n",
    "for i in range(num_test):\n",
    "#     print 'Predicted:', test_predictions[i], ' Actual:', playersTest.ix[num_train + i]['position']\n",
    "    if test_predictions[i] == playersTest.ix[num_train + i]['position']: test_correct +=1\n",
    "print 'Test Accuracy:', float(test_correct)/float(num_test)"
   ]
  }
 ],
 "metadata": {
  "kernelspec": {
   "display_name": "Python 2",
   "language": "python",
   "name": "python2"
  },
  "language_info": {
   "codemirror_mode": {
    "name": "ipython",
    "version": 2
   },
   "file_extension": ".py",
   "mimetype": "text/x-python",
   "name": "python",
   "nbconvert_exporter": "python",
   "pygments_lexer": "ipython2",
   "version": "2.7.12"
  }
 },
 "nbformat": 4,
 "nbformat_minor": 0
}
