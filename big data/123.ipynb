{
 "cells": [
  {
   "cell_type": "markdown",
   "metadata": {},
   "source": [
    "SQL demo in class\n",
    "--------------------------------------------"
   ]
  },
  {
   "cell_type": "markdown",
   "metadata": {},
   "source": [
    "### Jupyter Notebook Keyboard Shortcuts"
   ]
  },
  {
   "cell_type": "markdown",
   "metadata": {
    "collapsed": true
   },
   "source": [
    "**1) Command Mode **(hit **Escape** key to enter Command mode)\n",
    "\n",
    "*Blue border* indicates you are in Command mode. The following commands only work in Command mode.\n",
    "\n",
    "* hit **D** twice- **D**elete a cell\n",
    "* **B** - insert a cell at the **B**elow current cell\n",
    "* **A** - insert a cell **A**bove current cell\n",
    "* **C** - **C**opy a cell\n",
    "* **V** - Paste copied cell\n",
    "* **Z** - Undo last action\n",
    "* hit **Shift + Enter** - to run a cell\n",
    "* Up and Down arrow keys to navigate"
   ]
  },
  {
   "cell_type": "markdown",
   "metadata": {},
   "source": [
    "**2) Edit Mode **(hit **Enter** to enter edit mode)\n",
    "\n",
    "*Green border* indicates you are in Edit mode."
   ]
  },
  {
   "cell_type": "markdown",
   "metadata": {},
   "source": [
    "### Setup"
   ]
  },
  {
   "cell_type": "code",
   "execution_count": 2,
   "metadata": {},
   "outputs": [
    {
     "ename": "ImportError",
     "evalue": "No module named sql",
     "output_type": "error",
     "traceback": [
      "\u001b[1;31m---------------------------------------------------------------------------\u001b[0m",
      "\u001b[1;31mImportError\u001b[0m                               Traceback (most recent call last)",
      "\u001b[1;32m<ipython-input-2-b38ba4bc32e0>\u001b[0m in \u001b[0;36m<module>\u001b[1;34m()\u001b[0m\n\u001b[1;32m----> 1\u001b[1;33m \u001b[0mget_ipython\u001b[0m\u001b[1;33m(\u001b[0m\u001b[1;33m)\u001b[0m\u001b[1;33m.\u001b[0m\u001b[0mmagic\u001b[0m\u001b[1;33m(\u001b[0m\u001b[1;34mu'load_ext sql'\u001b[0m\u001b[1;33m)\u001b[0m\u001b[1;33m\u001b[0m\u001b[0m\n\u001b[0m",
      "\u001b[1;32mC:\\Users\\ChaeYoon\\Anaconda3\\envs\\py27\\lib\\site-packages\\IPython\\core\\interactiveshell.pyc\u001b[0m in \u001b[0;36mmagic\u001b[1;34m(self, arg_s)\u001b[0m\n\u001b[0;32m   2156\u001b[0m         \u001b[0mmagic_name\u001b[0m\u001b[1;33m,\u001b[0m \u001b[0m_\u001b[0m\u001b[1;33m,\u001b[0m \u001b[0mmagic_arg_s\u001b[0m \u001b[1;33m=\u001b[0m \u001b[0marg_s\u001b[0m\u001b[1;33m.\u001b[0m\u001b[0mpartition\u001b[0m\u001b[1;33m(\u001b[0m\u001b[1;34m' '\u001b[0m\u001b[1;33m)\u001b[0m\u001b[1;33m\u001b[0m\u001b[0m\n\u001b[0;32m   2157\u001b[0m         \u001b[0mmagic_name\u001b[0m \u001b[1;33m=\u001b[0m \u001b[0mmagic_name\u001b[0m\u001b[1;33m.\u001b[0m\u001b[0mlstrip\u001b[0m\u001b[1;33m(\u001b[0m\u001b[0mprefilter\u001b[0m\u001b[1;33m.\u001b[0m\u001b[0mESC_MAGIC\u001b[0m\u001b[1;33m)\u001b[0m\u001b[1;33m\u001b[0m\u001b[0m\n\u001b[1;32m-> 2158\u001b[1;33m         \u001b[1;32mreturn\u001b[0m \u001b[0mself\u001b[0m\u001b[1;33m.\u001b[0m\u001b[0mrun_line_magic\u001b[0m\u001b[1;33m(\u001b[0m\u001b[0mmagic_name\u001b[0m\u001b[1;33m,\u001b[0m \u001b[0mmagic_arg_s\u001b[0m\u001b[1;33m)\u001b[0m\u001b[1;33m\u001b[0m\u001b[0m\n\u001b[0m\u001b[0;32m   2159\u001b[0m \u001b[1;33m\u001b[0m\u001b[0m\n\u001b[0;32m   2160\u001b[0m     \u001b[1;31m#-------------------------------------------------------------------------\u001b[0m\u001b[1;33m\u001b[0m\u001b[1;33m\u001b[0m\u001b[0m\n",
      "\u001b[1;32mC:\\Users\\ChaeYoon\\Anaconda3\\envs\\py27\\lib\\site-packages\\IPython\\core\\interactiveshell.pyc\u001b[0m in \u001b[0;36mrun_line_magic\u001b[1;34m(self, magic_name, line)\u001b[0m\n\u001b[0;32m   2077\u001b[0m                 \u001b[0mkwargs\u001b[0m\u001b[1;33m[\u001b[0m\u001b[1;34m'local_ns'\u001b[0m\u001b[1;33m]\u001b[0m \u001b[1;33m=\u001b[0m \u001b[0msys\u001b[0m\u001b[1;33m.\u001b[0m\u001b[0m_getframe\u001b[0m\u001b[1;33m(\u001b[0m\u001b[0mstack_depth\u001b[0m\u001b[1;33m)\u001b[0m\u001b[1;33m.\u001b[0m\u001b[0mf_locals\u001b[0m\u001b[1;33m\u001b[0m\u001b[0m\n\u001b[0;32m   2078\u001b[0m             \u001b[1;32mwith\u001b[0m \u001b[0mself\u001b[0m\u001b[1;33m.\u001b[0m\u001b[0mbuiltin_trap\u001b[0m\u001b[1;33m:\u001b[0m\u001b[1;33m\u001b[0m\u001b[0m\n\u001b[1;32m-> 2079\u001b[1;33m                 \u001b[0mresult\u001b[0m \u001b[1;33m=\u001b[0m \u001b[0mfn\u001b[0m\u001b[1;33m(\u001b[0m\u001b[1;33m*\u001b[0m\u001b[0margs\u001b[0m\u001b[1;33m,\u001b[0m\u001b[1;33m**\u001b[0m\u001b[0mkwargs\u001b[0m\u001b[1;33m)\u001b[0m\u001b[1;33m\u001b[0m\u001b[0m\n\u001b[0m\u001b[0;32m   2080\u001b[0m             \u001b[1;32mreturn\u001b[0m \u001b[0mresult\u001b[0m\u001b[1;33m\u001b[0m\u001b[0m\n\u001b[0;32m   2081\u001b[0m \u001b[1;33m\u001b[0m\u001b[0m\n",
      "\u001b[1;32m<decorator-gen-63>\u001b[0m in \u001b[0;36mload_ext\u001b[1;34m(self, module_str)\u001b[0m\n",
      "\u001b[1;32mC:\\Users\\ChaeYoon\\Anaconda3\\envs\\py27\\lib\\site-packages\\IPython\\core\\magic.pyc\u001b[0m in \u001b[0;36m<lambda>\u001b[1;34m(f, *a, **k)\u001b[0m\n\u001b[0;32m    186\u001b[0m     \u001b[1;31m# but it's overkill for just that one bit of state.\u001b[0m\u001b[1;33m\u001b[0m\u001b[1;33m\u001b[0m\u001b[0m\n\u001b[0;32m    187\u001b[0m     \u001b[1;32mdef\u001b[0m \u001b[0mmagic_deco\u001b[0m\u001b[1;33m(\u001b[0m\u001b[0marg\u001b[0m\u001b[1;33m)\u001b[0m\u001b[1;33m:\u001b[0m\u001b[1;33m\u001b[0m\u001b[0m\n\u001b[1;32m--> 188\u001b[1;33m         \u001b[0mcall\u001b[0m \u001b[1;33m=\u001b[0m \u001b[1;32mlambda\u001b[0m \u001b[0mf\u001b[0m\u001b[1;33m,\u001b[0m \u001b[1;33m*\u001b[0m\u001b[0ma\u001b[0m\u001b[1;33m,\u001b[0m \u001b[1;33m**\u001b[0m\u001b[0mk\u001b[0m\u001b[1;33m:\u001b[0m \u001b[0mf\u001b[0m\u001b[1;33m(\u001b[0m\u001b[1;33m*\u001b[0m\u001b[0ma\u001b[0m\u001b[1;33m,\u001b[0m \u001b[1;33m**\u001b[0m\u001b[0mk\u001b[0m\u001b[1;33m)\u001b[0m\u001b[1;33m\u001b[0m\u001b[0m\n\u001b[0m\u001b[0;32m    189\u001b[0m \u001b[1;33m\u001b[0m\u001b[0m\n\u001b[0;32m    190\u001b[0m         \u001b[1;32mif\u001b[0m \u001b[0mcallable\u001b[0m\u001b[1;33m(\u001b[0m\u001b[0marg\u001b[0m\u001b[1;33m)\u001b[0m\u001b[1;33m:\u001b[0m\u001b[1;33m\u001b[0m\u001b[0m\n",
      "\u001b[1;32mC:\\Users\\ChaeYoon\\Anaconda3\\envs\\py27\\lib\\site-packages\\IPython\\core\\magics\\extension.pyc\u001b[0m in \u001b[0;36mload_ext\u001b[1;34m(self, module_str)\u001b[0m\n\u001b[0;32m     35\u001b[0m         \u001b[1;32mif\u001b[0m \u001b[1;32mnot\u001b[0m \u001b[0mmodule_str\u001b[0m\u001b[1;33m:\u001b[0m\u001b[1;33m\u001b[0m\u001b[0m\n\u001b[0;32m     36\u001b[0m             \u001b[1;32mraise\u001b[0m \u001b[0mUsageError\u001b[0m\u001b[1;33m(\u001b[0m\u001b[1;34m'Missing module name.'\u001b[0m\u001b[1;33m)\u001b[0m\u001b[1;33m\u001b[0m\u001b[0m\n\u001b[1;32m---> 37\u001b[1;33m         \u001b[0mres\u001b[0m \u001b[1;33m=\u001b[0m \u001b[0mself\u001b[0m\u001b[1;33m.\u001b[0m\u001b[0mshell\u001b[0m\u001b[1;33m.\u001b[0m\u001b[0mextension_manager\u001b[0m\u001b[1;33m.\u001b[0m\u001b[0mload_extension\u001b[0m\u001b[1;33m(\u001b[0m\u001b[0mmodule_str\u001b[0m\u001b[1;33m)\u001b[0m\u001b[1;33m\u001b[0m\u001b[0m\n\u001b[0m\u001b[0;32m     38\u001b[0m \u001b[1;33m\u001b[0m\u001b[0m\n\u001b[0;32m     39\u001b[0m         \u001b[1;32mif\u001b[0m \u001b[0mres\u001b[0m \u001b[1;33m==\u001b[0m \u001b[1;34m'already loaded'\u001b[0m\u001b[1;33m:\u001b[0m\u001b[1;33m\u001b[0m\u001b[0m\n",
      "\u001b[1;32mC:\\Users\\ChaeYoon\\Anaconda3\\envs\\py27\\lib\\site-packages\\IPython\\core\\extensions.pyc\u001b[0m in \u001b[0;36mload_extension\u001b[1;34m(self, module_str)\u001b[0m\n\u001b[0;32m     81\u001b[0m             \u001b[1;32mif\u001b[0m \u001b[0mmodule_str\u001b[0m \u001b[1;32mnot\u001b[0m \u001b[1;32min\u001b[0m \u001b[0msys\u001b[0m\u001b[1;33m.\u001b[0m\u001b[0mmodules\u001b[0m\u001b[1;33m:\u001b[0m\u001b[1;33m\u001b[0m\u001b[0m\n\u001b[0;32m     82\u001b[0m                 \u001b[1;32mwith\u001b[0m \u001b[0mprepended_to_syspath\u001b[0m\u001b[1;33m(\u001b[0m\u001b[0mself\u001b[0m\u001b[1;33m.\u001b[0m\u001b[0mipython_extension_dir\u001b[0m\u001b[1;33m)\u001b[0m\u001b[1;33m:\u001b[0m\u001b[1;33m\u001b[0m\u001b[0m\n\u001b[1;32m---> 83\u001b[1;33m                     \u001b[0m__import__\u001b[0m\u001b[1;33m(\u001b[0m\u001b[0mmodule_str\u001b[0m\u001b[1;33m)\u001b[0m\u001b[1;33m\u001b[0m\u001b[0m\n\u001b[0m\u001b[0;32m     84\u001b[0m             \u001b[0mmod\u001b[0m \u001b[1;33m=\u001b[0m \u001b[0msys\u001b[0m\u001b[1;33m.\u001b[0m\u001b[0mmodules\u001b[0m\u001b[1;33m[\u001b[0m\u001b[0mmodule_str\u001b[0m\u001b[1;33m]\u001b[0m\u001b[1;33m\u001b[0m\u001b[0m\n\u001b[0;32m     85\u001b[0m             \u001b[1;32mif\u001b[0m \u001b[0mself\u001b[0m\u001b[1;33m.\u001b[0m\u001b[0m_call_load_ipython_extension\u001b[0m\u001b[1;33m(\u001b[0m\u001b[0mmod\u001b[0m\u001b[1;33m)\u001b[0m\u001b[1;33m:\u001b[0m\u001b[1;33m\u001b[0m\u001b[0m\n",
      "\u001b[1;31mImportError\u001b[0m: No module named sql"
     ]
    }
   ],
   "source": [
    "%load_ext sql"
   ]
  },
  {
   "cell_type": "code",
   "execution_count": 22,
   "metadata": {},
   "outputs": [
    {
     "data": {
      "text/plain": [
       "u'Connected: None@zxcc.db'"
      ]
     },
     "execution_count": 22,
     "metadata": {},
     "output_type": "execute_result"
    }
   ],
   "source": [
    "%sql sqlite:///zxcc.db"
   ]
  },
  {
   "cell_type": "markdown",
   "metadata": {},
   "source": [
    "### Information on the data we'll be using in class today"
   ]
  },
  {
   "cell_type": "markdown",
   "metadata": {},
   "source": [
    "We have 2 tables, **CityTemps** and **Regions**"
   ]
  },
  {
   "cell_type": "markdown",
   "metadata": {},
   "source": [
    "**CityTemps** (city, state, lat, lng, temp) \n",
    "\n",
    "**Regions** (state, region, coastal)"
   ]
  },
  {
   "cell_type": "markdown",
   "metadata": {},
   "source": [
    "The following query selects all the data from the **CityTemps** table and outputs them into a table below:"
   ]
  },
  {
   "cell_type": "code",
   "execution_count": 11,
   "metadata": {
    "scrolled": true
   },
   "outputs": [
    {
     "name": "stdout",
     "output_type": "stream",
     "text": [
      "Done.\n"
     ]
    },
    {
     "data": {
      "text/html": [
       "<table>\n",
       "    <tr>\n",
       "        <th>city</th>\n",
       "        <th>state</th>\n",
       "        <th>lat</th>\n",
       "        <th>lng</th>\n",
       "        <th>temp</th>\n",
       "    </tr>\n",
       "    <tr>\n",
       "        <td>Mobile</td>\n",
       "        <td>Alabama</td>\n",
       "        <td>31.2</td>\n",
       "        <td>88.5</td>\n",
       "        <td>46</td>\n",
       "    </tr>\n",
       "    <tr>\n",
       "        <td>Montgomery</td>\n",
       "        <td>Alabama</td>\n",
       "        <td>32.9</td>\n",
       "        <td>86.8</td>\n",
       "        <td>40</td>\n",
       "    </tr>\n",
       "    <tr>\n",
       "        <td>Phoenix</td>\n",
       "        <td>Arizona</td>\n",
       "        <td>33.6</td>\n",
       "        <td>112.5</td>\n",
       "        <td>39</td>\n",
       "    </tr>\n",
       "    <tr>\n",
       "        <td>Little Rock</td>\n",
       "        <td>Arkansas</td>\n",
       "        <td>35.4</td>\n",
       "        <td>92.8</td>\n",
       "        <td>35</td>\n",
       "    </tr>\n",
       "    <tr>\n",
       "        <td>Denver</td>\n",
       "        <td>Colorado</td>\n",
       "        <td>40.7</td>\n",
       "        <td>105.3</td>\n",
       "        <td>19</td>\n",
       "    </tr>\n",
       "    <tr>\n",
       "        <td>New Haven</td>\n",
       "        <td>Connecticut</td>\n",
       "        <td>41.7</td>\n",
       "        <td>73.4</td>\n",
       "        <td>24</td>\n",
       "    </tr>\n",
       "    <tr>\n",
       "        <td>Wilmington</td>\n",
       "        <td>Delaware</td>\n",
       "        <td>40.5</td>\n",
       "        <td>76.3</td>\n",
       "        <td>28</td>\n",
       "    </tr>\n",
       "    <tr>\n",
       "        <td>Washington</td>\n",
       "        <td>DC</td>\n",
       "        <td>39.7</td>\n",
       "        <td>77.5</td>\n",
       "        <td>32</td>\n",
       "    </tr>\n",
       "    <tr>\n",
       "        <td>Jacksonville</td>\n",
       "        <td>Florida</td>\n",
       "        <td>31.0</td>\n",
       "        <td>82.3</td>\n",
       "        <td>47</td>\n",
       "    </tr>\n",
       "    <tr>\n",
       "        <td>Key West</td>\n",
       "        <td>Florida</td>\n",
       "        <td>25.0</td>\n",
       "        <td>82.0</td>\n",
       "        <td>67</td>\n",
       "    </tr>\n",
       "    <tr>\n",
       "        <td>Miami</td>\n",
       "        <td>Florida</td>\n",
       "        <td>26.3</td>\n",
       "        <td>80.7</td>\n",
       "        <td>60</td>\n",
       "    </tr>\n",
       "    <tr>\n",
       "        <td>Atlanta</td>\n",
       "        <td>Georgia</td>\n",
       "        <td>33.9</td>\n",
       "        <td>85.0</td>\n",
       "        <td>39</td>\n",
       "    </tr>\n",
       "    <tr>\n",
       "        <td>Boise</td>\n",
       "        <td>Idaho</td>\n",
       "        <td>43.7</td>\n",
       "        <td>117.1</td>\n",
       "        <td>26</td>\n",
       "    </tr>\n",
       "    <tr>\n",
       "        <td>Chicago</td>\n",
       "        <td>Illinois</td>\n",
       "        <td>42.3</td>\n",
       "        <td>88.0</td>\n",
       "        <td>23</td>\n",
       "    </tr>\n",
       "    <tr>\n",
       "        <td>Indianapolis</td>\n",
       "        <td>Indiana</td>\n",
       "        <td>39.8</td>\n",
       "        <td>86.9</td>\n",
       "        <td>25</td>\n",
       "    </tr>\n",
       "    <tr>\n",
       "        <td>Des Moines</td>\n",
       "        <td>Iowa</td>\n",
       "        <td>41.8</td>\n",
       "        <td>93.6</td>\n",
       "        <td>15</td>\n",
       "    </tr>\n",
       "    <tr>\n",
       "        <td>Wichita</td>\n",
       "        <td>Kansas</td>\n",
       "        <td>38.1</td>\n",
       "        <td>97.6</td>\n",
       "        <td>26</td>\n",
       "    </tr>\n",
       "    <tr>\n",
       "        <td>Louisville</td>\n",
       "        <td>Kentucky</td>\n",
       "        <td>39.0</td>\n",
       "        <td>86.5</td>\n",
       "        <td>31</td>\n",
       "    </tr>\n",
       "    <tr>\n",
       "        <td>New Orleans</td>\n",
       "        <td>Louisiana</td>\n",
       "        <td>30.8</td>\n",
       "        <td>90.2</td>\n",
       "        <td>47</td>\n",
       "    </tr>\n",
       "    <tr>\n",
       "        <td>Portland</td>\n",
       "        <td>Maine</td>\n",
       "        <td>44.2</td>\n",
       "        <td>70.5</td>\n",
       "        <td>14</td>\n",
       "    </tr>\n",
       "    <tr>\n",
       "        <td>Baltimore</td>\n",
       "        <td>Maryland</td>\n",
       "        <td>39.7</td>\n",
       "        <td>77.3</td>\n",
       "        <td>27</td>\n",
       "    </tr>\n",
       "    <tr>\n",
       "        <td>Boston</td>\n",
       "        <td>Massachusetts</td>\n",
       "        <td>42.7</td>\n",
       "        <td>71.4</td>\n",
       "        <td>25</td>\n",
       "    </tr>\n",
       "    <tr>\n",
       "        <td>Detroit</td>\n",
       "        <td>Michigan</td>\n",
       "        <td>43.1</td>\n",
       "        <td>83.9</td>\n",
       "        <td>25</td>\n",
       "    </tr>\n",
       "    <tr>\n",
       "        <td>Minneapolis</td>\n",
       "        <td>Minnesota</td>\n",
       "        <td>45.9</td>\n",
       "        <td>93.9</td>\n",
       "        <td>6</td>\n",
       "    </tr>\n",
       "    <tr>\n",
       "        <td>St. Louis</td>\n",
       "        <td>Missouri</td>\n",
       "        <td>39.3</td>\n",
       "        <td>90.5</td>\n",
       "        <td>28</td>\n",
       "    </tr>\n",
       "    <tr>\n",
       "        <td>Helena</td>\n",
       "        <td>Montana</td>\n",
       "        <td>47.1</td>\n",
       "        <td>112.4</td>\n",
       "        <td>12</td>\n",
       "    </tr>\n",
       "    <tr>\n",
       "        <td>Omaha</td>\n",
       "        <td>Nebraska</td>\n",
       "        <td>41.9</td>\n",
       "        <td>96.1</td>\n",
       "        <td>17</td>\n",
       "    </tr>\n",
       "    <tr>\n",
       "        <td>Concord</td>\n",
       "        <td>New Hampshire</td>\n",
       "        <td>43.5</td>\n",
       "        <td>71.9</td>\n",
       "        <td>13</td>\n",
       "    </tr>\n",
       "    <tr>\n",
       "        <td>Atlantic City</td>\n",
       "        <td>New Jersey</td>\n",
       "        <td>39.8</td>\n",
       "        <td>75.3</td>\n",
       "        <td>29</td>\n",
       "    </tr>\n",
       "    <tr>\n",
       "        <td>Albuquerque</td>\n",
       "        <td>New Mexico</td>\n",
       "        <td>35.1</td>\n",
       "        <td>106.7</td>\n",
       "        <td>28</td>\n",
       "    </tr>\n",
       "    <tr>\n",
       "        <td>Albany</td>\n",
       "        <td>New York</td>\n",
       "        <td>42.6</td>\n",
       "        <td>73.7</td>\n",
       "        <td>16</td>\n",
       "    </tr>\n",
       "    <tr>\n",
       "        <td>New York</td>\n",
       "        <td>New York</td>\n",
       "        <td>40.8</td>\n",
       "        <td>74.6</td>\n",
       "        <td>29</td>\n",
       "    </tr>\n",
       "    <tr>\n",
       "        <td>Charlotte</td>\n",
       "        <td>North Carolina</td>\n",
       "        <td>35.9</td>\n",
       "        <td>81.5</td>\n",
       "        <td>36</td>\n",
       "    </tr>\n",
       "    <tr>\n",
       "        <td>Raleigh</td>\n",
       "        <td>North Carolina</td>\n",
       "        <td>36.4</td>\n",
       "        <td>78.9</td>\n",
       "        <td>33</td>\n",
       "    </tr>\n",
       "    <tr>\n",
       "        <td>Bismarck</td>\n",
       "        <td>North Dakota</td>\n",
       "        <td>47.1</td>\n",
       "        <td>101.0</td>\n",
       "        <td>4</td>\n",
       "    </tr>\n",
       "    <tr>\n",
       "        <td>Cincinnati</td>\n",
       "        <td>Ohio</td>\n",
       "        <td>39.2</td>\n",
       "        <td>85.0</td>\n",
       "        <td>30</td>\n",
       "    </tr>\n",
       "    <tr>\n",
       "        <td>Cleveland</td>\n",
       "        <td>Ohio</td>\n",
       "        <td>42.3</td>\n",
       "        <td>82.5</td>\n",
       "        <td>25</td>\n",
       "    </tr>\n",
       "    <tr>\n",
       "        <td>Oklahoma City</td>\n",
       "        <td>Oklahoma</td>\n",
       "        <td>35.9</td>\n",
       "        <td>97.5</td>\n",
       "        <td>32</td>\n",
       "    </tr>\n",
       "    <tr>\n",
       "        <td>Portland</td>\n",
       "        <td>Oregon</td>\n",
       "        <td>45.6</td>\n",
       "        <td>123.2</td>\n",
       "        <td>35</td>\n",
       "    </tr>\n",
       "    <tr>\n",
       "        <td>Harrisburg</td>\n",
       "        <td>Pennsylvania</td>\n",
       "        <td>40.9</td>\n",
       "        <td>77.8</td>\n",
       "        <td>28</td>\n",
       "    </tr>\n",
       "    <tr>\n",
       "        <td>Philadelphia</td>\n",
       "        <td>Pennsylvania</td>\n",
       "        <td>40.9</td>\n",
       "        <td>75.5</td>\n",
       "        <td>28</td>\n",
       "    </tr>\n",
       "    <tr>\n",
       "        <td>Charleston</td>\n",
       "        <td>South Carolina</td>\n",
       "        <td>33.3</td>\n",
       "        <td>80.8</td>\n",
       "        <td>40</td>\n",
       "    </tr>\n",
       "    <tr>\n",
       "        <td>Nashville</td>\n",
       "        <td>Tennessee</td>\n",
       "        <td>36.7</td>\n",
       "        <td>87.6</td>\n",
       "        <td>35</td>\n",
       "    </tr>\n",
       "    <tr>\n",
       "        <td>Amarillo</td>\n",
       "        <td>Texas</td>\n",
       "        <td>35.6</td>\n",
       "        <td>101.9</td>\n",
       "        <td>26</td>\n",
       "    </tr>\n",
       "    <tr>\n",
       "        <td>Galveston</td>\n",
       "        <td>Texas</td>\n",
       "        <td>29.4</td>\n",
       "        <td>95.5</td>\n",
       "        <td>51</td>\n",
       "    </tr>\n",
       "    <tr>\n",
       "        <td>Houston</td>\n",
       "        <td>Texas</td>\n",
       "        <td>30.1</td>\n",
       "        <td>95.9</td>\n",
       "        <td>46</td>\n",
       "    </tr>\n",
       "    <tr>\n",
       "        <td>Salt Lake City</td>\n",
       "        <td>Utah</td>\n",
       "        <td>41.1</td>\n",
       "        <td>112.3</td>\n",
       "        <td>22</td>\n",
       "    </tr>\n",
       "    <tr>\n",
       "        <td>Burlington</td>\n",
       "        <td>Vermont</td>\n",
       "        <td>45.0</td>\n",
       "        <td>73.9</td>\n",
       "        <td>11</td>\n",
       "    </tr>\n",
       "    <tr>\n",
       "        <td>Norfolk</td>\n",
       "        <td>Virginia</td>\n",
       "        <td>37.0</td>\n",
       "        <td>76.6</td>\n",
       "        <td>34</td>\n",
       "    </tr>\n",
       "    <tr>\n",
       "        <td>Seattle</td>\n",
       "        <td>Washington</td>\n",
       "        <td>48.1</td>\n",
       "        <td>122.5</td>\n",
       "        <td>35</td>\n",
       "    </tr>\n",
       "    <tr>\n",
       "        <td>Spokane</td>\n",
       "        <td>Washington</td>\n",
       "        <td>48.1</td>\n",
       "        <td>117.9</td>\n",
       "        <td>21</td>\n",
       "    </tr>\n",
       "    <tr>\n",
       "        <td>Madison</td>\n",
       "        <td>Wisconsin</td>\n",
       "        <td>43.4</td>\n",
       "        <td>90.2</td>\n",
       "        <td>13</td>\n",
       "    </tr>\n",
       "    <tr>\n",
       "        <td>Milwaukee</td>\n",
       "        <td>Wisconsin</td>\n",
       "        <td>43.3</td>\n",
       "        <td>88.1</td>\n",
       "        <td>17</td>\n",
       "    </tr>\n",
       "    <tr>\n",
       "        <td>Cheyenne</td>\n",
       "        <td>Wyoming</td>\n",
       "        <td>41.2</td>\n",
       "        <td>104.9</td>\n",
       "        <td>18</td>\n",
       "    </tr>\n",
       "</table>"
      ],
      "text/plain": [
       "[(u'Mobile', u'Alabama', 31.2, 88.5, 46),\n",
       " (u'Montgomery', u'Alabama', 32.9, 86.8, 40),\n",
       " (u'Phoenix', u'Arizona', 33.6, 112.5, 39),\n",
       " (u'Little Rock', u'Arkansas', 35.4, 92.8, 35),\n",
       " (u'Denver', u'Colorado', 40.7, 105.3, 19),\n",
       " (u'New Haven', u'Connecticut', 41.7, 73.4, 24),\n",
       " (u'Wilmington', u'Delaware', 40.5, 76.3, 28),\n",
       " (u'Washington', u'DC', 39.7, 77.5, 32),\n",
       " (u'Jacksonville', u'Florida', 31.0, 82.3, 47),\n",
       " (u'Key West', u'Florida', 25.0, 82.0, 67),\n",
       " (u'Miami', u'Florida', 26.3, 80.7, 60),\n",
       " (u'Atlanta', u'Georgia', 33.9, 85.0, 39),\n",
       " (u'Boise', u'Idaho', 43.7, 117.1, 26),\n",
       " (u'Chicago', u'Illinois', 42.3, 88.0, 23),\n",
       " (u'Indianapolis', u'Indiana', 39.8, 86.9, 25),\n",
       " (u'Des Moines', u'Iowa', 41.8, 93.6, 15),\n",
       " (u'Wichita', u'Kansas', 38.1, 97.6, 26),\n",
       " (u'Louisville', u'Kentucky', 39.0, 86.5, 31),\n",
       " (u'New Orleans', u'Louisiana', 30.8, 90.2, 47),\n",
       " (u'Portland', u'Maine', 44.2, 70.5, 14),\n",
       " (u'Baltimore', u'Maryland', 39.7, 77.3, 27),\n",
       " (u'Boston', u'Massachusetts', 42.7, 71.4, 25),\n",
       " (u'Detroit', u'Michigan', 43.1, 83.9, 25),\n",
       " (u'Minneapolis', u'Minnesota', 45.9, 93.9, 6),\n",
       " (u'St. Louis', u'Missouri', 39.3, 90.5, 28),\n",
       " (u'Helena', u'Montana', 47.1, 112.4, 12),\n",
       " (u'Omaha', u'Nebraska', 41.9, 96.1, 17),\n",
       " (u'Concord', u'New Hampshire', 43.5, 71.9, 13),\n",
       " (u'Atlantic City', u'New Jersey', 39.8, 75.3, 29),\n",
       " (u'Albuquerque', u'New Mexico', 35.1, 106.7, 28),\n",
       " (u'Albany', u'New York', 42.6, 73.7, 16),\n",
       " (u'New York', u'New York', 40.8, 74.6, 29),\n",
       " (u'Charlotte', u'North Carolina', 35.9, 81.5, 36),\n",
       " (u'Raleigh', u'North Carolina', 36.4, 78.9, 33),\n",
       " (u'Bismarck', u'North Dakota', 47.1, 101.0, 4),\n",
       " (u'Cincinnati', u'Ohio', 39.2, 85.0, 30),\n",
       " (u'Cleveland', u'Ohio', 42.3, 82.5, 25),\n",
       " (u'Oklahoma City', u'Oklahoma', 35.9, 97.5, 32),\n",
       " (u'Portland', u'Oregon', 45.6, 123.2, 35),\n",
       " (u'Harrisburg', u'Pennsylvania', 40.9, 77.8, 28),\n",
       " (u'Philadelphia', u'Pennsylvania', 40.9, 75.5, 28),\n",
       " (u'Charleston', u'South Carolina', 33.3, 80.8, 40),\n",
       " (u'Nashville', u'Tennessee', 36.7, 87.6, 35),\n",
       " (u'Amarillo', u'Texas', 35.6, 101.9, 26),\n",
       " (u'Galveston', u'Texas', 29.4, 95.5, 51),\n",
       " (u'Houston', u'Texas', 30.1, 95.9, 46),\n",
       " (u'Salt Lake City', u'Utah', 41.1, 112.3, 22),\n",
       " (u'Burlington', u'Vermont', 45.0, 73.9, 11),\n",
       " (u'Norfolk', u'Virginia', 37.0, 76.6, 34),\n",
       " (u'Seattle', u'Washington', 48.1, 122.5, 35),\n",
       " (u'Spokane', u'Washington', 48.1, 117.9, 21),\n",
       " (u'Madison', u'Wisconsin', 43.4, 90.2, 13),\n",
       " (u'Milwaukee', u'Wisconsin', 43.3, 88.1, 17),\n",
       " (u'Cheyenne', u'Wyoming', 41.2, 104.9, 18)]"
      ]
     },
     "execution_count": 11,
     "metadata": {},
     "output_type": "execute_result"
    }
   ],
   "source": [
    "%%sql\n",
    "Select *\n",
    "From CityTemps"
   ]
  },
  {
   "cell_type": "markdown",
   "metadata": {},
   "source": [
    "The following query selects all the data from the **Regions** table and outputs them into a table below:"
   ]
  },
  {
   "cell_type": "code",
   "execution_count": 12,
   "metadata": {
    "scrolled": true
   },
   "outputs": [
    {
     "name": "stdout",
     "output_type": "stream",
     "text": [
      "Done.\n"
     ]
    },
    {
     "data": {
      "text/html": [
       "<table>\n",
       "    <tr>\n",
       "        <th>state</th>\n",
       "        <th>region</th>\n",
       "        <th>coastal</th>\n",
       "    </tr>\n",
       "    <tr>\n",
       "        <td>Maine</td>\n",
       "        <td>Northeast</td>\n",
       "        <td>Y</td>\n",
       "    </tr>\n",
       "    <tr>\n",
       "        <td>Vermont</td>\n",
       "        <td>Northeast</td>\n",
       "        <td>N</td>\n",
       "    </tr>\n",
       "    <tr>\n",
       "        <td>New York</td>\n",
       "        <td>Midatlantic</td>\n",
       "        <td>Y</td>\n",
       "    </tr>\n",
       "    <tr>\n",
       "        <td>Pennsylvania</td>\n",
       "        <td>Midatlantic</td>\n",
       "        <td>N</td>\n",
       "    </tr>\n",
       "    <tr>\n",
       "        <td>Indiana</td>\n",
       "        <td>Northcentral</td>\n",
       "        <td>N</td>\n",
       "    </tr>\n",
       "    <tr>\n",
       "        <td>Michigan</td>\n",
       "        <td>Northcentral</td>\n",
       "        <td>N</td>\n",
       "    </tr>\n",
       "    <tr>\n",
       "        <td>Minnesota</td>\n",
       "        <td>Northcentral</td>\n",
       "        <td>N</td>\n",
       "    </tr>\n",
       "    <tr>\n",
       "        <td>Missouri</td>\n",
       "        <td>Northcentral</td>\n",
       "        <td>N</td>\n",
       "    </tr>\n",
       "    <tr>\n",
       "        <td>Kansas</td>\n",
       "        <td>Northcentral</td>\n",
       "        <td>N</td>\n",
       "    </tr>\n",
       "    <tr>\n",
       "        <td>Maryland</td>\n",
       "        <td>Southatlantic</td>\n",
       "        <td>Y</td>\n",
       "    </tr>\n",
       "    <tr>\n",
       "        <td>Virginia</td>\n",
       "        <td>Southatlantic</td>\n",
       "        <td>Y</td>\n",
       "    </tr>\n",
       "    <tr>\n",
       "        <td>North Carolina</td>\n",
       "        <td>Southatlantic</td>\n",
       "        <td>Y</td>\n",
       "    </tr>\n",
       "    <tr>\n",
       "        <td>Georgia</td>\n",
       "        <td>Southatlantic</td>\n",
       "        <td>Y</td>\n",
       "    </tr>\n",
       "    <tr>\n",
       "        <td>Kentucky</td>\n",
       "        <td>Southcentral</td>\n",
       "        <td>N</td>\n",
       "    </tr>\n",
       "    <tr>\n",
       "        <td>Alabama</td>\n",
       "        <td>Southcentral</td>\n",
       "        <td>Y</td>\n",
       "    </tr>\n",
       "    <tr>\n",
       "        <td>Arkansas</td>\n",
       "        <td>Southcentral</td>\n",
       "        <td>N</td>\n",
       "    </tr>\n",
       "    <tr>\n",
       "        <td>Oklahoma</td>\n",
       "        <td>Southcentral</td>\n",
       "        <td>N</td>\n",
       "    </tr>\n",
       "    <tr>\n",
       "        <td>Montana</td>\n",
       "        <td>Mountain</td>\n",
       "        <td>N</td>\n",
       "    </tr>\n",
       "    <tr>\n",
       "        <td>Wyoming</td>\n",
       "        <td>Mountain</td>\n",
       "        <td>N</td>\n",
       "    </tr>\n",
       "    <tr>\n",
       "        <td>New Mexico</td>\n",
       "        <td>Mountain</td>\n",
       "        <td>N</td>\n",
       "    </tr>\n",
       "    <tr>\n",
       "        <td>Utah</td>\n",
       "        <td>Mountain</td>\n",
       "        <td>N</td>\n",
       "    </tr>\n",
       "    <tr>\n",
       "        <td>Washington</td>\n",
       "        <td>Pacific</td>\n",
       "        <td>Y</td>\n",
       "    </tr>\n",
       "    <tr>\n",
       "        <td>New Hampshire</td>\n",
       "        <td>Northeast</td>\n",
       "        <td>Y</td>\n",
       "    </tr>\n",
       "    <tr>\n",
       "        <td>Massachusetts</td>\n",
       "        <td>Northeast</td>\n",
       "        <td>Y</td>\n",
       "    </tr>\n",
       "    <tr>\n",
       "        <td>Connecticut</td>\n",
       "        <td>Northeast</td>\n",
       "        <td>Y</td>\n",
       "    </tr>\n",
       "    <tr>\n",
       "        <td>New Jersey</td>\n",
       "        <td>Midatlantic</td>\n",
       "        <td>Y</td>\n",
       "    </tr>\n",
       "    <tr>\n",
       "        <td>Ohio</td>\n",
       "        <td>Northcentral</td>\n",
       "        <td>N</td>\n",
       "    </tr>\n",
       "    <tr>\n",
       "        <td>Illinois</td>\n",
       "        <td>Northcentral</td>\n",
       "        <td>N</td>\n",
       "    </tr>\n",
       "    <tr>\n",
       "        <td>Wisconsin</td>\n",
       "        <td>Northcentral</td>\n",
       "        <td>N</td>\n",
       "    </tr>\n",
       "    <tr>\n",
       "        <td>Iowa</td>\n",
       "        <td>Northcentral</td>\n",
       "        <td>N</td>\n",
       "    </tr>\n",
       "    <tr>\n",
       "        <td>North Dakota</td>\n",
       "        <td>Northcentral</td>\n",
       "        <td>N</td>\n",
       "    </tr>\n",
       "    <tr>\n",
       "        <td>Nebraska</td>\n",
       "        <td>Northcentral</td>\n",
       "        <td>N</td>\n",
       "    </tr>\n",
       "    <tr>\n",
       "        <td>Delaware</td>\n",
       "        <td>Southatlantic</td>\n",
       "        <td>Y</td>\n",
       "    </tr>\n",
       "    <tr>\n",
       "        <td>DC</td>\n",
       "        <td>Southatlantic</td>\n",
       "        <td>Y</td>\n",
       "    </tr>\n",
       "    <tr>\n",
       "        <td>South Carolina</td>\n",
       "        <td>Southatlantic</td>\n",
       "        <td>Y</td>\n",
       "    </tr>\n",
       "    <tr>\n",
       "        <td>Florida</td>\n",
       "        <td>Southatlantic</td>\n",
       "        <td>Y</td>\n",
       "    </tr>\n",
       "    <tr>\n",
       "        <td>Tennessee</td>\n",
       "        <td>Southcentral</td>\n",
       "        <td>N</td>\n",
       "    </tr>\n",
       "    <tr>\n",
       "        <td>Louisiana</td>\n",
       "        <td>Southcentral</td>\n",
       "        <td>Y</td>\n",
       "    </tr>\n",
       "    <tr>\n",
       "        <td>Texas</td>\n",
       "        <td>Southcentral</td>\n",
       "        <td>Y</td>\n",
       "    </tr>\n",
       "    <tr>\n",
       "        <td>Idaho</td>\n",
       "        <td>Mountain</td>\n",
       "        <td>N</td>\n",
       "    </tr>\n",
       "    <tr>\n",
       "        <td>Colorado</td>\n",
       "        <td>Mountain</td>\n",
       "        <td>N</td>\n",
       "    </tr>\n",
       "    <tr>\n",
       "        <td>Arizona</td>\n",
       "        <td>Mountain</td>\n",
       "        <td>N</td>\n",
       "    </tr>\n",
       "    <tr>\n",
       "        <td>Oregon</td>\n",
       "        <td>Pacific</td>\n",
       "        <td>Y</td>\n",
       "    </tr>\n",
       "</table>"
      ],
      "text/plain": [
       "[(u'Maine', u'Northeast', u'Y'),\n",
       " (u'Vermont', u'Northeast', u'N'),\n",
       " (u'New York', u'Midatlantic', u'Y'),\n",
       " (u'Pennsylvania', u'Midatlantic', u'N'),\n",
       " (u'Indiana', u'Northcentral', u'N'),\n",
       " (u'Michigan', u'Northcentral', u'N'),\n",
       " (u'Minnesota', u'Northcentral', u'N'),\n",
       " (u'Missouri', u'Northcentral', u'N'),\n",
       " (u'Kansas', u'Northcentral', u'N'),\n",
       " (u'Maryland', u'Southatlantic', u'Y'),\n",
       " (u'Virginia', u'Southatlantic', u'Y'),\n",
       " (u'North Carolina', u'Southatlantic', u'Y'),\n",
       " (u'Georgia', u'Southatlantic', u'Y'),\n",
       " (u'Kentucky', u'Southcentral', u'N'),\n",
       " (u'Alabama', u'Southcentral', u'Y'),\n",
       " (u'Arkansas', u'Southcentral', u'N'),\n",
       " (u'Oklahoma', u'Southcentral', u'N'),\n",
       " (u'Montana', u'Mountain', u'N'),\n",
       " (u'Wyoming', u'Mountain', u'N'),\n",
       " (u'New Mexico', u'Mountain', u'N'),\n",
       " (u'Utah', u'Mountain', u'N'),\n",
       " (u'Washington', u'Pacific', u'Y'),\n",
       " (u'New Hampshire', u'Northeast', u'Y'),\n",
       " (u'Massachusetts', u'Northeast', u'Y'),\n",
       " (u'Connecticut', u'Northeast', u'Y'),\n",
       " (u'New Jersey', u'Midatlantic', u'Y'),\n",
       " (u'Ohio', u'Northcentral', u'N'),\n",
       " (u'Illinois', u'Northcentral', u'N'),\n",
       " (u'Wisconsin', u'Northcentral', u'N'),\n",
       " (u'Iowa', u'Northcentral', u'N'),\n",
       " (u'North Dakota', u'Northcentral', u'N'),\n",
       " (u'Nebraska', u'Northcentral', u'N'),\n",
       " (u'Delaware', u'Southatlantic', u'Y'),\n",
       " (u'DC', u'Southatlantic', u'Y'),\n",
       " (u'South Carolina', u'Southatlantic', u'Y'),\n",
       " (u'Florida', u'Southatlantic', u'Y'),\n",
       " (u'Tennessee', u'Southcentral', u'N'),\n",
       " (u'Louisiana', u'Southcentral', u'Y'),\n",
       " (u'Texas', u'Southcentral', u'Y'),\n",
       " (u'Idaho', u'Mountain', u'N'),\n",
       " (u'Colorado', u'Mountain', u'N'),\n",
       " (u'Arizona', u'Mountain', u'N'),\n",
       " (u'Oregon', u'Pacific', u'Y')]"
      ]
     },
     "execution_count": 12,
     "metadata": {},
     "output_type": "execute_result"
    }
   ],
   "source": [
    "%%sql\n",
    "Select *\n",
    "From Regions"
   ]
  },
  {
   "cell_type": "markdown",
   "metadata": {
    "collapsed": true
   },
   "source": [
    "### Basic Select statement\n",
    "Select columns  \n",
    "From tables  \n",
    "Where condition  "
   ]
  },
  {
   "cell_type": "markdown",
   "metadata": {},
   "source": [
    "*Find all coastal states; return state*"
   ]
  },
  {
   "cell_type": "code",
   "execution_count": 23,
   "metadata": {},
   "outputs": [
    {
     "name": "stdout",
     "output_type": "stream",
     "text": [
      "(sqlite3.OperationalError) no such table: Regions [SQL: u\"Select state\\nFrom Regions\\nWhere coastal='Y'\"]\n"
     ]
    }
   ],
   "source": [
    "%%sql\n",
    "Select state\n",
    "From Regions\n",
    "Where coastal='Y'"
   ]
  },
  {
   "cell_type": "markdown",
   "metadata": {},
   "source": [
    "*Find all cities with temp between 20 and 30; return city, state, and temp*"
   ]
  },
  {
   "cell_type": "code",
   "execution_count": 13,
   "metadata": {},
   "outputs": [
    {
     "name": "stdout",
     "output_type": "stream",
     "text": [
      "(sqlite3.OperationalError) no such table: CityTemps [SQL: u'Select city, state, temp\\nFrom CityTemps\\nWhere temp >= 20 And temp <= 30']\n"
     ]
    }
   ],
   "source": [
    "%%sql\n",
    "Select city, state, temp\n",
    "From CityTemps\n",
    "Where temp >= 20 And temp <= 30"
   ]
  },
  {
   "cell_type": "markdown",
   "metadata": {},
   "source": [
    "### Ordering"
   ]
  },
  {
   "cell_type": "markdown",
   "metadata": {},
   "source": [
    "*Modify previous query to sort by state, then temp, then city reversed*"
   ]
  },
  {
   "cell_type": "code",
   "execution_count": 13,
   "metadata": {},
   "outputs": [
    {
     "name": "stdout",
     "output_type": "stream",
     "text": [
      "Done.\n"
     ]
    },
    {
     "data": {
      "text/html": [
       "<table>\n",
       "    <tr>\n",
       "        <th>city</th>\n",
       "        <th>state</th>\n",
       "        <th>temp</th>\n",
       "    </tr>\n",
       "    <tr>\n",
       "        <td>New Haven</td>\n",
       "        <td>Connecticut</td>\n",
       "        <td>24</td>\n",
       "    </tr>\n",
       "    <tr>\n",
       "        <td>Wilmington</td>\n",
       "        <td>Delaware</td>\n",
       "        <td>28</td>\n",
       "    </tr>\n",
       "    <tr>\n",
       "        <td>Boise</td>\n",
       "        <td>Idaho</td>\n",
       "        <td>26</td>\n",
       "    </tr>\n",
       "    <tr>\n",
       "        <td>Chicago</td>\n",
       "        <td>Illinois</td>\n",
       "        <td>23</td>\n",
       "    </tr>\n",
       "    <tr>\n",
       "        <td>Indianapolis</td>\n",
       "        <td>Indiana</td>\n",
       "        <td>25</td>\n",
       "    </tr>\n",
       "    <tr>\n",
       "        <td>Wichita</td>\n",
       "        <td>Kansas</td>\n",
       "        <td>26</td>\n",
       "    </tr>\n",
       "    <tr>\n",
       "        <td>Baltimore</td>\n",
       "        <td>Maryland</td>\n",
       "        <td>27</td>\n",
       "    </tr>\n",
       "    <tr>\n",
       "        <td>Boston</td>\n",
       "        <td>Massachusetts</td>\n",
       "        <td>25</td>\n",
       "    </tr>\n",
       "    <tr>\n",
       "        <td>Detroit</td>\n",
       "        <td>Michigan</td>\n",
       "        <td>25</td>\n",
       "    </tr>\n",
       "    <tr>\n",
       "        <td>St. Louis</td>\n",
       "        <td>Missouri</td>\n",
       "        <td>28</td>\n",
       "    </tr>\n",
       "    <tr>\n",
       "        <td>Atlantic City</td>\n",
       "        <td>New Jersey</td>\n",
       "        <td>29</td>\n",
       "    </tr>\n",
       "    <tr>\n",
       "        <td>Albuquerque</td>\n",
       "        <td>New Mexico</td>\n",
       "        <td>28</td>\n",
       "    </tr>\n",
       "    <tr>\n",
       "        <td>New York</td>\n",
       "        <td>New York</td>\n",
       "        <td>29</td>\n",
       "    </tr>\n",
       "    <tr>\n",
       "        <td>Cleveland</td>\n",
       "        <td>Ohio</td>\n",
       "        <td>25</td>\n",
       "    </tr>\n",
       "    <tr>\n",
       "        <td>Cincinnati</td>\n",
       "        <td>Ohio</td>\n",
       "        <td>30</td>\n",
       "    </tr>\n",
       "    <tr>\n",
       "        <td>Philadelphia</td>\n",
       "        <td>Pennsylvania</td>\n",
       "        <td>28</td>\n",
       "    </tr>\n",
       "    <tr>\n",
       "        <td>Harrisburg</td>\n",
       "        <td>Pennsylvania</td>\n",
       "        <td>28</td>\n",
       "    </tr>\n",
       "    <tr>\n",
       "        <td>Amarillo</td>\n",
       "        <td>Texas</td>\n",
       "        <td>26</td>\n",
       "    </tr>\n",
       "    <tr>\n",
       "        <td>Salt Lake City</td>\n",
       "        <td>Utah</td>\n",
       "        <td>22</td>\n",
       "    </tr>\n",
       "    <tr>\n",
       "        <td>Spokane</td>\n",
       "        <td>Washington</td>\n",
       "        <td>21</td>\n",
       "    </tr>\n",
       "</table>"
      ],
      "text/plain": [
       "[(u'New Haven', u'Connecticut', 24),\n",
       " (u'Wilmington', u'Delaware', 28),\n",
       " (u'Boise', u'Idaho', 26),\n",
       " (u'Chicago', u'Illinois', 23),\n",
       " (u'Indianapolis', u'Indiana', 25),\n",
       " (u'Wichita', u'Kansas', 26),\n",
       " (u'Baltimore', u'Maryland', 27),\n",
       " (u'Boston', u'Massachusetts', 25),\n",
       " (u'Detroit', u'Michigan', 25),\n",
       " (u'St. Louis', u'Missouri', 28),\n",
       " (u'Atlantic City', u'New Jersey', 29),\n",
       " (u'Albuquerque', u'New Mexico', 28),\n",
       " (u'New York', u'New York', 29),\n",
       " (u'Cleveland', u'Ohio', 25),\n",
       " (u'Cincinnati', u'Ohio', 30),\n",
       " (u'Philadelphia', u'Pennsylvania', 28),\n",
       " (u'Harrisburg', u'Pennsylvania', 28),\n",
       " (u'Amarillo', u'Texas', 26),\n",
       " (u'Salt Lake City', u'Utah', 22),\n",
       " (u'Spokane', u'Washington', 21)]"
      ]
     },
     "execution_count": 13,
     "metadata": {},
     "output_type": "execute_result"
    }
   ],
   "source": [
    "%%sql\n",
    "Select city, state, temp\n",
    "From CityTemps\n",
    "Where temp >= 20 And temp <= 30\n",
    "order by state, temp, city desc"
   ]
  },
  {
   "cell_type": "markdown",
   "metadata": {},
   "source": [
    "*Modify previous query to sort by temperature, ascending then descending*"
   ]
  },
  {
   "cell_type": "code",
   "execution_count": 24,
   "metadata": {},
   "outputs": [
    {
     "name": "stdout",
     "output_type": "stream",
     "text": [
      "Done.\n"
     ]
    },
    {
     "data": {
      "text/html": [
       "<table>\n",
       "    <tr>\n",
       "        <th>temp</th>\n",
       "    </tr>\n",
       "    <tr>\n",
       "        <td>4</td>\n",
       "    </tr>\n",
       "    <tr>\n",
       "        <td>6</td>\n",
       "    </tr>\n",
       "    <tr>\n",
       "        <td>11</td>\n",
       "    </tr>\n",
       "    <tr>\n",
       "        <td>12</td>\n",
       "    </tr>\n",
       "    <tr>\n",
       "        <td>13</td>\n",
       "    </tr>\n",
       "    <tr>\n",
       "        <td>13</td>\n",
       "    </tr>\n",
       "    <tr>\n",
       "        <td>14</td>\n",
       "    </tr>\n",
       "    <tr>\n",
       "        <td>15</td>\n",
       "    </tr>\n",
       "    <tr>\n",
       "        <td>16</td>\n",
       "    </tr>\n",
       "    <tr>\n",
       "        <td>17</td>\n",
       "    </tr>\n",
       "    <tr>\n",
       "        <td>17</td>\n",
       "    </tr>\n",
       "    <tr>\n",
       "        <td>18</td>\n",
       "    </tr>\n",
       "    <tr>\n",
       "        <td>19</td>\n",
       "    </tr>\n",
       "    <tr>\n",
       "        <td>21</td>\n",
       "    </tr>\n",
       "    <tr>\n",
       "        <td>22</td>\n",
       "    </tr>\n",
       "    <tr>\n",
       "        <td>23</td>\n",
       "    </tr>\n",
       "    <tr>\n",
       "        <td>24</td>\n",
       "    </tr>\n",
       "    <tr>\n",
       "        <td>25</td>\n",
       "    </tr>\n",
       "    <tr>\n",
       "        <td>25</td>\n",
       "    </tr>\n",
       "    <tr>\n",
       "        <td>25</td>\n",
       "    </tr>\n",
       "    <tr>\n",
       "        <td>25</td>\n",
       "    </tr>\n",
       "    <tr>\n",
       "        <td>26</td>\n",
       "    </tr>\n",
       "    <tr>\n",
       "        <td>26</td>\n",
       "    </tr>\n",
       "    <tr>\n",
       "        <td>26</td>\n",
       "    </tr>\n",
       "    <tr>\n",
       "        <td>27</td>\n",
       "    </tr>\n",
       "    <tr>\n",
       "        <td>28</td>\n",
       "    </tr>\n",
       "    <tr>\n",
       "        <td>28</td>\n",
       "    </tr>\n",
       "    <tr>\n",
       "        <td>28</td>\n",
       "    </tr>\n",
       "    <tr>\n",
       "        <td>28</td>\n",
       "    </tr>\n",
       "    <tr>\n",
       "        <td>28</td>\n",
       "    </tr>\n",
       "    <tr>\n",
       "        <td>29</td>\n",
       "    </tr>\n",
       "    <tr>\n",
       "        <td>29</td>\n",
       "    </tr>\n",
       "    <tr>\n",
       "        <td>30</td>\n",
       "    </tr>\n",
       "    <tr>\n",
       "        <td>31</td>\n",
       "    </tr>\n",
       "    <tr>\n",
       "        <td>32</td>\n",
       "    </tr>\n",
       "    <tr>\n",
       "        <td>32</td>\n",
       "    </tr>\n",
       "    <tr>\n",
       "        <td>33</td>\n",
       "    </tr>\n",
       "    <tr>\n",
       "        <td>34</td>\n",
       "    </tr>\n",
       "    <tr>\n",
       "        <td>35</td>\n",
       "    </tr>\n",
       "    <tr>\n",
       "        <td>35</td>\n",
       "    </tr>\n",
       "    <tr>\n",
       "        <td>35</td>\n",
       "    </tr>\n",
       "    <tr>\n",
       "        <td>35</td>\n",
       "    </tr>\n",
       "    <tr>\n",
       "        <td>36</td>\n",
       "    </tr>\n",
       "    <tr>\n",
       "        <td>39</td>\n",
       "    </tr>\n",
       "    <tr>\n",
       "        <td>39</td>\n",
       "    </tr>\n",
       "    <tr>\n",
       "        <td>40</td>\n",
       "    </tr>\n",
       "    <tr>\n",
       "        <td>40</td>\n",
       "    </tr>\n",
       "    <tr>\n",
       "        <td>46</td>\n",
       "    </tr>\n",
       "    <tr>\n",
       "        <td>46</td>\n",
       "    </tr>\n",
       "    <tr>\n",
       "        <td>47</td>\n",
       "    </tr>\n",
       "    <tr>\n",
       "        <td>47</td>\n",
       "    </tr>\n",
       "    <tr>\n",
       "        <td>51</td>\n",
       "    </tr>\n",
       "    <tr>\n",
       "        <td>60</td>\n",
       "    </tr>\n",
       "    <tr>\n",
       "        <td>67</td>\n",
       "    </tr>\n",
       "</table>"
      ],
      "text/plain": [
       "[(4,),\n",
       " (6,),\n",
       " (11,),\n",
       " (12,),\n",
       " (13,),\n",
       " (13,),\n",
       " (14,),\n",
       " (15,),\n",
       " (16,),\n",
       " (17,),\n",
       " (17,),\n",
       " (18,),\n",
       " (19,),\n",
       " (21,),\n",
       " (22,),\n",
       " (23,),\n",
       " (24,),\n",
       " (25,),\n",
       " (25,),\n",
       " (25,),\n",
       " (25,),\n",
       " (26,),\n",
       " (26,),\n",
       " (26,),\n",
       " (27,),\n",
       " (28,),\n",
       " (28,),\n",
       " (28,),\n",
       " (28,),\n",
       " (28,),\n",
       " (29,),\n",
       " (29,),\n",
       " (30,),\n",
       " (31,),\n",
       " (32,),\n",
       " (32,),\n",
       " (33,),\n",
       " (34,),\n",
       " (35,),\n",
       " (35,),\n",
       " (35,),\n",
       " (35,),\n",
       " (36,),\n",
       " (39,),\n",
       " (39,),\n",
       " (40,),\n",
       " (40,),\n",
       " (46,),\n",
       " (46,),\n",
       " (47,),\n",
       " (47,),\n",
       " (51,),\n",
       " (60,),\n",
       " (67,)]"
      ]
     },
     "execution_count": 24,
     "metadata": {},
     "output_type": "execute_result"
    }
   ],
   "source": [
    "%%sql\n",
    "Select temp\n",
    "From CityTemps\n",
    "Order by temp"
   ]
  },
  {
   "cell_type": "markdown",
   "metadata": {},
   "source": [
    "### Multiple tables in From clause - Joins"
   ]
  },
  {
   "cell_type": "markdown",
   "metadata": {},
   "source": [
    "*Find all cities with temp between 20 and 30 in a coastal state; return city*"
   ]
  },
  {
   "cell_type": "code",
   "execution_count": 25,
   "metadata": {},
   "outputs": [
    {
     "name": "stdout",
     "output_type": "stream",
     "text": [
      "Done.\n"
     ]
    },
    {
     "data": {
      "text/html": [
       "<table>\n",
       "    <tr>\n",
       "        <th>city</th>\n",
       "    </tr>\n",
       "    <tr>\n",
       "        <td>New York</td>\n",
       "    </tr>\n",
       "    <tr>\n",
       "        <td>Baltimore</td>\n",
       "    </tr>\n",
       "    <tr>\n",
       "        <td>Spokane</td>\n",
       "    </tr>\n",
       "    <tr>\n",
       "        <td>Boston</td>\n",
       "    </tr>\n",
       "    <tr>\n",
       "        <td>New Haven</td>\n",
       "    </tr>\n",
       "    <tr>\n",
       "        <td>Atlantic City</td>\n",
       "    </tr>\n",
       "    <tr>\n",
       "        <td>Wilmington</td>\n",
       "    </tr>\n",
       "    <tr>\n",
       "        <td>Amarillo</td>\n",
       "    </tr>\n",
       "</table>"
      ],
      "text/plain": [
       "[(u'New York',),\n",
       " (u'Baltimore',),\n",
       " (u'Spokane',),\n",
       " (u'Boston',),\n",
       " (u'New Haven',),\n",
       " (u'Atlantic City',),\n",
       " (u'Wilmington',),\n",
       " (u'Amarillo',)]"
      ]
     },
     "execution_count": 25,
     "metadata": {},
     "output_type": "execute_result"
    }
   ],
   "source": [
    "%%sql\n",
    "Select city\n",
    "From Regions, Citytemps\n",
    "Where temp >=20 And temp <= 30 and coastal = 'Y' And Regions.state=CityTemps.state"
   ]
  },
  {
   "cell_type": "code",
   "execution_count": 26,
   "metadata": {},
   "outputs": [
    {
     "name": "stdout",
     "output_type": "stream",
     "text": [
      "Done.\n"
     ]
    },
    {
     "data": {
      "text/html": [
       "<table>\n",
       "    <tr>\n",
       "        <th>city</th>\n",
       "    </tr>\n",
       "    <tr>\n",
       "        <td>New York</td>\n",
       "    </tr>\n",
       "    <tr>\n",
       "        <td>Baltimore</td>\n",
       "    </tr>\n",
       "    <tr>\n",
       "        <td>Spokane</td>\n",
       "    </tr>\n",
       "    <tr>\n",
       "        <td>Boston</td>\n",
       "    </tr>\n",
       "    <tr>\n",
       "        <td>New Haven</td>\n",
       "    </tr>\n",
       "    <tr>\n",
       "        <td>Atlantic City</td>\n",
       "    </tr>\n",
       "    <tr>\n",
       "        <td>Wilmington</td>\n",
       "    </tr>\n",
       "    <tr>\n",
       "        <td>Amarillo</td>\n",
       "    </tr>\n",
       "</table>"
      ],
      "text/plain": [
       "[(u'New York',),\n",
       " (u'Baltimore',),\n",
       " (u'Spokane',),\n",
       " (u'Boston',),\n",
       " (u'New Haven',),\n",
       " (u'Atlantic City',),\n",
       " (u'Wilmington',),\n",
       " (u'Amarillo',)]"
      ]
     },
     "execution_count": 26,
     "metadata": {},
     "output_type": "execute_result"
    }
   ],
   "source": [
    "%%sql\n",
    "Select city \n",
    "From Regions R, Citytemps C\n",
    "Where temp >= 20 and temp <= 30 and coastal = 'Y' and R.state = C.state"
   ]
  },
  {
   "cell_type": "markdown",
   "metadata": {},
   "source": [
    "*Find all cities in the Northeast; return city and coastal*"
   ]
  },
  {
   "cell_type": "code",
   "execution_count": 27,
   "metadata": {},
   "outputs": [
    {
     "name": "stdout",
     "output_type": "stream",
     "text": [
      "Done.\n"
     ]
    },
    {
     "data": {
      "text/html": [
       "<table>\n",
       "    <tr>\n",
       "        <th>city</th>\n",
       "        <th>coastal</th>\n",
       "    </tr>\n",
       "    <tr>\n",
       "        <td>Portland</td>\n",
       "        <td>Y</td>\n",
       "    </tr>\n",
       "    <tr>\n",
       "        <td>Burlington</td>\n",
       "        <td>N</td>\n",
       "    </tr>\n",
       "    <tr>\n",
       "        <td>Concord</td>\n",
       "        <td>Y</td>\n",
       "    </tr>\n",
       "    <tr>\n",
       "        <td>Boston</td>\n",
       "        <td>Y</td>\n",
       "    </tr>\n",
       "    <tr>\n",
       "        <td>New Haven</td>\n",
       "        <td>Y</td>\n",
       "    </tr>\n",
       "</table>"
      ],
      "text/plain": [
       "[(u'Portland', u'Y'),\n",
       " (u'Burlington', u'N'),\n",
       " (u'Concord', u'Y'),\n",
       " (u'Boston', u'Y'),\n",
       " (u'New Haven', u'Y')]"
      ]
     },
     "execution_count": 27,
     "metadata": {},
     "output_type": "execute_result"
    }
   ],
   "source": [
    "%%sql\n",
    "Select city, coastal\n",
    "From Regions R, CityTemps C\n",
    "Where region = 'Northeast' and R.state=C.state"
   ]
  },
  {
   "cell_type": "markdown",
   "metadata": {},
   "source": [
    "*Previous query but also return state and temp*"
   ]
  },
  {
   "cell_type": "code",
   "execution_count": 28,
   "metadata": {},
   "outputs": [
    {
     "name": "stdout",
     "output_type": "stream",
     "text": [
      "Done.\n"
     ]
    },
    {
     "data": {
      "text/html": [
       "<table>\n",
       "    <tr>\n",
       "        <th>city</th>\n",
       "        <th>coastal</th>\n",
       "        <th>state</th>\n",
       "        <th>temp</th>\n",
       "    </tr>\n",
       "    <tr>\n",
       "        <td>Portland</td>\n",
       "        <td>Y</td>\n",
       "        <td>Maine</td>\n",
       "        <td>14</td>\n",
       "    </tr>\n",
       "    <tr>\n",
       "        <td>Burlington</td>\n",
       "        <td>N</td>\n",
       "        <td>Vermont</td>\n",
       "        <td>11</td>\n",
       "    </tr>\n",
       "    <tr>\n",
       "        <td>Concord</td>\n",
       "        <td>Y</td>\n",
       "        <td>New Hampshire</td>\n",
       "        <td>13</td>\n",
       "    </tr>\n",
       "    <tr>\n",
       "        <td>Boston</td>\n",
       "        <td>Y</td>\n",
       "        <td>Massachusetts</td>\n",
       "        <td>25</td>\n",
       "    </tr>\n",
       "    <tr>\n",
       "        <td>New Haven</td>\n",
       "        <td>Y</td>\n",
       "        <td>Connecticut</td>\n",
       "        <td>24</td>\n",
       "    </tr>\n",
       "</table>"
      ],
      "text/plain": [
       "[(u'Portland', u'Y', u'Maine', 14),\n",
       " (u'Burlington', u'N', u'Vermont', 11),\n",
       " (u'Concord', u'Y', u'New Hampshire', 13),\n",
       " (u'Boston', u'Y', u'Massachusetts', 25),\n",
       " (u'New Haven', u'Y', u'Connecticut', 24)]"
      ]
     },
     "execution_count": 28,
     "metadata": {},
     "output_type": "execute_result"
    }
   ],
   "source": [
    "%%sql\n",
    "Select city, coastal, C.state, temp\n",
    "From Regions R, CityTemps C\n",
    "Where region = 'Northeast' and R.state=C.state"
   ]
  },
  {
   "cell_type": "markdown",
   "metadata": {},
   "source": [
    "### Select *"
   ]
  },
  {
   "cell_type": "markdown",
   "metadata": {},
   "source": [
    "*Previous query but return all attributes*"
   ]
  },
  {
   "cell_type": "code",
   "execution_count": 29,
   "metadata": {},
   "outputs": [
    {
     "name": "stdout",
     "output_type": "stream",
     "text": [
      "Done.\n"
     ]
    },
    {
     "data": {
      "text/html": [
       "<table>\n",
       "    <tr>\n",
       "        <th>state</th>\n",
       "        <th>region</th>\n",
       "        <th>coastal</th>\n",
       "        <th>city</th>\n",
       "        <th>state_1</th>\n",
       "        <th>lat</th>\n",
       "        <th>lng</th>\n",
       "        <th>temp</th>\n",
       "    </tr>\n",
       "    <tr>\n",
       "        <td>Maine</td>\n",
       "        <td>Northeast</td>\n",
       "        <td>Y</td>\n",
       "        <td>Portland</td>\n",
       "        <td>Maine</td>\n",
       "        <td>44.2</td>\n",
       "        <td>70.5</td>\n",
       "        <td>14</td>\n",
       "    </tr>\n",
       "    <tr>\n",
       "        <td>Vermont</td>\n",
       "        <td>Northeast</td>\n",
       "        <td>N</td>\n",
       "        <td>Burlington</td>\n",
       "        <td>Vermont</td>\n",
       "        <td>45.0</td>\n",
       "        <td>73.9</td>\n",
       "        <td>11</td>\n",
       "    </tr>\n",
       "    <tr>\n",
       "        <td>New Hampshire</td>\n",
       "        <td>Northeast</td>\n",
       "        <td>Y</td>\n",
       "        <td>Concord</td>\n",
       "        <td>New Hampshire</td>\n",
       "        <td>43.5</td>\n",
       "        <td>71.9</td>\n",
       "        <td>13</td>\n",
       "    </tr>\n",
       "    <tr>\n",
       "        <td>Massachusetts</td>\n",
       "        <td>Northeast</td>\n",
       "        <td>Y</td>\n",
       "        <td>Boston</td>\n",
       "        <td>Massachusetts</td>\n",
       "        <td>42.7</td>\n",
       "        <td>71.4</td>\n",
       "        <td>25</td>\n",
       "    </tr>\n",
       "    <tr>\n",
       "        <td>Connecticut</td>\n",
       "        <td>Northeast</td>\n",
       "        <td>Y</td>\n",
       "        <td>New Haven</td>\n",
       "        <td>Connecticut</td>\n",
       "        <td>41.7</td>\n",
       "        <td>73.4</td>\n",
       "        <td>24</td>\n",
       "    </tr>\n",
       "</table>"
      ],
      "text/plain": [
       "[(u'Maine', u'Northeast', u'Y', u'Portland', u'Maine', 44.2, 70.5, 14),\n",
       " (u'Vermont', u'Northeast', u'N', u'Burlington', u'Vermont', 45.0, 73.9, 11),\n",
       " (u'New Hampshire', u'Northeast', u'Y', u'Concord', u'New Hampshire', 43.5, 71.9, 13),\n",
       " (u'Massachusetts', u'Northeast', u'Y', u'Boston', u'Massachusetts', 42.7, 71.4, 25),\n",
       " (u'Connecticut', u'Northeast', u'Y', u'New Haven', u'Connecticut', 41.7, 73.4, 24)]"
      ]
     },
     "execution_count": 29,
     "metadata": {},
     "output_type": "execute_result"
    }
   ],
   "source": [
    "%%sql\n",
    "Select * \n",
    "From Regions R, CityTemps C\n",
    "Where region = 'Northeast' and R.state=C.state"
   ]
  },
  {
   "cell_type": "markdown",
   "metadata": {},
   "source": [
    "*Second query (all citites with temp between 20 and 30) but return all attributes*"
   ]
  },
  {
   "cell_type": "code",
   "execution_count": null,
   "metadata": {
    "collapsed": true
   },
   "outputs": [],
   "source": [
    "%%sql\n",
    "Select * \n",
    "From Regions R, CityTemps C\n",
    "Where region = 'Northeast' and R.state=C.state And temp >= 20 And temp <= 30"
   ]
  },
  {
   "cell_type": "markdown",
   "metadata": {},
   "source": [
    "### Aggregation and Grouping"
   ]
  },
  {
   "cell_type": "markdown",
   "metadata": {},
   "source": [
    "*Find average temp for all cities*"
   ]
  },
  {
   "cell_type": "code",
   "execution_count": 30,
   "metadata": {},
   "outputs": [
    {
     "name": "stdout",
     "output_type": "stream",
     "text": [
      "Done.\n"
     ]
    },
    {
     "data": {
      "text/html": [
       "<table>\n",
       "    <tr>\n",
       "        <th>avg(temp)</th>\n",
       "    </tr>\n",
       "    <tr>\n",
       "        <td>28.8518518519</td>\n",
       "    </tr>\n",
       "</table>"
      ],
      "text/plain": [
       "[(28.85185185185185,)]"
      ]
     },
     "execution_count": 30,
     "metadata": {},
     "output_type": "execute_result"
    }
   ],
   "source": [
    "%%sql\n",
    "Select avg(temp)\n",
    "From CityTemps"
   ]
  },
  {
   "cell_type": "markdown",
   "metadata": {},
   "source": [
    "*Modify previous query to find average temp of cities with latitude under 35*"
   ]
  },
  {
   "cell_type": "code",
   "execution_count": 14,
   "metadata": {},
   "outputs": [
    {
     "name": "stdout",
     "output_type": "stream",
     "text": [
      "(sqlite3.OperationalError) no such table: CityTemps [SQL: u'Select avg(temp)\\nFrom CityTemps\\nWhere lat < 35']\n"
     ]
    }
   ],
   "source": [
    "%%sql\n",
    "Select avg(temp)\n",
    "From CityTemps\n",
    "Where lat < 35"
   ]
  },
  {
   "cell_type": "markdown",
   "metadata": {},
   "source": [
    "*Modify previous query to also find minimum and maximum temp of cities with latitude under 35*"
   ]
  },
  {
   "cell_type": "code",
   "execution_count": 35,
   "metadata": {},
   "outputs": [
    {
     "name": "stdout",
     "output_type": "stream",
     "text": [
      "Done.\n"
     ]
    },
    {
     "data": {
      "text/html": [
       "<table>\n",
       "    <tr>\n",
       "        <th>max(temp) And min(temp)</th>\n",
       "    </tr>\n",
       "    <tr>\n",
       "        <td>1</td>\n",
       "    </tr>\n",
       "</table>"
      ],
      "text/plain": [
       "[(1,)]"
      ]
     },
     "execution_count": 35,
     "metadata": {},
     "output_type": "execute_result"
    }
   ],
   "source": [
    "%%sql\n",
    "Select max(temp) \n",
    "From CityTemps\n",
    "Where lat < 35"
   ]
  },
  {
   "cell_type": "markdown",
   "metadata": {},
   "source": [
    "*Modify previous query to find number of cities with latitude under 35*"
   ]
  },
  {
   "cell_type": "code",
   "execution_count": 36,
   "metadata": {},
   "outputs": [
    {
     "name": "stdout",
     "output_type": "stream",
     "text": [
      "Done.\n"
     ]
    },
    {
     "data": {
      "text/html": [
       "<table>\n",
       "    <tr>\n",
       "        <th>count(*)</th>\n",
       "    </tr>\n",
       "    <tr>\n",
       "        <td>11</td>\n",
       "    </tr>\n",
       "</table>"
      ],
      "text/plain": [
       "[(11,)]"
      ]
     },
     "execution_count": 36,
     "metadata": {},
     "output_type": "execute_result"
    }
   ],
   "source": [
    "%%sql\n",
    "Select count(*) \n",
    "From CityTemps\n",
    "Where lat < 35"
   ]
  },
  {
   "cell_type": "markdown",
   "metadata": {},
   "source": [
    "*Rename result column to 'toasty'*"
   ]
  },
  {
   "cell_type": "markdown",
   "metadata": {},
   "source": [
    "*Find minimum and maximum temp of cities in the Pacific*"
   ]
  },
  {
   "cell_type": "code",
   "execution_count": null,
   "metadata": {
    "collapsed": true
   },
   "outputs": [],
   "source": [
    "%%sql\n",
    "Select \n",
    "From \n",
    "Where "
   ]
  },
  {
   "cell_type": "markdown",
   "metadata": {},
   "source": [
    "*Find average temp for each state*"
   ]
  },
  {
   "cell_type": "code",
   "execution_count": null,
   "metadata": {
    "collapsed": true
   },
   "outputs": [],
   "source": [
    "%%sql\n",
    "Select \n",
    "From \n",
    "Where "
   ]
  },
  {
   "cell_type": "markdown",
   "metadata": {},
   "source": [
    "*Modify previous query to sort by descending average temp*"
   ]
  },
  {
   "cell_type": "markdown",
   "metadata": {},
   "source": [
    "*Modify previous query to find average temp for each region, sorted by descending average temp*"
   ]
  },
  {
   "cell_type": "markdown",
   "metadata": {},
   "source": [
    "*Modify previous query to count coastal states only*"
   ]
  },
  {
   "cell_type": "markdown",
   "metadata": {},
   "source": [
    "*Modify previous query to give average temp for each region/coastal combination*"
   ]
  },
  {
   "cell_type": "markdown",
   "metadata": {},
   "source": [
    "### Table variables, duplicates"
   ]
  },
  {
   "cell_type": "markdown",
   "metadata": {},
   "source": [
    "*Find all regions that have both coastal and non-coastal states; return region*"
   ]
  },
  {
   "cell_type": "code",
   "execution_count": null,
   "metadata": {
    "collapsed": true
   },
   "outputs": [],
   "source": [
    "%%sql\n",
    "Select \n",
    "From \n",
    "Where "
   ]
  },
  {
   "cell_type": "markdown",
   "metadata": {},
   "source": [
    "*Remove duplicates from previous result*"
   ]
  },
  {
   "cell_type": "markdown",
   "metadata": {},
   "source": [
    "*Find all pairs of cities that are near each other, i.e., lat and lng are both less than 1.0 apart; return city pairs*"
   ]
  },
  {
   "cell_type": "code",
   "execution_count": null,
   "metadata": {
    "collapsed": true
   },
   "outputs": [],
   "source": [
    "%%sql\n",
    "Select \n",
    "From \n",
    "Where "
   ]
  },
  {
   "cell_type": "markdown",
   "metadata": {},
   "source": [
    "*Remove duplicate-pairs from previous result*"
   ]
  },
  {
   "cell_type": "markdown",
   "metadata": {},
   "source": [
    "### Subqueries in Where clause"
   ]
  },
  {
   "cell_type": "markdown",
   "metadata": {},
   "source": [
    "*Find the southernmost city*"
   ]
  },
  {
   "cell_type": "code",
   "execution_count": null,
   "metadata": {
    "collapsed": true
   },
   "outputs": [],
   "source": [
    "%%sql\n",
    "Select \n",
    "From \n",
    "Where "
   ]
  },
  {
   "cell_type": "markdown",
   "metadata": {},
   "source": [
    "*Find regions with no coastal states*"
   ]
  },
  {
   "cell_type": "code",
   "execution_count": null,
   "metadata": {
    "collapsed": true
   },
   "outputs": [],
   "source": [
    "%%sql\n",
    "Select \n",
    "From \n",
    "Where "
   ]
  },
  {
   "cell_type": "markdown",
   "metadata": {},
   "source": [
    "*Find regions that have at least one city with lat greater than 45*"
   ]
  },
  {
   "cell_type": "code",
   "execution_count": null,
   "metadata": {
    "collapsed": true
   },
   "outputs": [],
   "source": [
    "%%sql\n",
    "Select \n",
    "From \n",
    "Where "
   ]
  },
  {
   "cell_type": "markdown",
   "metadata": {},
   "source": [
    "*Same query (find regions that have at least one city with lat greater than 45) but without using subquery*"
   ]
  },
  {
   "cell_type": "code",
   "execution_count": null,
   "metadata": {
    "collapsed": true
   },
   "outputs": [],
   "source": [
    "%%sql\n",
    "Select \n",
    "From \n",
    "Where "
   ]
  },
  {
   "cell_type": "markdown",
   "metadata": {},
   "source": [
    "*Find all cities whose temp is more than twice the average*"
   ]
  },
  {
   "cell_type": "code",
   "execution_count": null,
   "metadata": {
    "collapsed": true
   },
   "outputs": [],
   "source": [
    "%%sql\n",
    "Select \n",
    "From \n",
    "Where "
   ]
  },
  {
   "cell_type": "markdown",
   "metadata": {},
   "source": [
    "### Data modification"
   ]
  },
  {
   "cell_type": "markdown",
   "metadata": {},
   "source": [
    "*Raise all temperatures by 2 degrees*"
   ]
  },
  {
   "cell_type": "code",
   "execution_count": null,
   "metadata": {
    "collapsed": true
   },
   "outputs": [],
   "source": [
    "%sql Select avg(temp) From CityTemps"
   ]
  },
  {
   "cell_type": "code",
   "execution_count": null,
   "metadata": {
    "collapsed": true
   },
   "outputs": [],
   "source": [
    "%%sql\n",
    "Update \n",
    "Set \n",
    "Where "
   ]
  },
  {
   "cell_type": "code",
   "execution_count": null,
   "metadata": {
    "collapsed": true
   },
   "outputs": [],
   "source": [
    "%sql Select avg(temp) From CityTemps"
   ]
  },
  {
   "cell_type": "markdown",
   "metadata": {},
   "source": [
    "*Add additional 2 degrees for non-coastal states*"
   ]
  },
  {
   "cell_type": "code",
   "execution_count": null,
   "metadata": {
    "collapsed": true
   },
   "outputs": [],
   "source": [
    "%%sql\n",
    "Update \n",
    "Set \n",
    "Where "
   ]
  },
  {
   "cell_type": "code",
   "execution_count": null,
   "metadata": {
    "collapsed": true
   },
   "outputs": [],
   "source": [
    "%sql Select avg(temp) From CityTemps"
   ]
  },
  {
   "cell_type": "markdown",
   "metadata": {},
   "source": [
    "*Delete all cities in California*"
   ]
  },
  {
   "cell_type": "code",
   "execution_count": null,
   "metadata": {
    "collapsed": true
   },
   "outputs": [],
   "source": [
    "%%sql\n",
    "Delete From \n",
    "Where "
   ]
  },
  {
   "cell_type": "markdown",
   "metadata": {},
   "source": [
    "*Delete all states from the Regions table that have no cities in CityTemps*"
   ]
  },
  {
   "cell_type": "code",
   "execution_count": null,
   "metadata": {
    "collapsed": true
   },
   "outputs": [],
   "source": [
    "%%sql\n",
    "Delete From \n",
    "Where "
   ]
  },
  {
   "cell_type": "markdown",
   "metadata": {},
   "source": [
    "## Advanced: Having clause"
   ]
  },
  {
   "cell_type": "markdown",
   "metadata": {},
   "source": [
    "*Find all states with at least three cities*"
   ]
  },
  {
   "cell_type": "code",
   "execution_count": null,
   "metadata": {
    "collapsed": true
   },
   "outputs": [],
   "source": [
    "%%sql\n",
    "Select \n",
    "From \n",
    "Where "
   ]
  },
  {
   "cell_type": "markdown",
   "metadata": {},
   "source": [
    "*Same query but without Having clause*"
   ]
  },
  {
   "cell_type": "code",
   "execution_count": null,
   "metadata": {
    "collapsed": true
   },
   "outputs": [],
   "source": [
    "%%sql\n",
    "Select \n",
    "From \n",
    "Where "
   ]
  },
  {
   "cell_type": "markdown",
   "metadata": {},
   "source": [
    "*Find all states with minimum temperature below 10*"
   ]
  },
  {
   "cell_type": "code",
   "execution_count": null,
   "metadata": {
    "collapsed": true
   },
   "outputs": [],
   "source": [
    "%%sql\n",
    "Select \n",
    "From \n",
    "Where "
   ]
  },
  {
   "cell_type": "markdown",
   "metadata": {},
   "source": [
    "*Same query without Group By / Having*"
   ]
  },
  {
   "cell_type": "code",
   "execution_count": null,
   "metadata": {
    "collapsed": true
   },
   "outputs": [],
   "source": [
    "%%sql\n",
    "Select \n",
    "From \n",
    "Where "
   ]
  },
  {
   "cell_type": "markdown",
   "metadata": {},
   "source": [
    "## Advanced: Subqueries in From and Select clauses"
   ]
  },
  {
   "cell_type": "markdown",
   "metadata": {},
   "source": [
    "*Find all regions that have both coastal and non-coastal states; return region and number of coastal and non-coastal states*"
   ]
  },
  {
   "cell_type": "code",
   "execution_count": null,
   "metadata": {
    "collapsed": true
   },
   "outputs": [],
   "source": [
    "%%sql\n",
    "Select \n",
    "From \n",
    "Where "
   ]
  },
  {
   "cell_type": "markdown",
   "metadata": {},
   "source": [
    "*Same query using subquery in From clause instead of Select clause*"
   ]
  },
  {
   "cell_type": "code",
   "execution_count": null,
   "metadata": {
    "collapsed": true
   },
   "outputs": [],
   "source": [
    "%%sql\n",
    "Select \n",
    "From \n",
    "Where "
   ]
  }
 ],
 "metadata": {
  "kernelspec": {
   "display_name": "Python 2",
   "language": "python",
   "name": "python2"
  }
 },
 "nbformat": 4,
 "nbformat_minor": 1
}
