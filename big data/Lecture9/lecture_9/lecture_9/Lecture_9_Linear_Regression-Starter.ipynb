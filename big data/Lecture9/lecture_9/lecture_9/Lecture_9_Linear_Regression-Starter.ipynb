{
 "cells": [
  {
   "cell_type": "markdown",
   "metadata": {},
   "source": [
    "## Lecture 9: Linear Regression Example\n",
    "\n",
    "In this notebook, we show how to learn a linear regression model from labeled data and use the model to make predictions on unlabeled data."
   ]
  },
  {
   "cell_type": "code",
   "execution_count": null,
   "metadata": {
    "collapsed": true
   },
   "outputs": [],
   "source": [
    "%matplotlib inline   \n",
    "import csv\n",
    "import numpy as np\n",
    "import matplotlib.pyplot as plt"
   ]
  },
  {
   "cell_type": "code",
   "execution_count": null,
   "metadata": {
    "collapsed": false
   },
   "outputs": [],
   "source": [
    "# Read data from CityTemps.csv\n",
    "lats=[]\n",
    "lngs=[]\n",
    "temps=[]\n",
    "with open('CityTemps.csv', 'rU') as data:\n",
    "    reader = csv.reader(data)\n",
    "    reader.next() # header line\n",
    "    for row in reader:\n",
    "        lats.append(float(row[2]))\n",
    "        lngs.append(float(row[3]))\n",
    "        temps.append(float(row[4]))"
   ]
  },
  {
   "cell_type": "code",
   "execution_count": null,
   "metadata": {
    "collapsed": false
   },
   "outputs": [],
   "source": [
    "# Create scatterplot\n",
    "# lats is a list of x values, temps is a list of y values. (lats[0], temps[0]) is one point.\n",
    "# YOUR CODE HERE\n",
    "\n",
    "\n",
    "# Add labels to axes\n",
    "# YOUR CODE HERE\n",
    "\n",
    "\n",
    "# Tell python to display the plot\n",
    "# YOUR CODE HERE\n",
    "\n"
   ]
  },
  {
   "cell_type": "code",
   "execution_count": null,
   "metadata": {
    "collapsed": true
   },
   "outputs": [],
   "source": [
    "# compute linear regression fit line using python numpy package\n",
    "# a, b are the parameters of the line y = ax + b\n"
   ]
  },
  {
   "cell_type": "code",
   "execution_count": null,
   "metadata": {
    "collapsed": false
   },
   "outputs": [],
   "source": [
    "# Add line to the previous scatter plot\n",
    "\n",
    "# Scatter plot\n",
    "# YOUR CODE HERE\n",
    "\n",
    "\n",
    "# Linear regression line\n",
    "# Specify end points of the line: plt.plot([x_start, x_end], [y_start, y_end])\n",
    "# YOUR CODE HERE\n",
    "\n",
    "\n",
    "# Tell python to display the plot\n",
    "# YOUR CODE HERE\n",
    "\n"
   ]
  },
  {
   "cell_type": "code",
   "execution_count": null,
   "metadata": {
    "collapsed": false
   },
   "outputs": [],
   "source": [
    "# Compute and print correlation coefficients\n",
    "# YOUR CODE HERE\n",
    "\n",
    "print 'Correlation coefficient for temperature versus latitude:', cc\n",
    "\n",
    "# YOUR CODE HERE\n",
    "\n",
    "print 'Correlation coefficient for temperature versus longitude:', cc\n"
   ]
  },
  {
   "cell_type": "markdown",
   "metadata": {},
   "source": [
    "### Step 2: Use trained model to predict the temperature for cities"
   ]
  },
  {
   "cell_type": "code",
   "execution_count": null,
   "metadata": {
    "collapsed": true
   },
   "outputs": [],
   "source": [
    "# Create dictionary of city latitudes, mapping each city to its latitude\n",
    "citylats = {}\n",
    "with open('CityLats.csv', 'rU') as data:\n",
    "    reader = csv.reader(data)\n",
    "    reader.next() # header line\n",
    "    for row in reader:\n",
    "        citylats[row[0]] = float(row[1])"
   ]
  },
  {
   "cell_type": "code",
   "execution_count": null,
   "metadata": {
    "collapsed": false
   },
   "outputs": [],
   "source": [
    "# For each city entered, try to find it in the dictionary. \n",
    "# If in dictionary, get its latitude and pass it into the linear regression model to get the temprature prediction.\n",
    "while True:\n",
    "    city = raw_input('Enter city name: ')\n",
    "    if city in citylats:\n",
    "        # YOUR CODE HERE\n",
    "\n",
    "\n",
    "        print 'Predicted January low temperature:', temp\n",
    "    else: print 'City not found'\n"
   ]
  },
  {
   "cell_type": "code",
   "execution_count": null,
   "metadata": {
    "collapsed": true
   },
   "outputs": [],
   "source": []
  }
 ],
 "metadata": {
  "kernelspec": {
   "display_name": "Python2 tf_venv shared",
   "language": "python",
   "name": "tf_venv"
  },
  "language_info": {
   "codemirror_mode": {
    "name": "ipython",
    "version": 2
   },
   "file_extension": ".py",
   "mimetype": "text/x-python",
   "name": "python",
   "nbconvert_exporter": "python",
   "pygments_lexer": "ipython2",
   "version": "2.7.12"
  }
 },
 "nbformat": 4,
 "nbformat_minor": 1
}
