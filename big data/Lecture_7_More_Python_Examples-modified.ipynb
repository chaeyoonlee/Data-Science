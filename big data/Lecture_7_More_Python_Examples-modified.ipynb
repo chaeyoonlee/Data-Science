{
 "cells": [
  {
   "cell_type": "markdown",
   "metadata": {},
   "source": [
    "## Nested Data Structures"
   ]
  },
  {
   "cell_type": "markdown",
   "metadata": {},
   "source": [
    "#### Question 1: \n",
    "\n",
    "You want to keep track of your friends' food preferences, so you can surprise them for dinner! Each friend can like multiple food items. What data structure(s) would you use to store this information? \n"
   ]
  },
  {
   "cell_type": "markdown",
   "metadata": {},
   "source": [
    "*Answer: A dictionary with the names of friends as keys, and lists of food items as values. *"
   ]
  },
  {
   "cell_type": "code",
   "execution_count": 10,
   "metadata": {
    "collapsed": true
   },
   "outputs": [],
   "source": [
    "# YOUR CODE HERE\n",
    "friends_favorite_food = {\n",
    "    \"Anna\": [\"Guacamole\", \"Mango\"],\n",
    "    \"Ben\": [\"Strawberry\", \"Pesto Chicken\", \"Walnuts\"],\n",
    "    \"Mary\": [\"Pizza\"]\n",
    "}"
   ]
  },
  {
   "cell_type": "code",
   "execution_count": 11,
   "metadata": {},
   "outputs": [
    {
     "name": "stdout",
     "output_type": "stream",
     "text": [
      "['Strawberry', 'Pesto Chicken', 'Walnuts']\n"
     ]
    }
   ],
   "source": [
    "print friends_favorite_food[\"Ben\"]"
   ]
  },
  {
   "cell_type": "code",
   "execution_count": 14,
   "metadata": {},
   "outputs": [
    {
     "name": "stdout",
     "output_type": "stream",
     "text": [
      "{'Ben': ['Strawberry', 'Pesto Chicken', 'Walnuts'], 'Mary': ['Pizza'], 'Anna': ['Guacamole', 'Mango']}\n",
      "[('Ben', ['Strawberry', 'Pesto Chicken', 'Walnuts']), ('Mary', ['Pizza']), ('Anna', ['Guacamole', 'Mango'])]\n",
      "Ben really likes\n",
      "- Strawberry\n",
      "- Pesto Chicken\n",
      "- Walnuts\n",
      "\n",
      "Mary really likes\n",
      "- Pizza\n",
      "\n",
      "Anna really likes\n",
      "- Guacamole\n",
      "- Mango\n",
      "\n"
     ]
    }
   ],
   "source": [
    "print friends_favorite_food\n",
    "print friends_favorite_food.items()\n",
    "for name, food_list in friends_favorite_food.items():\n",
    "    print (\"{} really likes\" .format(name))\n",
    "    for food in food_list:\n",
    "        print (\"- {}\".format(food))\n",
    "    print \"\""
   ]
  },
  {
   "cell_type": "markdown",
   "metadata": {},
   "source": [
    "#### Question 2: \n",
    "\n",
    "You want to keep track of the customers of your business. For each customer, you would like to save:\n",
    "* Customer ID\n",
    "* First name\n",
    "* Last name\n",
    "* Number of purchases\n",
    "\n",
    "You would like to be able to look up your customers by their Customer ID."
   ]
  },
  {
   "cell_type": "markdown",
   "metadata": {},
   "source": [
    "*Answer: Dictionary in a dictionary. Outer dict has customer ID as key, and the inner dict as value. Inner dict has other customer atttributes as keys, and corresponding values.*"
   ]
  },
  {
   "cell_type": "code",
   "execution_count": 15,
   "metadata": {
    "collapsed": true
   },
   "outputs": [],
   "source": [
    "customers = { #dict안에 dict 또 있는 중첩구조\n",
    "    100: {\n",
    "        \"first name\": \"Don\",\n",
    "        \"last name\": \"Knuth\",    #iner dict\n",
    "        \"num_purchases\": 5\n",
    "    },\n",
    "    101: {\n",
    "        \"first name\": \"Grace\",\n",
    "        \"last name\": \"Hopper\",\n",
    "        \"num_purchases\": 2\n",
    "    }\n",
    "}"
   ]
  },
  {
   "cell_type": "code",
   "execution_count": 16,
   "metadata": {},
   "outputs": [
    {
     "name": "stdout",
     "output_type": "stream",
     "text": [
      "Grace\n"
     ]
    }
   ],
   "source": [
    "print customers[101][\"first name\"]"
   ]
  },
  {
   "cell_type": "markdown",
   "metadata": {},
   "source": [
    "You can nest data structures as many times as you want. Python does not limit you. So you can have Dictionaries in dictionaries in lists etc. Make sure that the data structures you choose make sense for the task and document it well. "
   ]
  }
 ],
 "metadata": {
  "kernelspec": {
   "display_name": "Python 2",
   "language": "python",
   "name": "python2"
  },
  "language_info": {
   "codemirror_mode": {
    "name": "ipython",
    "version": 2
   },
   "file_extension": ".py",
   "mimetype": "text/x-python",
   "name": "python",
   "nbconvert_exporter": "python",
   "pygments_lexer": "ipython2",
   "version": "2.7.13"
  }
 },
 "nbformat": 4,
 "nbformat_minor": 1
}
